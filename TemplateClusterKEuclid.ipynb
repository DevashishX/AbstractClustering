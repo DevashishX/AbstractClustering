{
  "nbformat": 4,
  "nbformat_minor": 0,
  "metadata": {
    "file_extension": ".py",
    "kernelspec": {
      "display_name": "Python 3.7.4 64-bit ('base': conda)",
      "language": "python",
      "name": "python37464bitbasecondaccb10e44a6224ec5a8090d4d6e72e602"
    },
    "language_info": {
      "codemirror_mode": {
        "name": "ipython",
        "version": 3
      },
      "file_extension": ".py",
      "mimetype": "text/x-python",
      "name": "python",
      "nbconvert_exporter": "python",
      "pygments_lexer": "ipython3",
      "version": "3.7.4"
    },
    "mimetype": "text/x-python",
    "name": "python",
    "npconvert_exporter": "python",
    "pygments_lexer": "ipython3",
    "version": 3,
    "colab": {
      "name": "TemplateClusterKEuclid.ipynb",
      "provenance": [],
      "collapsed_sections": []
    }
  },
  "cells": [
    {
      "cell_type": "markdown",
      "metadata": {
        "id": "n6yRKl7Nx8NV",
        "colab_type": "text"
      },
      "source": [
        "#***Set parameters***"
      ]
    },
    {
      "cell_type": "code",
      "metadata": {
        "id": "RLla__P2wqVL",
        "colab_type": "code",
        "colab": {}
      },
      "source": [
        "__algo__ = \"KMEANS\" #Name of the algorithm\n",
        "recnum = 3000 #Number of records to be read from files\n",
        "k = 50 #Number of Clusters\n",
        "\n",
        "\n",
        "usesqrt = False #Set value of k to sqrt of recnum\n",
        "randomsample = False #Sampling to be True/False for reacords which are read"
      ],
      "execution_count": 0,
      "outputs": []
    },
    {
      "cell_type": "markdown",
      "metadata": {
        "id": "yFgCtBa6hjJE",
        "colab_type": "text"
      },
      "source": [
        "#Bash Code\n",
        "Git all the Required Files"
      ]
    },
    {
      "cell_type": "code",
      "metadata": {
        "id": "8xcIo5MshifC",
        "colab_type": "code",
        "outputId": "5b11d6a4-ebb9-48e6-c16c-2c18b0507166",
        "colab": {
          "base_uri": "https://localhost:8080/",
          "height": 34
        }
      },
      "source": [
        "!git clone https://github.com/DevashishX/AbstractClustering.git; "
      ],
      "execution_count": 59,
      "outputs": [
        {
          "output_type": "stream",
          "text": [
            "fatal: destination path 'AbstractClustering' already exists and is not an empty directory.\n"
          ],
          "name": "stdout"
        }
      ]
    },
    {
      "cell_type": "code",
      "metadata": {
        "id": "hJhYEiN2hiV4",
        "colab_type": "code",
        "colab": {}
      },
      "source": [
        "!cp -r AbstractClustering/* ./."
      ],
      "execution_count": 0,
      "outputs": []
    },
    {
      "cell_type": "code",
      "metadata": {
        "id": "HsYvN3-1hh3V",
        "colab_type": "code",
        "outputId": "65654f47-6837-40e7-b741-24fbec0d1b93",
        "colab": {
          "base_uri": "https://localhost:8080/",
          "height": 660
        }
      },
      "source": [
        "!ls -alFh"
      ],
      "execution_count": 3,
      "outputs": [
        {
          "output_type": "stream",
          "text": [
            "total 84M\n",
            "drwxr-xr-x 1 root root 4.0K Feb 27 13:14 ./\n",
            "drwxr-xr-x 1 root root 4.0K Feb 27 12:02 ../\n",
            "drwxr-xr-x 9 root root 4.0K Feb 27 12:04 AbstractClustering/\n",
            "-rw-r--r-- 1 root root  39M Feb 27 14:52 cleaned.7z\n",
            "-rw-r--r-- 1 root root  90K Feb 27 14:52 ClusterKEuclid.ipynb\n",
            "drwxr-xr-x 1 root root 4.0K Feb 19 17:12 .config/\n",
            "-rw-r--r-- 1 root root 3.7K Feb 27 14:52 convert_repository_json.py\n",
            "drwxr-xr-x 2 root root 4.0K Feb 27 12:04 CORE_files/\n",
            "-rw-r--r-- 1 root root  33K Feb 27 14:52 CORE.html\n",
            "-rw-r--r-- 1 root root  48K Feb 27 14:52 CreateSentenceEmbedding.ipynb\n",
            "drwxr-xr-x 2 root root 4.0K Feb 27 12:04 dataset/\n",
            "-rw-r--r-- 1 root root  95K Feb 27 14:52 Devashish_word2vec_cluster.ipynb\n",
            "-rw-r--r-- 1 root root 978K Feb 27 13:14 downloaded_Mega_Sample_centroid.pkl\n",
            "drwx------ 4 root root 4.0K Feb 27 13:04 drive/\n",
            "-rw-r--r-- 1 root root  27K Feb 27 14:52 example_tags.txt\n",
            "-rw-r--r-- 1 root root  37K Feb 27 14:52 h_cluster.ipynb\n",
            "drwxr-xr-x 2 root root 4.0K Feb 27 12:17 .ipynb_checkpoints/\n",
            "-rw-r--r-- 1 root root 912K Feb 27 14:52 Keras-DEC.ipynb\n",
            "-rw-r--r-- 1 root root 1.1K Feb 27 14:52 LICENSE\n",
            "drwxr-xr-x 2 root root  12K Feb 27 12:04 MegaSentEmbs/\n",
            "drwxr-xr-x 2 root root 4.0K Feb 27 12:04 output/\n",
            "drwxr-xr-x 2 root root  12K Feb 27 12:04 PklCleaned/\n",
            "-rw-r--r-- 1 root root  39M Feb 27 14:53 PklCleaned.7z\n",
            "-rw-r--r-- 1 root root  61K Feb 27 14:53 plot_dbscan.ipynb\n",
            "-rw-r--r-- 1 root root 1.4K Feb 27 14:53 preprocessing_files.py\n",
            "-rw-r--r-- 1 root root  603 Feb 27 14:53 preprocessing.py\n",
            "-rw-r--r-- 1 root root   31 Feb 27 14:53 README.md\n",
            "-rw-r--r-- 1 root root 3.9M Feb 27 12:17 sample_500.pkl\n",
            "drwxr-xr-x 1 root root 4.0K Feb  5 18:37 sample_data/\n",
            "-rw-r--r-- 1 root root  360 Feb 27 14:53 scripts.sh\n",
            "-rw-r--r-- 1 root root 1.1K Feb 27 14:53 sentence_embedding.py\n",
            "-rw-r--r-- 1 root root  25K Feb 27 14:53 splitembs.ipynb\n",
            "-rw-r--r-- 1 root root    0 Feb 27 14:53 test.txt\n",
            "-rw-r--r-- 1 root root  51K Feb 27 14:53 Untitled.ipynb\n",
            "-rw-r--r-- 1 root root  38K Feb 27 14:53 word2vec_cluster.ipynb\n",
            "-rw-r--r-- 1 root root 1.8K Feb 27 14:53 word_embedding.py\n"
          ],
          "name": "stdout"
        }
      ]
    },
    {
      "cell_type": "markdown",
      "metadata": {
        "id": "LGy8jsWQx0nS",
        "colab_type": "text"
      },
      "source": [
        "#Actual Code"
      ]
    },
    {
      "cell_type": "markdown",
      "metadata": {
        "id": "II0jpbbTzD8M",
        "colab_type": "text"
      },
      "source": [
        "#imports and time"
      ]
    },
    {
      "cell_type": "code",
      "metadata": {
        "id": "wkS4KGOphHK4",
        "colab_type": "code",
        "colab": {}
      },
      "source": [
        "import numpy as np\n",
        "import matplotlib.pyplot as plt\n",
        "import pandas as pd\n",
        "from sklearn import cluster, datasets\n",
        "import seaborn as sns\n",
        "import os, subprocess\n",
        "import datetime, time"
      ],
      "execution_count": 0,
      "outputs": []
    },
    {
      "cell_type": "code",
      "metadata": {
        "id": "bFxfXnFh2taT",
        "colab_type": "code",
        "outputId": "d0d94d02-e693-4cde-cd87-2dc51c77b129",
        "colab": {
          "base_uri": "https://localhost:8080/",
          "height": 52
        }
      },
      "source": [
        "start_time = time.time()\n",
        "start_datetime = datetime.datetime.now()\n",
        "print(\"start_time: \", start_time)\n",
        "print(\"start_datetime: \", start_datetime)\n",
        "# print(datetime.datetime.now()-start_datetime)"
      ],
      "execution_count": 135,
      "outputs": [
        {
          "output_type": "stream",
          "text": [
            "start_time:  1582829692.078808\n",
            "start_datetime:  2020-02-27 18:54:52.078847\n"
          ],
          "name": "stdout"
        }
      ]
    },
    {
      "cell_type": "markdown",
      "metadata": {
        "id": "X2T_-VrUzBVt",
        "colab_type": "text"
      },
      "source": [
        "#File Settings"
      ]
    },
    {
      "cell_type": "code",
      "metadata": {
        "id": "fAi1m08zhHLn",
        "colab_type": "code",
        "outputId": "1e03b451-0705-4b84-9e6e-449141acfb97",
        "colab": {
          "base_uri": "https://localhost:8080/",
          "height": 0
        }
      },
      "source": [
        "embedDir = \"./MegaSentEmbs/\"\n",
        "dumpdir = \"./dump/\"\n",
        "oldlist = os.listdir(embedDir)\n",
        "filelist = sorted([embedDir+f for f in oldlist if f[-3:]==\"pkl\"])\n",
        "filenum = int(len(filelist))\n",
        "# filenum = 5\n",
        "smalllist = filelist[:filenum]\n",
        "print(\"Length of Smalllist: \", len(smalllist))"
      ],
      "execution_count": 136,
      "outputs": [
        {
          "output_type": "stream",
          "text": [
            "Length of Smalllist:  116\n"
          ],
          "name": "stdout"
        }
      ]
    },
    {
      "cell_type": "markdown",
      "metadata": {
        "id": "Verw6R-QVK24",
        "colab_type": "text"
      },
      "source": [
        "#Number of Records\n",
        "It is Recommended to Set this at the top parameters"
      ]
    },
    {
      "cell_type": "code",
      "metadata": {
        "id": "1KLrsnyYVN0R",
        "colab_type": "code",
        "colab": {}
      },
      "source": [
        "recnum = recnum"
      ],
      "execution_count": 0,
      "outputs": []
    },
    {
      "cell_type": "markdown",
      "metadata": {
        "id": "fN1QgBS0hHL1",
        "colab_type": "text"
      },
      "source": [
        "#Read all the pandas dataframes"
      ]
    },
    {
      "cell_type": "code",
      "metadata": {
        "id": "opx4vfnfhHL4",
        "colab_type": "code",
        "outputId": "4de12cfa-fe83-4811-c5aa-b25e965ed72f",
        "colab": {
          "base_uri": "https://localhost:8080/",
          "height": 0
        }
      },
      "source": [
        "%%time\n",
        "megadf = pd.DataFrame()\n",
        "\n",
        "if randomsample == True:\n",
        "    print(\"randomsample: \", randomsample)\n",
        "    for f in smalllist:\n",
        "        tempdf = pd.read_pickle(f)\n",
        "        megadf = megadf.append(tempdf, ignore_index = True)\n",
        "    megadf = megadf.sample(recnum, random_state=42)\n",
        "else:\n",
        "    print(\"randomsample: \", randomsample)\n",
        "    for f in smalllist:\n",
        "        tempdf = pd.read_pickle(f)\n",
        "        megadf = megadf.append(tempdf, ignore_index = True)\n",
        "        if megadf.shape[0] >= recnum:\n",
        "            megadf = megadf[:recnum]\n",
        "            break\n",
        "\n",
        "print(\"megadf.shape: \", megadf.shape)\n",
        "print(\"megadf.head:\\n\", megadf.head())"
      ],
      "execution_count": 138,
      "outputs": [
        {
          "output_type": "stream",
          "text": [
            "randomsample:  False\n",
            "megadf.shape:  (3000, 4)\n",
            "megadf.head:\n",
            "        id  ...                                          embedding\n",
            "0  395086  ...  [0.1048434150393569, -0.022277361643991286, -0...\n",
            "1  395088  ...  [0.52842, -0.1687455, 0.40093833333333334, -0....\n",
            "2  395097  ...  [0.1048434150393569, -0.022277361643991286, -0...\n",
            "3  395102  ...  [0.07919400708734191, 0.42536576316588975, -0....\n",
            "4  395105  ...  [0.16442311594651932, 0.30571671712325205, -0....\n",
            "\n",
            "[5 rows x 4 columns]\n",
            "CPU times: user 143 ms, sys: 18.9 ms, total: 162 ms\n",
            "Wall time: 165 ms\n"
          ],
          "name": "stdout"
        }
      ]
    },
    {
      "cell_type": "code",
      "metadata": {
        "id": "AH7_54wfhHMH",
        "colab_type": "code",
        "outputId": "e234ab86-7a01-47b6-cb23-c073e10fbf3b",
        "colab": {
          "base_uri": "https://localhost:8080/",
          "height": 0
        }
      },
      "source": [
        "predata = megadf[\"embedding\"]\n",
        "data = np.matrix(predata.to_list())\n",
        "print(data.shape)"
      ],
      "execution_count": 139,
      "outputs": [
        {
          "output_type": "stream",
          "text": [
            "(3000, 250)\n"
          ],
          "name": "stdout"
        }
      ]
    },
    {
      "cell_type": "markdown",
      "metadata": {
        "id": "AHw4QXjahHMV",
        "colab_type": "text"
      },
      "source": [
        "#Number of Clusters\n",
        "It is Recommended to Set this at the top parameters"
      ]
    },
    {
      "cell_type": "code",
      "metadata": {
        "id": "NDTDoVfhhHMa",
        "colab_type": "code",
        "outputId": "6834227e-c968-4fe6-a288-3e502641167a",
        "colab": {
          "base_uri": "https://localhost:8080/",
          "height": 0
        }
      },
      "source": [
        "if usesqrt == True:\n",
        "    print(\"usesqrt: \", usesqrt)\n",
        "    sqrt_k = int(np.sqrt(data.shape[0]))\n",
        "    k = int(sqrt_k)\n",
        "else:\n",
        "    print(\"usesqrt: \", usesqrt)\n",
        "    k = k\n",
        "print(\"k: \", k)"
      ],
      "execution_count": 140,
      "outputs": [
        {
          "output_type": "stream",
          "text": [
            "usesqrt:  False\n",
            "k:  50\n"
          ],
          "name": "stdout"
        }
      ]
    },
    {
      "cell_type": "markdown",
      "metadata": {
        "id": "KGn8OXrj2CJQ",
        "colab_type": "text"
      },
      "source": [
        "#Clustering"
      ]
    },
    {
      "cell_type": "code",
      "metadata": {
        "id": "bQYesl8uhHMk",
        "colab_type": "code",
        "outputId": "6b0bad20-a06c-40f3-a8c5-322bed5d81ce",
        "colab": {
          "base_uri": "https://localhost:8080/",
          "height": 104
        }
      },
      "source": [
        "%%time\n",
        "print(\"Starting Clustering Process\")\n",
        "kmeans = cluster.KMeans(n_clusters=k, verbose=1, n_jobs=-1)\n",
        "kmeans.fit(data)\n",
        "print(\"done\")\n",
        "print(\"k_means.fit(data) Done!\")"
      ],
      "execution_count": 141,
      "outputs": [
        {
          "output_type": "stream",
          "text": [
            "Starting Clustering Process\n",
            "done\n",
            "k_means.fit(data) Done!\n",
            "CPU times: user 53.3 ms, sys: 85.5 ms, total: 139 ms\n",
            "Wall time: 7.75 s\n"
          ],
          "name": "stdout"
        }
      ]
    },
    {
      "cell_type": "markdown",
      "metadata": {
        "id": "CArLi48A6ABy",
        "colab_type": "text"
      },
      "source": [
        "###Saving the output data into vars"
      ]
    },
    {
      "cell_type": "code",
      "metadata": {
        "id": "QIfHjjLShHM8",
        "colab_type": "code",
        "colab": {}
      },
      "source": [
        "centroids = kmeans.cluster_centers_\n",
        "labels = kmeans.labels_\n",
        "megadf[\"clusterlabel\"]=labels\n",
        "# megadf[\"centroids\"] = centroids\n",
        "# centroidDF = pd.DataFrame(centroids)\n"
      ],
      "execution_count": 0,
      "outputs": []
    },
    {
      "cell_type": "markdown",
      "metadata": {
        "id": "katJKlYX3DVA",
        "colab_type": "text"
      },
      "source": [
        "#Plotting"
      ]
    },
    {
      "cell_type": "code",
      "metadata": {
        "id": "5RdhXBYhhHNG",
        "colab_type": "code",
        "colab": {
          "base_uri": "https://localhost:8080/",
          "height": 0
        },
        "outputId": "ff87a9c6-03d2-4527-d0b0-710176d17b6a"
      },
      "source": [
        "plt.figure(figsize=(16,16))\n",
        "snsplot = sns.countplot(\"clusterlabel\", data=megadf)\n",
        "snsplot.xaxis.label.set_size(20)\n",
        "snsplot.yaxis.label.set_size(20)\n",
        "plt.title(\n",
        "        \"{} with k={} records={} features={}\".format(__algo__, k, data.shape[0], data.shape[1]),\n",
        "        fontdict = {'fontsize' : 30}\n",
        "    )"
      ],
      "execution_count": 143,
      "outputs": [
        {
          "output_type": "execute_result",
          "data": {
            "text/plain": [
              "Text(0.5, 1.0, 'KMEANS with k=50 records=3000 features=250')"
            ]
          },
          "metadata": {
            "tags": []
          },
          "execution_count": 143
        },
        {
          "output_type": "display_data",
          "data": {
            "image/png": "[encoded data removed]",
            "text/plain": [
              "<Figure size 1152x1152 with 1 Axes>"
            ]
          },
          "metadata": {
            "tags": []
          }
        }
      ]
    },
    {
      "cell_type": "markdown",
      "metadata": {
        "id": "Auz4Iqgh4Run",
        "colab_type": "text"
      },
      "source": [
        "#Saving Data"
      ]
    },
    {
      "cell_type": "code",
      "metadata": {
        "id": "l0RRWXwvQ9jz",
        "colab_type": "code",
        "colab": {}
      },
      "source": [
        "snspltname = \"{}_K{}_R{}_F{}_plt.png\".format(__algo__, k, data.shape[0], data.shape[1])\n",
        "snsplot.figure.savefig(snspltname)\n",
        "os.environ[\"SAVE_DF\"] = snspltname\n",
        "!cp $SAVE_DF ./drive/My\\ Drive/ColabOutput/."
      ],
      "execution_count": 0,
      "outputs": []
    },
    {
      "cell_type": "code",
      "metadata": {
        "id": "ZLHiM-gclArn",
        "colab_type": "code",
        "colab": {}
      },
      "source": [
        "clusterdfname = \"{}_K{}_R{}_F{}.pkl\".format(__algo__, k, data.shape[0], data.shape[1])\n",
        "megadf.to_pickle(clusterdfname)\n",
        "os.environ[\"SAVE_DF\"] = clusterdfname\n",
        "!cp $SAVE_DF ./drive/My\\ Drive/ColabOutput/."
      ],
      "execution_count": 0,
      "outputs": []
    },
    {
      "cell_type": "code",
      "metadata": {
        "id": "N8MsneQ_vx4H",
        "colab_type": "code",
        "colab": {}
      },
      "source": [
        "centroidDF = pd.DataFrame(centroids)\n",
        "centroidDFname = \"{}_K{}_R{}_F{}_Centroids.pkl\".format(__algo__, k, data.shape[0], data.shape[1])\n",
        "centroidDF.to_pickle(centroidDFname)\n",
        "os.environ[\"SAVE_DF\"] = centroidDFname\n",
        "!cp $SAVE_DF ./drive/My\\ Drive/ColabOutput/."
      ],
      "execution_count": 0,
      "outputs": []
    },
    {
      "cell_type": "markdown",
      "metadata": {
        "id": "YGmej0Kl5m49",
        "colab_type": "text"
      },
      "source": [
        "###local machine dtale code\n",
        "commented out"
      ]
    },
    {
      "cell_type": "code",
      "metadata": {
        "id": "_Mp6kiUWhHNR",
        "colab_type": "code",
        "colab": {}
      },
      "source": [
        "# # import dtale\n",
        "# s = megadf[megadf[\"clusterlabel\"] == 48].loc[:, [\"title\", \"abstract\"]]\n",
        "# # megadf.columns\n",
        "# # dtale.show(s)\n",
        "# s"
      ],
      "execution_count": 0,
      "outputs": []
    },
    {
      "cell_type": "markdown",
      "metadata": {
        "id": "4z2jpCjU5b-1",
        "colab_type": "text"
      },
      "source": [
        "###Sampling the clusters\n",
        "commented out"
      ]
    },
    {
      "cell_type": "code",
      "metadata": {
        "id": "MoZTzcR3hHNZ",
        "colab_type": "code",
        "colab": {}
      },
      "source": [
        "# sample = pd.DataFrame()\n",
        "# for n in range(k):\n",
        "#     temp = megadf[megadf[\"clusterlabel\"] == n].loc[:, :]\n",
        "#     sample = sample.append(temp.head(50), ignore_index=True)\n",
        "#     print(\"Cluster Number: \", n)\n",
        "    # print(temp.head(100).loc[:, [\"id\", \"title\", \"abstract\", \"clusterlabel\"]])\n",
        "    "
      ],
      "execution_count": 0,
      "outputs": []
    },
    {
      "cell_type": "markdown",
      "metadata": {
        "id": "x35sOox64Lme",
        "colab_type": "text"
      },
      "source": [
        "#Total Time to Exec"
      ]
    },
    {
      "cell_type": "code",
      "metadata": {
        "id": "Fg2D3Fsww94W",
        "colab_type": "code",
        "colab": {
          "base_uri": "https://localhost:8080/",
          "height": 0
        },
        "outputId": "e52fb623-13bd-49a0-e8d0-bb44220cc774"
      },
      "source": [
        "end_time = time.time()\n",
        "end_datetime = datetime.datetime.now()\n",
        "# print(\"end_time:\",  end_time)\n",
        "print(\"end_datetime: \", end_datetime)\n",
        "print(\"done! {}\".format(round(end_time-start_time, 2)))\n",
        "print(\"Time taken: \", str(end_datetime-start_datetime))"
      ],
      "execution_count": 148,
      "outputs": [
        {
          "output_type": "stream",
          "text": [
            "end_datetime:  2020-02-27 18:55:10.713255\n",
            "done! 18.63\n",
            "Time taken:  0:00:18.634408\n"
          ],
          "name": "stdout"
        }
      ]
    },
    {
      "cell_type": "markdown",
      "metadata": {
        "id": "P0kYelyC5NqY",
        "colab_type": "text"
      },
      "source": [
        "#Open dataframe in colab"
      ]
    },
    {
      "cell_type": "code",
      "metadata": {
        "id": "VvsuuCMaQEj4",
        "colab_type": "code",
        "colab": {
          "base_uri": "https://localhost:8080/",
          "height": 0
        },
        "outputId": "5b11f4b6-275c-441c-ebab-130b39dccf5a"
      },
      "source": [
        "sub = megadf.loc[:, [\"title\", \"abstract\", \"clusterlabel\"]]\n",
        "sub.tail()"
      ],
      "execution_count": 149,
      "outputs": [
        {
          "output_type": "execute_result",
          "data": {
            "text/html": [
              "<div>\n",
              "<style scoped>\n",
              "    .dataframe tbody tr th:only-of-type {\n",
              "        vertical-align: middle;\n",
              "    }\n",
              "\n",
              "    .dataframe tbody tr th {\n",
              "        vertical-align: top;\n",
              "    }\n",
              "\n",
              "    .dataframe thead th {\n",
              "        text-align: right;\n",
              "    }\n",
              "</style>\n",
              "<table border=\"1\" class=\"dataframe\">\n",
              "  <thead>\n",
              "    <tr style=\"text-align: right;\">\n",
              "      <th></th>\n",
              "      <th>title</th>\n",
              "      <th>abstract</th>\n",
              "      <th>clusterlabel</th>\n",
              "    </tr>\n",
              "  </thead>\n",
              "  <tbody>\n",
              "    <tr>\n",
              "      <th>2995</th>\n",
              "      <td>Defining the clinical role of the mammalian ta...</td>\n",
              "      <td>[lung, cancer, biggest, cancer, killer, patien...</td>\n",
              "      <td>21</td>\n",
              "    </tr>\n",
              "    <tr>\n",
              "      <th>2996</th>\n",
              "      <td>Bio-functionalised nanoparticles for enzyme se...</td>\n",
              "      <td>[inorganic, nanoparticles, accompanying, diver...</td>\n",
              "      <td>21</td>\n",
              "    </tr>\n",
              "    <tr>\n",
              "      <th>2997</th>\n",
              "      <td>Lithological mapping on the Antarctic Peninsul...</td>\n",
              "      <td>[antarctic, peninsula, larger, uk, limited, ge...</td>\n",
              "      <td>28</td>\n",
              "    </tr>\n",
              "    <tr>\n",
              "      <th>2998</th>\n",
              "      <td>WWOX, tumour suppressor and modifier gene, as ...</td>\n",
              "      <td>[wwox, tumour, suppressor, gene, demonstrated,...</td>\n",
              "      <td>21</td>\n",
              "    </tr>\n",
              "    <tr>\n",
              "      <th>2999</th>\n",
              "      <td>Improving efficiency in drive lines : an exper...</td>\n",
              "      <td>[research, concern, improvement, power, effici...</td>\n",
              "      <td>35</td>\n",
              "    </tr>\n",
              "  </tbody>\n",
              "</table>\n",
              "</div>"
            ],
            "text/plain": [
              "                                                  title  ... clusterlabel\n",
              "2995  Defining the clinical role of the mammalian ta...  ...           21\n",
              "2996  Bio-functionalised nanoparticles for enzyme se...  ...           21\n",
              "2997  Lithological mapping on the Antarctic Peninsul...  ...           28\n",
              "2998  WWOX, tumour suppressor and modifier gene, as ...  ...           21\n",
              "2999  Improving efficiency in drive lines : an exper...  ...           35\n",
              "\n",
              "[5 rows x 3 columns]"
            ]
          },
          "metadata": {
            "tags": []
          },
          "execution_count": 149
        }
      ]
    }
  ]
}
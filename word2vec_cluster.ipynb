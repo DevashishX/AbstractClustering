{
 "cells": [
  {
   "cell_type": "code",
   "execution_count": 2,
   "metadata": {
    "colab": {
     "base_uri": "https://localhost:8080/",
     "height": 124
    },
    "colab_type": "code",
    "id": "9H7PRrpblXzs",
    "outputId": "cdd7c20b-a80d-4c6c-c50e-b4da55032c31"
   },
   "outputs": [
    {
     "name": "stdout",
     "output_type": "stream",
     "text": [
      "Go to this URL in a browser: https://accounts.google.com/o/oauth2/auth?client_id=947318989803-6bn6qk8qdgf4n4g3pfee6491hc0brc4i.apps.googleusercontent.com&redirect_uri=urn%3aietf%3awg%3aoauth%3a2.0%3aoob&response_type=code&scope=email%20https%3a%2f%2fwww.googleapis.com%2fauth%2fdocs.test%20https%3a%2f%2fwww.googleapis.com%2fauth%2fdrive%20https%3a%2f%2fwww.googleapis.com%2fauth%2fdrive.photos.readonly%20https%3a%2f%2fwww.googleapis.com%2fauth%2fpeopleapi.readonly\n",
      "\n",
      "Enter your authorization code:\n",
      "··········\n",
      "Mounted at /content/gdrive\n"
     ]
    }
   ],
   "source": [
    "from google.colab import drive\n",
    "drive.mount('/content/gdrive')"
   ]
  },
  {
   "cell_type": "code",
   "execution_count": 3,
   "metadata": {
    "colab": {
     "base_uri": "https://localhost:8080/",
     "height": 364
    },
    "colab_type": "code",
    "id": "7Bm85Wgalig7",
    "outputId": "32bdd5b3-92b2-423c-f5fc-1bc3a43708c3"
   },
   "outputs": [
    {
     "name": "stdout",
     "output_type": "stream",
     "text": [
      "--2020-02-22 06:32:18--  http://nlp.stanford.edu/data/wordvecs/glove.6B.zip\n",
      "Resolving nlp.stanford.edu (nlp.stanford.edu)... 171.64.67.140\n",
      "Connecting to nlp.stanford.edu (nlp.stanford.edu)|171.64.67.140|:80... connected.\n",
      "HTTP request sent, awaiting response... 302 Found\n",
      "Location: https://nlp.stanford.edu/data/wordvecs/glove.6B.zip [following]\n",
      "--2020-02-22 06:32:18--  https://nlp.stanford.edu/data/wordvecs/glove.6B.zip\n",
      "Connecting to nlp.stanford.edu (nlp.stanford.edu)|171.64.67.140|:443... connected.\n",
      "HTTP request sent, awaiting response... 301 Moved Permanently\n",
      "Location: http://downloads.cs.stanford.edu/nlp/data/wordvecs/glove.6B.zip [following]\n",
      "--2020-02-22 06:32:19--  http://downloads.cs.stanford.edu/nlp/data/wordvecs/glove.6B.zip\n",
      "Resolving downloads.cs.stanford.edu (downloads.cs.stanford.edu)... 171.64.64.22\n",
      "Connecting to downloads.cs.stanford.edu (downloads.cs.stanford.edu)|171.64.64.22|:80... connected.\n",
      "HTTP request sent, awaiting response... 200 OK\n",
      "Length: 862182753 (822M) [application/zip]\n",
      "Saving to: ‘glove.6B.zip’\n",
      "\n",
      "glove.6B.zip        100%[===================>] 822.24M  2.17MB/s    in 6m 29s  \n",
      "\n",
      "2020-02-22 06:38:49 (2.11 MB/s) - ‘glove.6B.zip’ saved [862182753/862182753]\n",
      "\n"
     ]
    }
   ],
   "source": [
    "!cd ./gdrive/My\\ Drive ;wget nlp.stanford.edu/data/wordvecs/glove.6B.zip"
   ]
  },
  {
   "cell_type": "code",
   "execution_count": 4,
   "metadata": {
    "colab": {
     "base_uri": "https://localhost:8080/",
     "height": 139
    },
    "colab_type": "code",
    "id": "NlVg3HLimTK7",
    "outputId": "13ab2c89-b715-4a66-c8d3-bc27b0d5317a"
   },
   "outputs": [
    {
     "name": "stdout",
     "output_type": "stream",
     "text": [
      "total 48K\n",
      "drwxr-xr-x 1 root root 4.0K Feb 22 06:29 ./\n",
      "drwxr-xr-x 1 root root 4.0K Feb 22 05:37 ../\n",
      "drwxr-xr-x 1 root root 4.0K Feb 19 17:12 .config/\n",
      "-rw-r--r-- 1 root root  27K Feb 22 05:40 example_tags.txt\n",
      "drwx------ 4 root root 4.0K Feb 22 06:29 gdrive/\n",
      "drwxr-xr-x 1 root root 4.0K Feb  5 18:37 sample_data/\n"
     ]
    }
   ],
   "source": [
    "!ls -alFh "
   ]
  },
  {
   "cell_type": "code",
   "execution_count": 5,
   "metadata": {
    "colab": {
     "base_uri": "https://localhost:8080/",
     "height": 104
    },
    "colab_type": "code",
    "id": "U5d2or3RmT6v",
    "outputId": "d22c7d08-c31e-4727-a60c-82e4cf3f47e9"
   },
   "outputs": [
    {
     "name": "stdout",
     "output_type": "stream",
     "text": [
      "Archive:  ./gdrive/My Drive/glove.6B.zip\n",
      "  inflating: glove.6B.100d.txt       \n",
      "  inflating: glove.6B.200d.txt       \n",
      "  inflating: glove.6B.300d.txt       \n",
      "  inflating: glove.6B.50d.txt        \n"
     ]
    }
   ],
   "source": [
    "!unzip ./gdrive/My\\ Drive/glove.6B.zip"
   ]
  },
  {
   "cell_type": "code",
   "execution_count": 6,
   "metadata": {
    "colab": {
     "base_uri": "https://localhost:8080/",
     "height": 208
    },
    "colab_type": "code",
    "id": "8wfgZw-eml7n",
    "outputId": "cf42ecd9-4e06-4798-ebdb-aff2361e397e"
   },
   "outputs": [
    {
     "name": "stdout",
     "output_type": "stream",
     "text": [
      "total 2.1G\n",
      "drwxr-xr-x 1 root root 4.0K Feb 22 06:43 ./\n",
      "drwxr-xr-x 1 root root 4.0K Feb 22 05:37 ../\n",
      "drwxr-xr-x 1 root root 4.0K Feb 19 17:12 .config/\n",
      "-rw-r--r-- 1 root root  27K Feb 22 05:40 example_tags.txt\n",
      "drwx------ 4 root root 4.0K Feb 22 06:29 gdrive/\n",
      "-rw-rw-r-- 1 root root 332M Dec 22  2015 glove.6B.100d.txt\n",
      "-rw-rw-r-- 1 root root 662M Dec 22  2015 glove.6B.200d.txt\n",
      "-rw-rw-r-- 1 root root 990M Dec 22  2015 glove.6B.300d.txt\n",
      "-rw-rw-r-- 1 root root 164M Dec 22  2015 glove.6B.50d.txt\n",
      "drwxr-xr-x 1 root root 4.0K Feb  5 18:37 sample_data/\n"
     ]
    }
   ],
   "source": [
    "!ls -alFh"
   ]
  },
  {
   "cell_type": "code",
   "execution_count": 16,
   "metadata": {
    "colab": {
     "base_uri": "https://localhost:8080/",
     "height": 89
    },
    "colab_type": "code",
    "id": "yyXkao31oXvW",
    "outputId": "84c043c9-430d-4a27-b8f2-727ea0b3840f"
   },
   "outputs": [
    {
     "name": "stderr",
     "output_type": "stream",
     "text": [
      "/usr/local/lib/python3.6/dist-packages/smart_open/smart_open_lib.py:402: UserWarning: This function is deprecated, use smart_open.open instead. See the migration notes for details: https://github.com/RaRe-Technologies/smart_open/blob/master/README.rst#migrating-to-the-new-open-function\n",
      "  'See the migration notes for details: %s' % _MIGRATION_NOTES_URL\n"
     ]
    },
    {
     "data": {
      "text/plain": [
       "(400001, 100)"
      ]
     },
     "execution_count": 16,
     "metadata": {
      "tags": []
     },
     "output_type": "execute_result"
    }
   ],
   "source": [
    "import gensim\n",
    "gensim.scripts.glove2word2vec.glove2word2vec('glove.6B.100d.txt', 'text')"
   ]
  },
  {
   "cell_type": "code",
   "execution_count": 17,
   "metadata": {
    "colab": {
     "base_uri": "https://localhost:8080/",
     "height": 69
    },
    "colab_type": "code",
    "id": "WCh1uHK6pSiG",
    "outputId": "5c100d4a-832d-4d5a-c96e-a9da7d3eaf0e"
   },
   "outputs": [
    {
     "name": "stdout",
     "output_type": "stream",
     "text": [
      "[nltk_data] Downloading package wordnet to /root/nltk_data...\n",
      "[nltk_data]   Package wordnet is already up-to-date!\n"
     ]
    },
    {
     "data": {
      "text/plain": [
       "True"
      ]
     },
     "execution_count": 17,
     "metadata": {
      "tags": []
     },
     "output_type": "execute_result"
    }
   ],
   "source": [
    "import nltk\n",
    "nltk.download('wordnet')"
   ]
  },
  {
   "cell_type": "code",
   "execution_count": 0,
   "metadata": {
    "colab": {},
    "colab_type": "code",
    "id": "fPQPxwKnLZ3A"
   },
   "outputs": [],
   "source": [
    "x = list(wn.all_synsets())"
   ]
  },
  {
   "cell_type": "code",
   "execution_count": 43,
   "metadata": {
    "colab": {
     "base_uri": "https://localhost:8080/",
     "height": 201
    },
    "colab_type": "code",
    "id": "rGhgpRUHLwxc",
    "outputId": "80940482-98d8-4ed4-8c8d-074296870feb"
   },
   "outputs": [
    {
     "ename": "KeyboardInterrupt",
     "evalue": "ignored",
     "output_type": "error",
     "traceback": [
      "\u001b[0;31m---------------------------------------------------------------------------\u001b[0m",
      "\u001b[0;31mKeyboardInterrupt\u001b[0m                         Traceback (most recent call last)",
      "\u001b[0;32m<ipython-input-43-82074d7218ab>\u001b[0m in \u001b[0;36m<module>\u001b[0;34m()\u001b[0m\n\u001b[1;32m      1\u001b[0m \u001b[0mx\u001b[0m \u001b[0;34m=\u001b[0m \u001b[0mstr\u001b[0m\u001b[0;34m(\u001b[0m\u001b[0mx\u001b[0m\u001b[0;34m)\u001b[0m\u001b[0;34m\u001b[0m\u001b[0;34m\u001b[0m\u001b[0m\n\u001b[1;32m      2\u001b[0m \u001b[0;32mfor\u001b[0m \u001b[0mi\u001b[0m \u001b[0;32min\u001b[0m \u001b[0mx\u001b[0m\u001b[0;34m:\u001b[0m\u001b[0;34m\u001b[0m\u001b[0;34m\u001b[0m\u001b[0m\n\u001b[0;32m----> 3\u001b[0;31m     \u001b[0mtmp\u001b[0m \u001b[0;34m+=\u001b[0m \u001b[0mstr\u001b[0m\u001b[0;34m(\u001b[0m\u001b[0mx\u001b[0m\u001b[0;34m[\u001b[0m\u001b[0;34m:\u001b[0m\u001b[0;34m]\u001b[0m\u001b[0;34m)\u001b[0m\u001b[0;34m.\u001b[0m\u001b[0msplit\u001b[0m\u001b[0;34m(\u001b[0m\u001b[0;34m\"'\"\u001b[0m\u001b[0;34m)\u001b[0m\u001b[0;34m[\u001b[0m\u001b[0;36m1\u001b[0m\u001b[0;34m]\u001b[0m \u001b[0;34m+\u001b[0m \u001b[0;34m'\\n'\u001b[0m\u001b[0;34m\u001b[0m\u001b[0;34m\u001b[0m\u001b[0m\n\u001b[0m",
      "\u001b[0;31mKeyboardInterrupt\u001b[0m: "
     ]
    }
   ],
   "source": [
    "x = str(x)\n",
    "for i in x:\n",
    "    tmp += str(x[:]).split(\"'\")[1] + '\\n'"
   ]
  },
  {
   "cell_type": "code",
   "execution_count": 45,
   "metadata": {
    "colab": {
     "base_uri": "https://localhost:8080/",
     "height": 478
    },
    "colab_type": "code",
    "id": "yw_VFbFWZ2Vc",
    "outputId": "753a001c-8962-4767-c87a-a1ce4b83c8f8"
   },
   "outputs": [
    {
     "name": "stdout",
     "output_type": "stream",
     "text": [
      " * loaded 1922 wordnet senses, 0 rejected\n",
      " * generating dataset...\n",
      " * loading wordvector model ( text )...\n"
     ]
    },
    {
     "name": "stderr",
     "output_type": "stream",
     "text": [
      "/usr/local/lib/python3.6/dist-packages/smart_open/smart_open_lib.py:402: UserWarning: This function is deprecated, use smart_open.open instead. See the migration notes for details: https://github.com/RaRe-Technologies/smart_open/blob/master/README.rst#migrating-to-the-new-open-function\n",
      "  'See the migration notes for details: %s' % _MIGRATION_NOTES_URL\n",
      "/usr/local/lib/python3.6/dist-packages/gensim/matutils.py:737: FutureWarning: Conversion of the second argument of issubdtype from `int` to `np.signedinteger` is deprecated. In future, it will be treated as `np.int64 == np.dtype(int).type`.\n",
      "  if np.issubdtype(vec.dtype, np.int):\n"
     ]
    },
    {
     "name": "stdout",
     "output_type": "stream",
     "text": [
      " * clustering...\n",
      " * saved results to: res_wv_k100.json\n"
     ]
    },
    {
     "data": {
      "image/png": "[encoded data removed]",
      "text/plain": [
       "<Figure size 432x288 with 1 Axes>"
      ]
     },
     "metadata": {
      "tags": []
     },
     "output_type": "display_data"
    }
   ],
   "source": [
    "#!/usr/bin/env python\n",
    "# -*- coding: utf-8 -*-\n",
    "\n",
    "from sklearn import cluster, datasets\n",
    "import numpy as np\n",
    "import json\n",
    "import sys\n",
    "import codecs\n",
    "from nltk.corpus import wordnet\n",
    "from collections import defaultdict, Counter\n",
    "import matplotlib.pyplot as plt\n",
    "import matplotlib as mpl\n",
    "import os\n",
    "from gensim.models import KeyedVectors\n",
    "\n",
    "mpl.rcParams['toolbar'] = 'None'\n",
    "\n",
    "wvmodel = None\n",
    "\n",
    "# make False to switch to wordvectors\n",
    "use_wordnet = False\n",
    "\n",
    "modelFile = \"text\"\n",
    "\n",
    "cache = {}\n",
    "\n",
    "\n",
    "def _mk_synset(w):\n",
    "    #\n",
    "    # turn cat.n.01 into the Synset object form\n",
    "    #\n",
    "    word = w.strip()\n",
    "    if '.' in word:\n",
    "        return wordnet.synset(word)\n",
    "    else:\n",
    "        print(' * Error, invalid synset name', w, 'skipping...')\n",
    "        return None\n",
    "\n",
    "def _mk_wv_word(s):\n",
    "    #\n",
    "    # turn wordnet Synset into word2vec word form\n",
    "    #   e.g. cat.n.01 -> 'cat'\n",
    "    #   e.g. free_trade.n.01 -> free-trade\n",
    "    return s.lemmas()[0].name().replace('_', '-')\n",
    "\n",
    "\n",
    "\n",
    "def load_tags(filename):\n",
    "    with codecs.open(filename, 'rb', 'utf-8') as tagfile:\n",
    "        lines = [line for line in tagfile.readlines() if not line.startswith('#')]\n",
    "        data = [_mk_synset(w) for w in lines if _mk_synset(w)]\n",
    "        print(' *', 'loaded', len(data), 'wordnet senses,', len(lines) - len(data), 'rejected')\n",
    "        return data\n",
    "\n",
    "#\n",
    "# wordvectors similarity distance\n",
    "#\n",
    "\n",
    "def wv(w1, w2, t):\n",
    "    # lazy load the wordvector model...\n",
    "    global wvmodel\n",
    "    if wvmodel == None:\n",
    "        print(' *', 'loading wordvector model (', modelFile, ')...')\n",
    "        wvmodel = KeyedVectors.load_word2vec_format(modelFile, binary=False)\n",
    "        wvmodel.init_sims(replace=True)  # no more updates, prune memory\n",
    "\n",
    "    try:\n",
    "        #\n",
    "        # since we've got wordnet synset objects (like cat.n.01), we\n",
    "        # must turn this back into a regular word ('cat') because the\n",
    "        # word vector GloVe models are plain words with spaces turned\n",
    "        # into hyphens on phrases (e.g. climate-change, black-and-white)\n",
    "        #\n",
    "        wv_w1, wv_w2 = _mk_wv_word(w1), _mk_wv_word(w2)\n",
    "        distance = wvmodel.similarity(wv_w1, wv_w2)\n",
    "        return distance if abs(distance) >= t else 0\n",
    "    except:\n",
    "        return 0\n",
    "\n",
    "#\n",
    "# wordnet wup similarity distance\n",
    "#\n",
    "\n",
    "\n",
    "def wup(w1, w2, t):\n",
    "    distance = w1.wup_similarity(w2)\n",
    "    if distance:\n",
    "        if distance >= t:\n",
    "            return distance\n",
    "    return 0\n",
    "\n",
    "#\n",
    "# wordnet path similarity distancewv\n",
    "#\n",
    "\n",
    "\n",
    "def path(w1, w2, t):\n",
    "    distance = w1.path_similarity(w2)\n",
    "    if distance:\n",
    "        if distance >= t:\n",
    "            return distance\n",
    "    return 0\n",
    "\n",
    "#\n",
    "# Normalized distance between any two words as represented\n",
    "# by wordnet synsets\n",
    "#\n",
    "\n",
    "\n",
    "def word_to_word_distance(w1, w2, t):\n",
    "    if w1 == w2:\n",
    "        return 1.0\n",
    "    else:\n",
    "        global cache\n",
    "        s = sorted([w1, w2])\n",
    "        x = (s[0], s[1])\n",
    "        if x in cache:\n",
    "            return cache[x]\n",
    "        else:\n",
    "            distances = []\n",
    "            if use_wordnet:\n",
    "                distances.append(wup(x[0], x[1], t))\n",
    "                distances.append(path(x[0], x[1], t))\n",
    "            else:\n",
    "                # scale threshold between wm and wv\n",
    "                distances.append(wv(w1, w2, t / 2.5))\n",
    "            d = sum(distances) / len(distances)\n",
    "            cache[x] = d\n",
    "            return d\n",
    "\n",
    "\n",
    "def make_data_matrix(words, t):\n",
    "    list_of_vectors = []\n",
    "    for word_x in words:\n",
    "        wordvector = []\n",
    "        for word_y in words:\n",
    "            wordvector.append(word_to_word_distance(word_x, word_y, t))\n",
    "        list_of_vectors.append(wordvector)\n",
    "\n",
    "    data = np.array(np.array(list_of_vectors))\n",
    "    labels = words\n",
    "    return (data, labels)\n",
    "\n",
    "\n",
    "def show_histogram(d):\n",
    "    c = {k: len(d[k]) for k in d.keys()}\n",
    "    bars, heights = zip(*c.items())\n",
    "    y_pos = range(len(bars))\n",
    "    plt.bar(y_pos, heights)\n",
    "    plt.xticks(y_pos, bars, rotation=90)\n",
    "    plt.show()\n",
    "\n",
    "\n",
    "def word_cluster(data, labels, k, show_histogram_plot=False):\n",
    "    k_means = cluster.KMeans(n_clusters=k)\n",
    "    k_means.fit(data)\n",
    "\n",
    "    # for i, label in enumerate(labels):\n",
    "    #    print ' *', label, k_means.labels_[i]\n",
    "\n",
    "    d = defaultdict(list)\n",
    "    for c, l in zip(k_means.labels_, labels):\n",
    "        d['cluster' + str(c)].append(l.name())\n",
    "\n",
    "    fname = 'res'\n",
    "    fname += \"_wn\" if use_wordnet else \"_wv\"\n",
    "    fname += '_k' + str(k) + '.json'\n",
    "\n",
    "    with codecs.open(fname, 'wb', 'utf-8') as outfile:\n",
    "        outfile.write(json.dumps(d, indent=True))\n",
    "        print(' * saved results to:', fname)\n",
    "        # create histogram of cluster sizes\n",
    "        if show_histogram_plot:\n",
    "            show_histogram(d)\n",
    "\n",
    "\n",
    "if __name__ == \"__main__\":\n",
    "\n",
    "    f = \"example_tags.txt\"\n",
    "    k = 100\n",
    "    t = 0.7\n",
    "\n",
    "    words = load_tags(f)\n",
    "\n",
    "    print(' *', 'generating dataset...')\n",
    "    data, labels = make_data_matrix(words, t)\n",
    "\n",
    "    print(' *', 'clustering...')\n",
    "    word_cluster(data, labels, k=k, show_histogram_plot=True)\n"
   ]
  }
 ],
 "metadata": {
  "colab": {
   "name": "word2vec-cluster.ipynb",
   "provenance": []
  },
  "kernelspec": {
   "display_name": "Python 3",
   "language": "python",
   "name": "python3"
  },
  "language_info": {
   "codemirror_mode": {
    "name": "ipython",
    "version": 3
   },
   "file_extension": ".py",
   "mimetype": "text/x-python",
   "name": "python",
   "nbconvert_exporter": "python",
   "pygments_lexer": "ipython3",
   "version": "3.7.4"
  }
 },
 "nbformat": 4,
 "nbformat_minor": 1
}

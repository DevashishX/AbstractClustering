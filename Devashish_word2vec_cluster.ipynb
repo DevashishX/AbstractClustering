{
  "nbformat": 4,
  "nbformat_minor": 0,
  "metadata": {
    "colab": {
      "name": "Devashish word2vec-cluster.ipynb",
      "provenance": [],
      "machine_shape": "hm",
      "include_colab_link": true
    },
    "kernelspec": {
      "name": "python3",
      "display_name": "Python 3"
    },
    "accelerator": "GPU"
  },
  "cells": [
    {
      "cell_type": "markdown",
      "metadata": {
        "id": "view-in-github",
        "colab_type": "text"
      },
      "source": [
        "<a href=\"https://colab.research.google.com/github/DevashishX/AbstractClustering/blob/master/Devashish_word2vec_cluster.ipynb\" target=\"_parent\"><img src=\"https://colab.research.google.com/assets/colab-badge.svg\" alt=\"Open In Colab\"/></a>"
      ]
    },
    {
      "cell_type": "code",
      "metadata": {
        "id": "WCh1uHK6pSiG",
        "colab_type": "code",
        "colab": {}
      },
      "source": [
        "# !pip install chakin\n",
        "# import chakin\n",
        "# chakin.search(lang='English')\n",
        "# chakin.download(number=11, save_dir='./')\n",
        "# !unzip glove.6B.zip"
      ],
      "execution_count": 0,
      "outputs": []
    },
    {
      "cell_type": "markdown",
      "metadata": {
        "id": "d884B-BAmtZy",
        "colab_type": "text"
      },
      "source": [
        "#START EXEC FROM HERE"
      ]
    },
    {
      "cell_type": "code",
      "metadata": {
        "id": "zEfRLwMrmjQz",
        "colab_type": "code",
        "colab": {
          "base_uri": "https://localhost:8080/",
          "height": 506
        },
        "outputId": "ae90a916-6b4d-4e51-e5fc-dedb7ec9f6f8"
      },
      "source": [
        "!wget https://github.com/DevashishX/AbstractClustering/blob/master/glove.6B.50d.7z?raw=true; mv glove.6B.50d.7z?raw=true glove.6B.50d.7z; pwd; ls -alFh"
      ],
      "execution_count": 2,
      "outputs": [
        {
          "output_type": "stream",
          "text": [
            "--2020-02-22 18:20:35--  https://github.com/DevashishX/AbstractClustering/blob/master/glove.6B.50d.7z?raw=true\n",
            "Resolving github.com (github.com)... 140.82.114.4\n",
            "Connecting to github.com (github.com)|140.82.114.4|:443... connected.\n",
            "HTTP request sent, awaiting response... 302 Found\n",
            "Location: https://github.com/DevashishX/AbstractClustering/raw/master/glove.6B.50d.7z [following]\n",
            "--2020-02-22 18:20:35--  https://github.com/DevashishX/AbstractClustering/raw/master/glove.6B.50d.7z\n",
            "Reusing existing connection to github.com:443.\n",
            "HTTP request sent, awaiting response... 302 Found\n",
            "Location: https://raw.githubusercontent.com/DevashishX/AbstractClustering/master/glove.6B.50d.7z [following]\n",
            "--2020-02-22 18:20:36--  https://raw.githubusercontent.com/DevashishX/AbstractClustering/master/glove.6B.50d.7z\n",
            "Resolving raw.githubusercontent.com (raw.githubusercontent.com)... 151.101.0.133, 151.101.64.133, 151.101.128.133, ...\n",
            "Connecting to raw.githubusercontent.com (raw.githubusercontent.com)|151.101.0.133|:443... connected.\n",
            "HTTP request sent, awaiting response... 200 OK\n",
            "Length: 57132207 (54M) [application/octet-stream]\n",
            "Saving to: ‘glove.6B.50d.7z?raw=true’\n",
            "\n",
            "glove.6B.50d.7z?raw 100%[===================>]  54.49M   163MB/s    in 0.3s    \n",
            "\n",
            "2020-02-22 18:20:37 (163 MB/s) - ‘glove.6B.50d.7z?raw=true’ saved [57132207/57132207]\n",
            "\n",
            "/content\n",
            "total 55M\n",
            "drwxr-xr-x 1 root root 4.0K Feb 22 18:20 ./\n",
            "drwxr-xr-x 1 root root 4.0K Feb 22 18:19 ../\n",
            "drwxr-xr-x 1 root root 4.0K Feb 19 17:12 .config/\n",
            "-rw-r--r-- 1 root root  55M Feb 22 18:20 glove.6B.50d.7z\n",
            "drwxr-xr-x 1 root root 4.0K Feb  5 18:37 sample_data/\n"
          ],
          "name": "stdout"
        }
      ]
    },
    {
      "cell_type": "code",
      "metadata": {
        "id": "uEbGJQsRmjM7",
        "colab_type": "code",
        "colab": {
          "base_uri": "https://localhost:8080/",
          "height": 402
        },
        "outputId": "3d88d00d-d9fe-4998-f7e6-4bbf3365965f"
      },
      "source": [
        "!7z e glove.6B.50d.7z"
      ],
      "execution_count": 3,
      "outputs": [
        {
          "output_type": "stream",
          "text": [
            "\n",
            "7-Zip [64] 16.02 : Copyright (c) 1999-2016 Igor Pavlov : 2016-05-21\n",
            "p7zip Version 16.02 (locale=en_US.UTF-8,Utf16=on,HugeFiles=on,64 bits,4 CPUs Intel(R) Xeon(R) CPU @ 2.30GHz (306F0),ASM,AES-NI)\n",
            "\n",
            "Scanning the drive for archives:\n",
            "  0M Scan\b\b\b\b\b\b\b\b\b         \b\b\b\b\b\b\b\b\b1 file, 57132207 bytes (55 MiB)\n",
            "\n",
            "Extracting archive: glove.6B.50d.7z\n",
            "--\n",
            "Path = glove.6B.50d.7z\n",
            "Type = 7z\n",
            "Physical Size = 57132207\n",
            "Headers Size = 138\n",
            "Method = LZMA2:26\n",
            "Solid = -\n",
            "Blocks = 1\n",
            "\n",
            "  0%\b\b\b\b    \b\b\b\b  7% - glove.6B.50d.txt\b\b\b\b\b\b\b\b\b\b\b\b\b\b\b\b\b\b\b\b\b\b\b                       \b\b\b\b\b\b\b\b\b\b\b\b\b\b\b\b\b\b\b\b\b\b\b 14% - glove.6B.50d.txt\b\b\b\b\b\b\b\b\b\b\b\b\b\b\b\b\b\b\b\b\b\b\b                       \b\b\b\b\b\b\b\b\b\b\b\b\b\b\b\b\b\b\b\b\b\b\b 21% - glove.6B.50d.txt\b\b\b\b\b\b\b\b\b\b\b\b\b\b\b\b\b\b\b\b\b\b\b                       \b\b\b\b\b\b\b\b\b\b\b\b\b\b\b\b\b\b\b\b\b\b\b 29% - glove.6B.50d.txt\b\b\b\b\b\b\b\b\b\b\b\b\b\b\b\b\b\b\b\b\b\b\b                       \b\b\b\b\b\b\b\b\b\b\b\b\b\b\b\b\b\b\b\b\b\b\b 34% - glove.6B.50d.txt\b\b\b\b\b\b\b\b\b\b\b\b\b\b\b\b\b\b\b\b\b\b\b                       \b\b\b\b\b\b\b\b\b\b\b\b\b\b\b\b\b\b\b\b\b\b\b 40% - glove.6B.50d.txt\b\b\b\b\b\b\b\b\b\b\b\b\b\b\b\b\b\b\b\b\b\b\b                       \b\b\b\b\b\b\b\b\b\b\b\b\b\b\b\b\b\b\b\b\b\b\b 45% - glove.6B.50d.txt\b\b\b\b\b\b\b\b\b\b\b\b\b\b\b\b\b\b\b\b\b\b\b                       \b\b\b\b\b\b\b\b\b\b\b\b\b\b\b\b\b\b\b\b\b\b\b 51% - glove.6B.50d.txt\b\b\b\b\b\b\b\b\b\b\b\b\b\b\b\b\b\b\b\b\b\b\b                       \b\b\b\b\b\b\b\b\b\b\b\b\b\b\b\b\b\b\b\b\b\b\b 56% - glove.6B.50d.txt\b\b\b\b\b\b\b\b\b\b\b\b\b\b\b\b\b\b\b\b\b\b\b                       \b\b\b\b\b\b\b\b\b\b\b\b\b\b\b\b\b\b\b\b\b\b\b 62% - glove.6B.50d.txt\b\b\b\b\b\b\b\b\b\b\b\b\b\b\b\b\b\b\b\b\b\b\b                       \b\b\b\b\b\b\b\b\b\b\b\b\b\b\b\b\b\b\b\b\b\b\b 67% - glove.6B.50d.txt\b\b\b\b\b\b\b\b\b\b\b\b\b\b\b\b\b\b\b\b\b\b\b                       \b\b\b\b\b\b\b\b\b\b\b\b\b\b\b\b\b\b\b\b\b\b\b 73% - glove.6B.50d.txt\b\b\b\b\b\b\b\b\b\b\b\b\b\b\b\b\b\b\b\b\b\b\b                       \b\b\b\b\b\b\b\b\b\b\b\b\b\b\b\b\b\b\b\b\b\b\b 78% - glove.6B.50d.txt\b\b\b\b\b\b\b\b\b\b\b\b\b\b\b\b\b\b\b\b\b\b\b                       \b\b\b\b\b\b\b\b\b\b\b\b\b\b\b\b\b\b\b\b\b\b\b 84% - glove.6B.50d.txt\b\b\b\b\b\b\b\b\b\b\b\b\b\b\b\b\b\b\b\b\b\b\b                       \b\b\b\b\b\b\b\b\b\b\b\b\b\b\b\b\b\b\b\b\b\b\b 89% - glove.6B.50d.txt\b\b\b\b\b\b\b\b\b\b\b\b\b\b\b\b\b\b\b\b\b\b\b                       \b\b\b\b\b\b\b\b\b\b\b\b\b\b\b\b\b\b\b\b\b\b\b 95% - glove.6B.50d.txt\b\b\b\b\b\b\b\b\b\b\b\b\b\b\b\b\b\b\b\b\b\b\b                       \b\b\b\b\b\b\b\b\b\b\b\b\b\b\b\b\b\b\b\b\b\b\bEverything is Ok\n",
            "\n",
            "Size:       171350079\n",
            "Compressed: 57132207\n"
          ],
          "name": "stdout"
        }
      ]
    },
    {
      "cell_type": "code",
      "metadata": {
        "id": "fAIn5I20mjKB",
        "colab_type": "code",
        "colab": {
          "base_uri": "https://localhost:8080/",
          "height": 541
        },
        "outputId": "d1df8ea9-b290-4b78-90a3-50f1ddd2db26"
      },
      "source": [
        "!wget https://github.com/DevashishX/AbstractClustering/blob/master/glove.names.7z?raw=true; mv glove.names.7z?raw=true glove.names.7z; pwd; ls -alFh"
      ],
      "execution_count": 4,
      "outputs": [
        {
          "output_type": "stream",
          "text": [
            "--2020-02-22 18:20:45--  https://github.com/DevashishX/AbstractClustering/blob/master/glove.names.7z?raw=true\n",
            "Resolving github.com (github.com)... 140.82.114.3\n",
            "Connecting to github.com (github.com)|140.82.114.3|:443... connected.\n",
            "HTTP request sent, awaiting response... 302 Found\n",
            "Location: https://github.com/DevashishX/AbstractClustering/raw/master/glove.names.7z [following]\n",
            "--2020-02-22 18:20:45--  https://github.com/DevashishX/AbstractClustering/raw/master/glove.names.7z\n",
            "Reusing existing connection to github.com:443.\n",
            "HTTP request sent, awaiting response... 302 Found\n",
            "Location: https://raw.githubusercontent.com/DevashishX/AbstractClustering/master/glove.names.7z [following]\n",
            "--2020-02-22 18:20:45--  https://raw.githubusercontent.com/DevashishX/AbstractClustering/master/glove.names.7z\n",
            "Resolving raw.githubusercontent.com (raw.githubusercontent.com)... 151.101.0.133, 151.101.64.133, 151.101.128.133, ...\n",
            "Connecting to raw.githubusercontent.com (raw.githubusercontent.com)|151.101.0.133|:443... connected.\n",
            "HTTP request sent, awaiting response... 200 OK\n",
            "Length: 1594326 (1.5M) [application/octet-stream]\n",
            "Saving to: ‘glove.names.7z?raw=true’\n",
            "\n",
            "\rglove.names.7z?raw=   0%[                    ]       0  --.-KB/s               \rglove.names.7z?raw= 100%[===================>]   1.52M  --.-KB/s    in 0.09s   \n",
            "\n",
            "2020-02-22 18:20:46 (17.1 MB/s) - ‘glove.names.7z?raw=true’ saved [1594326/1594326]\n",
            "\n",
            "/content\n",
            "total 220M\n",
            "drwxr-xr-x 1 root root 4.0K Feb 22 18:20 ./\n",
            "drwxr-xr-x 1 root root 4.0K Feb 22 18:19 ../\n",
            "drwxr-xr-x 1 root root 4.0K Feb 19 17:12 .config/\n",
            "-rw-r--r-- 1 root root  55M Feb 22 18:20 glove.6B.50d.7z\n",
            "-rw-r--r-- 1 root root 164M Aug  4  2014 glove.6B.50d.txt\n",
            "-rw-r--r-- 1 root root 1.6M Feb 22 18:20 glove.names.7z\n",
            "drwxr-xr-x 1 root root 4.0K Feb  5 18:37 sample_data/\n"
          ],
          "name": "stdout"
        }
      ]
    },
    {
      "cell_type": "code",
      "metadata": {
        "id": "bOGJOImkmjGQ",
        "colab_type": "code",
        "colab": {
          "base_uri": "https://localhost:8080/",
          "height": 402
        },
        "outputId": "597fa190-7eaa-4c31-c49f-485e009eca2c"
      },
      "source": [
        "!7z e glove.names.7z"
      ],
      "execution_count": 5,
      "outputs": [
        {
          "output_type": "stream",
          "text": [
            "\n",
            "7-Zip [64] 16.02 : Copyright (c) 1999-2016 Igor Pavlov : 2016-05-21\n",
            "p7zip Version 16.02 (locale=en_US.UTF-8,Utf16=on,HugeFiles=on,64 bits,4 CPUs Intel(R) Xeon(R) CPU @ 2.30GHz (306F0),ASM,AES-NI)\n",
            "\n",
            "Scanning the drive for archives:\n",
            "  0M Scan\b\b\b\b\b\b\b\b\b         \b\b\b\b\b\b\b\b\b1 file, 1594326 bytes (1557 KiB)\n",
            "\n",
            "Extracting archive: glove.names.7z\n",
            "--\n",
            "Path = glove.names.7z\n",
            "Type = 7z\n",
            "Physical Size = 1594326\n",
            "Headers Size = 138\n",
            "Method = LZMA2:22\n",
            "Solid = -\n",
            "Blocks = 1\n",
            "\n",
            "  0%\b\b\b\b    \b\b\b\bEverything is Ok\n",
            "\n",
            "Size:       3356474\n",
            "Compressed: 1594326\n"
          ],
          "name": "stdout"
        }
      ]
    },
    {
      "cell_type": "code",
      "metadata": {
        "id": "9Y011VAXmi6L",
        "colab_type": "code",
        "colab": {}
      },
      "source": [
        ""
      ],
      "execution_count": 0,
      "outputs": []
    },
    {
      "cell_type": "code",
      "metadata": {
        "id": "RSGH1PTyZXsx",
        "colab_type": "code",
        "colab": {}
      },
      "source": [
        "#!/usr/bin/env python\n",
        "# -*- coding: utf-8 -*-\n",
        "\n",
        "from sklearn import cluster, datasets\n",
        "import numpy as np\n",
        "import json\n",
        "import sys\n",
        "import codecs\n",
        "# from nltk.corpus import wordnet\n",
        "from collections import defaultdict, Counter\n",
        "import matplotlib.pyplot as plt\n",
        "import matplotlib as mpl\n",
        "import os\n",
        "import gensim\n",
        "from gensim.models import KeyedVectors\n"
      ],
      "execution_count": 0,
      "outputs": []
    },
    {
      "cell_type": "code",
      "metadata": {
        "id": "3ou87VFsfqpX",
        "colab_type": "code",
        "colab": {}
      },
      "source": [
        "\n"
      ],
      "execution_count": 0,
      "outputs": []
    },
    {
      "cell_type": "code",
      "metadata": {
        "id": "WvKVL0Z8ZcUX",
        "colab_type": "code",
        "colab": {}
      },
      "source": [
        "mpl.rcParams['toolbar'] = 'None'\n",
        "\n",
        "wvmodel = None\n",
        "\n",
        "# make False to switch to wordvectors\n",
        "use_wordnet = False\n",
        "\n",
        "glovemodelFile = 'glove.6B.50d.txt'\n",
        "modelFile = \"convertedGlove.model\"\n",
        "\n",
        "cache = {}"
      ],
      "execution_count": 0,
      "outputs": []
    },
    {
      "cell_type": "code",
      "metadata": {
        "id": "fB17hBCggGmd",
        "colab_type": "code",
        "colab": {
          "base_uri": "https://localhost:8080/",
          "height": 89
        },
        "outputId": "2aa3f8fe-d2fc-44cb-85cf-4448d3b1a254"
      },
      "source": [
        "gensim.scripts.glove2word2vec.glove2word2vec(glovemodelFile, modelFile)"
      ],
      "execution_count": 8,
      "outputs": [
        {
          "output_type": "stream",
          "text": [
            "/usr/local/lib/python3.6/dist-packages/smart_open/smart_open_lib.py:402: UserWarning: This function is deprecated, use smart_open.open instead. See the migration notes for details: https://github.com/RaRe-Technologies/smart_open/blob/master/README.rst#migrating-to-the-new-open-function\n",
            "  'See the migration notes for details: %s' % _MIGRATION_NOTES_URL\n"
          ],
          "name": "stderr"
        },
        {
          "output_type": "execute_result",
          "data": {
            "text/plain": [
              "(400000, 50)"
            ]
          },
          "metadata": {
            "tags": []
          },
          "execution_count": 8
        }
      ]
    },
    {
      "cell_type": "code",
      "metadata": {
        "id": "PRlkJIKaZfJ9",
        "colab_type": "code",
        "colab": {}
      },
      "source": [
        "# def _mk_synset(w):\n",
        "#     #\n",
        "#     # turn cat.n.01 into the Synset object form\n",
        "#     #\n",
        "#     word = w.strip()\n",
        "#     if '.' in word:\n",
        "#         return wordnet.synset(word)\n",
        "#     else:\n",
        "#         print(' * Error, invalid synset name', w, 'skipping...')\n",
        "#         return None\n",
        "\n",
        "# def _mk_wv_word(s):\n",
        "#     #\n",
        "#     # turn wordnet Synset into word2vec word form\n",
        "#     #   e.g. cat.n.01 -> 'cat'\n",
        "#     #   e.g. free_trade.n.01 -> free-trade\n",
        "#     return s.lemmas()[0].name().replace('_', '-')"
      ],
      "execution_count": 0,
      "outputs": []
    },
    {
      "cell_type": "code",
      "metadata": {
        "id": "mz-YyW77ZiCp",
        "colab_type": "code",
        "colab": {}
      },
      "source": [
        "def load_tags(filename):\n",
        "    with codecs.open(filename, 'rb', 'utf-8') as tagfile:\n",
        "        lines = [line[:-1] for line in tagfile.readlines() if not line.startswith('#')]\n",
        "        print(lines)\n",
        "        # data = [_mk_synset(w) for w in lines if _mk_synset(w)]\n",
        "        # print(' *', 'loaded', len(data), 'wordnet senses,', len(lines) - len(data), 'rejected')\n",
        "        data = lines\n",
        "        print(\"loaded tags with length: \", len(data))\n",
        "        return data"
      ],
      "execution_count": 0,
      "outputs": []
    },
    {
      "cell_type": "code",
      "metadata": {
        "id": "99izysOhZkoq",
        "colab_type": "code",
        "colab": {}
      },
      "source": [
        "#\n",
        "# wordvectors similarity distance\n",
        "#\n",
        "\n",
        "def wv(w1, w2, t):\n",
        "    # lazy load the wordvector model...\n",
        "    global wvmodel\n",
        "    if wvmodel == None:\n",
        "        print(' *', 'loading wordvector model (', modelFile, ')...')\n",
        "        wvmodel = KeyedVectors.load_word2vec_format(modelFile, binary=False)\n",
        "        wvmodel.init_sims(replace=True)  # no more updates, prune memory\n",
        "\n",
        "    try:\n",
        "        #\n",
        "        # since we've got wordnet synset objects (like cat.n.01), we\n",
        "        # must turn this back into a regular word ('cat') because the\n",
        "        # word vector GloVe models are plain words with spaces turned\n",
        "        # into hyphens on phrases (e.g. climate-change, black-and-white)\n",
        "        #\n",
        "        # wv_w1, wv_w2 = _mk_wv_word(w1), _mk_wv_word(w2)\n",
        "        wv_w1, wv_w2 = w1, w2\n",
        "        distance = wvmodel.similarity(wv_w1, wv_w2)\n",
        "        return distance if abs(distance) >= t else 0\n",
        "    except:\n",
        "        return 0\n"
      ],
      "execution_count": 0,
      "outputs": []
    },
    {
      "cell_type": "code",
      "metadata": {
        "id": "tYiwEMYPZmqu",
        "colab_type": "code",
        "colab": {}
      },
      "source": [
        "# #\n",
        "# # wordnet wup similarity distance\n",
        "# #\n",
        "\n",
        "\n",
        "# def wup(w1, w2, t):\n",
        "#     distance = w1.wup_similarity(w2)\n",
        "#     if distance:\n",
        "#         if distance >= t:\n",
        "#             return distance\n",
        "#     return 0\n",
        "\n",
        "# #\n",
        "# # wordnet path similarity distancewv\n",
        "# #\n",
        "\n",
        "\n",
        "# def path(w1, w2, t):\n",
        "#     distance = w1.path_similarity(w2)\n",
        "#     if distance:\n",
        "#         if distance >= t:\n",
        "#             return distance\n",
        "#     return 0\n",
        "\n",
        "#\n",
        "# Normalized distance between any two words as represented\n",
        "# by wordnet synsets\n",
        "#\n"
      ],
      "execution_count": 0,
      "outputs": []
    },
    {
      "cell_type": "code",
      "metadata": {
        "id": "4pYpIhDUZskn",
        "colab_type": "code",
        "colab": {}
      },
      "source": [
        "def word_to_word_distance(w1, w2, t):\n",
        "    if w1 == w2:\n",
        "        return 1.0\n",
        "    else:\n",
        "        global cache\n",
        "        s = sorted([w1, w2])\n",
        "        x = (s[0], s[1])\n",
        "        if x in cache:\n",
        "            return cache[x]\n",
        "        else:\n",
        "            distances = []\n",
        "            # scale threshold between wm and wv\n",
        "            distances.append(wv(w1, w2, t / 2.5))\n",
        "            d = sum(distances) / len(distances)\n",
        "            cache[x] = d\n",
        "            return d\n",
        "\n",
        "\n",
        "def make_data_matrix(words, t):\n",
        "    print(\"Making Data Matrix\")\n",
        "    list_of_vectors = []\n",
        "    for word_x in words:\n",
        "        wordvector = []\n",
        "        for word_y in words:\n",
        "            wordvector.append(word_to_word_distance(word_x, word_y, t))\n",
        "        list_of_vectors.append(wordvector)\n",
        "\n",
        "    data = np.array(np.array(list_of_vectors))\n",
        "    labels = words\n",
        "    print(\"Data Matrix Done\")\n",
        "    return (data, labels)\n"
      ],
      "execution_count": 0,
      "outputs": []
    },
    {
      "cell_type": "code",
      "metadata": {
        "id": "-JvN1ArjaTSm",
        "colab_type": "code",
        "colab": {}
      },
      "source": [
        "def show_histogram(d):\n",
        "    plt.figure(figsize=(16,8))\n",
        "    c = {k: len(d[k]) for k in d.keys()}\n",
        "    bars, heights = zip(*c.items())\n",
        "    y_pos = range(len(bars))\n",
        "    plt.bar(y_pos, heights)\n",
        "    plt.xticks(y_pos, bars, rotation=90)\n",
        "    plt.show()"
      ],
      "execution_count": 0,
      "outputs": []
    },
    {
      "cell_type": "code",
      "metadata": {
        "id": "Hmu31ok-aVek",
        "colab_type": "code",
        "colab": {}
      },
      "source": [
        "def word_cluster(data, labels, k, show_histogram_plot=False):\n",
        "    print(\"Clustering...\")\n",
        "    k_means = cluster.KMeans(n_clusters=k)\n",
        "    k_means.fit(data)\n",
        "    print(\"k_means.fit(data) Done!\")\n",
        "\n",
        "    # for i, label in enumerate(labels):\n",
        "    #    print ' *', label, k_means.labels_[i]\n",
        "\n",
        "    d = defaultdict(list)\n",
        "    for c, l in zip(k_means.labels_, labels):\n",
        "        d['cluster' + str(c)].append(l)\n",
        "\n",
        "    fname = 'res'\n",
        "    fname += \"_wn\" if use_wordnet else \"_wv\"\n",
        "    fname += '_k' + str(k) + '.json'\n",
        "\n",
        "    with codecs.open(fname, 'wb', 'utf-8') as outfile:\n",
        "        print(\"Writing JSON\")\n",
        "        outfile.write(json.dumps(d, indent=True))\n",
        "        print(' * saved results to:', fname)\n",
        "        # create histogram of cluster sizes\n",
        "        if show_histogram_plot:\n",
        "            print(\"Show plot\")\n",
        "            show_histogram(d)"
      ],
      "execution_count": 0,
      "outputs": []
    },
    {
      "cell_type": "code",
      "metadata": {
        "id": "yw_VFbFWZ2Vc",
        "colab_type": "code",
        "outputId": "2cf59e6d-dcf5-4de7-8f3c-662e5a4f5162",
        "colab": {
          "base_uri": "https://localhost:8080/",
          "height": 211
        }
      },
      "source": [
        "f = \"glove.80.names.txt\"\n",
        "k = 100\n",
        "t = 0.7\n",
        "\n",
        "words = load_tags(f)\n",
        "\n",
        "print(' *', 'generating dataset...')\n",
        "data, labels = make_data_matrix(words, t)\n",
        "\n",
        "\n"
      ],
      "execution_count": 16,
      "outputs": [
        {
          "output_type": "stream",
          "text": [
            "['the', ',', '.', 'of', 'to', 'and', 'in', 'a', '\"', \"'s\", 'for', '-', 'that', 'on', 'is', 'was', 'said', 'with', 'he', 'as', 'it', 'by', 'at', '(', ')', 'from', 'his', \"''\", '``', 'an', 'be', 'has', 'are', 'have', 'but', 'were', 'not', 'this', 'who', 'they', 'had', 'i', 'which', 'will', 'their', ':', 'or', 'its', 'one', 'after', 'new', 'been', 'also', 'we', 'would', 'two', 'more', \"'\", 'first', 'about', 'up', 'when', 'year', 'there', 'all', '--', 'out', 'she', 'other', 'people', \"n't\", 'her', 'percent', 'than', 'over', 'into', 'last', 'some', 'government', 'time', '$', 'you', 'years', 'if', 'no', 'world', 'can', 'three', 'do', ';', 'president', 'only', 'state', 'million', 'could', 'us', 'most', '_', 'against', 'u.s.', 'so', 'them', 'what', 'him', 'united', 'during', 'before', 'may', 'since', 'many', 'while', 'where', 'states', 'because', 'now', 'city', 'made', 'like', 'between', 'did', 'just', 'national', 'day', 'country', 'under', 'such', 'second', 'then', 'company', 'group', 'any', 'through', 'china', 'four', 'being', 'down', 'war', 'back', 'off', 'south', 'american', 'minister', 'police', 'well', 'including', 'team', 'international', 'week', 'officials', 'still', 'both', 'even', 'high', 'part', 'told', 'those', 'end', 'former', 'these', 'make', 'billion', 'work', 'our', 'home', 'school', 'party', 'house', 'old', 'later', 'get', 'another', 'tuesday', 'news', 'long', 'five', 'called', '1', 'wednesday', 'military', 'way', 'used', 'much', 'next', 'monday', 'thursday', 'friday', 'game', 'here', '?', 'should', 'take', 'very', 'my', 'north', 'security', 'season', 'york', 'how', 'public', 'early', 'according', 'several', 'court', 'say', 'around', 'foreign', '10', 'until', 'set', 'political', 'says', 'market', 'however', 'family', 'life', 'same', 'general', '–', 'left', 'good', 'top', 'university', 'going', 'number', 'major', 'known', 'points', 'won', 'six', 'month', 'dollars', 'bank', '2', 'iraq', 'use', 'members', 'each', 'area', 'found', 'official', 'sunday', 'place', 'go', 'based', 'among', 'third', 'times', 'took', 'right', 'days', 'local', 'economic', 'countries', 'see', 'best', 'report', 'killed', 'held', 'business', 'west', 'does', 'own', '%', 'came', 'law', 'months', 'women', \"'re\", 'power', 'think', 'service', 'children', 'bush', 'show', '/', 'help', 'chief', 'saturday', 'system', 'john', 'support', 'series', 'play', 'office', 'following', 'me', 'meeting', 'expected', 'late', 'washington', 'games', 'european', 'league', 'reported', 'final', 'added', 'without', 'british', 'white', 'history', 'man', 'men', 'became', 'want', 'march', 'case', 'few', 'run', 'money', 'began', 'open', 'name', 'trade', 'center', '3', 'israel', 'oil', 'too', 'al', 'film', 'win', 'led', 'east', 'central', '20', 'air', 'come', 'chinese', 'town', 'leader', 'army', 'line', 'never', 'little', 'played', 'prime', 'death', 'companies', 'least', 'put', 'forces', 'past', 'de', 'half', 'june', 'saying', 'know', 'federal', 'french', 'peace', 'earlier', 'capital', 'force', 'great', 'union', 'near', 'released', 'small', 'department', 'every', 'health', 'japan', 'head', 'ago', 'night', 'big', 'cup', 'election', 'region', 'director', 'talks', 'program', 'far', 'today', 'statement', 'july', 'although', 'district', 'again', 'born', 'development', 'leaders', 'council', 'close', 'record', 'along', 'county', 'france', 'went', 'point', 'must', 'spokesman', 'your', 'member', 'plan', 'financial', 'april', 'recent', 'campaign', 'become', 'troops', 'whether', 'lost', 'music', '15', 'got', 'israeli', '30', 'need', '4', 'lead', 'already', 'russia', 'though', 'might', 'free', 'hit', 'rights', '11', 'information', 'away', '12', '5', 'others', 'control', 'within', 'large', 'economy', 'press', 'agency', 'water', 'died', 'career', 'making', '...', 'deal', 'attack', 'side', 'seven', 'better', 'less', 'september', 'once', 'clinton', 'main', 'due', 'committee', 'building', 'conference', 'club', 'january', 'decision', 'stock', 'america', 'given', 'give', 'often', 'announced', 'television', 'industry', 'order', 'young', \"'ve\", 'palestinian', 'age', 'start', 'administration', 'russian', 'prices', 'round', 'december', 'nations', \"'m\", 'human', 'india', 'defense', 'asked', 'total', 'october', 'players', 'bill', 'important', 'southern', 'move', 'fire', 'population', 'rose', 'november', 'include', 'further', 'nuclear', 'street', 'taken', 'media', 'different', 'issue', 'received', 'secretary', 'return', 'college', 'working', 'community', 'eight', 'groups', 'despite', 'level', 'largest', 'whose', 'attacks', 'germany', 'august', 'change', 'church', 'nation', 'german', 'station', 'london', 'weeks', 'having', '18', 'research', 'black', 'services', 'story', '6', 'europe', 'sales', 'policy', 'visit', 'northern', 'lot', 'across', 'per', 'current', 'board', 'football', 'ministry', 'workers', 'vote', 'book', 'fell', 'seen', 'role', 'students', 'shares', 'iran', 'process', 'agreement', 'quarter', 'full', 'match', 'started', 'growth', 'yet', 'moved', 'possible', 'western', 'special', '100', 'plans', 'interest', 'behind', 'strong', 'england', 'named', 'food', 'period', 'real', 'authorities', 'car', 'term', 'rate', 'race', 'nearly', 'korea', 'enough', 'site', 'opposition', 'keep', '25', 'call', 'future', 'taking', 'island', '2008', '2006', 'road', 'outside', 'really', 'century', 'democratic', 'almost', 'single', 'share', 'leading', 'trying', 'find', 'album', 'senior', 'minutes', 'together', 'congress', 'index', 'australia', 'results', 'hard', 'hours', 'land', 'action', 'higher', 'field', 'cut', 'coach', 'elections', 'san', 'issues', 'executive', 'february', 'production', 'areas', 'river', 'face', 'using', 'japanese', 'province', 'park', 'price', 'commission', 'california', 'father', 'son', 'education', '7', 'village', 'energy', 'shot', 'short', 'africa', 'key', 'red', 'association', 'average', 'pay', 'exchange', 'eu', 'something', 'gave', 'likely', 'player', 'george', '2007', 'victory', '8', 'low', 'things', '2010', 'pakistan', '14', 'post', 'social', 'continue', 'ever', 'look', 'chairman', 'job', '2000', 'soldiers', 'able', 'parliament', 'front', 'himself', 'problems', 'private', 'lower', 'list', 'built', '13', 'efforts', 'dollar', 'miles', 'included', 'radio', 'live', 'form', 'david', 'african', 'increase', 'reports', 'sent', 'fourth', 'always', 'king', '50', 'tax', 'taiwan', 'britain', '16', 'playing', 'title', 'middle', 'meet', 'global', 'wife', '2009', 'position', 'located', 'clear', 'ahead', '2004', '2005', 'iraqi', 'english', 'result', 'release', 'violence', 'goal', 'project', 'closed', 'border', 'body', 'soon', 'crisis', 'division', '&amp;', 'served', 'tour', 'hospital', 'kong', 'test', 'hong', 'u.n.', 'inc.', 'technology', 'believe', 'organization', 'published', 'weapons', 'agreed', 'why', 'nine', 'summer', 'wanted', 'republican', 'act', 'recently', 'texas', 'course', 'problem', 'senate', 'medical', 'un', 'done', 'reached', 'star', 'continued', 'investors', 'living', 'care', 'signed', '17', 'art', 'provide', 'worked', 'presidential', 'gold', 'obama', 'morning', 'dead', 'opened', \"'ll\", 'event', 'previous', 'cost', 'instead', 'canada', 'band', 'teams', 'daily', '2001', 'available', 'drug', 'coming', '2003', 'investment', '’s', 'michael', 'civil', 'woman', 'training', 'appeared', '9', 'involved', 'indian', 'similar', 'situation', '24', 'los', 'running', 'fighting', 'mark', '40', 'trial', 'hold', 'australian', 'thought', '!', 'study', 'fall', 'mother', 'met', 'relations', 'anti', '2002', 'song', 'popular', 'base', 'tv', 'ground', 'markets', 'ii', 'newspaper', 'staff', 'saw', 'hand', 'hope', 'operations', 'pressure', 'americans', 'eastern', 'st.', 'legal', 'asia', 'budget', 'returned', 'considered', 'love', 'wrote', 'stop', 'fight', 'currently', 'charges', 'try', 'aid', 'ended', 'management', 'brought', 'cases', 'decided', 'failed', 'network', 'works', 'gas', 'turned', 'fact', 'vice', 'ca', 'mexico', 'trading', 'especially', 'reporters', 'afghanistan', 'common', 'looking', 'space', 'rates', 'manager', 'loss', '2011', 'justice', 'thousands', 'james', 'rather', 'fund', 'thing', 'republic', 'opening', 'accused', 'winning', 'scored', 'championship', 'example', 'getting', 'biggest', 'performance', 'sports', '1998', 'let', 'allowed', 'schools', 'means', 'turn', 'leave', 'no.', 'robert', 'personal', 'stocks', 'showed', 'light', 'arrested', 'person', 'either', 'offer', 'majority', 'battle', '19', 'class', 'evidence', 'makes', 'society', 'products', 'regional', 'needed', 'stage', 'am', 'doing', 'families', 'construction', 'various', '1996', 'sold', 'independent', 'kind', 'airport', 'paul', 'judge', 'internet', 'movement', 'room', 'followed', 'original', 'angeles', 'italy', '`', 'data', 'comes', 'parties', 'nothing', 'sea', 'bring', '2012', 'annual', 'officer', 'beijing', 'present', 'remain', 'nato', '1999', '22', 'remains', 'allow', 'florida', 'computer', '21', 'contract', 'coast', 'created', 'demand', 'operation', 'events', 'islamic', 'beat', 'analysts', 'interview', 'helped', 'child', 'probably', 'spent', 'asian', 'effort', 'cooperation', 'shows', 'calls', 'investigation', 'lives', 'video', 'yen', 'runs', 'tried', 'bad', 'described', '1994', 'toward', 'written', 'throughout', 'established', 'mission', 'associated', 'buy', 'growing', 'green', 'forward', 'competition', 'poor', 'latest', 'banks', 'question', '1997', 'prison', 'feel', 'attention', 'themselves', 'firm', 'injured', 'itself', 'governor', 'movie', 'range', 'cross', 'track', 'programs', '1995', 'forced', 'includes', 'difficult', 'produced', 'wall', 'rebels', 'income', 'corp.', 'chance', 'elected', '23', 'reach', 'adding', 'species', 'wants', 'finished', 'rise', 'killing', 'spain', 'joined', 'italian', 'language', 'rest', 'serious', 'paris', 'tournament', 'officers', 'inside', 'scheduled', 'immediately', 'increased', 'brown', 'remained', 'parts', 'success', 'changes', 'la', 'residents', 'meanwhile', 'net', 'sides', 'jobs', 'hall', 'believed', 'olympic', 'deputy', 'records', 'heart', 'champion', 'award', 'planned', 'version', 'grand', 'institute', 'step', 'democrats', 'rule', 'labor', 'above', 'summit', 'sometimes', 'addition', 'raised', 'william', 'needs', '26', 'talk', 'longer', 'terms', 'rules', 'ruling', 'joint', 'ball', 'beginning', 'sure', '28', 'stay', 'safety', 'worth', 'charge', 'korean', 'begin', 'arab', '27', 'friends', 'anything', 'atlanta', 'caused', 'sources', 'sign', 'issued', 'armed', 'cents', 'funds', 'claimed', 'heavy', 'noted', 'parents', 'spending', 'e', 'related', 'offered', 'particularly', 'aircraft', 'whole', '60', 'authority', 'risk', 'cannot', 'matter', 'science', 'access', 'boston', 'conditions', 'details', 'coalition', 'compared', 'lee', 'break', 'turkey', 'daughter', 'natural', 'museum', 'strike', 'style', 'paid', 'rock', 'costs', 'view', 'usually', 'spanish', 'royal', 'travel', 'takes', 'books', 'smith', 'chicago', 'systems', 'arrived', 'hundreds', \"'d\", 'hour', 'response', 'developed', 'jones', 'potential', 'cause', 'value', 'idea', 'thomas', '&', 'professional', 'domestic', 'credit', 'changed', 'gaza', 'married', 'co.', 'launched', 'web', 'p.m.', 'muslim', 'source', 'everything', 'weekend', 'camp', 'quickly', 'owned', 'finance', 'palestinians', 'eventually', 'measures', 'cities', 'afp', 'blue', 'richard', 'starting', 'ready', 'plant', 'build', 'designed', 'certain', 'voters', 'modern', 'fans', 'commercial', 'bid', 'provided', 'constitution', 'dropped', 'brother', 'canadian', 'drive', 'goals', 'negotiations', 'affairs', 'unit', 'questions', 'significant', 'create', 'bomb', 'warned', 'religious', 'minute', 'figures', 'victims', 'condition', 'activities', 'upon', 'leaving', 'experience', '=', 'attorney', 'standard', 'proposed', 'intelligence', 'giving', 'hotel', 'finally', 'magazine', 'whom', 'experts', 'moving', 'quoted', 'baghdad', 'carried', 'feet', 'candidate', 'fifth', 'highest', 'lake', 'employees', 'sell', 'pacific', '31', 'mostly', 'reason', 'flight', 'square', 'overall', '1993', 'design', 'passed', 'focus', 'bay', 'dlrs', 'date', 'letter', '1992', 'wide', 'effect', 'charged', '29', 'phone', 'figure', 'attempt', 'claims', 'below', 'profit', '200', 'industrial', 'zealand', 'estimated', 'traditional', 'size', 'practice', 'cars', 'double', '2013', 'pass', 'hands', 'professor', 'student', 'concerns', 'refused', 'sector', 'review', 'homes', 'disease', 'kept', 'terrorism', 'online', 'speech', 'peter', 'culture', 'reform', 'founded', 'ordered', 'successful', 'arms', 'charles', 'conflict', 'limited', 'material', 'trip', 'property', 'paper', 'threat', 'seeking', 'concern', 'confirmed', '1991', 'plane', 'route', 'completed', 'jewish', 'williams', 'someone', 'hill', 'comment', 'numbers', 'ireland', 'taliban', 'huge', 'johnson', 'mayor', 'husband', '—', 'mass', 'lines', 'premier', 'soviet', 'cover', 'couple', 'positive', 'complete', 'non', 'republicans', 'mail', 'crime', 'moscow', 'brazil', '0', 'dr.', 'kilometers', 'stand', 'formed', 'seems', 'felt', 'separate', 'amid', 'stadium', 'singapore', 'speaking', 'hopes', 'leadership', 'emergency', 'declined', 'treatment', 'cabinet', 'tell', 'straight', 'tokyo', 'winner', 'ban', 'session', 'serve', 'progress', 'wo', 'ship', 'projects', 'independence', 'appointed', 'words', 'recorded', 'terrorist', 'christian', 'politics', 'studies', 'sense', 'plays', 'militants', 'holding', '500', 'regular', 'required', 'lawyer', 'word', 'debt', 'guard', 'wounded', 'candidates', 'assembly', 'expressed', 'character', 'pro', 'fuel', 'martin', 'supreme', 'broke', 'ministers', 'everyone', 'actually', 'equipment', 'additional', 'sept.', 'denied', '“', 'friend', 'features', 'levels', 'approved', 'greater', 'port', 'ethnic', 'status', 'primary', 'amount', '”', 'ways', 'ran', 'debate', 'model', 'decades', 'places', 'individual', 'festival', 'previously', 'join', 'w.', 'insurance', 'goes', 'impact', 'urged', 'heard', 'placed', 'centre', 'illegal', 'fired', 'indonesia', 'damage', 'responsible', 'message', 'baseball', 'ties', 'true', 'originally', 'challenge', 'prevent', 'filed', 'captain', 'entire', 'supporters', 'blood', '1990', 'territory', 'housing', 'valley', 'product', 'conservative', 'van', 'earnings', 'proposal', 'protection', 'read', 'foundation', 'el', 'search', 'names', 'train', 'discuss', 'perhaps', 'journal', 'raise', 'murder', 'address', 'operating', 'olympics', 'deep', 'settlement', 'simply', 'nearby', 'relationship', 'cash', 'alone', 'hamas', 'laws', 'target', 'analyst', 'buildings', 'newspapers', 'lack', 'consumer', 'direct', 'twice', 'self', 'beach', 'zone', 'songs', 'scene', 'communist', 'afternoon', 'units', 'necessary', 'navy', 'quality', 'sound', 'protect', 'spring', 'missing', 'criminal', 'speed', 'confidence', 'selling', 'beyond', 'software', 'democracy', 'francisco', 'section', 'matches', 'basis', 'knew', 'suicide', 'resolution', 'calling', 'remaining', 'gone', 'powerful', 'losing', 'account', 'votes', 'georgia', 'god', 's', 'commander', 'euro', 'rising', 'catholic', 'opportunity', 'resources', 'writer', 'awards', 'expect', 'anyone', 'send', 'active', 'claim', 'suffered', 'alleged', 'alliance', 'host', 'declared', 'injury', 'type', 'planning', 'b', 'environment', 'sites', 'protest', 'drop', 'suggested', 'stories', 'sale', 'headquarters', 'rebel', 'avoid', 'improve', 'consider', 'stars', 'citizens', 'attended', 'currency', 'generally', 'appeal', 'older', 'vietnam', 'lived', 'seats', 'happened', 'thus', 'incident', 'ap', 'floor', 'largely', 'x', 'developing', 'approach', 'films', 'mike', 'historic', 'businesses', 'era', 'gained', 'bit', 'tough', 'traffic', 'inflation', 'egypt', 'telephone', 'moment', 'winter', 'suspected', 'drugs', 'debut', 'fast', 'boy', 'worst', 'km', 'railway', 'arrest', 'mountain', 'store', 'famous', 'tom', 'patients', '70', 'championships', 'reserve', 'carry', 'weather', 'thailand', 'greek', 'concerned', 'finish', 'command', 'critical', 'hot', 'lebanon', 'channel', 'census', 'houses', 'female', 'seat', 'vehicles', 'spread', 'aimed', 'freedom', 'medal', 'saddam', 'losses', 'bridge', 'representatives', 'saudi', 'co', '80', 'supply', 'cancer', 'turkish', 'writing', 'appear', 'revenue', 'decade', 'receive', 'score', 'fear', 'securities', 'ability', 'appears', 'crimes', 'retired', 'customers', 'sun', 'becoming', 'champions', 'gulf', 'gets', 'virginia', 'corporate', 'introduced', 'academy', 'particular', 'survey', 'easy', 'mainly', 'choice', 'mind', 'hearing', '35', 'add', 'reduce', 'directed', 'replaced', 'native', 'assistant', 'arts', 'seconds', 'crowd', 'complex', 'quite', 'poland', 'entered', 'dutch', 'responsibility', 'crew', 'fine', 'pounds', 'environmental', 'subject', 'organizations', 'jersey', 'kosovo', 'mean', 'serving', 'cultural', 'ten', 'seemed', 'draw', 'bus', 'yards', 'cuts', 'produce', 'ask', 'voice', 'degree', 'author', 'watch', 'lawyers', 'ice', 'legislation', 'collection', 'presence', 'shown', 'listed', 'critics', 'rejected', 'else', 'rich', 'offers', 'influence', 'ruled', 'governments', 'stations', 'soccer', 'shooting', 'arafat', 'streets', 'draft', 'evening', 'sex', 'grew', 'bodies', 'policies', 'afghan', 'editor', 'rival', 'nature', 'strategy', '1989', 'girl', 'jordan', 'happy', 'giant', 'save', 'jackson', 'wing', 'prosecutors', 'identified', 'larger', 'article', 'optional', 'sri', 'seek', 'bombing', 'managed', 're', 'sought', 'standing', 'doctors', 'measure', 'earned', 'gmt', 'rural', 'fellow', 'sanctions', 'bought', 'smaller', 'contributed', 'owner', 'secret', 'carrying', 'prince', 'treaty', 'launch', 'cast', 'a.m.', 'highly', 'civilians', 'basketball', 'performed', 'develop', 'fair', 'interior', 'henry', 'lawmakers', 'prepared', 'malaysia', 'wrong', 'tests', 'widely', 'serb', 'table', 'bureau', 'looked', 'spokeswoman', 'committed', 'rally', 'supported', 'ambassador', 'spoke', 'ensure', 'towards', 'note', 'kids', 'headed', 'documents', 'follow', 'bosnia', 'rice', 'super', '45', 'stopped', 'carolina', 'directly', 'initial', 'relief', 'yuan', 'continues', 'earth', 'gives', 'activity', 'polls', 'bc', 'louis', 'corruption', 'picture', 'storm', 'backed', 'irish', 'interests', 'refugees', 'defeat', 'sen.', 'islands', 'initially', 'spot', 'bond', 'embassy', 'agencies', 'swiss', 'request', 'standards', 'estate', 'trust', 'ceremony', '300', 'guy', 'fully', 'occurred', 'kingdom', 'shortly', 'iranian', 'bob', 'accept', 'c', 'diplomatic', 'cold', 'signs', 'facilities', 'struck', 'discovered', 'contact', 'regime', 'airlines', '1,000', 'youth', 'safe', 'penalty', 'transport', 'follows', 'marriage', 'maybe', 'appearance', 'highway', 'millions', 'gain', '90', 'poll', 'door', 'threatened', 'wins', 'silver', 'passengers', 'scott', 'rescue', 'lose', 'apparently', 'exports', 'showing', 'failure', 'increasing', 'talking', 'specific', 'fresh', 'card', 'sixth', 'understand', 'vehicle', 'panel', 'latin', 'refer', 'r', 'items', 'benefits', 'seem', 'partner', 'kill', 'communications', 'broadcast', 'faces', 'protests', 'caught', 'pretty', 'presented', 'setting', 'driver', 'steve', 'happen', 'capacity', 'fed', 'box', '65', 'stores', 'deaths', 'davis', 'sport', 'prize', 'boost', 'producer', 'comments', 'goods', 'ford', 'episode', 'decline', 'immediate', 'ending', 'girls', 'bonds', 'climate', 'orders', 'destroyed', 'awarded', 'provides', 'defeated', 'bosnian', 'brothers', 'roman', 'via', 'conducted', 'image', 'accident', 'criticism', 'mary', 'block', 'c.', 'heat', 'push', 'agent', 'd', 'joseph', 'actions', 'massive', 'structure', 'normal', 'terror', 'warning', 'worldwide', 'advanced', 'featured', 'advantage', 'convention', 'southeast', 'plants', 'respect', 'joe', 'positions', 'approval', 'heads', 'farm', 'pennsylvania', '1988', 'bowl', 'ohio', 'm', 'meetings', 'mr.', 'prior', 'reasons', 'houston', 'novel', 'cox', 'ones', 'assets', 'sister', 'extra', 'crash', 'voted', 'basic', 'slightly', 'recovery', 'assistance', 'steps', 'covered', 'jerusalem', 'studio', 'jim', 'controlled', 'kim', 'actor', 'gun', 'meters', 'intended', 'linked', 'allowing', 'offensive', 'spend', 'technical', 'euros', 'eds', 'numerous', 'loans', 'driving', 'certainly', 'institutions', 'consumers', 'syria', 'opposed', 'effective', 'sweden', 'argentina', 'holds', 'promised', 'hits', 'representative', 'location', 'entertainment', 'uk', 'feature', 'advance', 'slow', 'acting', 'individuals', 'audience', 'captured', 'uses', 'attend', 'clearly', 'faced', 'microsoft', 'mccain', 'queen', 'forest', 'races', 'tony', 'generation', 'pick', 'providing', 'journalists', 'dozen', 'bar', 'frank', 'overseas', 'volume', 'federation', 'dispute', 'personnel', 'combat', 'except', 'combined', 'missile', 'j.', 'golf', 'doctor', 'package', 'admitted', 'affected', 'extended', 'offices', 'hurt', 'announcement', 'eye', 'injuries', 'minor', 'background', 'nor', 'facing', 'deficit', 'stood', 'fort', 'decide', 'engine', 'artists', 'chris', 'agents', 'civilian', 'meant', 'fox', 'greece', 'mexican', 'represented', 'waiting', 'offering', 'organized', 'increasingly', 'cell', 'effects', 'helping', 'accepted', 'seasons', 'executives', 'fish', 'scale', 'boys', 'ali', 'solution', 'none', 'prisoners', 'approximately', 'banking', 'taxes', 'visited', 'artist', 'missed', 'unless', 'a.', 'convicted', 'philippines', 'agree', 'strip', 'parliamentary', 'tennis', 'voting', 'notes', 'attacked', 'adds', 'scoring', 'looks', 'simple', 'musical', 'foot', 'digital', 'gains', '1980s', 'characters', 'scientists', 'stone', 'miami', 'reduced', 'raising', 't', 'steel', 'benefit', 'cricket', 'powers', 'promote', 'variety', 'opinion', 'fears', 'answer', 'internal', 'task', 'massachusetts', 'liberal', 'guilty', 'strength', 'possibility', 'materials', 'determined', 'onto', 'christmas', 'jack', 'adopted', 'gore', 'physical', 'page', 'reading', 'allies', 'oct.', 'maintain', 'accounts', 'partners', 'direction', 'cuba', 'buying', 'trouble', 'mixed', 'allegations', 'xinhua', 'knows', 'speak', 'leaves', 'philadelphia', 'defence', 'arizona', 'divided', 'shanghai', 'innings', 'congressional', 'willing', 'dozens', 'edge', 'windows', 'firms', 'senator', 'miss', 'completely', 'pope', 'farmers', 'upper', 'plot', 'putting', 'sexual', 'regions', 'relatively', 'dec.', 'mid', 'singer', 'urban', 'owners', 'library', 'jr.', 'leg', 'baby', 'communities', 'northwest', 'finals', 'jan.', 'dark', 'netherlands', 'aids', 'vs.', 'crude', 'neither', 'profits', 'pulled', 'historical', '32', 'returning', 'theater', 'removed', 'commissioner', 'eyes', 'immigration', 'marketing', 'michigan', 'investigators', '1990s', 'reforms', 'plus', 'fought', 'kansas', 'dance', 'suspended', 'racing', 'loan', 'continuing', 'marine', 'heavily', 'transportation', 'junior', 'funding', 'hear', 'learned', 'permanent', 'grow', 'keeping', 'begins', '1986', 'thai', 'demands', 'code', 'believes', 'unable', 'surface', 'guys', 'legislative', 'supplies', 'serbs', 'split', 'jail', 'hollywood', 'chemical', 'dangerous', 'flights', 'poverty', 'agriculture', 'distance', 'kennedy', 'rain', 'prominent', 'finding', 'meaning', 'commerce', 'sets', 'weekly', 'bin', 'nigeria', 'row', 'fields', 'airline', 'visitors', 'switzerland', 'czech', 'stated', 'theory', 'hussein', 'shots', 'therefore', 'singles', 'closing', 'views', 'broken', 'enter', 'male', 'require', '400', 'coverage', 'squad', '1987', 'pakistani', 'suspects', 'falling', 'holiday', 'difference', 'master', 'focused', 'existing', 'criticized', 'improved', 'ships', 'flying', 'abu', 'minority', 'nov.', 'decisions', 'lies', 'expansion', 'fighters', 'rare', 'anniversary', 'medicine', 'stability', 'administrative', 'atlantic', 'hockey', 'blamed', 'blair', 'die', 'machine', 'ancient', 'insisted', 'fly', 'jose', 'politicians', 'grant', 'piece', 'creating', 'ranked', 'learn', 'detroit', 'lord', 'electric', 'mobile', 'younger', 'involving', 'check', 'links', 'boat', 'cable', 'alexander', 'marked', 'statistics', 'wild', 'starts', 'honor', 'walk', 'closer', 'determine', 'stake', 'bottom', 'leads', 'officially', 'classic', 'jean', 'bringing', 'disaster', 'usa', 'transfer', 'mine', 'argued', 'closely', 'neighborhood', 'delegation', 'reaching', 'v', 'strategic', 'scotland', 'easily', 'pace', 'treasury', 'golden', 'urgent', 'thinking', 'forms', 'zimbabwe', 'allows', 'jury', 'drew', 'colorado', 'fbi', 'seventh', 'explosion', 'sentence', 'fiscal', 'gay', 'witnesses', 'blast', 'metal', 'count', 'ukraine', 'animals', 'clean', 'write', 'contains', 'egyptian', 'expectations', 'seized', 'courts', '1984', 'qaida', 'scientific', 'ends', 'abuse', 'selected', 'attempts', 'handed', 'revealed', 'serbia', 'hoped', 'tech', 'branch', 'replace', 'miller', 'speaker', '1980', 'facility', 'visiting', 'percentage', 'tourism', 'movies', 'lanka', 'brief', 'becomes', 'clubs', 'chen', 'sydney', 'columbia', 'export', 'surgery', 'dialogue', 'consecutive', 'madrid', 'wait', 'analysis', 'tons', 'municipality', 'referred', 'tracks', 'moves', 'muslims', 'unemployment', 'soldier', 'engineering', 'provincial', 'towns', 'taylor', 'wind', 'color', 'alternative', 'knowledge', 'pictures', 'screen', 'edition', 'toll', 'retirement', '1985', 'theatre', 'clients', 'pilot', 'berlin', 'enforcement', 'commitment', 'purchase', 'newly', 'dow', 'electronic', 'howard', 'woods', 'suspect', 'tied', 'wales', 'avenue', 'abroad', 'teacher', 'limit', 'balance', 'seriously', 'opponents', 'feeling', 'detained', 'memorial', 'protesters', 'downtown', 'presidency', 'banned', 'revolution', 'toronto', 'distribution', 'violent', 'picked', 'brand', 'turning', 'reality', 'palace', 'supporting', 'fashion', 'suit', 'acts', 'ms.', 'roads', 'connection', 'broad', 'interested', 'considering', 'favor', 'mainland', 'severe', '150', 'sharon', 'acknowledged', 'm.', 'restaurant', 'empire', 'advertising', 'campus', 'weight', 'seattle', 'website', 'referring', 'remarks', 's.', 'ocean', 'teachers', 'negative', 'pop', 'doubt', 'granted', 'friendly', 'reportedly', 'pair', 'venture', 'drawn', 'myanmar', 'forum', 'testing', 'truck', '33', 'stands', 'cutting', 'sentenced', '1970s', 'shiite', 'quick', 'marks', 'veteran', 'duty', 'mile', 'everybody', 'daniel', 'users', 'possibly', 'villages', 'northeast', 'democrat', 'anonymity', 'posted', 'titles', 'immigrants', 'sort', 'studied', 'traded', 'writers', '1979', 'corner', 'importance', 'greatest', '10,000', 'birth', 'industries', 'overnight', 'temple', 'ex', 'auto', 'polish', 'reaction', 'perfect', 'sudan', 'establish', 'rome', 'asking', 'allegedly', 'core', 'elements', '36', 'lewis', 'falls', 'express', 'conduct', 'manufacturing', 'activists', 'constitutional', 'andrew', 'bird', 'unlike', 'researchers', 'forecast', 'electricity', 'garden', 'indicated', '1/2', 'austria', 'watching', 'snow', 'pushed', 'elsewhere', 'retail', '1983', 'arm', 'repeatedly', 'suffering', 'invasion', 'struggle', 'nfl', 'length', 'tree', 'flu', 'indonesian', '75', 'schedule', 'wilson', 'seeing', 'surprise', 'stephen', 'ben', 'sharp', 'resistance', 'targets', 'secure', 'tie', 'santa', 'photos', 'kenya', 'discussed', 'letters', 'scandal', 'creation', 'delay', 'holy', 'operated', 'sending', 'corporation', 'typically', 'founder', 'recording', 'whatever', '1982', 'wave', 'households', 'brazilian', 'dominated', 'weak', 'dallas', 'drama', '1st', 'animal', 'destruction', 'st', 'tourists', 'aug.', 'sir', 'models', 'edward', 'contracts', 'filled', 'li', 'jews', 'favorite', 'rugby', 'extremely', 'paying', 'hoping', 'memory', 'terrorists', 'treated', 'faith', 'remember', 'shut', 'humanitarian', 'hurricane', 'shared', 'ideas', 'registered', 'gen.', 'surrounding', 'formal', 'apart', 'factory', 'putin', 'assault', 'eighth', 'defending', 'damaged', 'fled', 'accord', 'prosecutor', 'fraud', 'southwest', 'maker', 'differences', 'cited', 'virus', 'learning', 'powell', 'entry', 'centers', 'truth', 'receiving', 'indeed', 'represents', 'proved', 'otherwise', 'delivered', 'wood', 'mountains', 'pieces', 'output', 'pentagon', 'wearing', 'saint', 'wine', 'chances', '34', 'delivery', 'colombia', 'demanded', '2nd', '.....', 'content', 'diego', 'rep.', 'worse', 'yes', 'strongly', 'cells', 'feb.', 'scores', 'milan', 'planes', 'arabia', 'options', 'acquired', 'controversial', 'notable', 'imposed', 'militant', 'expand', 'mount', 'collapse', 'brian', 'passenger', 'lady', 'swedish', 'judges', 'minnesota', 'begun', 'exactly', 'compete', 'membership', 'electoral', 'purpose', 'multiple', 'computers', 'changing', 'agenda', 'satellite', 'resort', 'chosen', 'flag', 'nba', 'naval', 'passing', '44', 'trim', 'peaceful', 'academic', 'trees', 'networks', 'path', 'norway', 'defensive', 'telling', 'motor', '[', 'returns', 'politician', 'opportunities', 'prove', 'del', 'text', 'religion', 'primarily', 'opera', 'grade', 'serves', 'citing', 'tradition', 'supposed', 'patrick', 'beating', 'corps', 'comedy', 'understanding', 'yellow', 'kevin', 'settled', 'grown', 'glass', 'philippine', 'croatia', '------', 'strikes', 'expanded', 'chain', 'file', 'shop', 'agricultural', 'yesterday', 'link', 'dealers', 'invited', 'recognized', 'le', 'lebanese', 'districts', 'causing', 'frequently', 'horse', 'involvement', 'dismissed', 'expects', 'threats', 'bishop', 'display', 'achieve', 'types', 'represent', 'fleet', 'waters', 'manchester', 'buried', 'document', '6-3', 'partnership', 'illinois', 'guns', 'estimates', 'initiative', 'updates', 'bills', 'actress', 'category', 'crucial', 'driven', 'concluded', 'dream', 'values', 'giants', '1981', 'abbas', 'lay', 'pain', 'bilateral', 'relatives', 'yeltsin', 'fun', 'iron', 'gm', 'neighboring', 'ultimately', 'applied', 'netanyahu', 'sons', 'bell', 'programme', 'coup', 'nationwide', 'bangladesh', 'laden', 'turns', '6-4', 'expensive', 'legislature', 'breaking', 'hole', 'contained', 'dog', 'cards', 'enemy', 'appeals', 'ring', 'yugoslavia', 'kerry', 'pull', 'signing', 'tower', 'option', 'expert', 'herself', 'portion', 'deals', 'pre', 'competitive', 'spirit', 'laid', 'winners', 'gathered', 'bombings', 'stressed', 'unknown', 'contest', 'infrastructure', 'manhattan', 'phase', '1972', 'brain', 'ad', 'proposals', 'exercise', '38', 'behavior', 'labour', 'worried', 'antonio', 'maximum', 'principal', 'tehran', 'requires', 'escape', 'tells', 'aside', '1975', '1974', '20th', 'monetary', 'belgium', '1976', 'alive', 'reference', 'recession', 'publicly', 'flow', 'salt', 'flat', 'theme', 'khan', 'concept', 'statements', 'borders', '1960s', 'widespread', '37', 'township', 'unlikely', 'stronger', 'sitting', 'apartment', 'respectively', '48', 'employment', 'challenges', 'occupied', 'mm', 'predicted', 'identity', 'pledged', 'unique', 'label', 'choose', 'pointed', 'portugal', '1978', '1967', 'shopping', 'ray', 'israelis', 'athletes', 'hair', 'confident', 'rivals', 'dan', 'welfare', 'degrees', 'achieved', 'equal', 'benchmark', 'household', 'withdrawal', 'remove', 'walked', 'shape', 'concert', '2,000', 'appearances', 'rocket', 'lawsuit', 'circuit', 'survived', 'reporter', '19th', 'emerging', 'discussions', 'mentioned', 'bronze', 'ltd.', 'bear', 'mutual', 'factor', 'struggling', 'venezuela', 'wake', 'solid', 'danger', 'motion', 'increases', '100,000', 'hired', 'writes', 'ninth', 'milosevic', 'hills', 'platform', 'iii', 'images', 'resume', 'dole', 'transferred', 'alongside', '55', 'drivers', 'resulted', '’', 'matters', 'diplomats', 'e.', 'yankees', 'castle', 'references', 'median', 'hundred', 'ah', 'futures', 'nice', 'vast', 'bombs', 'municipal', 'abc', 'rail', 'rangers', 'coal', 'islam', 'hospitals', 'bbc', 'participate', 'camps', 'regulations', 'nbc', 'imports', 'pitch', 'chart', 'carlos', 'explained', 'representing', 'en', 'investments', 'aviation', 'jump', 'casualties', 'profile', 'sees', 'exhibition', 'trained', 'bigger', 'payments', 'subsequently', 'peak', 'clashes', 'earthquake', 'ill', 'photo', 'crown', 'tensions', 'victim', 'morgan', 'thanks', 'producing', 'journalist', 'wang', 'maintained', 'wars', 'fit', 'temporary', 'deadly', 'perform', 'helicopter', 'formerly', 'watched', 'function', 'vision', '42', 'resigned', 'hitting', 'skills', 'welcome', 'mohammed', 'classes', 'tim', 'reputation', 'limits', 'producers', 'kuwait', 'recalled', 'fame', 'obtained', 'guards', 'emerged', 'mrs.', 'establishment', 'causes', 'unions', 'referendum', 'catch', 'sit', 'stayed', 'fishing', 'inches', '1.5', 'latter', 'purchased', 'fewer', '1945', 'performances', 'nomination', 'impossible', 'teaching', 'liberation', 'merger', '1968', 'tight', 'tobacco', 'carter', 'attempted', 'traders', 'abandoned', 'missiles', 'medium', 'drove', 'controversy', 'allen', 'operate', 'lowest', 'sugar', 'resolve', 'grounds', 'affect', '64', 'chamber', 'aware', 'directors', 'hezbollah', 'orange', '1970', 'oh', 'ongoing', 'juan', 'disney', 'agreements', 'responded', 'roughly', 'envoy', 'biography', 'adviser', 'ahmed', 'economist', 'palm', 'harry', 'pool', 'unusual', 'elizabeth', 'worker', 'ranking', 'inspired', 'patient', 'sat', 'mining', 'rating', 'contemporary', '1973', 'defend', 'boeing', 'moderate', 'deadline', 'tank', 'instance', 'jets', 'column', 'visits', 'reporting', 'dedicated', 'recovered', 'advice', 'method', 'joining', 'arrival', 'connected', 'dean', 'striker', 'anderson', 'signal', 'practices', 'application', 'shift', 'restrictions', 'testimony', 'jeff', 'touch', 'males', 'christopher', 'shareholders', 'promoted', 'pushing', 'myself', 'covers', 'organisation', 'athens', 'sam', 'alan', 'fan', 'b.', 'kashmir', 'papers', 'failing', 'device', 'clark', 'featuring', 'recognition', 'maria', '1977', '+', 'preparing', 'broadcasting', 'jazz', 'trillion', 'birds', 'fallen', 'threw', 'cbs', 'trend', 'gross', 'dry', 'literature', 'nobody', 'apple', 'tiny', 'assigned', 'discussion', 'colleagues', 'provinces', 'prepare', 'counter', 'romania', 'roll', 'gordon', 'iowa', 'sox', 'healthy', 'cia', 'monthly', 'experienced', 'gap', 'applications', 'minimum', 'warner', 'contrast', 'adult', 'blow', 'don', 'ticket', 'trains', 'rooms', 'unity', 'eric', 'consists', 'taught', 'entering', '6-2', 'cleveland', 'reserves', 'stable', 'promise', 'dinner', 'duke', 'harvard', 'raid', 'tries', 'stepped', 'regarding', 'easier', 'soft', 'heading', 'governing', 'virtually', 'ride', 'risks', 'controls', 'pm', 'meets', 'bankruptcy', 'delayed', 'performing', 'resignation', 'scottish', 'yield', 'serbian', 'roles', 'factors', 'engaged', 'gates', 'discovery', 'equity', 'respond', 'kick', 'gov.', 'parish', 'secondary', 'passes', 'beautiful', 'occupation', 'chavez', 'targeted', 'simon', 'happens', 'guide', 'participants', 'institution', 'throw', 'barack', 'moon', 'demanding', '5,000', 'finds', 'sharply', 'repeated', 'contributions', 'denmark', 'questioned', 'iraqis', 'cook', 'capture', 'syrian', 'extensive', 'lift', 'explain', 'dramatic', 'amendment', '1969', 'cuban', 'insurgents', 'combination', 'h.', 'angry', 'barrel', 'appropriate', '39', 'seed', 'educational', 'formula', 'd.', 'observers', 'managing', 'g', 'walls', 'radical', '1971', 'obviously', 'denver', 'vowed', 'composed', 'females', 'suggest', 'p', 'qualifying', 'guest', 'jet', 'coffee', 'austin', 'manufacturers', 'cease', 'capable', 'bases', 'speculation', 'deliver', 'managers', 'wear', 'publication', 'socialist', 'handle', 'dealing', 'las', 'tourist', 'annan', 'owns', 'briefly', 'landing', 'formally', 'gary', '41', 'fixed', 'oldest', 'priority', 'jumped', 'cool', 'racial', 'window', 'aboard', 'heritage', 'apparent', 'knee', 'd.c.', 'extend', 'rounds', 'devices', 'entirely', 'investigating', 'map', 'backing', 'deployed', 'wish', 'scenes', 'r.', 'estimate', 'complained', 'effectively', 'patrol', 'tamil', 'suggests', 'register', '3,000', 'familiar', 'abortion', 'properties', 'interim', 'graduate', 'carrier', 'regularly', 'reduction', 'custody', 'gathering', 'format', 'aged', 'praised', 'promotion', 'chose', 'talent', 'tested', 'graduated', 'stuff', 'taipei', 'circumstances', 'witness', 'chile', '43', 'rapid', 'arena', 'desire', 'sky', 'hosted', 'cyprus', 'seoul', 'aim', 'fighter', 'prompted', 'ryan', 'remote', 'aggressive', 'apply', 'trail', 'q', 'usual', 'solo', 'normally', 'gop', 'unchanged', 'false', 'y', 'tropical', 'walking', 'masters', 'creek', 'methods', 'formation', 'compensation', 'anthony', 'crossing', 'camera', 'outstanding', 'resulting', 'cd', 'tennessee', 'cap', 'contain', 'sensitive', 'significantly', 'concrete', 'sponsored', 'neighbors', 'partly', 'warm', 'def', 'stewart', 'articles', 'oklahoma', 'fees', 'surprised', 'collected', 'delegates', 'quake', 'participation', 'coastal', 'identify', 'nelson', 'sharing', 'versions', 'monitoring', 'encourage', 'specifically', 'tiger', 'accounting', 'improving', 'abdullah', 'actual', 'defender', 'communication', 'nominated', 'adults', '600', 'pittsburgh', 'caribbean', 'portuguese', 'emperor', 'orleans', 'halt', 'peninsula', 'streak', 'globe', 'diplomat', 'ease', 'languages', 'worry', 'maryland', 'barrels', 'upset', 'strengthen', 'playoff', 'norwegian', 'preliminary', 'successfully', 'trucks', 'improvement', 'universal', 'origin', 'deeply', 'behalf', 'intense', 'exist', 'pound', 'besides', 'talked', 'phoenix', 'sunni', 'accompanied', 'mental', 'tribunal', 'qaeda', 'restore', 'probe', 'declaration', '47', 'participated', 'albums', 'troubled', 'delta', 'settle', 'eat', 'compromise', 'inning', 'hiv', 'outcome', 'enterprises', '1964', '10th', 'waste', 'complaints', 'stanley', 'mix', 'blocked', 'blame', 'ballot', 'copies', 'alert', 'tickets', 'cargo', '46', 'indiana', 'hero', 'inspectors', 'arsenal', 'distributed', 'publishing', 'survivors', 'aides', 'barcelona', 'gunmen', 'advisory', 'claiming', 'revenues', 'imf', 'athletic', 'ally', 'commonly', 'mortgage', 'succeeded', 'savings', 'helps', 'detention', 'faster', '250', 'substantial', 'l.', 'transition', 'pan', 'broader', 'liverpool', 'victoria', 'economics', 'popularity', 'quarterback', 'veterans', 'singh', 'requirements', 'baltimore', 'underground', 'typical', 'employee', 'winds', 'economists', 'traveling', 'drawing', 'gang', 'reviews', '1960', 'unclear', 'selection', 'scheme', 'churches', 'ceo', 'f.', 'absence', 'residence', 'resident', 'tens', 'simpson', 'reception', 'opponent', 'arrive', 'militia', 'congo', 'pilots', 'flood', 'suddenly', 'enjoy', 'flew', 'painting', 'genus', 'sweet', 'entitled', 'condemned', 'railroad', 'finishing', 'electronics', 'essential', 'regarded', 'notably', 'handling', 'roger', '52', 'defined', 'attending', 'pages', 'ratings', 'harris', 'desert', 'crashed', 'coaches', 'proper', 'welcomed', 'developments', 'departure', 'thompson', 'restaurants', 'composite', 'hosts', 'quiet', 'interviews', 'equivalent', 'jason', 'machines', 'fat', 'universities', 'beaten', 'cape', 'external', 'locations', 'editorial', 'plastic', 'kelly', 'kurdish', 'narrow', 'string', 'nepal', 'inter', 'robinson', 'designated', 'andy', '1965', 'bound', 'prosecution', 'boss', 'moore', 'covering', 'revolutionary', 'occur', 'gasoline', 'margin', 'extension', 'tampa', 'judicial', 'lieutenant', 'telecommunications', 'somewhat', '¥', 'editors', 'comprehensive', 'offense', 'tigers', '800', 'makers', 'supports', 'constructed', 'kabul', 'humans', 'alex', 'parent', 'opposite', 'existence', '1966', 'magic', 'funeral', 'chechnya', 'steady', 'couples', 'sciences', 'landed', 'lifted', 'missouri', 'connecticut', 'meat', 'recognize', 'encouraged', 'opens', 'firing', 'midfielder', 'charter', 'ranks', 'n', 'annually', 'competing', 'finland', 'refugee', 'indians', 'musharraf', 'subsequent', 'guitar', 'fill', 'employed', 'skin', 'actors', 'bed', 'extreme', 'withdraw', 'documentary', 'p.', 'please', 'rapidly', '49', '1-0', 'haiti', 'larry', 'collapsed', 'teen', '51', 'calm', 'tanks', 'louisiana', 'financing', 'chair', 'density', 'principle', 'chancellor', 'earn', 'gray', 'license', 'noting', 'outbreak', 'informed', 'episodes', 'chelsea', 'promoting', 'architecture', 'reducing', 'chip', 'inquiry', 'mention', 'jakarta', 'killings', 'hungary', 'feels', 'duties', 'threatening', '2.5', 'trials', 'fate', 'packed', 'arthur', 'programming', 'ages', 'dogs', 'principles', 'soil', 'brussels', 'f', 'oregon', '1962', '120', 'ranging', 'recommended', 'protected', 'centuries', 'hotels', 'guerrillas', 'converted', 'associate', 'slowly', 'edwards', 'qualified', 'mistake', 'philip', 'presidents', 'doors', 'quit', 'customs', '___', 'commonwealth', 'politically', 'atmosphere', 'rockets', 'playoffs', 'donald', 'allied', 'metropolitan', 'containing', 'gallery', 'senators', 'mosque', 'badly', 'fee', 'kentucky', 'walker', 'shell', 'emotional', 'empty', 'pursue', 'semi', 'chapter', 'chirac', 'description', 'adam', 'hang', 'fax', 'nazi', 'journey', 'successor', 'vladimir', 'monitor', 'calif.', 'starring', 'definitely', 'smoke', 'delhi', 'engineer', 'seeded', 'citizen', 'foreigners', 'competed', 'homeland', 'somalia', 'anger', 'kings', 'renewed', 'shops', 'shoulder', 'toyota', 'correct', 'walter', 'fiction', 'rio', 'yugoslav', 'replacement', 'convinced', 'hamilton', 'absolutely', 'counties', 'technologies', 'swimming', 'ownership', 'bruce', 'danish', '1950s', 'founding', 'helicopters', 'tribal', 'dates', 'installed', 'surrounded', 'investigate', 'upcoming', 'messages', 'manner', 'enjoyed', '1963', 'settlements', 'survive', 'implementation', 'economies', 'viewers', 'hunt', 'hostage', 'temperature', 'territories', 'tend', 'compound', 'oscar', 'rush', 'jesus', 'albanian', 'notice', 'consequences', 'campaigns', 'brings', 'incidents', 'clothes', 'interesting', 'tomorrow', 'routes', 'boats', 'hostages', 'douglas', 'disputed', 'parks', 'austrian', 'dave', 'moral', 'circle', '18th', 'zero', 'extent', '1948', 'longtime', 'ordinary', 'argument', 'montreal', 'francs', 'rarely', 'standings', 'investigations', '20,000', 'triple', 'alcohol', 'guests', 'relative', 'stages', 'comfortable', 'medals', 'guarantee', 'weapon', 'malaysian', 'confirm', 'saved', 'belgrade', 'moments', '2-1', 'matt', 'burned', 'puerto', 'philosophy', '54', 'detailed', 'clash', 'cemetery', 'mississippi', 'appointment', 'asean', 'forcing', '3rd', 'holes', 'findings', 'uganda', 'rivers', 'roof', 'rank', 'vital', 'counterpart', 'frequent', 'infantry', 'jerry', 'atomic', 'persons', 'benjamin', 'peru', 'creative', 'announce', 'artillery', 'belgian', 'roots', 'acquisition', 'turnover', 'sounds', 'prospects', 'orchestra', 'bloc', 'promises', 'plenty', 'client', 'gene', 'suspension', 'struggled', '1944', 'utah', 'shoot', 'courses', 'planet', 'outlook', 'error', 'charity', 'vienna', 'requested', 'traveled', '95', 'rated', 'singing', 'uranium', 'operates', 'regiment', 'examples', 'lincoln', 'arrests', '2-0', '11th', 'sparked', 'campbell', 'trophy', 'reconstruction', 'abdul', 'cambodia', 'innocent', 'elite', 'freed', 'argue', 'reflect', 'thousand', 'murray', 'alabama', 'pact', 'shore', 'cycle', 'consumption', 'adams', 'consensus', 'fc', 'bright', 'gift', 'graham', 'payment', 'divisions', 'stress', 'purposes', 'carbon', 'feed', 'fruit', 'ross', 'broadway', 'explosives', 'sectors', 'tape', 'drinking', 'von', 'loved', 'stretch', 'aide', 'hampshire', 'ward', 'potentially', 'shock', 'lunch', 'engines', 'wisconsin', 'literary', 'crackdown', 'birthday', 'dick', 'affair', 'climbed', 'wealth', '50,000', 'jacques', 'cairo', 'mouth', 'nasa', 'holdings', 'negotiating', 'chiefs', 'spoken', 'viewed', 'ads', 'ontario', 'feared', 'salary', 'milk', 'beer', 'melbourne', 'dvd', 'prix', 'passage', 'petroleum', 'soul', 'expanding', 'laboratory', 'jan', 'customer', 'conservatives', 'constant', 'attitude', 'phil', 'assessment', '1947', 'sessions', 'defended', 'runner', 'thinks', 'peacekeeping', 'missions', 'barry', 'situated', '56', 'eve', 'ma', 'n.y.', 'metres', 'geneva', 'renamed', 'manage', 'mines', 'chase', 'geography', 'clothing', 'keeps', '85', 'lane', '53', 'orthodox', 'seeks', 'nasdaq', 'residential', 'realize', 'wage', 'wto', 'blocks', 'assassination', 'contribute', 'doubles', 'rookie', 'lots', 'entrance', 'kilometres', 'luis', 'contribution', 'barely', 'hu', 'height', 'morris', 'lands', '1961', 'princess', 'files', 'studios', 'conservation', 'traditionally', 'permission', 'designer', 'comic', 'emissions', 'prospect', 'posts', 'darfur', 'disappointed', 'counsel', 'liu', 'castro', 'momentum', 'busy', 'classical', 'procedures', 'victories', 'headlines', 'colonial', 'afford', '1949', 'legacy', 'franchise', '1959', 'illness', 'fifa', 'quarters', 'celebrated', 'wright', 'depression', 'techniques', 'foster', 'bands', 'capitol', 'invest', 'assist', 'beauty', '6-1', 'wonder', 'regulation', 'surge', 'proud', 'tackle', 'spiritual', 'dennis', '72', 'athletics', 'titled', 'sleep', 'proof', 'quotes', 'sustained', 'chicken', 'faculty', 'croatian', 'russell', 'mitchell', 'francis', 'colonel', 'exchanges', 'acres', 'recover', 'influential', 'amounts', 'hispanic', 'violations', 'blues', 'kid', 'priest', 'tools', 'executed', 'takeover', 'wedding', 'dna', 'treat', 'daughters', 'exploded', 'engineers', 'albert', 'tea', 'nhl', 'carl', 'escaped', 'vegas', 'vatican', 'gdp', 'peacekeepers', 'tension', 'submitted', 'pyongyang', 'ed', 'beef', 'tel', 'considerable', 'investor', 'functions', 'stem', '66', 'introduction', 'excellent', 'brigade', 'bangkok', 'pending', 'depending', 'ee', 'aims', 'anybody', 'restored', 'activist', 'fail', 'funded', 'categories', 'difficulties', 'exit', 'negotiate', 'google', 'verdict', 'conversation', 'plate', '1950', 'totally', 'evil', 'cent', 'canal', 'harder', 'diseases', 'succeed', 'eligible', 'taste', 'smoking', 'legs', 'somebody', 'maintenance', 'studying', 'symbol', 'attracted', 'counts', 'attached', 'flowers', 'tonight', 'lakers', 'par', 'bars', 'nigerian', 'biological', 'intention', 'riding', 'pension', 'movements', '58', 'luxury', 'educated', 'obvious', 'possession', 'puts', 'mandate', 'lists', 'stick', 'aspects', 'cleared', 'rear', 'wells', '1.2', 'accusations', 'temperatures', 'steven', 'attributed', 'overcome', 'summary', 'execution', 'aired', 'crossed', 'storage', 'volunteers', 'russians', 'shuttle', 'obtain', '1956', 'staged', 'ncaa', 'organizers', 'businessman', 'libya', 'hunting', 'brooklyn', 'framework', 'vessel', 'punishment', 'smart', 'worldsources', 'blacks', 'balls', 'baker', 'qualify', 'belief', 'solve', 'gradually', 'imperial', 'tall', 'tone', 'wildlife', 'fundamental', 'squadron', 'twenty', 'ron', 'lawrence', 'settlers', 'wayne', 'modest', 'v.', 'rwanda', 'jimmy', 'forget', 'thrown', 'longest', 'rodriguez', 'marines', 'sentiment', '700', 'roberts', 'describe', 'pattern', 'demonstrators', 'bomber', 'urging', 'burning', 'slipped', 'auction', 'thin', '12th', 'occasionally', 'nick', 'sick', 'separatist', 'graf', 'perry', 'goalkeeper', 'conclusion', 'nobel', 'indicate', '1958', 'buyers', 'stance', '1946', 'facts', 'attract', 'coaching', 'architect', '67', '57', 'employers', 'exposed', 'objects', 'complaint', '62', 'sec', 'sony', 'grave', 'bitter', 'eliminated', 'acted', 'insurgency', 'commentary', 'bears', 'describes', 'ousted', 'lights', 'gate', 'jiang', 'burns', 'tunnel', 'striking', 'bulgaria', 'sovereignty', 'oxford', 'elderly', 'copy', 'pipeline', 'critic', 'eating', 'destroy', 'inner', 'rick', 'publisher', 'bench', 'structures', 'chechen', 'ken', 'channels', 'ballots', 'sarajevo', 'rolling', 'wu', 'hillary', 'manila', 'twin', 'isolated', 'vietnamese', 'merely', 'operator', 'enormous', '1942', '‘', 'etc.', '£', 'wealthy', 'competitors', 'demonstrations', 'paintings', 'hidden', 'argentine', 'fastest', 'throwing', 'fairly', 'shipping', 'arriving', 'transit', 'roy', 'fires', '1957', 'appealed', 'cruise', 'ski', 'tibet', 'pollution', 'impressive', 'revised', 'breaks', 'kidnapped', 'buses', 'lasted', 'nevertheless', 'resign', 'surplus', 'poetry', 'friendship', 'observed', 'subsidiary', '68', 'infected', 'anne', 'anywhere', 'exile', 'terry', 'vulnerable', 'neck', 'hardly', 'harbor', 'slam', 'stroke', 'utility', 'kinds', '1941', 'object', 'intervention', 'realized', 'detail', 'drink', 'alaska', 'painted', 'polling', '17th', 'deployment', 'triggered', 'print', 'costa', '1940', 'battles', 'grass', 'unrest', 'torture', '4th', 'celebration', 'photographs', 'warren', 'lie', 'da', '30,000', 'swept', 'parking', 'chrysler', 'greg', '7-6', 'amateur', 'departments', 'dodgers', 'optimistic', 'suburb', 'attorneys', 'dress', 'prevention', 'implement', 'lt.', 'barbara', 'valuable', 'regard', 'conspiracy', 'midnight', 'unprecedented', 'cooperate', 'advocates', 'bloody', 'consultant', 'dawn', 'craig', 'asks', 'k', 'violation', 'scholars', 'essentially', 'assumed', 'afraid', 'motors', 'angels', 'sierra', '200,000', 'childhood', 'carries', 'lineup', 'refers', 'approve', 'tragedy', 'publications', 'processing', 'resumed', 'generated', 'pat', 'g.', 'personally', 'regulators', 'repair', 'complicated', 'pleaded', 'elect', 'fred', 'discrimination', 'bass', 'mohammad', 'opec', 'dam', 'celebrate', 'medicare', 'guinea', 'import', 'ukrainian', 'searching', 'garcia', 'rape', 'zhang', 'marshall', 'vessels', 'rebounds', 'wings', 'useful', 'staying', 'canceled', 'truly', 'authorized', 'touchdown', 'stolen', 'hip', 'boom', 'solar', 'pitcher', 'context', 'terminal', 'colin', 'attacking', 'extraordinary', 'munich', 'unfortunately', 'colony', '1943', 'corn', 'recall', 'cheney', 'musicians', 'commanders', 'reagan', '1955', 'addressed', 'detainees', 'uh', '1953', 'suggesting', 'sisters', 'impose', '1,500', 'cameras', 'depth', 'element', 'asset', 'worries', 'lying', 'superior', 'trips', '16th', 'definition', 'trafficking', 'suffer', 'branches', 'harm', 'conflicts', 'influenced', 'mounted', '1954', 'spots', 'procedure', 'legend', 'carefully', 'scientist', 'promising', 'yard', 'colleges', '63', '10-year', 'nationalist', 'exposure', 'amnesty', 'fernando', 'karzai', 'sarkozy', 'sa', 'bag', 'matthew', 'lending', 'jailed', 'fatah', 'phones', 'readers', 'subjects', 'expression', 'authors', 'imagine', 'pleased', 'raw', 'strait', 'disputes', '1952', 'billy', 'copyright', 'automatic', '1939', 'preparation', 'jay', 'arkansas', 'ian', 'commissioned', 'buffalo', 'testified', 'sporting', 'cathedral', 'saving', 'trapped', 'solutions', 'visible', 'cnn', 'resolved', 'cambridge', 'parade', 'genocide', 'instruments', 'elementary', 'piano', 'efficient', 'bobby', 'mets', 'equipped', 'protein', 'raids', 'landmark', 'sufficient', 'northeastern', 'poet', 'reconciliation', 'horses', 'mugabe', 'components', 'chips', 'cincinnati', 'mainstream', 'oppose', 'germans', 'northwestern', 'jonathan', 'associates', 'user', 'wimbledon', 'thirds', 'forests', 'wooden', 'separated', 'shed', 'rushed', 'consistent', 'happening', 'ira', 'footballer', 'approached', 'susan', 'cattle', 'telecom', 'knight', 'strict', 'battalion', '|', 'sections', 'releases', 'wire', 'knowing', 'boxing', 'practical', 'samuel', 'vancouver', 'dominant', 'di', 'ok', 'protecting', 'electrical', 'mubarak', 'colombian', 'uefa', 'o', 'wireless', 'du', 'inhabitants', 'carriers', 'demonstration', 'sarah', 'specialist', '59', 'wheel', 'mediterranean', 'dating', 'concerning', 'sight', 'penalties', 'handful', 'torn', 'update', 'ceasefire', 'yasser', '13th', 'eliminate', 'rises', 'routine', 'mall', 'restructuring', 'enterprise', 'surveillance', 'troop', 'conventional', 'killer', 'withdrew', 'arranged', 'landscape', 'expenses', 'devoted', 'christ', 'truce', 'kitchen', 'homer', 'relevant', 'encouraging', 'questioning', 'regulatory', 'massacre', 'likes', 'warming', 'tours', 'mistakes', 'jane', 'progressive', 'wrestling', 'clay', 'pledge', 'relationships', 'swing', 'pole', 'bat', 'pride', 'listen', 'billions', 'greatly', 'turner', 'classified', 'disappeared', 'conviction', 'provisions', 'tool', 'credited', 'challenged', 'participating', 'exception', 'oakland', 'personality', '69', 'pitched', 'continent', 'maintaining', 'reflected', '4,000', 'airports', '500,000', 'thick', 'appearing', 'stakes', 'fierce', 'shah', 'southeastern', 'lyrics', 'dressed', 'composer', 'involves', 'requests', 'yourself', 'autonomous', 'reverse', 'villa', 'norman', 'frame', '1.3', 'preferred', 'ethiopia', 'continental', 'insists', 'robin', 'mill', 'clock', 'charlie', 'bernard', 'waves', '61', 'occasion', 'venue', 'defendants', 'fm', 'policemen', 'integration', 'guidelines', 'arguments', 'erupted', 'rough', 'wickets', 'arguing', 'christians', 'marathon', 'victor', 'contacts', 'legitimate', 'factories', 'attempting', 'convoy', '15th']\n",
            "loaded tags with length:  4999\n",
            " * generating dataset...\n",
            "Making Data Matrix\n",
            " * loading wordvector model ( convertedGlove.model )...\n"
          ],
          "name": "stdout"
        },
        {
          "output_type": "stream",
          "text": [
            "/usr/local/lib/python3.6/dist-packages/smart_open/smart_open_lib.py:402: UserWarning: This function is deprecated, use smart_open.open instead. See the migration notes for details: https://github.com/RaRe-Technologies/smart_open/blob/master/README.rst#migrating-to-the-new-open-function\n",
            "  'See the migration notes for details: %s' % _MIGRATION_NOTES_URL\n",
            "/usr/local/lib/python3.6/dist-packages/gensim/matutils.py:737: FutureWarning: Conversion of the second argument of issubdtype from `int` to `np.signedinteger` is deprecated. In future, it will be treated as `np.int64 == np.dtype(int).type`.\n",
            "  if np.issubdtype(vec.dtype, np.int):\n"
          ],
          "name": "stderr"
        },
        {
          "output_type": "stream",
          "text": [
            "Data Matrix Done\n"
          ],
          "name": "stdout"
        }
      ]
    },
    {
      "cell_type": "code",
      "metadata": {
        "id": "NlzRChr3rHOE",
        "colab_type": "code",
        "colab": {
          "base_uri": "https://localhost:8080/",
          "height": 624
        },
        "outputId": "64c5014d-8410-4d2a-a019-05e1fdf99877"
      },
      "source": [
        "print(' *', 'clustering...')\n",
        "word_cluster(data, labels, k=k, show_histogram_plot=True)"
      ],
      "execution_count": 17,
      "outputs": [
        {
          "output_type": "stream",
          "text": [
            " * clustering...\n",
            "Clustering...\n",
            "k_means.fit(data) Done!\n",
            "Writing JSON\n",
            " * saved results to: res_wv_k100.json\n",
            "Show plot\n"
          ],
          "name": "stdout"
        },
        {
          "output_type": "display_data",
          "data": {
            "image/png": "[encoded data removed]",
            "text/plain": [
              "<Figure size 1152x576 with 1 Axes>"
            ]
          },
          "metadata": {
            "tags": []
          }
        }
      ]
    }
  ]
}
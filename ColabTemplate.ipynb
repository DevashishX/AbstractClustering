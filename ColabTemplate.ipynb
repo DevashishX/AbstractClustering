{
  "nbformat": 4,
  "nbformat_minor": 0,
  "metadata": {
    "file_extension": ".py",
    "kernelspec": {
      "display_name": "Python 3.7.4 64-bit ('base': conda)",
      "language": "python",
      "name": "python37464bitbasecondaccb10e44a6224ec5a8090d4d6e72e602"
    },
    "language_info": {
      "codemirror_mode": {
        "name": "ipython",
        "version": 3
      },
      "file_extension": ".py",
      "mimetype": "text/x-python",
      "name": "python",
      "nbconvert_exporter": "python",
      "pygments_lexer": "ipython3",
      "version": "3.7.4"
    },
    "mimetype": "text/x-python",
    "name": "python",
    "npconvert_exporter": "python",
    "pygments_lexer": "ipython3",
    "version": 3,
    "colab": {
      "name": "ClusterKEuclid.ipynb",
      "provenance": [],
      "collapsed_sections": []
    }
  },
  "cells": [
    {
      "cell_type": "markdown",
      "metadata": {
        "id": "yFgCtBa6hjJE",
        "colab_type": "text"
      },
      "source": [
        "#Get all the Required Files"
      ]
    },
    {
      "cell_type": "code",
      "metadata": {
        "id": "QGyYrR_CHI_u",
        "colab_type": "code",
        "colab": {
          "base_uri": "https://localhost:8080/",
          "height": 454
        },
        "outputId": "06202207-5b52-4ebe-b9e9-8379595ba901"
      },
      "source": [
        "import subprocess\n",
        "print((subprocess.check_output(\"lscpu\", shell=True).strip()).decode())"
      ],
      "execution_count": 58,
      "outputs": [
        {
          "output_type": "stream",
          "text": [
            "Architecture:        x86_64\n",
            "CPU op-mode(s):      32-bit, 64-bit\n",
            "Byte Order:          Little Endian\n",
            "CPU(s):              2\n",
            "On-line CPU(s) list: 0,1\n",
            "Thread(s) per core:  2\n",
            "Core(s) per socket:  1\n",
            "Socket(s):           1\n",
            "NUMA node(s):        1\n",
            "Vendor ID:           GenuineIntel\n",
            "CPU family:          6\n",
            "Model:               63\n",
            "Model name:          Intel(R) Xeon(R) CPU @ 2.30GHz\n",
            "Stepping:            0\n",
            "CPU MHz:             2300.000\n",
            "BogoMIPS:            4600.00\n",
            "Hypervisor vendor:   KVM\n",
            "Virtualization type: full\n",
            "L1d cache:           32K\n",
            "L1i cache:           32K\n",
            "L2 cache:            256K\n",
            "L3 cache:            46080K\n",
            "NUMA node0 CPU(s):   0,1\n",
            "Flags:               fpu vme de pse tsc msr pae mce cx8 apic sep mtrr pge mca cmov pat pse36 clflush mmx fxsr sse sse2 ss ht syscall nx pdpe1gb rdtscp lm constant_tsc rep_good nopl xtopology nonstop_tsc cpuid tsc_known_freq pni pclmulqdq ssse3 fma cx16 pcid sse4_1 sse4_2 x2apic movbe popcnt aes xsave avx f16c rdrand hypervisor lahf_lm abm invpcid_single ssbd ibrs ibpb stibp fsgsbase tsc_adjust bmi1 avx2 smep bmi2 erms invpcid xsaveopt arat md_clear arch_capabilities\n"
          ],
          "name": "stdout"
        }
      ]
    },
    {
      "cell_type": "code",
      "metadata": {
        "id": "8xcIo5MshifC",
        "colab_type": "code",
        "outputId": "5b11d6a4-ebb9-48e6-c16c-2c18b0507166",
        "colab": {
          "base_uri": "https://localhost:8080/",
          "height": 34
        }
      },
      "source": [
        "!git clone https://github.com/DevashishX/AbstractClustering.git; "
      ],
      "execution_count": 59,
      "outputs": [
        {
          "output_type": "stream",
          "text": [
            "fatal: destination path 'AbstractClustering' already exists and is not an empty directory.\n"
          ],
          "name": "stdout"
        }
      ]
    },
    {
      "cell_type": "code",
      "metadata": {
        "id": "hJhYEiN2hiV4",
        "colab_type": "code",
        "colab": {}
      },
      "source": [
        "!cp -r AbstractClustering/* ./."
      ],
      "execution_count": 0,
      "outputs": []
    },
    {
      "cell_type": "code",
      "metadata": {
        "id": "HsYvN3-1hh3V",
        "colab_type": "code",
        "outputId": "65654f47-6837-40e7-b741-24fbec0d1b93",
        "colab": {
          "base_uri": "https://localhost:8080/",
          "height": 660
        }
      },
      "source": [
        "!ls -alFh"
      ],
      "execution_count": 3,
      "outputs": [
        {
          "output_type": "stream",
          "text": [
            "total 84M\n",
            "drwxr-xr-x 1 root root 4.0K Feb 27 13:14 ./\n",
            "drwxr-xr-x 1 root root 4.0K Feb 27 12:02 ../\n",
            "drwxr-xr-x 9 root root 4.0K Feb 27 12:04 AbstractClustering/\n",
            "-rw-r--r-- 1 root root  39M Feb 27 14:52 cleaned.7z\n",
            "-rw-r--r-- 1 root root  90K Feb 27 14:52 ClusterKEuclid.ipynb\n",
            "drwxr-xr-x 1 root root 4.0K Feb 19 17:12 .config/\n",
            "-rw-r--r-- 1 root root 3.7K Feb 27 14:52 convert_repository_json.py\n",
            "drwxr-xr-x 2 root root 4.0K Feb 27 12:04 CORE_files/\n",
            "-rw-r--r-- 1 root root  33K Feb 27 14:52 CORE.html\n",
            "-rw-r--r-- 1 root root  48K Feb 27 14:52 CreateSentenceEmbedding.ipynb\n",
            "drwxr-xr-x 2 root root 4.0K Feb 27 12:04 dataset/\n",
            "-rw-r--r-- 1 root root  95K Feb 27 14:52 Devashish_word2vec_cluster.ipynb\n",
            "-rw-r--r-- 1 root root 978K Feb 27 13:14 downloaded_Mega_Sample_centroid.pkl\n",
            "drwx------ 4 root root 4.0K Feb 27 13:04 drive/\n",
            "-rw-r--r-- 1 root root  27K Feb 27 14:52 example_tags.txt\n",
            "-rw-r--r-- 1 root root  37K Feb 27 14:52 h_cluster.ipynb\n",
            "drwxr-xr-x 2 root root 4.0K Feb 27 12:17 .ipynb_checkpoints/\n",
            "-rw-r--r-- 1 root root 912K Feb 27 14:52 Keras-DEC.ipynb\n",
            "-rw-r--r-- 1 root root 1.1K Feb 27 14:52 LICENSE\n",
            "drwxr-xr-x 2 root root  12K Feb 27 12:04 MegaSentEmbs/\n",
            "drwxr-xr-x 2 root root 4.0K Feb 27 12:04 output/\n",
            "drwxr-xr-x 2 root root  12K Feb 27 12:04 PklCleaned/\n",
            "-rw-r--r-- 1 root root  39M Feb 27 14:53 PklCleaned.7z\n",
            "-rw-r--r-- 1 root root  61K Feb 27 14:53 plot_dbscan.ipynb\n",
            "-rw-r--r-- 1 root root 1.4K Feb 27 14:53 preprocessing_files.py\n",
            "-rw-r--r-- 1 root root  603 Feb 27 14:53 preprocessing.py\n",
            "-rw-r--r-- 1 root root   31 Feb 27 14:53 README.md\n",
            "-rw-r--r-- 1 root root 3.9M Feb 27 12:17 sample_500.pkl\n",
            "drwxr-xr-x 1 root root 4.0K Feb  5 18:37 sample_data/\n",
            "-rw-r--r-- 1 root root  360 Feb 27 14:53 scripts.sh\n",
            "-rw-r--r-- 1 root root 1.1K Feb 27 14:53 sentence_embedding.py\n",
            "-rw-r--r-- 1 root root  25K Feb 27 14:53 splitembs.ipynb\n",
            "-rw-r--r-- 1 root root    0 Feb 27 14:53 test.txt\n",
            "-rw-r--r-- 1 root root  51K Feb 27 14:53 Untitled.ipynb\n",
            "-rw-r--r-- 1 root root  38K Feb 27 14:53 word2vec_cluster.ipynb\n",
            "-rw-r--r-- 1 root root 1.8K Feb 27 14:53 word_embedding.py\n"
          ],
          "name": "stdout"
        }
      ]
    },
    {
      "cell_type": "code",
      "metadata": {
        "id": "UNCAs0vsIf2Z",
        "colab_type": "code",
        "colab": {}
      },
      "source": [
        ""
      ],
      "execution_count": 0,
      "outputs": []
    },
    {
      "cell_type": "code",
      "metadata": {
        "id": "wkS4KGOphHK4",
        "colab_type": "code",
        "colab": {}
      },
      "source": [
        "import numpy as np\n",
        "import matplotlib.pyplot as plt\n",
        "import pandas as pd\n",
        "from sklearn import cluster, datasets\n",
        "import seaborn as sns\n",
        "import json\n",
        "import sys\n",
        "import codecs\n",
        "import os\n",
        "from collections import defaultdict, Counter\n",
        "import datetime\n",
        "import time"
      ],
      "execution_count": 0,
      "outputs": []
    },
    {
      "cell_type": "code",
      "metadata": {
        "id": "bFxfXnFh2taT",
        "colab_type": "code",
        "outputId": "209ad15f-dbfe-474b-aab0-d0745699f999",
        "colab": {
          "base_uri": "https://localhost:8080/",
          "height": 52
        }
      },
      "source": [
        "start_time = time.time()\n",
        "start_datetime = datetime.datetime.now()\n",
        "print(\"start_time: \", start_time)\n",
        "print(\"start_datetime: \", start_datetime)\n",
        "# print(datetime.datetime.now()-start_datetime)"
      ],
      "execution_count": 14,
      "outputs": [
        {
          "output_type": "stream",
          "text": [
            "start_time:  1582816754.8168468\n",
            "start_datetime:  2020-02-27 15:19:14.816892\n"
          ],
          "name": "stdout"
        }
      ]
    },
    {
      "cell_type": "code",
      "metadata": {
        "id": "h8NVMHA6hHLS",
        "colab_type": "code",
        "colab": {}
      },
      "source": [
        ""
      ],
      "execution_count": 0,
      "outputs": []
    },
    {
      "cell_type": "code",
      "metadata": {
        "id": "fAi1m08zhHLn",
        "colab_type": "code",
        "outputId": "ba40a7af-2984-4e84-f2b8-4ecb4351f023",
        "colab": {
          "base_uri": "https://localhost:8080/",
          "height": 72
        }
      },
      "source": [
        "embedDir = \"./MegaSentEmbs/\"\n",
        "dumpdir = \"./dump/\"\n",
        "oldlist = os.listdir(embedDir)\n",
        "filelist = sorted([embedDir+f for f in oldlist if f[-3:]==\"pkl\"])\n",
        "filenum = len(filelist)\n",
        "filenum = int(filenum)\n",
        "# filenum = 5\n",
        "# print(filelist)\n",
        "smalllist = filelist[:int(filenum)]\n",
        "print(\"Length of Smalllist: \", len(smalllist))\n",
        "print(\"smalllist: \", smalllist)"
      ],
      "execution_count": 44,
      "outputs": [
        {
          "output_type": "stream",
          "text": [
            "Length of Smalllist:  116\n",
            "smalllist:  ['./MegaSentEmbs/repository_embedding_100_2013-03-18.pkl', './MegaSentEmbs/repository_embedding_101_2013-03-18.pkl', './MegaSentEmbs/repository_embedding_102_2013-03-18.pkl', './MegaSentEmbs/repository_embedding_103_2013-03-18.pkl', './MegaSentEmbs/repository_embedding_104_2013-03-18.pkl', './MegaSentEmbs/repository_embedding_105_2013-03-18.pkl', './MegaSentEmbs/repository_embedding_106_2013-03-18.pkl', './MegaSentEmbs/repository_embedding_107_2013-03-18.pkl', './MegaSentEmbs/repository_embedding_108_2013-03-18.pkl', './MegaSentEmbs/repository_embedding_109_2013-03-18.pkl', './MegaSentEmbs/repository_embedding_10_2013-03-18.pkl', './MegaSentEmbs/repository_embedding_110_2013-03-18.pkl', './MegaSentEmbs/repository_embedding_111_2013-03-18.pkl', './MegaSentEmbs/repository_embedding_112_2013-03-18.pkl', './MegaSentEmbs/repository_embedding_116_2013-03-18.pkl', './MegaSentEmbs/repository_embedding_117_2013-03-18.pkl', './MegaSentEmbs/repository_embedding_119_2013-03-18.pkl', './MegaSentEmbs/repository_embedding_120_2013-03-18.pkl', './MegaSentEmbs/repository_embedding_121_2013-03-18.pkl', './MegaSentEmbs/repository_embedding_122_2013-03-18.pkl', './MegaSentEmbs/repository_embedding_123_2013-03-18.pkl', './MegaSentEmbs/repository_embedding_124_2013-03-18.pkl', './MegaSentEmbs/repository_embedding_125_2013-03-18.pkl', './MegaSentEmbs/repository_embedding_126_2013-03-18.pkl', './MegaSentEmbs/repository_embedding_12_2013-03-18.pkl', './MegaSentEmbs/repository_embedding_136_2013-03-18.pkl', './MegaSentEmbs/repository_embedding_147_2013-03-18.pkl', './MegaSentEmbs/repository_embedding_14_2013-03-18.pkl', './MegaSentEmbs/repository_embedding_15_2013-03-18.pkl', './MegaSentEmbs/repository_embedding_16_2013-03-18.pkl', './MegaSentEmbs/repository_embedding_17_2013-03-18.pkl', './MegaSentEmbs/repository_embedding_18_2013-03-18.pkl', './MegaSentEmbs/repository_embedding_19_2013-03-18.pkl', './MegaSentEmbs/repository_embedding_1_2013-03-18.pkl', './MegaSentEmbs/repository_embedding_20_2013-03-18.pkl', './MegaSentEmbs/repository_embedding_21_2013-03-18.pkl', './MegaSentEmbs/repository_embedding_22_2013-03-18.pkl', './MegaSentEmbs/repository_embedding_23_2013-03-18.pkl', './MegaSentEmbs/repository_embedding_24_2013-03-18.pkl', './MegaSentEmbs/repository_embedding_25_2013-03-18.pkl', './MegaSentEmbs/repository_embedding_26_2013-03-18.pkl', './MegaSentEmbs/repository_embedding_27_2013-03-18.pkl', './MegaSentEmbs/repository_embedding_28_2013-03-18.pkl', './MegaSentEmbs/repository_embedding_29_2013-03-18.pkl', './MegaSentEmbs/repository_embedding_2_2013-03-18.pkl', './MegaSentEmbs/repository_embedding_30_2013-03-18.pkl', './MegaSentEmbs/repository_embedding_31_2013-03-18.pkl', './MegaSentEmbs/repository_embedding_32_2013-03-18.pkl', './MegaSentEmbs/repository_embedding_33_2013-03-18.pkl', './MegaSentEmbs/repository_embedding_34_2013-03-18.pkl', './MegaSentEmbs/repository_embedding_35_2013-03-18.pkl', './MegaSentEmbs/repository_embedding_37_2013-03-18.pkl', './MegaSentEmbs/repository_embedding_38_2013-03-18.pkl', './MegaSentEmbs/repository_embedding_39_2013-03-18.pkl', './MegaSentEmbs/repository_embedding_3_2013-03-18.pkl', './MegaSentEmbs/repository_embedding_40_2013-03-18.pkl', './MegaSentEmbs/repository_embedding_42_2013-03-18.pkl', './MegaSentEmbs/repository_embedding_45_2013-03-18.pkl', './MegaSentEmbs/repository_embedding_46_2013-03-18.pkl', './MegaSentEmbs/repository_embedding_48_2013-03-18.pkl', './MegaSentEmbs/repository_embedding_49_2013-03-18.pkl', './MegaSentEmbs/repository_embedding_4_2013-03-18.pkl', './MegaSentEmbs/repository_embedding_50_2013-03-18.pkl', './MegaSentEmbs/repository_embedding_51_2013-03-18.pkl', './MegaSentEmbs/repository_embedding_52_2013-03-19.pkl', './MegaSentEmbs/repository_embedding_56_2013-03-19.pkl', './MegaSentEmbs/repository_embedding_57_2013-03-19.pkl', './MegaSentEmbs/repository_embedding_58_2013-03-19.pkl', './MegaSentEmbs/repository_embedding_59_2013-03-19.pkl', './MegaSentEmbs/repository_embedding_5_2013-03-18.pkl', './MegaSentEmbs/repository_embedding_60_2013-03-19.pkl', './MegaSentEmbs/repository_embedding_62_2013-03-19.pkl', './MegaSentEmbs/repository_embedding_63_2013-03-19.pkl', './MegaSentEmbs/repository_embedding_64A_2013-03-19.pkl', './MegaSentEmbs/repository_embedding_64B_2013-03-19.pkl', './MegaSentEmbs/repository_embedding_64C_2013-03-19.pkl', './MegaSentEmbs/repository_embedding_64D_2013-03-19.pkl', './MegaSentEmbs/repository_embedding_64E_2013-03-19.pkl', './MegaSentEmbs/repository_embedding_64F_2013-03-19.pkl', './MegaSentEmbs/repository_embedding_64G_2013-03-19.pkl', './MegaSentEmbs/repository_embedding_64H_2013-03-19.pkl', './MegaSentEmbs/repository_embedding_66_2013-03-19.pkl', './MegaSentEmbs/repository_embedding_67_2013-03-19.pkl', './MegaSentEmbs/repository_embedding_68_2013-03-19.pkl', './MegaSentEmbs/repository_embedding_69_2013-03-19.pkl', './MegaSentEmbs/repository_embedding_6_2013-03-18.pkl', './MegaSentEmbs/repository_embedding_70_2013-03-19.pkl', './MegaSentEmbs/repository_embedding_71_2013-03-19.pkl', './MegaSentEmbs/repository_embedding_72_2013-03-19.pkl', './MegaSentEmbs/repository_embedding_73_2013-03-19.pkl', './MegaSentEmbs/repository_embedding_74_2013-03-19.pkl', './MegaSentEmbs/repository_embedding_76_2013-03-19.pkl', './MegaSentEmbs/repository_embedding_77_2013-03-18.pkl', './MegaSentEmbs/repository_embedding_78_2013-03-18.pkl', './MegaSentEmbs/repository_embedding_79_2013-03-18.pkl', './MegaSentEmbs/repository_embedding_7_2013-03-18.pkl', './MegaSentEmbs/repository_embedding_80_2013-03-18.pkl', './MegaSentEmbs/repository_embedding_81_2013-03-18.pkl', './MegaSentEmbs/repository_embedding_82_2013-03-19.pkl', './MegaSentEmbs/repository_embedding_83_2013-03-19.pkl', './MegaSentEmbs/repository_embedding_84_2013-03-18.pkl', './MegaSentEmbs/repository_embedding_85_2013-03-18.pkl', './MegaSentEmbs/repository_embedding_86_2013-03-18.pkl', './MegaSentEmbs/repository_embedding_87_2013-03-18.pkl', './MegaSentEmbs/repository_embedding_88_2013-03-18.pkl', './MegaSentEmbs/repository_embedding_89_2013-03-18.pkl', './MegaSentEmbs/repository_embedding_8_2013-03-18.pkl', './MegaSentEmbs/repository_embedding_90_2013-03-18.pkl', './MegaSentEmbs/repository_embedding_91_2013-03-18.pkl', './MegaSentEmbs/repository_embedding_93_2013-03-18.pkl', './MegaSentEmbs/repository_embedding_95_2013-03-18.pkl', './MegaSentEmbs/repository_embedding_96_2013-03-18.pkl', './MegaSentEmbs/repository_embedding_97_2013-03-18.pkl', './MegaSentEmbs/repository_embedding_98_2013-03-18.pkl', './MegaSentEmbs/repository_embedding_99_2013-03-18.pkl', './MegaSentEmbs/repository_embedding_9_2013-03-18.pkl']\n"
          ],
          "name": "stdout"
        }
      ]
    },
    {
      "cell_type": "markdown",
      "metadata": {
        "id": "Verw6R-QVK24",
        "colab_type": "text"
      },
      "source": [
        "#Number of Records"
      ]
    },
    {
      "cell_type": "code",
      "metadata": {
        "id": "1KLrsnyYVN0R",
        "colab_type": "code",
        "colab": {}
      },
      "source": [
        "recnum = 30000"
      ],
      "execution_count": 0,
      "outputs": []
    },
    {
      "cell_type": "markdown",
      "metadata": {
        "id": "fN1QgBS0hHL1",
        "colab_type": "text"
      },
      "source": [
        "#Read all the pandas dataframes"
      ]
    },
    {
      "cell_type": "code",
      "metadata": {
        "id": "opx4vfnfhHL4",
        "colab_type": "code",
        "outputId": "121e01e3-9ce0-4f01-8618-59d78c8f274f",
        "colab": {
          "base_uri": "https://localhost:8080/",
          "height": 208
        }
      },
      "source": [
        "%%time\n",
        "megadf = pd.DataFrame()\n",
        "for f in smalllist:\n",
        "    tempdf = pd.read_pickle(f)\n",
        "    # print(tempdf.shape)\n",
        "    megadf = megadf.append(tempdf, ignore_index = True)\n",
        "    # if megadf.shape[0] >= recnum:\n",
        "    #     megadf = megadf[:recnum]\n",
        "    #     break\n",
        "\n",
        "megadf = megadf.sample(recnum, random_state=42)\n",
        "print(megadf.shape)\n",
        "print(megadf.head())"
      ],
      "execution_count": 49,
      "outputs": [
        {
          "output_type": "stream",
          "text": [
            "(30000, 4)\n",
            "             id  ...                                          embedding\n",
            "267625  1586358  ...  [0.2519249216165414, 0.098715185112782, -0.218...\n",
            "132693  1514579  ...  [0.45556149999999995, 0.46300600000000003, 0.1...\n",
            "42457   1352013  ...  [0.3578503426774432, 0.19982163346099166, 0.19...\n",
            "11052   9050181  ...  [0.1143842923148343, 0.10179413176365848, 0.07...\n",
            "13984    397771  ...  [0.3376635693894921, -0.039414062713478144, 0....\n",
            "\n",
            "[5 rows x 4 columns]\n",
            "CPU times: user 7.3 s, sys: 931 ms, total: 8.23 s\n",
            "Wall time: 8.32 s\n"
          ],
          "name": "stdout"
        }
      ]
    },
    {
      "cell_type": "code",
      "metadata": {
        "id": "AH7_54wfhHMH",
        "colab_type": "code",
        "outputId": "ce38b5ad-608e-45e6-c11e-60318ab29ecf",
        "colab": {
          "base_uri": "https://localhost:8080/",
          "height": 52
        }
      },
      "source": [
        "predata = megadf[\"embedding\"]\n",
        "\n",
        "data = np.matrix(predata.to_list())\n",
        "print(data.shape)\n",
        "sqrt_k = int(np.sqrt(data.shape[0]))\n",
        "print(int(sqrt_k))\n"
      ],
      "execution_count": 52,
      "outputs": [
        {
          "output_type": "stream",
          "text": [
            "(30000, 250)\n",
            "173\n"
          ],
          "name": "stdout"
        }
      ]
    },
    {
      "cell_type": "markdown",
      "metadata": {
        "id": "AHw4QXjahHMV",
        "colab_type": "text"
      },
      "source": [
        "#Number of Clusters"
      ]
    },
    {
      "cell_type": "code",
      "metadata": {
        "id": "NDTDoVfhhHMa",
        "colab_type": "code",
        "outputId": "7edb6eb5-f8be-43ed-ad07-cdb682becad7",
        "colab": {
          "base_uri": "https://localhost:8080/",
          "height": 34
        }
      },
      "source": [
        "# k = int(sqrt_k)\n",
        "k = 500\n",
        "print(\"k: \", k)"
      ],
      "execution_count": 53,
      "outputs": [
        {
          "output_type": "stream",
          "text": [
            "k:  500\n"
          ],
          "name": "stdout"
        }
      ]
    },
    {
      "cell_type": "code",
      "metadata": {
        "id": "bQYesl8uhHMk",
        "colab_type": "code",
        "outputId": "ecbc8d07-b5ef-46de-de34-69d878185dda",
        "colab": {
          "base_uri": "https://localhost:8080/",
          "height": 104
        }
      },
      "source": [
        "%%time\n",
        "print(\"Starting Clustering Process\")\n",
        "kmeans = cluster.KMeans(n_clusters=k, verbose=1, n_jobs=-1)\n",
        "kmeans.fit(data)\n",
        "print(\"done\")\n",
        "print(\"k_means.fit(data) Done!\")"
      ],
      "execution_count": 54,
      "outputs": [
        {
          "output_type": "stream",
          "text": [
            "Starting Clustering Process\n",
            "done\n",
            "k_means.fit(data) Done!\n",
            "CPU times: user 183 ms, sys: 224 ms, total: 407 ms\n",
            "Wall time: 9min 35s\n"
          ],
          "name": "stdout"
        }
      ]
    },
    {
      "cell_type": "code",
      "metadata": {
        "id": "E1ZCUJvg2IyW",
        "colab_type": "code",
        "colab": {}
      },
      "source": [
        ""
      ],
      "execution_count": 0,
      "outputs": []
    },
    {
      "cell_type": "code",
      "metadata": {
        "id": "kOtiDBzPhHMw",
        "colab_type": "code",
        "colab": {
          "base_uri": "https://localhost:8080/",
          "height": 34
        },
        "outputId": "b7b4cbb2-bb4b-401e-d9ec-12faeb70469e"
      },
      "source": [
        "print(\"hello\")"
      ],
      "execution_count": 55,
      "outputs": [
        {
          "output_type": "stream",
          "text": [
            "hello\n"
          ],
          "name": "stdout"
        }
      ]
    },
    {
      "cell_type": "code",
      "metadata": {
        "id": "QIfHjjLShHM8",
        "colab_type": "code",
        "colab": {}
      },
      "source": [
        "centroids = kmeans.cluster_centers_\n",
        "labels = kmeans.labels_\n",
        "megadf[\"clusterlabel\"]=labels\n",
        "# megadf[\"centroids\"] = centroids\n",
        "# centroidDF = pd.DataFrame(centroids)\n"
      ],
      "execution_count": 0,
      "outputs": []
    },
    {
      "cell_type": "code",
      "metadata": {
        "id": "5RdhXBYhhHNG",
        "colab_type": "code",
        "colab": {
          "base_uri": "https://localhost:8080/",
          "height": 950
        },
        "outputId": "b57a422e-8851-41c7-df92-25a2ca559267"
      },
      "source": [
        "plt.figure(figsize=(16,16))\n",
        "snsplot = sns.countplot(\"clusterlabel\", data=megadf)\n",
        "snsplot"
      ],
      "execution_count": 57,
      "outputs": [
        {
          "output_type": "execute_result",
          "data": {
            "text/plain": [
              "<matplotlib.axes._subplots.AxesSubplot at 0x7f51c1cde898>"
            ]
          },
          "metadata": {
            "tags": []
          },
          "execution_count": 57
        },
        {
          "output_type": "display_data",
          "data": {
            "image/png": "[encoded data removed]",
            "text/plain": [
              "<Figure size 1152x1152 with 1 Axes>"
            ]
          },
          "metadata": {
            "tags": []
          }
        }
      ]
    },
    {
      "cell_type": "code",
      "metadata": {
        "id": "l0RRWXwvQ9jz",
        "colab_type": "code",
        "colab": {}
      },
      "source": [
        "snsplot.figure.savefig(\"Kmeans_30KS_500C_outputplt.png\")"
      ],
      "execution_count": 0,
      "outputs": []
    },
    {
      "cell_type": "code",
      "metadata": {
        "id": "_Mp6kiUWhHNR",
        "colab_type": "code",
        "colab": {}
      },
      "source": [
        "# # import dtale\n",
        "# s = megadf[megadf[\"clusterlabel\"] == 48].loc[:, [\"title\", \"abstract\"]]\n",
        "# # megadf.columns\n",
        "# # dtale.show(s)\n",
        "# s"
      ],
      "execution_count": 0,
      "outputs": []
    },
    {
      "cell_type": "code",
      "metadata": {
        "id": "MoZTzcR3hHNZ",
        "colab_type": "code",
        "colab": {}
      },
      "source": [
        "# sample = pd.DataFrame()\n",
        "# for n in range(k):\n",
        "#     temp = megadf[megadf[\"clusterlabel\"] == n].loc[:, :]\n",
        "#     sample = sample.append(temp.head(50), ignore_index=True)\n",
        "#     print(\"Cluster Number: \", n)\n",
        "    # print(temp.head(100).loc[:, [\"id\", \"title\", \"abstract\", \"clusterlabel\"]])\n",
        "    "
      ],
      "execution_count": 0,
      "outputs": []
    },
    {
      "cell_type": "code",
      "metadata": {
        "id": "ZLHiM-gclArn",
        "colab_type": "code",
        "colab": {}
      },
      "source": [
        "megadf.to_pickle(\"Kmeans_30KS_500C.pkl\")"
      ],
      "execution_count": 0,
      "outputs": []
    },
    {
      "cell_type": "code",
      "metadata": {
        "id": "OrJQ-LXRvqjE",
        "colab_type": "code",
        "colab": {}
      },
      "source": [
        "!cp Kmeans_30KS_500C.pkl ./drive/My\\ Drive/."
      ],
      "execution_count": 0,
      "outputs": []
    },
    {
      "cell_type": "code",
      "metadata": {
        "id": "N8MsneQ_vx4H",
        "colab_type": "code",
        "colab": {}
      },
      "source": [
        "# centroidDF = pd.DataFrame(centroids)\n",
        "centroidDF = pd.DataFrame(centroids)\n",
        "centroidDF.to_pickle(\"Kmeans_30KS_500Ccentroid.pkl\")\n",
        "!cp Kmeans_30KS_500Ccentroid.pkl ./drive/My\\ Drive/."
      ],
      "execution_count": 0,
      "outputs": []
    },
    {
      "cell_type": "code",
      "metadata": {
        "id": "Fg2D3Fsww94W",
        "colab_type": "code",
        "colab": {
          "base_uri": "https://localhost:8080/",
          "height": 86
        },
        "outputId": "e55dfc1f-5290-458e-d061-1c5dba890963"
      },
      "source": [
        "end_time = time.time()\n",
        "end_datetime = datetime.datetime.now()\n",
        "print(\"end_time:\",  end_time)\n",
        "print(\"end_datetime: \", end_datetime)\n",
        "print(\"done! {}\".format(round(end_time-start_time, 2)))\n",
        "print(\"Time taken: \", str(end_datetime-start_datetime))"
      ],
      "execution_count": 63,
      "outputs": [
        {
          "output_type": "stream",
          "text": [
            "end_time: 1582819509.2418888\n",
            "end_datetime:  2020-02-27 16:05:09.241915\n",
            "done! 2754.43\n",
            "Time taken:  0:45:54.425023\n"
          ],
          "name": "stdout"
        }
      ]
    },
    {
      "cell_type": "code",
      "metadata": {
        "id": "VvsuuCMaQEj4",
        "colab_type": "code",
        "colab": {
          "base_uri": "https://localhost:8080/",
          "height": 206
        },
        "outputId": "abd7271f-06ef-44ab-b1e3-8da87e18ca27"
      },
      "source": [
        "sub = megadf.loc[:, [\"title\", \"abstract\", \"clusterlabel\"]]\n",
        "sub.tail()"
      ],
      "execution_count": 64,
      "outputs": [
        {
          "output_type": "execute_result",
          "data": {
            "text/html": [
              "<div>\n",
              "<style scoped>\n",
              "    .dataframe tbody tr th:only-of-type {\n",
              "        vertical-align: middle;\n",
              "    }\n",
              "\n",
              "    .dataframe tbody tr th {\n",
              "        vertical-align: top;\n",
              "    }\n",
              "\n",
              "    .dataframe thead th {\n",
              "        text-align: right;\n",
              "    }\n",
              "</style>\n",
              "<table border=\"1\" class=\"dataframe\">\n",
              "  <thead>\n",
              "    <tr style=\"text-align: right;\">\n",
              "      <th></th>\n",
              "      <th>title</th>\n",
              "      <th>abstract</th>\n",
              "      <th>clusterlabel</th>\n",
              "    </tr>\n",
              "  </thead>\n",
              "  <tbody>\n",
              "    <tr>\n",
              "      <th>18574</th>\n",
              "      <td>Trace (Layered Neck-piece and Feather Wrap)</td>\n",
              "      <td>[exhibition, two, large, printed, feather, bod...</td>\n",
              "      <td>476</td>\n",
              "    </tr>\n",
              "    <tr>\n",
              "      <th>44937</th>\n",
              "      <td>Equivalence of conservative, free, linear prog...</td>\n",
              "      <td>[program, schema, defines, class, program, ide...</td>\n",
              "      <td>98</td>\n",
              "    </tr>\n",
              "    <tr>\n",
              "      <th>127685</th>\n",
              "      <td>The impact of structural adjustment programmes...</td>\n",
              "      <td>[requirement, doctor, business, administration...</td>\n",
              "      <td>251</td>\n",
              "    </tr>\n",
              "    <tr>\n",
              "      <th>159718</th>\n",
              "      <td>Neville Street, Water Lane, Great Wilson Street</td>\n",
              "      <td>[16th, february, neville, street, foreground, ...</td>\n",
              "      <td>29</td>\n",
              "    </tr>\n",
              "    <tr>\n",
              "      <th>142878</th>\n",
              "      <td>Paperless examination boards promote wider and...</td>\n",
              "      <td>[series, development, since, inception, sits, ...</td>\n",
              "      <td>38</td>\n",
              "    </tr>\n",
              "  </tbody>\n",
              "</table>\n",
              "</div>"
            ],
            "text/plain": [
              "                                                    title  ... clusterlabel\n",
              "18574         Trace (Layered Neck-piece and Feather Wrap)  ...          476\n",
              "44937   Equivalence of conservative, free, linear prog...  ...           98\n",
              "127685  The impact of structural adjustment programmes...  ...          251\n",
              "159718    Neville Street, Water Lane, Great Wilson Street  ...           29\n",
              "142878  Paperless examination boards promote wider and...  ...           38\n",
              "\n",
              "[5 rows x 3 columns]"
            ]
          },
          "metadata": {
            "tags": []
          },
          "execution_count": 64
        }
      ]
    }
  ]
}
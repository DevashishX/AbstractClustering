{
 "cells": [
  {
   "cell_type": "markdown",
   "metadata": {
    "colab_type": "text",
    "id": "view-in-github"
   },
   "source": [
    "<a href=\"https://colab.research.google.com/github/DevashishX/AbstractClustering/blob/master/TemplateClusterKEuclid.ipynb\" target=\"_parent\"><img src=\"https://colab.research.google.com/assets/colab-badge.svg\" alt=\"Open In Colab\"/></a>"
   ]
  },
  {
   "cell_type": "markdown",
   "metadata": {
    "colab_type": "text",
    "id": "n6yRKl7Nx8NV"
   },
   "source": [
    "#***Set parameters***"
   ]
  },
  {
   "cell_type": "code",
   "execution_count": 1,
   "metadata": {
    "colab": {},
    "colab_type": "code",
    "id": "RLla__P2wqVL"
   },
   "outputs": [],
   "source": [
    "__algo__ = \"KMEANS\"              #Name of the Clustering algorithm\n",
    "__emb__ = \"glove\"                #Name of the Word Embeddings used (glove, w2v, ftt), MUST set directory below\n",
    "__sentemb__ = \"pmeans5\"          #Name of Sentence Embedding algorithm used\n",
    "recnum = 3000                    #Number of records to be read from files\n",
    "k = 50                           #Number of Clusters\n",
    "usesqrt = False                  #Set value of k to sqrt of recnum, overrides k\n",
    "randomsample = False             #Random Sampling to be True/False for records which are read\n",
    "embedDir = \"../MegaSentEmbs/\"    #Directory where embeddings are saved for that selected embedding\n",
    "modelDir = \"../models/\"          #Directory where models are saved\n",
    "megadfDir = \"../MegaDfs/\"        #Directory Where Megadf is to be saved\n",
    "plotDir = \"../plots/\"            #Directory where plots are saved\n",
    "dumpDir = \"../dump/\"             #Directory where test outcomes are saved"
   ]
  },
  {
   "cell_type": "markdown",
   "metadata": {
    "colab_type": "text",
    "id": "LGy8jsWQx0nS"
   },
   "source": [
    "#Actual Code"
   ]
  },
  {
   "cell_type": "markdown",
   "metadata": {
    "colab_type": "text",
    "id": "II0jpbbTzD8M"
   },
   "source": [
    "#imports and time"
   ]
  },
  {
   "cell_type": "code",
   "execution_count": 2,
   "metadata": {
    "colab": {},
    "colab_type": "code",
    "id": "wkS4KGOphHK4"
   },
   "outputs": [],
   "source": [
    "import numpy as np\n",
    "import matplotlib.pyplot as plt\n",
    "import pandas as pd\n",
    "from sklearn import cluster, datasets\n",
    "import seaborn as sns\n",
    "import os, subprocess\n",
    "import datetime, time\n",
    "import pickle"
   ]
  },
  {
   "cell_type": "code",
   "execution_count": 3,
   "metadata": {
    "colab": {
     "base_uri": "https://localhost:8080/",
     "height": 52
    },
    "colab_type": "code",
    "id": "bFxfXnFh2taT",
    "outputId": "d0d94d02-e693-4cde-cd87-2dc51c77b129"
   },
   "outputs": [
    {
     "name": "stdout",
     "output_type": "stream",
     "text": [
      "Start time:  1586854168.0601022\n",
      "Start datetime:  2020-04-14 14:19:28.060165\n"
     ]
    }
   ],
   "source": [
    "start_time = time.time()\n",
    "start_datetime = datetime.datetime.now()\n",
    "print(\"Start time: \", start_time)\n",
    "print(\"Start datetime: \", start_datetime)\n",
    "# print(datetime.datetime.now()-start_datetime)"
   ]
  },
  {
   "cell_type": "markdown",
   "metadata": {
    "colab_type": "text",
    "id": "X2T_-VrUzBVt"
   },
   "source": [
    "#File Settings"
   ]
  },
  {
   "cell_type": "code",
   "execution_count": 4,
   "metadata": {
    "colab": {
     "base_uri": "https://localhost:8080/"
    },
    "colab_type": "code",
    "id": "fAi1m08zhHLn",
    "outputId": "1e03b451-0705-4b84-9e6e-449141acfb97"
   },
   "outputs": [
    {
     "name": "stdout",
     "output_type": "stream",
     "text": [
      "Length of Smalllist:  116\n"
     ]
    }
   ],
   "source": [
    "oldlist = os.listdir(embedDir)\n",
    "filelist = sorted([embedDir+f for f in oldlist if f[-3:]==\"pkl\"])\n",
    "filenum = len(filelist)\n",
    "smalllist = filelist[:filenum]\n",
    "print(\"Length of Smalllist: \", len(smalllist))"
   ]
  },
  {
   "cell_type": "markdown",
   "metadata": {
    "colab_type": "text",
    "id": "Verw6R-QVK24"
   },
   "source": [
    "#Number of Records\n",
    "It is Recommended to Set this at the top parameters"
   ]
  },
  {
   "cell_type": "code",
   "execution_count": 5,
   "metadata": {
    "colab": {},
    "colab_type": "code",
    "id": "1KLrsnyYVN0R"
   },
   "outputs": [],
   "source": [
    "recnum = recnum"
   ]
  },
  {
   "cell_type": "markdown",
   "metadata": {
    "colab_type": "text",
    "id": "fN1QgBS0hHL1"
   },
   "source": [
    "#Read all the pandas dataframes"
   ]
  },
  {
   "cell_type": "code",
   "execution_count": 6,
   "metadata": {
    "colab": {
     "base_uri": "https://localhost:8080/"
    },
    "colab_type": "code",
    "id": "opx4vfnfhHL4",
    "outputId": "4de12cfa-fe83-4811-c5aa-b25e965ed72f"
   },
   "outputs": [
    {
     "name": "stdout",
     "output_type": "stream",
     "text": [
      "randomsample:  False\n",
      "megadf.shape:  (3000, 4)\n",
      "CPU times: user 95.3 ms, sys: 31.7 ms, total: 127 ms\n",
      "Wall time: 129 ms\n"
     ]
    }
   ],
   "source": [
    "%%time\n",
    "megadf = pd.DataFrame()\n",
    "\n",
    "if randomsample == True:\n",
    "    print(\"randomsample: \", randomsample)\n",
    "    for f in smalllist:\n",
    "        tempdf = pd.read_pickle(f)\n",
    "        megadf = megadf.append(tempdf, ignore_index = True)\n",
    "    megadf = megadf.sample(recnum, random_state=42)\n",
    "else:\n",
    "    print(\"randomsample: \", randomsample)\n",
    "    for f in smalllist:\n",
    "        tempdf = pd.read_pickle(f)\n",
    "        megadf = megadf.append(tempdf, ignore_index = True)\n",
    "        if megadf.shape[0] >= recnum:\n",
    "            megadf = megadf[:recnum]\n",
    "            break\n",
    "\n",
    "print(\"megadf.shape: \", megadf.shape)"
   ]
  },
  {
   "cell_type": "code",
   "execution_count": 7,
   "metadata": {
    "colab": {
     "base_uri": "https://localhost:8080/"
    },
    "colab_type": "code",
    "id": "AH7_54wfhHMH",
    "outputId": "e234ab86-7a01-47b6-cb23-c073e10fbf3b"
   },
   "outputs": [
    {
     "name": "stdout",
     "output_type": "stream",
     "text": [
      "(3000, 250)\n"
     ]
    }
   ],
   "source": [
    "predata = megadf[\"embedding\"]\n",
    "data = np.matrix(predata.to_list())\n",
    "print(data.shape)"
   ]
  },
  {
   "cell_type": "markdown",
   "metadata": {
    "colab_type": "text",
    "id": "AHw4QXjahHMV"
   },
   "source": [
    "#Number of Clusters\n",
    "It is Recommended to Set this at the top parameters"
   ]
  },
  {
   "cell_type": "code",
   "execution_count": 8,
   "metadata": {
    "colab": {
     "base_uri": "https://localhost:8080/"
    },
    "colab_type": "code",
    "id": "NDTDoVfhhHMa",
    "outputId": "6834227e-c968-4fe6-a288-3e502641167a"
   },
   "outputs": [
    {
     "name": "stdout",
     "output_type": "stream",
     "text": [
      "usesqrt:  False\n",
      "k:  50\n"
     ]
    }
   ],
   "source": [
    "if usesqrt == True:\n",
    "    print(\"usesqrt: \", usesqrt)\n",
    "    sqrt_k = int(np.sqrt(data.shape[0]))\n",
    "    k = int(sqrt_k)\n",
    "else:\n",
    "    print(\"usesqrt: \", usesqrt)\n",
    "    k = k\n",
    "print(\"k: \", k)"
   ]
  },
  {
   "cell_type": "markdown",
   "metadata": {
    "colab_type": "text",
    "id": "KGn8OXrj2CJQ"
   },
   "source": [
    "#Clustering"
   ]
  },
  {
   "cell_type": "code",
   "execution_count": 9,
   "metadata": {
    "colab": {
     "base_uri": "https://localhost:8080/",
     "height": 104
    },
    "colab_type": "code",
    "id": "bQYesl8uhHMk",
    "outputId": "6b0bad20-a06c-40f3-a8c5-322bed5d81ce"
   },
   "outputs": [
    {
     "name": "stdout",
     "output_type": "stream",
     "text": [
      "Starting Clustering Process\n",
      "Done\n",
      "k_means.fit(data) Done!\n",
      "CPU times: user 261 ms, sys: 57.2 ms, total: 319 ms\n",
      "Wall time: 6.33 s\n"
     ]
    }
   ],
   "source": [
    "%%time\n",
    "print(\"Starting Clustering Process\")\n",
    "model = cluster.KMeans(n_clusters=k, n_init = 20, max_iter=1000, verbose=1, n_jobs=-1)\n",
    "model.fit(data)\n",
    "print(\"Done\")\n",
    "print(\"k_means.fit(data) Done!\")"
   ]
  },
  {
   "cell_type": "markdown",
   "metadata": {
    "colab_type": "text",
    "id": "CArLi48A6ABy"
   },
   "source": [
    "###Saving the output data into vars"
   ]
  },
  {
   "cell_type": "code",
   "execution_count": 10,
   "metadata": {
    "colab": {},
    "colab_type": "code",
    "id": "QIfHjjLShHM8"
   },
   "outputs": [],
   "source": [
    "centroids = model.cluster_centers_\n",
    "labels = model.labels_\n",
    "megadf[\"clusterlabel\"]=labels\n",
    "centroidDF = pd.DataFrame(centroids)\n"
   ]
  },
  {
   "cell_type": "markdown",
   "metadata": {
    "colab_type": "text",
    "id": "katJKlYX3DVA"
   },
   "source": [
    "#Plotting"
   ]
  },
  {
   "cell_type": "code",
   "execution_count": 11,
   "metadata": {
    "colab": {
     "base_uri": "https://localhost:8080/"
    },
    "colab_type": "code",
    "id": "5RdhXBYhhHNG",
    "outputId": "ff87a9c6-03d2-4527-d0b0-710176d17b6a",
    "scrolled": true
   },
   "outputs": [
    {
     "data": {
      "text/plain": [
       "Text(0.5, 1.0, 'KMEANS with k=50 records=3000 features=250 using glove')"
      ]
     },
     "execution_count": 11,
     "metadata": {},
     "output_type": "execute_result"
    },
    {
     "data": {
      "image/png": "[encoded data removed]",
      "text/plain": [
       "<Figure size 1152x1152 with 1 Axes>"
      ]
     },
     "metadata": {
      "needs_background": "light"
     },
     "output_type": "display_data"
    }
   ],
   "source": [
    "plt.figure(figsize=(16,16))\n",
    "titlestring = \"{} with k={} records={} features={} using {}\".format(__algo__, k, data.shape[0], data.shape[1], __emb__)\n",
    "snsplot = sns.countplot(\"clusterlabel\", data=megadf)\n",
    "snsplot.xaxis.label.set_size(20)\n",
    "snsplot.yaxis.label.set_size(20)\n",
    "plt.title(\n",
    "        titlestring,\n",
    "        fontdict = {'fontsize' : 30}\n",
    "    )"
   ]
  },
  {
   "cell_type": "markdown",
   "metadata": {},
   "source": [
    "*Name given to save files*"
   ]
  },
  {
   "cell_type": "code",
   "execution_count": 12,
   "metadata": {
    "scrolled": true
   },
   "outputs": [
    {
     "data": {
      "text/plain": [
       "'KMEANS_glove_pmeans5_K50_R3000_F250'"
      ]
     },
     "execution_count": 12,
     "metadata": {},
     "output_type": "execute_result"
    }
   ],
   "source": [
    "name = \"{}_{}_{}_K{}_R{}_F{}\".format(__algo__, __emb__, __sentemb__, k, data.shape[0], data.shape[1])\n",
    "name"
   ]
  },
  {
   "cell_type": "markdown",
   "metadata": {
    "colab_type": "text",
    "id": "Auz4Iqgh4Run"
   },
   "source": [
    "#Saving Data"
   ]
  },
  {
   "cell_type": "markdown",
   "metadata": {},
   "source": [
    "Save model"
   ]
  },
  {
   "cell_type": "code",
   "execution_count": 13,
   "metadata": {},
   "outputs": [],
   "source": [
    "modelname = \"{}_model.pkl\".format(name)\n",
    "pickle.dump(model, open(modelDir + modelname, 'wb'))"
   ]
  },
  {
   "cell_type": "markdown",
   "metadata": {},
   "source": [
    "Save Plot"
   ]
  },
  {
   "cell_type": "code",
   "execution_count": 14,
   "metadata": {
    "colab": {},
    "colab_type": "code",
    "id": "l0RRWXwvQ9jz"
   },
   "outputs": [],
   "source": [
    "snspltname = \"{}_plt.png\".format(name)\n",
    "snsplot.figure.savefig(plotDir + snspltname)"
   ]
  },
  {
   "cell_type": "markdown",
   "metadata": {},
   "source": [
    "Save Megadf"
   ]
  },
  {
   "cell_type": "code",
   "execution_count": 15,
   "metadata": {
    "colab": {},
    "colab_type": "code",
    "id": "ZLHiM-gclArn"
   },
   "outputs": [],
   "source": [
    "clusterdfname = \"{}_clustered_megadf.pkl\".format(name)\n",
    "megadf.to_pickle(megadfDir + clusterdfname)"
   ]
  },
  {
   "cell_type": "markdown",
   "metadata": {},
   "source": [
    "Save Centroids"
   ]
  },
  {
   "cell_type": "code",
   "execution_count": 16,
   "metadata": {
    "colab": {},
    "colab_type": "code",
    "id": "N8MsneQ_vx4H"
   },
   "outputs": [
    {
     "name": "stdout",
     "output_type": "stream",
     "text": [
      "(50, 250)\n",
      "RangeIndex(start=0, stop=250, step=1)\n"
     ]
    }
   ],
   "source": [
    "centroidDF = pd.DataFrame(centroids)\n",
    "centroidDFname = \"{}_centroids.pkl\".format(name)\n",
    "centroidDF.to_pickle(megadfDir + centroidDFname)\n",
    "print(centroidDF.shape)\n",
    "print(centroidDF.columns)"
   ]
  },
  {
   "cell_type": "markdown",
   "metadata": {
    "colab_type": "text",
    "id": "x35sOox64Lme"
   },
   "source": [
    "#Total Time to Exec"
   ]
  },
  {
   "cell_type": "code",
   "execution_count": 17,
   "metadata": {
    "colab": {
     "base_uri": "https://localhost:8080/"
    },
    "colab_type": "code",
    "id": "Fg2D3Fsww94W",
    "outputId": "e52fb623-13bd-49a0-e8d0-bb44220cc774"
   },
   "outputs": [
    {
     "name": "stdout",
     "output_type": "stream",
     "text": [
      "end_datetime:  2020-04-14 14:19:35.775546\n",
      "done! 7.72\n",
      "Time taken:  0:00:07.715381\n"
     ]
    }
   ],
   "source": [
    "end_time = time.time()\n",
    "end_datetime = datetime.datetime.now()\n",
    "# print(\"end_time:\",  end_time)\n",
    "print(\"end_datetime: \", end_datetime)\n",
    "print(\"done! {}\".format(round(end_time-start_time, 2)))\n",
    "print(\"Time taken: \", str(end_datetime-start_datetime))"
   ]
  },
  {
   "cell_type": "markdown",
   "metadata": {
    "colab_type": "text",
    "id": "P0kYelyC5NqY"
   },
   "source": [
    "#Open dataframe in colab"
   ]
  },
  {
   "cell_type": "code",
   "execution_count": 18,
   "metadata": {
    "colab": {
     "base_uri": "https://localhost:8080/"
    },
    "colab_type": "code",
    "id": "VvsuuCMaQEj4",
    "outputId": "5b11f4b6-275c-441c-ebab-130b39dccf5a",
    "scrolled": false
   },
   "outputs": [
    {
     "data": {
      "text/html": [
       "<div>\n",
       "<style scoped>\n",
       "    .dataframe tbody tr th:only-of-type {\n",
       "        vertical-align: middle;\n",
       "    }\n",
       "\n",
       "    .dataframe tbody tr th {\n",
       "        vertical-align: top;\n",
       "    }\n",
       "\n",
       "    .dataframe thead th {\n",
       "        text-align: right;\n",
       "    }\n",
       "</style>\n",
       "<table border=\"1\" class=\"dataframe\">\n",
       "  <thead>\n",
       "    <tr style=\"text-align: right;\">\n",
       "      <th></th>\n",
       "      <th>id</th>\n",
       "      <th>title</th>\n",
       "      <th>abstract</th>\n",
       "      <th>clusterlabel</th>\n",
       "    </tr>\n",
       "  </thead>\n",
       "  <tbody>\n",
       "    <tr>\n",
       "      <td>2995</td>\n",
       "      <td>1588822</td>\n",
       "      <td>Defining the clinical role of the mammalian ta...</td>\n",
       "      <td>[lung, cancer, biggest, cancer, killer, patien...</td>\n",
       "      <td>11</td>\n",
       "    </tr>\n",
       "    <tr>\n",
       "      <td>2996</td>\n",
       "      <td>1588823</td>\n",
       "      <td>Bio-functionalised nanoparticles for enzyme se...</td>\n",
       "      <td>[inorganic, nanoparticles, accompanying, diver...</td>\n",
       "      <td>11</td>\n",
       "    </tr>\n",
       "    <tr>\n",
       "      <td>2997</td>\n",
       "      <td>1588824</td>\n",
       "      <td>Lithological mapping on the Antarctic Peninsul...</td>\n",
       "      <td>[antarctic, peninsula, larger, uk, limited, ge...</td>\n",
       "      <td>47</td>\n",
       "    </tr>\n",
       "    <tr>\n",
       "      <td>2998</td>\n",
       "      <td>1588825</td>\n",
       "      <td>WWOX, tumour suppressor and modifier gene, as ...</td>\n",
       "      <td>[wwox, tumour, suppressor, gene, demonstrated,...</td>\n",
       "      <td>11</td>\n",
       "    </tr>\n",
       "    <tr>\n",
       "      <td>2999</td>\n",
       "      <td>1588826</td>\n",
       "      <td>Improving efficiency in drive lines : an exper...</td>\n",
       "      <td>[research, concern, improvement, power, effici...</td>\n",
       "      <td>2</td>\n",
       "    </tr>\n",
       "  </tbody>\n",
       "</table>\n",
       "</div>"
      ],
      "text/plain": [
       "           id                                              title  \\\n",
       "2995  1588822  Defining the clinical role of the mammalian ta...   \n",
       "2996  1588823  Bio-functionalised nanoparticles for enzyme se...   \n",
       "2997  1588824  Lithological mapping on the Antarctic Peninsul...   \n",
       "2998  1588825  WWOX, tumour suppressor and modifier gene, as ...   \n",
       "2999  1588826  Improving efficiency in drive lines : an exper...   \n",
       "\n",
       "                                               abstract  clusterlabel  \n",
       "2995  [lung, cancer, biggest, cancer, killer, patien...            11  \n",
       "2996  [inorganic, nanoparticles, accompanying, diver...            11  \n",
       "2997  [antarctic, peninsula, larger, uk, limited, ge...            47  \n",
       "2998  [wwox, tumour, suppressor, gene, demonstrated,...            11  \n",
       "2999  [research, concern, improvement, power, effici...             2  "
      ]
     },
     "execution_count": 18,
     "metadata": {},
     "output_type": "execute_result"
    }
   ],
   "source": [
    "sub = megadf.loc[:, [\"id\", \"title\", \"abstract\", \"clusterlabel\"]]\n",
    "sub.tail()"
   ]
  },
  {
   "cell_type": "code",
   "execution_count": 19,
   "metadata": {},
   "outputs": [
    {
     "data": {
      "text/plain": [
       "Index(['id', 'title', 'abstract', 'embedding', 'clusterlabel'], dtype='object')"
      ]
     },
     "execution_count": 19,
     "metadata": {},
     "output_type": "execute_result"
    }
   ],
   "source": [
    "megadf.columns"
   ]
  },
  {
   "cell_type": "code",
   "execution_count": null,
   "metadata": {},
   "outputs": [],
   "source": []
  }
 ],
 "metadata": {
  "colab": {
   "collapsed_sections": [],
   "include_colab_link": true,
   "name": "TemplateClusterKEuclid.ipynb",
   "provenance": []
  },
  "file_extension": ".py",
  "kernelspec": {
   "display_name": "Python 3.7.4 64-bit ('base': conda)",
   "language": "python",
   "name": "python37464bitbasecondaccb10e44a6224ec5a8090d4d6e72e602"
  },
  "language_info": {
   "codemirror_mode": {
    "name": "ipython",
    "version": 3
   },
   "file_extension": ".py",
   "mimetype": "text/x-python",
   "name": "python",
   "nbconvert_exporter": "python",
   "pygments_lexer": "ipython3",
   "version": "3.7.4"
  },
  "mimetype": "text/x-python",
  "name": "python",
  "npconvert_exporter": "python",
  "pygments_lexer": "ipython3",
  "version": 3
 },
 "nbformat": 4,
 "nbformat_minor": 1
}

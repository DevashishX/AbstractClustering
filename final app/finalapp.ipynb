{
 "cells": [
  {
   "cell_type": "code",
   "execution_count": 1,
   "metadata": {},
   "outputs": [],
   "source": [
    "import numpy as np\n",
    "import matplotlib.pyplot as plt\n",
    "import pandas as pd\n",
    "from sklearn import cluster, datasets\n",
    "import seaborn as sns\n",
    "import json\n",
    "import sys\n",
    "import codecs\n",
    "import os\n",
    "from collections import defaultdict, Counter\n",
    "import pickle\n",
    "from scipy.spatial.distance import cosine "
   ]
  },
  {
   "cell_type": "markdown",
   "metadata": {},
   "source": [
    "## Load the clusttering model"
   ]
  },
  {
   "cell_type": "code",
   "execution_count": 2,
   "metadata": {},
   "outputs": [
    {
     "output_type": "stream",
     "name": "stdout",
     "text": "KMEANS_glove_pmeans5_K50_R3000_F250_model.pkl is loaded.\n"
    }
   ],
   "source": [
    "#load the desired model from ./models\n",
    "modeldir_path = \"../models/\"\n",
    "model_name = \"KMEANS_glove_pmeans5_K50_R3000_F250_model.pkl\" #enter model name here\n",
    "clustter_model = pickle.load(open(modeldir_path+model_name, \"rb\"))\n",
    "print(model_name+\" is loaded.\")\n",
    ""
   ]
  },
  {
   "cell_type": "markdown",
   "metadata": {},
   "source": [
    "## Load the MegaDF"
   ]
  },
  {
   "cell_type": "code",
   "execution_count": 3,
   "metadata": {},
   "outputs": [],
   "source": [
    "megadf_dir = \"../MegaDfs/\"\n",
    "megadf_name = \"KMEANS_glove_pmeans5_K50_R3000_F250_clustered_megadf.pkl\"  #enter megadf name\n",
    "megadf = pd.DataFrame()\n",
    "megadf = pickle.load(open(megadf_dir+megadf_name, \"rb\"))"
   ]
  },
  {
   "cell_type": "code",
   "execution_count": 25,
   "metadata": {},
   "outputs": [
    {
     "output_type": "stream",
     "name": "stdout",
     "text": "soft coral could drifa glomerata fam alcyoniidae capnella glomerata fam nephtheidae\n"
    }
   ],
   "source": [
    "newabs = \" \".join(megadf[\"abstract\"].iloc[0])\n",
    "print(newabs)"
   ]
  },
  {
   "cell_type": "markdown",
   "metadata": {},
   "source": [
    "## Get the list of abstracts to clustter "
   ]
  },
  {
   "cell_type": "code",
   "execution_count": 5,
   "metadata": {},
   "outputs": [],
   "source": [
    "new_abstract_list = []   #enter abstract here\n",
    "newabs = input(\"Enter the abstract\\n\")\n",
    ""
   ]
  },
  {
   "cell_type": "markdown",
   "metadata": {},
   "source": [
    "## Generate sentence embedding of the abstract"
   ]
  },
  {
   "cell_type": "code",
   "execution_count": 26,
   "metadata": {},
   "outputs": [
    {
     "output_type": "stream",
     "name": "stdout",
     "text": "Loading Model\nDone! Model Loaded. Vector Size is 50\nEmbeding the abstract.\nEmbedding Done!\n"
    }
   ],
   "source": [
    "from basiclib.preprocessing import preproc\n",
    "from basiclib.word_embedding import GloveVectors #chose the word embedding\n",
    "from basiclib.sentence_embedding import get_pmeans\n",
    "\n",
    "#load word embedding model\n",
    "glovefile = \"../dataset/glove.6B.50d.txt\"\n",
    "glove = GloveVectors(glovefile)\n",
    "\n",
    "print(\"Embeding the abstract.\")\n",
    "newabs_embedding = get_pmeans(glove.get_embeddings(preproc(newabs))) \n",
    "\n",
    "print(\"Embedding Done!\")\n",
    "\n",
    "\n",
    ""
   ]
  },
  {
   "cell_type": "code",
   "execution_count": 27,
   "metadata": {},
   "outputs": [
    {
     "output_type": "stream",
     "name": "stdout",
     "text": "(250,)\n"
    }
   ],
   "source": [
    "print(newabs_embedding.shape)"
   ]
  },
  {
   "cell_type": "code",
   "execution_count": null,
   "metadata": {},
   "outputs": [],
   "source": []
  },
  {
   "cell_type": "markdown",
   "metadata": {},
   "source": [
    "## Predicting the clustter using the model and finding nearest 5 papers in that clustter"
   ]
  },
  {
   "cell_type": "code",
   "execution_count": 28,
   "metadata": {},
   "outputs": [],
   "source": [
    "def cos_dis(x):\n",
    "    global newabs_embedding\n",
    "    return cosine(x, newabs_embedding)"
   ]
  },
  {
   "cell_type": "code",
   "execution_count": 30,
   "metadata": {},
   "outputs": [
    {
     "output_type": "stream",
     "name": "stdout",
     "text": "<class 'pandas.core.frame.DataFrame'>\nInt64Index: 49 entries, 0 to 177\nData columns (total 6 columns):\n #   Column        Non-Null Count  Dtype  \n---  ------        --------------  -----  \n 0   id            49 non-null     int64  \n 1   title         49 non-null     object \n 2   abstract      49 non-null     object \n 3   embedding     49 non-null     object \n 4   clusterlabel  49 non-null     int32  \n 5   Dist2New      49 non-null     float64\ndtypes: float64(1), int32(1), int64(1), object(3)\nmemory usage: 2.5+ KB\n"
    }
   ],
   "source": [
    "newabs_clustterlabel = clustter_model.predict([newabs_embedding,])[0]\n",
    "newabs_clustter_df = megadf[megadf[\"clusterlabel\"] == newabs_clustterlabel]\n",
    "newabs_clustter_df[\"Dist2New\"] = newabs_clustter_df[\"embedding\"].apply(cos_dis)\n",
    "newabs_clustter_df = newabs_clustter_df.sort_values(by = \"Dist2New\")\n",
    "newabs_clustter_df.info()\n",
    "\n",
    ""
   ]
  }
 ],
 "metadata": {
  "file_extension": ".py",
  "kernelspec": {
   "display_name": "Python 3",
   "language": "python",
   "name": "python3"
  },
  "language_info": {
   "codemirror_mode": {
    "name": "ipython",
    "version": 3
   },
   "file_extension": ".py",
   "mimetype": "text/x-python",
   "name": "python",
   "nbconvert_exporter": "python",
   "pygments_lexer": "ipython3",
   "version": "3.7.6-final"
  },
  "mimetype": "text/x-python",
  "name": "python",
  "npconvert_exporter": "python",
  "pygments_lexer": "ipython3",
  "version": 3
 },
 "nbformat": 4,
 "nbformat_minor": 2
}
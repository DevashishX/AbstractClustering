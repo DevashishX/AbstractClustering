{
 "cells": [
  {
   "cell_type": "markdown",
   "metadata": {
    "colab_type": "text",
    "id": "NC2xDkxvIbdS"
   },
   "source": [
    "Make sure that the folder in which you want to save actually exists beforehand\n",
    "\n",
    "Be sure to mount your drive if you want to save to your drive folder\n"
   ]
  },
  {
   "cell_type": "code",
   "execution_count": 3,
   "metadata": {
    "colab": {
     "base_uri": "https://localhost:8080/",
     "height": 124
    },
    "colab_type": "code",
    "id": "W0Ki1amiLHJf",
    "outputId": "a937cafe-a00e-492c-873d-92fd95cbb1b6"
   },
   "outputs": [],
   "source": [
    "# from google.colab import drive\n",
    "# drive.mount('/content/drive')"
   ]
  },
  {
   "cell_type": "markdown",
   "metadata": {
    "colab_type": "text",
    "id": "xbSDqo7wK7TZ"
   },
   "source": [
    "#Finding the optimal K using silhoutte score"
   ]
  },
  {
   "cell_type": "markdown",
   "metadata": {
    "colab_type": "text",
    "id": "n6yRKl7Nx8NV"
   },
   "source": [
    "#***Set parameters***"
   ]
  },
  {
   "cell_type": "code",
   "execution_count": 4,
   "metadata": {
    "colab": {},
    "colab_type": "code",
    "id": "RLla__P2wqVL"
   },
   "outputs": [],
   "source": [
    "__algo__ = \"OptimalK\" #Name of the algorithm\n",
    "recnum = 10000 #Number of records to be read from files\n",
    "kmax = 500 #Max number of clusters\n",
    "\n",
    "usesqrt = False #Set value of k to sqrt of recnum\n",
    "randomsample = True #Sampling to be True/False for reacords which are read\n",
    "\n",
    "\n",
    "# mention ./ at the start of folder and /. at the end\n",
    "# example \"./testfolder/.\"\n",
    "# savefolder = \"./OptiK/.\"\n",
    "# # savefolder = \"./TestFolder/.\""
   ]
  },
  {
   "cell_type": "markdown",
   "metadata": {
    "colab_type": "text",
    "id": "yFgCtBa6hjJE"
   },
   "source": [
    "#Bash Code\n",
    "Git all the Required Files"
   ]
  },
  {
   "cell_type": "code",
   "execution_count": 5,
   "metadata": {
    "colab": {
     "base_uri": "https://localhost:8080/",
     "height": 920
    },
    "colab_type": "code",
    "id": "8xcIo5MshifC",
    "outputId": "2d90aea0-6a92-42b4-96e7-a96662381f17",
    "scrolled": true
   },
   "outputs": [],
   "source": [
    "# !git clone https://github.com/DevashishX/AbstractClustering.git;\n",
    "# !cp -r AbstractClustering/* ./.\n",
    "# !ls -alFh"
   ]
  },
  {
   "cell_type": "markdown",
   "metadata": {
    "colab_type": "text",
    "id": "LGy8jsWQx0nS"
   },
   "source": [
    "#Actual Code"
   ]
  },
  {
   "cell_type": "markdown",
   "metadata": {
    "colab_type": "text",
    "id": "II0jpbbTzD8M"
   },
   "source": [
    "#imports and time"
   ]
  },
  {
   "cell_type": "code",
   "execution_count": 6,
   "metadata": {
    "colab": {},
    "colab_type": "code",
    "id": "wkS4KGOphHK4"
   },
   "outputs": [],
   "source": [
    "import numpy as np\n",
    "import matplotlib.pyplot as plt\n",
    "import pandas as pd\n",
    "from sklearn import cluster, datasets\n",
    "import seaborn as sns\n",
    "import os, subprocess\n",
    "import pickle\n",
    "import datetime, time\n"
   ]
  },
  {
   "cell_type": "code",
   "execution_count": 7,
   "metadata": {
    "colab": {
     "base_uri": "https://localhost:8080/",
     "height": 52
    },
    "colab_type": "code",
    "id": "bFxfXnFh2taT",
    "outputId": "bff9b582-691f-4626-e5c0-d8da42ae50af"
   },
   "outputs": [
    {
     "name": "stdout",
     "output_type": "stream",
     "text": [
      "start_time:  1582989287.783227\n",
      "start_datetime:  2020-02-29 20:44:47.783271\n"
     ]
    }
   ],
   "source": [
    "start_time = time.time()\n",
    "start_datetime = datetime.datetime.now()\n",
    "print(\"start_time: \", start_time)\n",
    "print(\"start_datetime: \", start_datetime)\n",
    "# print(datetime.datetime.now()-start_datetime)"
   ]
  },
  {
   "cell_type": "markdown",
   "metadata": {
    "colab_type": "text",
    "id": "X2T_-VrUzBVt"
   },
   "source": [
    "#File Settings"
   ]
  },
  {
   "cell_type": "code",
   "execution_count": 8,
   "metadata": {
    "colab": {
     "base_uri": "https://localhost:8080/",
     "height": 34
    },
    "colab_type": "code",
    "id": "fAi1m08zhHLn",
    "outputId": "6440162f-6d90-4216-8f85-16ffcbdefb05"
   },
   "outputs": [
    {
     "name": "stdout",
     "output_type": "stream",
     "text": [
      "Length of Smalllist:  116\n"
     ]
    }
   ],
   "source": [
    "embedDir = \"./MegaSentEmbs/\"\n",
    "dumpdir = \"./dump/\"\n",
    "oldlist = os.listdir(embedDir)\n",
    "filelist = sorted([embedDir+f for f in oldlist if f[-3:]==\"pkl\"])\n",
    "filenum = int(len(filelist))\n",
    "# filenum = 5\n",
    "smalllist = filelist[:filenum]\n",
    "print(\"Length of Smalllist: \", len(smalllist))"
   ]
  },
  {
   "cell_type": "markdown",
   "metadata": {
    "colab_type": "text",
    "id": "Verw6R-QVK24"
   },
   "source": [
    "#Number of Records\n",
    "It is Recommended to Set this at the top parameters"
   ]
  },
  {
   "cell_type": "code",
   "execution_count": 9,
   "metadata": {
    "colab": {},
    "colab_type": "code",
    "id": "1KLrsnyYVN0R"
   },
   "outputs": [],
   "source": [
    "recnum = recnum"
   ]
  },
  {
   "cell_type": "markdown",
   "metadata": {
    "colab_type": "text",
    "id": "fN1QgBS0hHL1"
   },
   "source": [
    "#Read all the pandas dataframes"
   ]
  },
  {
   "cell_type": "code",
   "execution_count": 10,
   "metadata": {
    "colab": {
     "base_uri": "https://localhost:8080/",
     "height": 243
    },
    "colab_type": "code",
    "id": "opx4vfnfhHL4",
    "outputId": "0f5760b6-799a-48cd-fb08-e4eafd99d73c"
   },
   "outputs": [
    {
     "name": "stdout",
     "output_type": "stream",
     "text": [
      "randomsample:  True\n",
      "megadf.shape:  (10000, 4)\n",
      "megadf.head:\n",
      "              id                                              title  \\\n",
      "267625  1586358  Health professionals and ethnic Pakistanis in ...   \n",
      "132693  1514579                    Web Analysis and Design - Build   \n",
      "42457   1352013  The host of GRB 060206 : kinematics of a dista...   \n",
      "11052   9050181  Postexercise Muscle Glycogen Synthesis with Co...   \n",
      "13984    397771  Development of a mixed boundary environment fo...   \n",
      "\n",
      "                                                 abstract  \\\n",
      "267625  [central, theme, red, thread, consider, thesis...   \n",
      "132693  [reading, material, form, part, build, topic, ...   \n",
      "42457   [context, grb, afterglow, spectrum, sensitive,...   \n",
      "11052   [purpose, evaluate, efficacy, using, combined,...   \n",
      "13984   [geometrically, axi, symmetric, system, freque...   \n",
      "\n",
      "                                                embedding  \n",
      "267625  [0.2519249216165414, 0.098715185112782, -0.218...  \n",
      "132693  [0.45556149999999995, 0.46300600000000003, 0.1...  \n",
      "42457   [0.3578503426774432, 0.19982163346099166, 0.19...  \n",
      "11052   [0.1143842923148343, 0.10179413176365848, 0.07...  \n",
      "13984   [0.3376635693894921, -0.039414062713478144, 0....  \n",
      "CPU times: user 9.21 s, sys: 6.91 s, total: 16.1 s\n",
      "Wall time: 23.4 s\n"
     ]
    }
   ],
   "source": [
    "%%time\n",
    "megadf = pd.DataFrame()\n",
    "\n",
    "if randomsample == True:\n",
    "    print(\"randomsample: \", randomsample)\n",
    "    for f in smalllist:\n",
    "        tempdf = pd.read_pickle(f)\n",
    "        megadf = megadf.append(tempdf, ignore_index = True)\n",
    "    megadf = megadf.sample(recnum, random_state=42)\n",
    "else:\n",
    "    print(\"randomsample: \", randomsample)\n",
    "    for f in smalllist:\n",
    "        tempdf = pd.read_pickle(f)\n",
    "        megadf = megadf.append(tempdf, ignore_index = True)\n",
    "        if megadf.shape[0] >= recnum:\n",
    "            megadf = megadf[:recnum]\n",
    "            break\n",
    "\n",
    "print(\"megadf.shape: \", megadf.shape)\n",
    "print(\"megadf.head:\\n\", megadf.head())"
   ]
  },
  {
   "cell_type": "code",
   "execution_count": 11,
   "metadata": {
    "colab": {
     "base_uri": "https://localhost:8080/",
     "height": 34
    },
    "colab_type": "code",
    "id": "AH7_54wfhHMH",
    "outputId": "e89d2866-3394-4f69-d6f4-bc468a6c3d62"
   },
   "outputs": [
    {
     "name": "stdout",
     "output_type": "stream",
     "text": [
      "(10000, 250)\n"
     ]
    }
   ],
   "source": [
    "predata = megadf[\"embedding\"]\n",
    "data = np.matrix(predata.to_list())\n",
    "print(data.shape)"
   ]
  },
  {
   "cell_type": "markdown",
   "metadata": {
    "colab_type": "text",
    "id": "AHw4QXjahHMV"
   },
   "source": [
    "#Number of Clusters\n",
    "It is Recommended to Set this at the top parameters"
   ]
  },
  {
   "cell_type": "code",
   "execution_count": 48,
   "metadata": {
    "colab": {
     "base_uri": "https://localhost:8080/",
     "height": 34
    },
    "colab_type": "code",
    "id": "NDTDoVfhhHMa",
    "outputId": "7cf573ef-76d5-4c6a-975a-aef3a6457dd3"
   },
   "outputs": [
    {
     "name": "stdout",
     "output_type": "stream",
     "text": [
      "Kmax is  10\n"
     ]
    }
   ],
   "source": [
    "from sklearn.metrics import silhouette_score\n",
    "savedict = {\"k\" : [], \"silhouette_score\" : [], \"time\" : [], \"seconds\" : []}\n",
    "goodk = 0\n",
    "goodss = 0\n",
    "kmax = 10\n",
    "print(\"Kmax is \", kmax)"
   ]
  },
  {
   "cell_type": "markdown",
   "metadata": {
    "colab_type": "text",
    "id": "KGn8OXrj2CJQ"
   },
   "source": [
    "#Clustering"
   ]
  },
  {
   "cell_type": "code",
   "execution_count": 53,
   "metadata": {
    "colab": {
     "base_uri": "https://localhost:8080/",
     "height": 505
    },
    "colab_type": "code",
    "id": "bQYesl8uhHMk",
    "outputId": "703b7e69-e96e-467c-fa15-67a20b74286c"
   },
   "outputs": [
    {
     "name": "stdout",
     "output_type": "stream",
     "text": [
      "k = 2 done! time taken: 0:00:03.758433 silhouette_score: 0.1868668430609199\n",
      "k = 3 done! time taken: 0:00:02.646069 silhouette_score: 0.1804656642441156\n",
      "k = 4 done! time taken: 0:00:03.641755 silhouette_score: 0.08838869344849443\n",
      "k = 5 done! time taken: 0:00:04.024076 silhouette_score: 0.09419281672756603\n",
      "k = 6 done! time taken: 0:00:05.921001 silhouette_score: 0.10251744235636334\n",
      "k = 7 done! time taken: 0:00:08.439336 silhouette_score: 0.0909170239987939\n",
      "k = 8 done! time taken: 0:00:07.627784 silhouette_score: 0.08116578598756916\n",
      "k = 9 done! time taken: 0:00:06.638518 silhouette_score: 0.07627823499950719\n",
      "k = 10 done! time taken: 0:00:07.003149 silhouette_score: 0.0861192833867731\n",
      "Calculating clusters for K done\n",
      "CPU times: user 23.1 s, sys: 2.17 s, total: 25.3 s\n",
      "Wall time: 1min 3s\n"
     ]
    }
   ],
   "source": [
    "%%time\n",
    "savedict = {\"k\" : [], \"silhouette_score\" : [], \"time\" : [], \"seconds\" : []}\n",
    "for k in range(2, kmax+1):\n",
    "    # print(\"Starting Clustering Process for k = {}\".format(k))\n",
    "    fit_start_datetime = datetime.datetime.now()\n",
    "    model = cluster.KMeans(n_clusters=k, verbose=1, n_jobs=-1)\n",
    "    model.fit(data)\n",
    "    fit_end_datetime = datetime.datetime.now()\n",
    "    total_fit_datetime = fit_end_datetime - fit_start_datetime\n",
    "    centroids = model.cluster_centers_\n",
    "    labels = model.labels_\n",
    "    ss = silhouette_score(data, labels, metric = 'euclidean')\n",
    "    print(\"k = {} done! time taken: {} silhouette_score: {}\".format(k, total_fit_datetime, ss))\n",
    "    savedict[\"k\"].append(k)\n",
    "    savedict[\"silhouette_score\"].append(ss)\n",
    "    savedict[\"time\"].append(total_fit_datetime)\n",
    "    savedict[\"seconds\"].append(int(total_fit_datetime.total_seconds()))\n",
    "    # savedf = pd.from_dict(savedict)\n",
    "    # megadf[\"clusterlabel\"]=labels\n",
    "\n",
    "print(\"Calculating clusters for K done\")"
   ]
  },
  {
   "cell_type": "markdown",
   "metadata": {
    "colab_type": "text",
    "id": "CArLi48A6ABy"
   },
   "source": [
    "###Saving the output data into vars"
   ]
  },
  {
   "cell_type": "code",
   "execution_count": 50,
   "metadata": {
    "colab": {},
    "colab_type": "code",
    "id": "QIfHjjLShHM8"
   },
   "outputs": [],
   "source": [
    "# centroids = model.cluster_centers_\n",
    "# from pprint import pprint\n",
    "# labels = model.labels_\n",
    "# megadf[\"clusterlabel\"]=labels\n",
    "# megadf[\"centroids\"] = centroids\n",
    "# centroidDF = pd.DataFrame(centroids)\n",
    "savedf = pd.DataFrame(savedict)\n",
    "# pprint(savedict)\n"
   ]
  },
  {
   "cell_type": "markdown",
   "metadata": {
    "colab_type": "text",
    "id": "katJKlYX3DVA"
   },
   "source": [
    "#Plotting"
   ]
  },
  {
   "cell_type": "code",
   "execution_count": 51,
   "metadata": {
    "colab": {
     "base_uri": "https://localhost:8080/"
    },
    "colab_type": "code",
    "id": "5RdhXBYhhHNG",
    "outputId": "2a70db97-b0a3-4a58-98b5-0721a82487a4"
   },
   "outputs": [
    {
     "data": {
      "text/plain": [
       "Text(0.5, 1.0, 'Silhouette Score vs Number of Clusters KMax = 10')"
      ]
     },
     "execution_count": 51,
     "metadata": {},
     "output_type": "execute_result"
    },
    {
     "data": {
      "image/png": "[encoded data removed]",
      "text/plain": [
       "<Figure size 1152x1152 with 1 Axes>"
      ]
     },
     "metadata": {},
     "output_type": "display_data"
    }
   ],
   "source": [
    "plt.figure(figsize=(16,16))\n",
    "sns.set(style='darkgrid')\n",
    "# snsplot = sns.countplot(\"clusterlabel\", data=megadf)\n",
    "snsplot = sns.lineplot(x=\"k\", y=\"silhouette_score\", data = savedf)\n",
    "snsplot.xaxis.label.set_size(20)\n",
    "snsplot.yaxis.label.set_size(20)\n",
    "plt.title(\n",
    "        \"Silhouette Score vs Number of Clusters KMax = {}\".format(kmax),\n",
    "        fontdict = {'fontsize' : 20}\n",
    "    )"
   ]
  },
  {
   "cell_type": "code",
   "execution_count": 52,
   "metadata": {},
   "outputs": [
    {
     "data": {
      "text/plain": [
       "Text(0.5, 1.0, 'Time vs Number of Clusters KMax = 10')"
      ]
     },
     "execution_count": 52,
     "metadata": {},
     "output_type": "execute_result"
    },
    {
     "data": {
      "image/png": "[encoded data removed]",
      "text/plain": [
       "<Figure size 1152x1152 with 1 Axes>"
      ]
     },
     "metadata": {},
     "output_type": "display_data"
    }
   ],
   "source": [
    "plt.figure(figsize=(16,16))\n",
    "sns.set(style='darkgrid')\n",
    "# snsplot = sns.countplot(\"clusterlabel\", data=megadf)\n",
    "snsplot = sns.lineplot(x=\"k\", y=\"seconds\", data = savedf)\n",
    "snsplot.xaxis.label.set_size(20)\n",
    "snsplot.yaxis.label.set_size(20)\n",
    "plt.title(\n",
    "        \"Time vs Number of Clusters KMax = {}\".format(kmax),\n",
    "        fontdict = {'fontsize' : 20}\n",
    "    )"
   ]
  },
  {
   "cell_type": "markdown",
   "metadata": {
    "colab_type": "text",
    "id": "MGO9MW7YAZsJ"
   },
   "source": [
    "#Name of the Model"
   ]
  },
  {
   "cell_type": "code",
   "execution_count": 19,
   "metadata": {
    "colab": {
     "base_uri": "https://localhost:8080/",
     "height": 34
    },
    "colab_type": "code",
    "id": "CupjsuaJAdTC",
    "outputId": "da82fcd8-950a-42c4-b1f5-869f6f2fe3a2"
   },
   "outputs": [
    {
     "data": {
      "text/plain": [
       "'OptimalK_K10_R10000_F250'"
      ]
     },
     "execution_count": 19,
     "metadata": {},
     "output_type": "execute_result"
    }
   ],
   "source": [
    "name = \"{}_K{}_R{}_F{}\".format(__algo__, kmax, data.shape[0], data.shape[1])\n",
    "name"
   ]
  },
  {
   "cell_type": "markdown",
   "metadata": {
    "colab_type": "text",
    "id": "Auz4Iqgh4Run"
   },
   "source": [
    "#Saving Data"
   ]
  },
  {
   "cell_type": "code",
   "execution_count": null,
   "metadata": {
    "colab": {},
    "colab_type": "code",
    "id": "fcl1HwbTJje6"
   },
   "outputs": [],
   "source": [
    "# os.environ[\"SAVE_FLDR\"] = savefolder"
   ]
  },
  {
   "cell_type": "code",
   "execution_count": null,
   "metadata": {
    "colab": {},
    "colab_type": "code",
    "id": "i3Inn8guC3KZ"
   },
   "outputs": [],
   "source": [
    "# modelname = \"{}_model.pkl\".format(name)\n",
    "# pickle.dump(model, open(modelname, 'wb'))\n",
    "# os.environ[\"SAVE_DF\"] = modelname\n",
    "# !cp $SAVE_DF $SAVE_FLDR"
   ]
  },
  {
   "cell_type": "code",
   "execution_count": 20,
   "metadata": {
    "colab": {},
    "colab_type": "code",
    "id": "i4bHkW0maKZQ"
   },
   "outputs": [],
   "source": [
    "ssdataname = \"{}_data.pkl\".format(name)\n",
    "savedf.to_pickle(ssdataname)\n",
    "os.environ[\"SAVE_DF\"] = ssdataname\n",
    "# !cp $SAVE_DF ./drive/My\\ Drive/ColabOutput/."
   ]
  },
  {
   "cell_type": "code",
   "execution_count": 21,
   "metadata": {
    "colab": {},
    "colab_type": "code",
    "id": "l0RRWXwvQ9jz"
   },
   "outputs": [],
   "source": [
    "snspltname = \"{}_plt.png\".format(name)\n",
    "snsplot.figure.savefig(snspltname)\n",
    "os.environ[\"SAVE_DF\"] = snspltname\n",
    "# !cp $SAVE_DF ./drive/My\\ Drive/ColabOutput/."
   ]
  },
  {
   "cell_type": "code",
   "execution_count": null,
   "metadata": {
    "colab": {},
    "colab_type": "code",
    "id": "ZLHiM-gclArn"
   },
   "outputs": [],
   "source": [
    "# clusterdfname = \"{}_labeled.pkl\".format(name)\n",
    "# megadf.to_pickle(clusterdfname)\n",
    "# os.environ[\"SAVE_DF\"] = clusterdfname\n",
    "# !cp $SAVE_DF $SAVE_FLDR"
   ]
  },
  {
   "cell_type": "code",
   "execution_count": null,
   "metadata": {
    "colab": {},
    "colab_type": "code",
    "id": "N8MsneQ_vx4H"
   },
   "outputs": [],
   "source": [
    "# centroidDF = pd.DataFrame(centroids)\n",
    "# centroidDFname = \"{}_centroids.pkl\".format(name)\n",
    "# centroidDF.to_pickle(centroidDFname)\n",
    "# os.environ[\"SAVE_DF\"] = centroidDFname\n",
    "# !cp $SAVE_DF $SAVE_FLDR"
   ]
  },
  {
   "cell_type": "markdown",
   "metadata": {
    "colab_type": "text",
    "id": "YGmej0Kl5m49"
   },
   "source": [
    "###local machine dtale code\n",
    "commented out"
   ]
  },
  {
   "cell_type": "code",
   "execution_count": null,
   "metadata": {
    "colab": {},
    "colab_type": "code",
    "id": "_Mp6kiUWhHNR"
   },
   "outputs": [],
   "source": [
    "# # import dtale\n",
    "# s = megadf[megadf[\"clusterlabel\"] == 48].loc[:, [\"title\", \"abstract\"]]\n",
    "# # megadf.columns\n",
    "# # dtale.show(s)\n",
    "# s"
   ]
  },
  {
   "cell_type": "markdown",
   "metadata": {
    "colab_type": "text",
    "id": "4z2jpCjU5b-1"
   },
   "source": [
    "###Sampling the clusters"
   ]
  },
  {
   "cell_type": "markdown",
   "metadata": {
    "colab_type": "text",
    "id": "KMDOC6RAPMYo"
   },
   "source": [
    "Commented Out"
   ]
  },
  {
   "cell_type": "code",
   "execution_count": null,
   "metadata": {
    "colab": {},
    "colab_type": "code",
    "id": "MoZTzcR3hHNZ"
   },
   "outputs": [],
   "source": [
    "# sample = pd.DataFrame()\n",
    "# for n in range(k):\n",
    "#     temp = megadf[megadf[\"clusterlabel\"] == n].loc[:, :]\n",
    "#     sample = sample.append(temp.head(50), ignore_index=True)\n",
    "#     print(\"Cluster Number: \", n)\n",
    "    # print(temp.head(100).loc[:, [\"id\", \"title\", \"abstract\", \"clusterlabel\"]])\n",
    "    "
   ]
  },
  {
   "cell_type": "markdown",
   "metadata": {
    "colab_type": "text",
    "id": "F2SVrio_Nr71"
   },
   "source": [
    "Creating a sampled Dataframe to observe the clusters"
   ]
  },
  {
   "cell_type": "code",
   "execution_count": null,
   "metadata": {
    "colab": {
     "base_uri": "https://localhost:8080/",
     "height": 597
    },
    "colab_type": "code",
    "id": "BAEPagPROknb",
    "outputId": "c3e3e376-dd01-4262-beee-c1b75acbe0f0"
   },
   "outputs": [],
   "source": [
    "# sample = pd.DataFrame()\n",
    "# for n in range(k):\n",
    "#     temp = megadf[megadf[\"clusterlabel\"] == n].loc[:, [\"id\", \"title\", \"abstract\", \"clusterlabel\"]]\n",
    "#     sample = sample.append(temp.head(10), ignore_index=True)\n",
    "\n",
    "# sample"
   ]
  },
  {
   "cell_type": "code",
   "execution_count": null,
   "metadata": {
    "colab": {
     "base_uri": "https://localhost:8080/",
     "height": 104
    },
    "colab_type": "code",
    "id": "K4mG3sjQPqBH",
    "outputId": "4434e54a-c899-4fa0-c00b-adef0f8d8ed7"
   },
   "outputs": [],
   "source": [
    "# sampleDFname = \"{}_sample.csv\".format(name)\n",
    "# centroidDF.to_csv(sampleDFname)\n",
    "# os.environ[\"SAVE_DF\"] = sampleDFname\n",
    "# !cp $SAVE_DF $SAVE_FLDR"
   ]
  },
  {
   "cell_type": "code",
   "execution_count": null,
   "metadata": {
    "colab": {
     "base_uri": "https://localhost:8080/",
     "height": 332
    },
    "colab_type": "code",
    "id": "N2ZWC4gMUGP9",
    "outputId": "5cffec63-58e8-4b2f-b241-01fb3ee4dc46"
   },
   "outputs": [],
   "source": [
    "# subprocess.check_output(\"ls {}\".format(savefolder))"
   ]
  },
  {
   "cell_type": "markdown",
   "metadata": {
    "colab_type": "text",
    "id": "x35sOox64Lme"
   },
   "source": [
    "#Total Time to Exec"
   ]
  },
  {
   "cell_type": "code",
   "execution_count": 22,
   "metadata": {
    "colab": {
     "base_uri": "https://localhost:8080/",
     "height": 69
    },
    "colab_type": "code",
    "id": "Fg2D3Fsww94W",
    "outputId": "82ed60db-dee6-449d-faa2-6439788b27e3"
   },
   "outputs": [
    {
     "name": "stdout",
     "output_type": "stream",
     "text": [
      "end_datetime:  2020-02-29 20:53:24.342416\n",
      "done! 516.56\n",
      "Time taken:  0:08:36.559145\n"
     ]
    }
   ],
   "source": [
    "end_time = time.time()\n",
    "end_datetime = datetime.datetime.now()\n",
    "# print(\"end_time:\",  end_time)\n",
    "print(\"end_datetime: \", end_datetime)\n",
    "print(\"done! {}\".format(round(end_time-start_time, 2)))\n",
    "print(\"Time taken: \", str(end_datetime-start_datetime))"
   ]
  },
  {
   "cell_type": "markdown",
   "metadata": {
    "colab_type": "text",
    "id": "P0kYelyC5NqY"
   },
   "source": [
    "#Open dataframe in colab"
   ]
  },
  {
   "cell_type": "code",
   "execution_count": null,
   "metadata": {
    "colab": {},
    "colab_type": "code",
    "id": "bZVh3-AgMH_Z"
   },
   "outputs": [],
   "source": []
  },
  {
   "cell_type": "markdown",
   "metadata": {
    "colab_type": "text",
    "id": "RiKlFSZfMG0G"
   },
   "source": []
  },
  {
   "cell_type": "code",
   "execution_count": null,
   "metadata": {
    "colab": {
     "base_uri": "https://localhost:8080/",
     "height": 293
    },
    "colab_type": "code",
    "id": "VvsuuCMaQEj4",
    "outputId": "03034ae0-8bae-44a5-e2aa-56b743fe8b90"
   },
   "outputs": [],
   "source": [
    "# sub = megadf.loc[:, [\"title\", \"abstract\", \"clusterlabel\"]]\n",
    "# sub.tail()"
   ]
  }
 ],
 "metadata": {
  "colab": {
   "collapsed_sections": [],
   "name": "FindKTemplateClusterKEuclid.ipynb",
   "provenance": []
  },
  "file_extension": ".py",
  "kernelspec": {
   "display_name": "Python 3",
   "language": "python",
   "name": "python3"
  },
  "language_info": {
   "codemirror_mode": {
    "name": "ipython",
    "version": 3
   },
   "file_extension": ".py",
   "mimetype": "text/x-python",
   "name": "python",
   "nbconvert_exporter": "python",
   "pygments_lexer": "ipython3",
   "version": "3.7.4"
  },
  "mimetype": "text/x-python",
  "name": "python",
  "npconvert_exporter": "python",
  "pygments_lexer": "ipython3",
  "version": 3
 },
 "nbformat": 4,
 "nbformat_minor": 1
}

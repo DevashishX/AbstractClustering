{
  "nbformat": 4,
  "nbformat_minor": 0,
  "metadata": {
    "file_extension": ".py",
    "kernelspec": {
      "display_name": "Python 3.7.4 64-bit ('base': conda)",
      "language": "python",
      "name": "python37464bitbasecondaccb10e44a6224ec5a8090d4d6e72e602"
    },
    "language_info": {
      "codemirror_mode": {
        "name": "ipython",
        "version": 3
      },
      "file_extension": ".py",
      "mimetype": "text/x-python",
      "name": "python",
      "nbconvert_exporter": "python",
      "pygments_lexer": "ipython3",
      "version": "3.7.4"
    },
    "mimetype": "text/x-python",
    "name": "python",
    "npconvert_exporter": "python",
    "pygments_lexer": "ipython3",
    "version": 3,
    "colab": {
      "name": "ClusterAggloromerative.ipynb",
      "provenance": []
    }
  },
  "cells": [
    {
      "cell_type": "code",
      "metadata": {
        "id": "Lk1YO9YeMPfX",
        "colab_type": "code",
        "colab": {}
      },
      "source": [
        "import numpy as np\n",
        "import matplotlib.pyplot as plt\n",
        "import pandas as pd\n",
        "from sklearn import cluster, datasets\n",
        "import seaborn as sns\n",
        "import json\n",
        "import sys\n",
        "import codecs\n",
        "import os\n",
        "from collections import defaultdict, Counter"
      ],
      "execution_count": 0,
      "outputs": []
    },
    {
      "cell_type": "code",
      "metadata": {
        "id": "6yUaHIXBMPgH",
        "colab_type": "code",
        "colab": {}
      },
      "source": [
        "def show_histogram(d):\n",
        "    plt.figure(figsize=(16,8))\n",
        "    c = {k: len(d[k]) for k in d.keys()}\n",
        "    bars, heights = zip(*c.items())\n",
        "    y_pos = range(len(bars))\n",
        "    plt.bar(y_pos, heights)\n",
        "    plt.xticks(y_pos, bars, rotation=90)\n",
        "    plt.show()"
      ],
      "execution_count": 0,
      "outputs": []
    },
    {
      "cell_type": "code",
      "metadata": {
        "id": "c2xCYJe5MPgY",
        "colab_type": "code",
        "outputId": "f4bb6352-2b7b-47eb-c329-13a46a5e1e0f",
        "colab": {}
      },
      "source": [
        "embedDir = \"./MegaSentEmbs/\"\n",
        "dumpdir = \"./dump/\"\n",
        "oldlist = os.listdir(embedDir)\n",
        "filelist = sorted([embedDir+f for f in oldlist if f[-3:]==\"pkl\"])\n",
        "# filenum = len(filelist)\n",
        "filenum = 5\n",
        "# print(filelist)\n",
        "smalllist = filelist[:filenum]\n",
        "print(\"smalllist: \", smalllist)"
      ],
      "execution_count": 0,
      "outputs": [
        {
          "output_type": "stream",
          "text": [
            "smalllist:  ['./MegaSentEmbs/repository_embedding_100_2013-03-18.pkl', './MegaSentEmbs/repository_embedding_101_2013-03-18.pkl', './MegaSentEmbs/repository_embedding_102_2013-03-18.pkl', './MegaSentEmbs/repository_embedding_103_2013-03-18.pkl', './MegaSentEmbs/repository_embedding_104_2013-03-18.pkl']\n"
          ],
          "name": "stdout"
        }
      ]
    },
    {
      "cell_type": "markdown",
      "metadata": {
        "id": "N1cYJ4kuMPgn",
        "colab_type": "text"
      },
      "source": [
        "#Read all the pandas dataframes"
      ]
    },
    {
      "cell_type": "code",
      "metadata": {
        "id": "WBf1iPzFMPgq",
        "colab_type": "code",
        "outputId": "3eaecc26-530d-42bc-db33-a0f5e491eb04",
        "colab": {}
      },
      "source": [
        "megadf = pd.DataFrame()\n",
        "for f in smalllist:\n",
        "    tempdf = pd.read_pickle(f)\n",
        "    # print(tempdf.shape)\n",
        "    megadf = megadf.append(tempdf, ignore_index = True)\n",
        "\n",
        "print(megadf.shape)\n",
        "print(megadf.tail())"
      ],
      "execution_count": 0,
      "outputs": [
        {
          "output_type": "stream",
          "text": [
            "(2433, 4)\n",
            "           id                                              title  \\\n",
            "2428  9549863                         In Search of the Argonauts   \n",
            "2429  9549864       When Is A National Team Not A National Team?   \n",
            "2430  9549866                   Football and the Cyprus conflict   \n",
            "2431  9549873  Optimisation of Mobile Communication Networks ...   \n",
            "2432  9549874                        Free Search of Global Value   \n",
            "\n",
            "                                               abstract  \\\n",
            "2428  [paper, examines, concerted, attempt, group, s...   \n",
            "2429  [essay, analyzes, anomaly, recognition, place,...   \n",
            "2430  [essay, look, football, role, cyprus, conflict...   \n",
            "2431  [mini, conference, optimisation, mobile, commu...   \n",
            "2432  [article, present, novel, investigation, two, ...   \n",
            "\n",
            "                                              embedding  \n",
            "2428  [-0.20942938586860307, 0.40039306438355393, -0...  \n",
            "2429  [-0.1677260275156407, 0.26426473158190433, -0....  \n",
            "2430  [-0.15642487500000005, 0.19240105999999996, -0...  \n",
            "2431  [0.3354838166666667, 0.06920026666666669, 0.11...  \n",
            "2432  [0.5210028771929824, -0.03993977192982456, 0.0...  \n"
          ],
          "name": "stdout"
        }
      ]
    },
    {
      "cell_type": "code",
      "metadata": {
        "id": "wIH6xrCgMPg1",
        "colab_type": "code",
        "outputId": "f7be28d3-f500-4cea-d709-2b08e932d697",
        "colab": {}
      },
      "source": [
        "predata = megadf[\"embedding\"]\n",
        "\n",
        "data = np.matrix(predata.to_list())\n",
        "print(data.shape)\n"
      ],
      "execution_count": 0,
      "outputs": [
        {
          "output_type": "stream",
          "text": [
            "(2433, 250)\n"
          ],
          "name": "stdout"
        }
      ]
    },
    {
      "cell_type": "markdown",
      "metadata": {
        "id": "9-VBFJfkMPhB",
        "colab_type": "text"
      },
      "source": [
        "#Number of Clusters"
      ]
    },
    {
      "cell_type": "code",
      "metadata": {
        "id": "tsa1YZQlMPhD",
        "colab_type": "code",
        "colab": {}
      },
      "source": [
        "k = 50"
      ],
      "execution_count": 0,
      "outputs": []
    },
    {
      "cell_type": "code",
      "metadata": {
        "id": "RgaBbMpsMPhM",
        "colab_type": "code",
        "outputId": "aeae084d-ebc9-4aec-ceac-32c73590cc26",
        "colab": {}
      },
      "source": [
        "print(\"Starting Clustering Process\")\n",
        "model = cluster.AgglomerativeClustering(n_clusters=k, affinity='euclidean', linkage='ward')\n",
        "model.fit(data)\n",
        "print(\"Agglomerative.fit(data) Done!\")"
      ],
      "execution_count": 0,
      "outputs": [
        {
          "output_type": "stream",
          "text": [
            "Starting Clustering Process\n",
            "k_means.fit(data) Done!\n"
          ],
          "name": "stdout"
        }
      ]
    },
    {
      "cell_type": "code",
      "metadata": {
        "id": "wX8XIdyaMPhT",
        "colab_type": "code",
        "outputId": "37836bd2-7834-4b76-a414-af3f8223d5e0",
        "colab": {}
      },
      "source": [
        "print(\"hello\")"
      ],
      "execution_count": 0,
      "outputs": [
        {
          "output_type": "stream",
          "text": [
            "hello\n"
          ],
          "name": "stdout"
        }
      ]
    },
    {
      "cell_type": "code",
      "metadata": {
        "id": "sJFmtDjJMPhd",
        "colab_type": "code",
        "colab": {}
      },
      "source": [
        "centroids = model.cluster_centers_\n",
        "labels = model.labels_\n",
        "megadf[\"clusterlabel\"]=labels"
      ],
      "execution_count": 0,
      "outputs": []
    },
    {
      "cell_type": "code",
      "metadata": {
        "id": "hsujjbTIMPhm",
        "colab_type": "code",
        "outputId": "0bf46f48-432c-4bd6-980a-5210b5a94548",
        "colab": {}
      },
      "source": [
        "plt.figure(figsize=(16,16))\n",
        "sns.countplot(\"clusterlabel\", data=megadf)"
      ],
      "execution_count": 0,
      "outputs": [
        {
          "output_type": "execute_result",
          "data": {
            "text/plain": [
              "<matplotlib.axes._subplots.AxesSubplot at 0x7f47ac7d6450>"
            ]
          },
          "metadata": {
            "tags": []
          },
          "execution_count": 21
        },
        {
          "output_type": "display_data",
          "data": {
            "image/png": "[encoded data removed]",
            "text/plain": [
              "<Figure size 1152x1152 with 1 Axes>"
            ]
          },
          "metadata": {
            "tags": [],
            "needs_background": "light"
          }
        }
      ]
    },
    {
      "cell_type": "code",
      "metadata": {
        "id": "4rBjI0qEMPhv",
        "colab_type": "code",
        "outputId": "aaf1e6e5-124d-429c-fc89-f7ea3ce364ca",
        "colab": {}
      },
      "source": [
        "import dtale\n",
        "s = megadf[megadf[\"clusterlabel\"] == 48].loc[:, [\"title\", \"abstract\"]]\n",
        "# megadf.columns\n",
        "dtale.show(s)\n",
        "# s"
      ],
      "execution_count": 0,
      "outputs": [
        {
          "output_type": "display_data",
          "data": {
            "text/html": [
              "\n",
              "        <iframe\n",
              "            width=\"100%\"\n",
              "            height=\"350\"\n",
              "            src=\"http://devashish-X555UA:40000/dtale/iframe/4\"\n",
              "            frameborder=\"0\"\n",
              "            allowfullscreen\n",
              "        ></iframe>\n",
              "        "
            ],
            "text/plain": [
              "<IPython.lib.display.IFrame at 0x7f47a43510d0>"
            ]
          },
          "metadata": {
            "tags": []
          }
        },
        {
          "output_type": "execute_result",
          "data": {
            "text/plain": [
              ""
            ]
          },
          "metadata": {
            "tags": []
          },
          "execution_count": 30
        },
        {
          "output_type": "stream",
          "text": [
            "Executing shutdown due to inactivity...\n",
            "Executing shutdown due to inactivity...\n"
          ],
          "name": "stdout"
        },
        {
          "output_type": "stream",
          "text": [
            "2020-02-27 16:41:56,080 - INFO     - Executing shutdown due to inactivity...\n"
          ],
          "name": "stderr"
        },
        {
          "output_type": "stream",
          "text": [
            "Executing shutdown...\n",
            "Executing shutdown...\n"
          ],
          "name": "stdout"
        },
        {
          "output_type": "stream",
          "text": [
            "2020-02-27 16:41:56,159 - INFO     - Executing shutdown...\n"
          ],
          "name": "stderr"
        }
      ]
    },
    {
      "cell_type": "code",
      "metadata": {
        "id": "4hz3roVyMPh5",
        "colab_type": "code",
        "colab": {}
      },
      "source": [
        ""
      ],
      "execution_count": 0,
      "outputs": []
    }
  ]
}
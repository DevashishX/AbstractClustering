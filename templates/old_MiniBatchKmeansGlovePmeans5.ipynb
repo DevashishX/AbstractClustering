{
 "cells": [
  {
   "cell_type": "markdown",
   "metadata": {
    "colab_type": "text",
    "id": "n6yRKl7Nx8NV"
   },
   "source": [
    "# ***Set parameters***"
   ]
  },
  {
   "cell_type": "code",
   "execution_count": 1,
   "metadata": {
    "colab": {},
    "colab_type": "code",
    "id": "RLla__P2wqVL"
   },
   "outputs": [],
   "source": [
    "__algo__ = \"MBKMEANS\"              #Name of the Clustering algorithm\n",
    "__emb__ = \"glove\"                #Name of the Word Embeddings used (glove, w2v, ftt), MUST set directory below\n",
    "__sentemb__ = \"pmeans5\"          #Name of Sentence Embedding algorithm used\n",
    "recnum = 3000                   #Number of records to be read from files\n",
    "k = 50                           #Number of Clusters\n",
    "usesqrt = False                  #Set value of k to sqrt of recnum, overrides k\n",
    "randomsample = False             #Random Sampling to be True/False for records which are read\n",
    "embedDir = \"../MegaSentEmbs/\"    #Directory where embeddings are saved for that selected embedding\n",
    "modelDir = \"../models/\"          #Directory where models are saved\n",
    "megadfDir = \"../MegaDfs/\"        #Directory Where Megadf is to be saved\n",
    "plotDir = \"../plots/\"            #Directory where plots are saved\n",
    "dumpDir = \"../dump/\"             #Directory where test outcomes are saved\n",
    "%matplotlib inline"
   ]
  },
  {
   "cell_type": "markdown",
   "metadata": {
    "colab_type": "text",
    "id": "LGy8jsWQx0nS"
   },
   "source": [
    "# Actual Code"
   ]
  },
  {
   "cell_type": "markdown",
   "metadata": {
    "colab_type": "text",
    "id": "II0jpbbTzD8M"
   },
   "source": [
    "### imports and time"
   ]
  },
  {
   "cell_type": "code",
   "execution_count": 2,
   "metadata": {
    "colab": {},
    "colab_type": "code",
    "id": "wkS4KGOphHK4"
   },
   "outputs": [],
   "source": [
    "import numpy as np\n",
    "import matplotlib.pyplot as plt\n",
    "import pandas as pd\n",
    "from sklearn import cluster, datasets\n",
    "import seaborn as sns\n",
    "import os, subprocess\n",
    "import datetime, time\n",
    "import pickle"
   ]
  },
  {
   "cell_type": "code",
   "execution_count": 3,
   "metadata": {
    "colab": {
     "base_uri": "https://localhost:8080/",
     "height": 52
    },
    "colab_type": "code",
    "id": "bFxfXnFh2taT",
    "outputId": "d0d94d02-e693-4cde-cd87-2dc51c77b129"
   },
   "outputs": [
    {
     "name": "stdout",
     "output_type": "stream",
     "text": [
      "Start time:  1586859856.4981935\n",
      "Start datetime:  2020-04-14 15:54:16.498251\n"
     ]
    }
   ],
   "source": [
    "start_time = time.time()\n",
    "start_datetime = datetime.datetime.now()\n",
    "print(\"Start time: \", start_time)\n",
    "print(\"Start datetime: \", start_datetime)\n",
    "# print(datetime.datetime.now()-start_datetime)"
   ]
  },
  {
   "cell_type": "markdown",
   "metadata": {
    "colab_type": "text",
    "id": "X2T_-VrUzBVt"
   },
   "source": [
    "### File Settings"
   ]
  },
  {
   "cell_type": "code",
   "execution_count": 4,
   "metadata": {
    "colab": {
     "base_uri": "https://localhost:8080/"
    },
    "colab_type": "code",
    "id": "fAi1m08zhHLn",
    "outputId": "1e03b451-0705-4b84-9e6e-449141acfb97"
   },
   "outputs": [
    {
     "name": "stdout",
     "output_type": "stream",
     "text": [
      "Length of Smalllist:  116\n"
     ]
    }
   ],
   "source": [
    "oldlist = os.listdir(embedDir)\n",
    "filelist = sorted([embedDir+f for f in oldlist if f[-3:]==\"pkl\"])\n",
    "filenum = len(filelist)\n",
    "smalllist = filelist[:filenum]\n",
    "print(\"Length of Smalllist: \", len(smalllist))"
   ]
  },
  {
   "cell_type": "markdown",
   "metadata": {
    "colab_type": "text",
    "id": "Verw6R-QVK24"
   },
   "source": [
    "### Number of Records\n",
    "It is Recommended to Set this at the top parameters"
   ]
  },
  {
   "cell_type": "code",
   "execution_count": 5,
   "metadata": {
    "colab": {},
    "colab_type": "code",
    "id": "1KLrsnyYVN0R"
   },
   "outputs": [],
   "source": [
    "recnum = recnum"
   ]
  },
  {
   "cell_type": "markdown",
   "metadata": {
    "colab_type": "text",
    "id": "fN1QgBS0hHL1"
   },
   "source": [
    "### Read all the pandas dataframes"
   ]
  },
  {
   "cell_type": "code",
   "execution_count": 6,
   "metadata": {
    "colab": {
     "base_uri": "https://localhost:8080/"
    },
    "colab_type": "code",
    "id": "opx4vfnfhHL4",
    "outputId": "4de12cfa-fe83-4811-c5aa-b25e965ed72f"
   },
   "outputs": [
    {
     "name": "stdout",
     "output_type": "stream",
     "text": [
      "randomsample:  False\n",
      "megadf.shape:  (3000, 4)\n",
      "CPU times: user 111 ms, sys: 19.9 ms, total: 131 ms\n",
      "Wall time: 133 ms\n"
     ]
    }
   ],
   "source": [
    "%%time\n",
    "megadf = pd.DataFrame()\n",
    "\n",
    "if randomsample == True:\n",
    "    print(\"randomsample: \", randomsample)\n",
    "    for f in smalllist:\n",
    "        tempdf = pd.read_pickle(f)\n",
    "        megadf = megadf.append(tempdf, ignore_index = True)\n",
    "    megadf = megadf.sample(recnum, random_state=42)\n",
    "else:\n",
    "    print(\"randomsample: \", randomsample)\n",
    "    for f in smalllist:\n",
    "        tempdf = pd.read_pickle(f)\n",
    "        megadf = megadf.append(tempdf, ignore_index = True)\n",
    "        if megadf.shape[0] >= recnum:\n",
    "            megadf = megadf[:recnum]\n",
    "            break\n",
    "\n",
    "print(\"megadf.shape: \", megadf.shape)"
   ]
  },
  {
   "cell_type": "code",
   "execution_count": 7,
   "metadata": {
    "colab": {
     "base_uri": "https://localhost:8080/"
    },
    "colab_type": "code",
    "id": "AH7_54wfhHMH",
    "outputId": "e234ab86-7a01-47b6-cb23-c073e10fbf3b"
   },
   "outputs": [
    {
     "name": "stdout",
     "output_type": "stream",
     "text": [
      "(3000, 250)\n"
     ]
    }
   ],
   "source": [
    "predata = megadf[\"embedding\"]\n",
    "data = np.matrix(predata.to_list())\n",
    "print(data.shape)"
   ]
  },
  {
   "cell_type": "markdown",
   "metadata": {
    "colab_type": "text",
    "id": "AHw4QXjahHMV"
   },
   "source": [
    "### Number of Clusters\n",
    "It is Recommended to Set this at the top parameters"
   ]
  },
  {
   "cell_type": "code",
   "execution_count": 8,
   "metadata": {
    "colab": {
     "base_uri": "https://localhost:8080/"
    },
    "colab_type": "code",
    "id": "NDTDoVfhhHMa",
    "outputId": "6834227e-c968-4fe6-a288-3e502641167a"
   },
   "outputs": [
    {
     "name": "stdout",
     "output_type": "stream",
     "text": [
      "usesqrt:  False\n",
      "k:  50\n"
     ]
    }
   ],
   "source": [
    "if usesqrt == True:\n",
    "    print(\"usesqrt: \", usesqrt)\n",
    "    sqrt_k = int(np.sqrt(data.shape[0]))\n",
    "    k = int(sqrt_k)\n",
    "else:\n",
    "    print(\"usesqrt: \", usesqrt)\n",
    "    k = k\n",
    "print(\"k: \", k)"
   ]
  },
  {
   "cell_type": "markdown",
   "metadata": {
    "colab_type": "text",
    "id": "KGn8OXrj2CJQ"
   },
   "source": [
    "## Clustering\n",
    "Please modify the functions here to change algorithm"
   ]
  },
  {
   "cell_type": "code",
   "execution_count": 9,
   "metadata": {
    "colab": {
     "base_uri": "https://localhost:8080/",
     "height": 104
    },
    "colab_type": "code",
    "id": "bQYesl8uhHMk",
    "outputId": "6b0bad20-a06c-40f3-a8c5-322bed5d81ce"
   },
   "outputs": [
    {
     "name": "stdout",
     "output_type": "stream",
     "text": [
      "Starting Clustering Process\n",
      "Init 1/20 with method: k-means++\n",
      "Inertia for init 1/20: 877.751664\n",
      "Init 2/20 with method: k-means++\n",
      "Inertia for init 2/20: 764.597290\n",
      "Init 3/20 with method: k-means++\n",
      "Inertia for init 3/20: 788.613283\n",
      "Init 4/20 with method: k-means++\n",
      "Inertia for init 4/20: 791.857344\n",
      "Init 5/20 with method: k-means++\n",
      "Inertia for init 5/20: 841.436207\n",
      "Init 6/20 with method: k-means++\n",
      "Inertia for init 6/20: 813.527547\n",
      "Init 7/20 with method: k-means++\n",
      "Inertia for init 7/20: 760.483549\n",
      "Init 8/20 with method: k-means++\n",
      "Inertia for init 8/20: 707.240691\n",
      "Init 9/20 with method: k-means++\n",
      "Inertia for init 9/20: 745.319963\n",
      "Init 10/20 with method: k-means++\n",
      "Inertia for init 10/20: 771.647316\n",
      "Init 11/20 with method: k-means++\n",
      "Inertia for init 11/20: 778.475429\n",
      "Init 12/20 with method: k-means++\n",
      "Inertia for init 12/20: 736.749843\n",
      "Init 13/20 with method: k-means++\n",
      "Inertia for init 13/20: 786.496738\n",
      "Init 14/20 with method: k-means++\n",
      "Inertia for init 14/20: 781.735936\n",
      "Init 15/20 with method: k-means++\n",
      "Inertia for init 15/20: 861.732651\n",
      "Init 16/20 with method: k-means++\n",
      "Inertia for init 16/20: 821.190606\n",
      "Init 17/20 with method: k-means++\n",
      "Inertia for init 17/20: 755.501425\n",
      "Init 18/20 with method: k-means++\n",
      "Inertia for init 18/20: 811.471944\n",
      "Init 19/20 with method: k-means++\n",
      "Inertia for init 19/20: 783.720279\n",
      "Init 20/20 with method: k-means++\n",
      "Inertia for init 20/20: 755.993623\n",
      "Minibatch iteration 1/94000: mean batch inertia: 14.648089, ewa inertia: 14.648089 \n",
      "Minibatch iteration 2/94000: mean batch inertia: 12.175409, ewa inertia: 14.595357 \n",
      "Minibatch iteration 3/94000: mean batch inertia: 13.737180, ewa inertia: 14.577055 \n",
      "Minibatch iteration 4/94000: mean batch inertia: 13.754488, ewa inertia: 14.559513 \n",
      "Minibatch iteration 5/94000: mean batch inertia: 13.005103, ewa inertia: 14.526363 \n",
      "Minibatch iteration 6/94000: mean batch inertia: 12.835977, ewa inertia: 14.490313 \n",
      "Minibatch iteration 7/94000: mean batch inertia: 14.733741, ewa inertia: 14.495505 \n",
      "Minibatch iteration 8/94000: mean batch inertia: 13.697357, ewa inertia: 14.478483 \n",
      "Minibatch iteration 9/94000: mean batch inertia: 13.934144, ewa inertia: 14.466875 \n",
      "[MiniBatchKMeans] Reassigning 10 cluster centers.\n",
      "Minibatch iteration 10/94000: mean batch inertia: 12.662464, ewa inertia: 14.428393 \n",
      "Minibatch iteration 11/94000: mean batch inertia: 11.835100, ewa inertia: 14.373088 \n",
      "Minibatch iteration 12/94000: mean batch inertia: 12.134617, ewa inertia: 14.325350 \n",
      "Minibatch iteration 13/94000: mean batch inertia: 13.251527, ewa inertia: 14.302449 \n",
      "Minibatch iteration 14/94000: mean batch inertia: 11.856473, ewa inertia: 14.250286 \n",
      "Minibatch iteration 15/94000: mean batch inertia: 15.119856, ewa inertia: 14.268831 \n",
      "Minibatch iteration 16/94000: mean batch inertia: 12.731805, ewa inertia: 14.236052 \n",
      "Minibatch iteration 17/94000: mean batch inertia: 12.464705, ewa inertia: 14.198276 \n",
      "Minibatch iteration 18/94000: mean batch inertia: 12.750382, ewa inertia: 14.167397 \n",
      "Minibatch iteration 19/94000: mean batch inertia: 12.925572, ewa inertia: 14.140914 \n",
      "Minibatch iteration 20/94000: mean batch inertia: 12.512218, ewa inertia: 14.106180 \n",
      "Minibatch iteration 21/94000: mean batch inertia: 11.991835, ewa inertia: 14.061089 \n",
      "[MiniBatchKMeans] Reassigning 15 cluster centers.\n",
      "Minibatch iteration 22/94000: mean batch inertia: 11.970428, ewa inertia: 14.016503 \n",
      "Minibatch iteration 23/94000: mean batch inertia: 12.764968, ewa inertia: 13.989813 \n",
      "Minibatch iteration 24/94000: mean batch inertia: 11.927365, ewa inertia: 13.945828 \n",
      "Minibatch iteration 25/94000: mean batch inertia: 13.463046, ewa inertia: 13.935532 \n",
      "Minibatch iteration 26/94000: mean batch inertia: 12.607830, ewa inertia: 13.907218 \n",
      "Minibatch iteration 27/94000: mean batch inertia: 12.435850, ewa inertia: 13.875839 \n",
      "Minibatch iteration 28/94000: mean batch inertia: 15.006896, ewa inertia: 13.899960 \n",
      "Minibatch iteration 29/94000: mean batch inertia: 12.568824, ewa inertia: 13.871572 \n",
      "Minibatch iteration 30/94000: mean batch inertia: 13.739990, ewa inertia: 13.868766 \n",
      "Minibatch iteration 31/94000: mean batch inertia: 12.218798, ewa inertia: 13.833578 \n",
      "Minibatch iteration 32/94000: mean batch inertia: 12.139735, ewa inertia: 13.797455 \n",
      "Minibatch iteration 33/94000: mean batch inertia: 12.405767, ewa inertia: 13.767775 \n",
      "Minibatch iteration 34/94000: mean batch inertia: 11.560948, ewa inertia: 13.720712 \n",
      "Minibatch iteration 35/94000: mean batch inertia: 12.171833, ewa inertia: 13.687680 \n",
      "Minibatch iteration 36/94000: mean batch inertia: 12.305315, ewa inertia: 13.658200 \n",
      "Minibatch iteration 37/94000: mean batch inertia: 12.109582, ewa inertia: 13.625174 \n",
      "Minibatch iteration 38/94000: mean batch inertia: 11.958011, ewa inertia: 13.589619 \n",
      "Minibatch iteration 39/94000: mean batch inertia: 13.547258, ewa inertia: 13.588716 \n",
      "Minibatch iteration 40/94000: mean batch inertia: 11.796488, ewa inertia: 13.550494 \n",
      "Minibatch iteration 41/94000: mean batch inertia: 12.612549, ewa inertia: 13.530492 \n",
      "Minibatch iteration 42/94000: mean batch inertia: 12.089720, ewa inertia: 13.499765 \n",
      "Minibatch iteration 43/94000: mean batch inertia: 12.295538, ewa inertia: 13.474084 \n",
      "Minibatch iteration 44/94000: mean batch inertia: 13.705786, ewa inertia: 13.479025 \n",
      "Minibatch iteration 45/94000: mean batch inertia: 13.555670, ewa inertia: 13.480660 \n",
      "Minibatch iteration 46/94000: mean batch inertia: 12.918768, ewa inertia: 13.468677 \n",
      "Minibatch iteration 47/94000: mean batch inertia: 12.499353, ewa inertia: 13.448005 \n",
      "[MiniBatchKMeans] Reassigning 16 cluster centers.\n",
      "Minibatch iteration 48/94000: mean batch inertia: 11.992667, ewa inertia: 13.416968 \n",
      "Minibatch iteration 49/94000: mean batch inertia: 10.707874, ewa inertia: 13.359193 \n",
      "Minibatch iteration 50/94000: mean batch inertia: 11.950677, ewa inertia: 13.329155 \n",
      "Minibatch iteration 51/94000: mean batch inertia: 11.604144, ewa inertia: 13.292367 \n",
      "Minibatch iteration 52/94000: mean batch inertia: 12.321666, ewa inertia: 13.271665 \n",
      "Minibatch iteration 53/94000: mean batch inertia: 11.875454, ewa inertia: 13.241889 \n",
      "Minibatch iteration 54/94000: mean batch inertia: 14.697956, ewa inertia: 13.272942 \n",
      "Minibatch iteration 55/94000: mean batch inertia: 11.192504, ewa inertia: 13.228574 \n",
      "Minibatch iteration 56/94000: mean batch inertia: 12.355872, ewa inertia: 13.209962 \n",
      "Minibatch iteration 57/94000: mean batch inertia: 10.928558, ewa inertia: 13.161309 \n",
      "Minibatch iteration 58/94000: mean batch inertia: 12.410052, ewa inertia: 13.145287 \n",
      "Minibatch iteration 59/94000: mean batch inertia: 13.189000, ewa inertia: 13.146219 \n",
      "[MiniBatchKMeans] Reassigning 16 cluster centers.\n",
      "Minibatch iteration 60/94000: mean batch inertia: 11.466639, ewa inertia: 13.110400 \n",
      "Minibatch iteration 61/94000: mean batch inertia: 11.285238, ewa inertia: 13.071477 \n",
      "Minibatch iteration 62/94000: mean batch inertia: 11.728901, ewa inertia: 13.042844 \n",
      "Minibatch iteration 63/94000: mean batch inertia: 12.443972, ewa inertia: 13.030073 \n",
      "Minibatch iteration 64/94000: mean batch inertia: 13.614325, ewa inertia: 13.042533 \n",
      "Minibatch iteration 65/94000: mean batch inertia: 11.699776, ewa inertia: 13.013897 \n",
      "Minibatch iteration 66/94000: mean batch inertia: 11.157856, ewa inertia: 12.974314 \n",
      "Minibatch iteration 67/94000: mean batch inertia: 11.176414, ewa inertia: 12.935972 \n",
      "Minibatch iteration 68/94000: mean batch inertia: 12.175084, ewa inertia: 12.919745 \n",
      "Minibatch iteration 69/94000: mean batch inertia: 13.151733, ewa inertia: 12.924693 \n",
      "Minibatch iteration 70/94000: mean batch inertia: 11.258684, ewa inertia: 12.889163 \n",
      "Minibatch iteration 71/94000: mean batch inertia: 11.653020, ewa inertia: 12.862801 \n",
      "[MiniBatchKMeans] Reassigning 16 cluster centers.\n",
      "Minibatch iteration 72/94000: mean batch inertia: 12.238731, ewa inertia: 12.849492 \n",
      "Minibatch iteration 73/94000: mean batch inertia: 12.109452, ewa inertia: 12.833709 \n",
      "Minibatch iteration 74/94000: mean batch inertia: 11.362957, ewa inertia: 12.802344 \n",
      "Minibatch iteration 75/94000: mean batch inertia: 12.830607, ewa inertia: 12.802946 \n",
      "Minibatch iteration 76/94000: mean batch inertia: 11.549036, ewa inertia: 12.776205 \n",
      "Minibatch iteration 77/94000: mean batch inertia: 12.411992, ewa inertia: 12.768438 \n",
      "[MiniBatchKMeans] Reassigning 16 cluster centers.\n",
      "Minibatch iteration 78/94000: mean batch inertia: 10.662776, ewa inertia: 12.723532 \n",
      "Minibatch iteration 79/94000: mean batch inertia: 10.685784, ewa inertia: 12.680075 \n",
      "Minibatch iteration 80/94000: mean batch inertia: 12.482688, ewa inertia: 12.675865 \n",
      "Minibatch iteration 81/94000: mean batch inertia: 12.274838, ewa inertia: 12.667313 \n",
      "Minibatch iteration 82/94000: mean batch inertia: 12.660312, ewa inertia: 12.667164 \n",
      "Minibatch iteration 83/94000: mean batch inertia: 12.440274, ewa inertia: 12.662325 \n",
      "Minibatch iteration 84/94000: mean batch inertia: 13.258787, ewa inertia: 12.675045 \n",
      "Minibatch iteration 85/94000: mean batch inertia: 12.895183, ewa inertia: 12.679740 \n",
      "Minibatch iteration 86/94000: mean batch inertia: 11.213233, ewa inertia: 12.648465 \n",
      "Minibatch iteration 87/94000: mean batch inertia: 10.544927, ewa inertia: 12.603604 \n",
      "Minibatch iteration 88/94000: mean batch inertia: 12.144466, ewa inertia: 12.593813 \n",
      "Minibatch iteration 89/94000: mean batch inertia: 11.590739, ewa inertia: 12.572421 \n",
      "Minibatch iteration 90/94000: mean batch inertia: 11.401508, ewa inertia: 12.547450 \n",
      "[MiniBatchKMeans] Reassigning 16 cluster centers.\n",
      "Minibatch iteration 91/94000: mean batch inertia: 12.407501, ewa inertia: 12.544465 \n",
      "Minibatch iteration 92/94000: mean batch inertia: 11.630134, ewa inertia: 12.524966 \n",
      "Minibatch iteration 93/94000: mean batch inertia: 9.916690, ewa inertia: 12.469341 \n",
      "Minibatch iteration 94/94000: mean batch inertia: 12.156689, ewa inertia: 12.462673 \n",
      "Minibatch iteration 95/94000: mean batch inertia: 12.039644, ewa inertia: 12.453652 \n",
      "Minibatch iteration 96/94000: mean batch inertia: 10.975882, ewa inertia: 12.422137 \n",
      "Minibatch iteration 97/94000: mean batch inertia: 10.428797, ewa inertia: 12.379626 \n",
      "[MiniBatchKMeans] Reassigning 16 cluster centers.\n",
      "Minibatch iteration 98/94000: mean batch inertia: 13.646681, ewa inertia: 12.406648 \n",
      "Minibatch iteration 99/94000: mean batch inertia: 9.783507, ewa inertia: 12.350706 \n",
      "Minibatch iteration 100/94000: mean batch inertia: 12.139681, ewa inertia: 12.346206 \n",
      "Minibatch iteration 101/94000: mean batch inertia: 11.482954, ewa inertia: 12.327796 \n",
      "Minibatch iteration 102/94000: mean batch inertia: 13.608581, ewa inertia: 12.355110 \n",
      "Minibatch iteration 103/94000: mean batch inertia: 13.123661, ewa inertia: 12.371500 \n"
     ]
    },
    {
     "name": "stdout",
     "output_type": "stream",
     "text": [
      "Minibatch iteration 104/94000: mean batch inertia: 12.305709, ewa inertia: 12.370097 \n",
      "Minibatch iteration 105/94000: mean batch inertia: 11.241381, ewa inertia: 12.346026 \n",
      "Minibatch iteration 106/94000: mean batch inertia: 11.418699, ewa inertia: 12.326250 \n",
      "Minibatch iteration 107/94000: mean batch inertia: 11.574784, ewa inertia: 12.310224 \n",
      "Minibatch iteration 108/94000: mean batch inertia: 12.171250, ewa inertia: 12.307260 \n",
      "Minibatch iteration 109/94000: mean batch inertia: 12.685729, ewa inertia: 12.315331 \n",
      "Minibatch iteration 110/94000: mean batch inertia: 11.129631, ewa inertia: 12.290045 \n",
      "Minibatch iteration 111/94000: mean batch inertia: 10.890276, ewa inertia: 12.260193 \n",
      "[MiniBatchKMeans] Reassigning 15 cluster centers.\n",
      "Minibatch iteration 112/94000: mean batch inertia: 10.610719, ewa inertia: 12.225016 \n",
      "Minibatch iteration 113/94000: mean batch inertia: 12.814554, ewa inertia: 12.237589 \n",
      "Minibatch iteration 114/94000: mean batch inertia: 12.135926, ewa inertia: 12.235420 \n",
      "Minibatch iteration 115/94000: mean batch inertia: 10.764007, ewa inertia: 12.204041 \n",
      "Minibatch iteration 116/94000: mean batch inertia: 11.458148, ewa inertia: 12.188134 \n",
      "Minibatch iteration 117/94000: mean batch inertia: 12.607913, ewa inertia: 12.197086 \n",
      "Minibatch iteration 118/94000: mean batch inertia: 10.955351, ewa inertia: 12.170604 \n",
      "Minibatch iteration 119/94000: mean batch inertia: 12.062140, ewa inertia: 12.168291 \n",
      "Minibatch iteration 120/94000: mean batch inertia: 12.867832, ewa inertia: 12.183210 \n",
      "Minibatch iteration 121/94000: mean batch inertia: 11.146957, ewa inertia: 12.161111 \n",
      "Minibatch iteration 122/94000: mean batch inertia: 11.648791, ewa inertia: 12.150185 \n",
      "Minibatch iteration 123/94000: mean batch inertia: 12.328053, ewa inertia: 12.153978 \n",
      "Minibatch iteration 124/94000: mean batch inertia: 11.991352, ewa inertia: 12.150510 \n",
      "Minibatch iteration 125/94000: mean batch inertia: 11.103376, ewa inertia: 12.128178 \n",
      "Minibatch iteration 126/94000: mean batch inertia: 11.546038, ewa inertia: 12.115763 \n",
      "Minibatch iteration 127/94000: mean batch inertia: 12.241586, ewa inertia: 12.118447 \n",
      "Minibatch iteration 128/94000: mean batch inertia: 11.641117, ewa inertia: 12.108267 \n",
      "Minibatch iteration 129/94000: mean batch inertia: 11.255060, ewa inertia: 12.090071 \n",
      "Minibatch iteration 130/94000: mean batch inertia: 13.738057, ewa inertia: 12.125217 \n",
      "Minibatch iteration 131/94000: mean batch inertia: 10.677069, ewa inertia: 12.094333 \n",
      "Minibatch iteration 132/94000: mean batch inertia: 11.207585, ewa inertia: 12.075422 \n",
      "Minibatch iteration 133/94000: mean batch inertia: 10.862472, ewa inertia: 12.049555 \n",
      "Minibatch iteration 134/94000: mean batch inertia: 13.450355, ewa inertia: 12.079428 \n",
      "[MiniBatchKMeans] Reassigning 13 cluster centers.\n",
      "Minibatch iteration 135/94000: mean batch inertia: 11.210964, ewa inertia: 12.060907 \n",
      "Minibatch iteration 136/94000: mean batch inertia: 11.950612, ewa inertia: 12.058555 \n",
      "Minibatch iteration 137/94000: mean batch inertia: 10.909092, ewa inertia: 12.034041 \n",
      "Minibatch iteration 138/94000: mean batch inertia: 12.142841, ewa inertia: 12.036362 \n",
      "Minibatch iteration 139/94000: mean batch inertia: 12.585810, ewa inertia: 12.048079 \n",
      "Minibatch iteration 140/94000: mean batch inertia: 12.395242, ewa inertia: 12.055483 \n",
      "Minibatch iteration 141/94000: mean batch inertia: 13.531512, ewa inertia: 12.086961 \n",
      "Minibatch iteration 142/94000: mean batch inertia: 13.832605, ewa inertia: 12.124189 \n",
      "Minibatch iteration 143/94000: mean batch inertia: 14.374281, ewa inertia: 12.172175 \n",
      "Minibatch iteration 144/94000: mean batch inertia: 11.200478, ewa inertia: 12.151453 \n",
      "Minibatch iteration 145/94000: mean batch inertia: 11.274052, ewa inertia: 12.132741 \n",
      "Minibatch iteration 146/94000: mean batch inertia: 13.505836, ewa inertia: 12.162024 \n",
      "Minibatch iteration 147/94000: mean batch inertia: 11.715565, ewa inertia: 12.152503 \n",
      "Converged (lack of improvement in inertia) at iteration 147/94000\n",
      "Computing label assignment and total inertia\n",
      "Done\n",
      "mbkmeans.fit(data) Done!\n",
      "CPU times: user 1.54 s, sys: 33.8 ms, total: 1.57 s\n",
      "Wall time: 822 ms\n"
     ]
    }
   ],
   "source": [
    "%%time\n",
    "print(\"Starting Clustering Process\")\n",
    "model = cluster.MiniBatchKMeans(n_clusters=k, n_init = 20, random_state=42, batch_size=32, max_iter=1000, verbose=1)\n",
    "model.fit(data)\n",
    "print(\"Done\")\n",
    "print(\"mbkmeans.fit(data) Done!\")"
   ]
  },
  {
   "cell_type": "markdown",
   "metadata": {
    "colab_type": "text",
    "id": "CArLi48A6ABy"
   },
   "source": [
    "### Saving the output data into vars"
   ]
  },
  {
   "cell_type": "code",
   "execution_count": 10,
   "metadata": {
    "colab": {},
    "colab_type": "code",
    "id": "QIfHjjLShHM8"
   },
   "outputs": [],
   "source": [
    "centroids = model.cluster_centers_\n",
    "labels = model.labels_\n",
    "megadf[\"clusterlabel\"]=labels\n",
    "centroidDF = pd.DataFrame(centroids)\n"
   ]
  },
  {
   "cell_type": "markdown",
   "metadata": {
    "colab_type": "text",
    "id": "katJKlYX3DVA"
   },
   "source": [
    "## Plotting"
   ]
  },
  {
   "cell_type": "code",
   "execution_count": 11,
   "metadata": {
    "colab": {
     "base_uri": "https://localhost:8080/"
    },
    "colab_type": "code",
    "id": "5RdhXBYhhHNG",
    "outputId": "ff87a9c6-03d2-4527-d0b0-710176d17b6a",
    "scrolled": true
   },
   "outputs": [
    {
     "data": {
      "text/plain": [
       "Text(0.5, 1.0, 'MBKMEANS with k=50 records=3000 features=250 using glove')"
      ]
     },
     "execution_count": 11,
     "metadata": {},
     "output_type": "execute_result"
    },
    {
     "data": {
      "image/png": "[encoded data removed]",
      "text/plain": [
       "<Figure size 1152x1152 with 1 Axes>"
      ]
     },
     "metadata": {
      "needs_background": "light"
     },
     "output_type": "display_data"
    }
   ],
   "source": [
    "plt.figure(figsize=(16,16))\n",
    "titlestring = \"{} with k={} records={} features={} using {}\".format(__algo__, k, data.shape[0], data.shape[1], __emb__)\n",
    "snsplot = sns.countplot(\"clusterlabel\", data=megadf)\n",
    "snsplot.xaxis.label.set_size(20)\n",
    "snsplot.yaxis.label.set_size(20)\n",
    "plt.title(\n",
    "        titlestring,\n",
    "        fontdict = {'fontsize' : 30}\n",
    "    )"
   ]
  },
  {
   "cell_type": "markdown",
   "metadata": {},
   "source": [
    "### *Name given to saved files*"
   ]
  },
  {
   "cell_type": "code",
   "execution_count": 12,
   "metadata": {
    "scrolled": true
   },
   "outputs": [
    {
     "data": {
      "text/plain": [
       "'MBKMEANS_glove_pmeans5_K50_R3000_F250'"
      ]
     },
     "execution_count": 12,
     "metadata": {},
     "output_type": "execute_result"
    }
   ],
   "source": [
    "name = \"{}_{}_{}_K{}_R{}_F{}\".format(__algo__, __emb__, __sentemb__, k, data.shape[0], data.shape[1])\n",
    "name"
   ]
  },
  {
   "cell_type": "markdown",
   "metadata": {
    "colab_type": "text",
    "id": "Auz4Iqgh4Run"
   },
   "source": [
    "### Saving Data"
   ]
  },
  {
   "cell_type": "markdown",
   "metadata": {},
   "source": [
    "Save model"
   ]
  },
  {
   "cell_type": "code",
   "execution_count": 13,
   "metadata": {},
   "outputs": [],
   "source": [
    "modelname = \"{}_model.pkl\".format(name)\n",
    "pickle.dump(model, open(modelDir + modelname, 'wb'))"
   ]
  },
  {
   "cell_type": "markdown",
   "metadata": {},
   "source": [
    "Save Plot"
   ]
  },
  {
   "cell_type": "code",
   "execution_count": 14,
   "metadata": {
    "colab": {},
    "colab_type": "code",
    "id": "l0RRWXwvQ9jz"
   },
   "outputs": [],
   "source": [
    "snspltname = \"{}_plt.png\".format(name)\n",
    "snsplot.figure.savefig(plotDir + snspltname)"
   ]
  },
  {
   "cell_type": "markdown",
   "metadata": {},
   "source": [
    "Save Megadf"
   ]
  },
  {
   "cell_type": "code",
   "execution_count": 15,
   "metadata": {
    "colab": {},
    "colab_type": "code",
    "id": "ZLHiM-gclArn"
   },
   "outputs": [],
   "source": [
    "clusterdfname = \"{}_clustered_megadf.pkl\".format(name)\n",
    "megadf.to_pickle(megadfDir + clusterdfname)"
   ]
  },
  {
   "cell_type": "markdown",
   "metadata": {},
   "source": [
    "Save Centroids"
   ]
  },
  {
   "cell_type": "code",
   "execution_count": 16,
   "metadata": {
    "colab": {},
    "colab_type": "code",
    "id": "N8MsneQ_vx4H"
   },
   "outputs": [
    {
     "name": "stdout",
     "output_type": "stream",
     "text": [
      "(50, 250)\n",
      "RangeIndex(start=0, stop=250, step=1)\n"
     ]
    }
   ],
   "source": [
    "centroidDF = pd.DataFrame(centroids)\n",
    "centroidDFname = \"{}_centroids.pkl\".format(name)\n",
    "centroidDF.to_pickle(megadfDir + centroidDFname)\n",
    "print(centroidDF.shape)\n",
    "print(centroidDF.columns)"
   ]
  },
  {
   "cell_type": "markdown",
   "metadata": {
    "colab_type": "text",
    "id": "x35sOox64Lme"
   },
   "source": [
    "#### Total Time to Exec"
   ]
  },
  {
   "cell_type": "code",
   "execution_count": 17,
   "metadata": {
    "colab": {
     "base_uri": "https://localhost:8080/"
    },
    "colab_type": "code",
    "id": "Fg2D3Fsww94W",
    "outputId": "e52fb623-13bd-49a0-e8d0-bb44220cc774"
   },
   "outputs": [
    {
     "name": "stdout",
     "output_type": "stream",
     "text": [
      "end_datetime:  2020-04-14 15:54:18.622247\n",
      "done! 2.12\n",
      "Time taken:  0:00:02.123996\n"
     ]
    }
   ],
   "source": [
    "end_time = time.time()\n",
    "end_datetime = datetime.datetime.now()\n",
    "# print(\"end_time:\",  end_time)\n",
    "print(\"end_datetime: \", end_datetime)\n",
    "print(\"done! {}\".format(round(end_time-start_time, 2)))\n",
    "print(\"Time taken: \", str(end_datetime-start_datetime))"
   ]
  },
  {
   "cell_type": "markdown",
   "metadata": {
    "colab_type": "text",
    "id": "P0kYelyC5NqY"
   },
   "source": [
    "#### Open dataframe to test"
   ]
  },
  {
   "cell_type": "code",
   "execution_count": 18,
   "metadata": {
    "colab": {
     "base_uri": "https://localhost:8080/"
    },
    "colab_type": "code",
    "id": "VvsuuCMaQEj4",
    "outputId": "5b11f4b6-275c-441c-ebab-130b39dccf5a",
    "scrolled": false
   },
   "outputs": [
    {
     "data": {
      "text/html": [
       "<div>\n",
       "<style scoped>\n",
       "    .dataframe tbody tr th:only-of-type {\n",
       "        vertical-align: middle;\n",
       "    }\n",
       "\n",
       "    .dataframe tbody tr th {\n",
       "        vertical-align: top;\n",
       "    }\n",
       "\n",
       "    .dataframe thead th {\n",
       "        text-align: right;\n",
       "    }\n",
       "</style>\n",
       "<table border=\"1\" class=\"dataframe\">\n",
       "  <thead>\n",
       "    <tr style=\"text-align: right;\">\n",
       "      <th></th>\n",
       "      <th>id</th>\n",
       "      <th>title</th>\n",
       "      <th>abstract</th>\n",
       "      <th>clusterlabel</th>\n",
       "    </tr>\n",
       "  </thead>\n",
       "  <tbody>\n",
       "    <tr>\n",
       "      <td>2995</td>\n",
       "      <td>1588822</td>\n",
       "      <td>Defining the clinical role of the mammalian ta...</td>\n",
       "      <td>[lung, cancer, biggest, cancer, killer, patien...</td>\n",
       "      <td>23</td>\n",
       "    </tr>\n",
       "    <tr>\n",
       "      <td>2996</td>\n",
       "      <td>1588823</td>\n",
       "      <td>Bio-functionalised nanoparticles for enzyme se...</td>\n",
       "      <td>[inorganic, nanoparticles, accompanying, diver...</td>\n",
       "      <td>23</td>\n",
       "    </tr>\n",
       "    <tr>\n",
       "      <td>2997</td>\n",
       "      <td>1588824</td>\n",
       "      <td>Lithological mapping on the Antarctic Peninsul...</td>\n",
       "      <td>[antarctic, peninsula, larger, uk, limited, ge...</td>\n",
       "      <td>7</td>\n",
       "    </tr>\n",
       "    <tr>\n",
       "      <td>2998</td>\n",
       "      <td>1588825</td>\n",
       "      <td>WWOX, tumour suppressor and modifier gene, as ...</td>\n",
       "      <td>[wwox, tumour, suppressor, gene, demonstrated,...</td>\n",
       "      <td>23</td>\n",
       "    </tr>\n",
       "    <tr>\n",
       "      <td>2999</td>\n",
       "      <td>1588826</td>\n",
       "      <td>Improving efficiency in drive lines : an exper...</td>\n",
       "      <td>[research, concern, improvement, power, effici...</td>\n",
       "      <td>9</td>\n",
       "    </tr>\n",
       "  </tbody>\n",
       "</table>\n",
       "</div>"
      ],
      "text/plain": [
       "           id                                              title  \\\n",
       "2995  1588822  Defining the clinical role of the mammalian ta...   \n",
       "2996  1588823  Bio-functionalised nanoparticles for enzyme se...   \n",
       "2997  1588824  Lithological mapping on the Antarctic Peninsul...   \n",
       "2998  1588825  WWOX, tumour suppressor and modifier gene, as ...   \n",
       "2999  1588826  Improving efficiency in drive lines : an exper...   \n",
       "\n",
       "                                               abstract  clusterlabel  \n",
       "2995  [lung, cancer, biggest, cancer, killer, patien...            23  \n",
       "2996  [inorganic, nanoparticles, accompanying, diver...            23  \n",
       "2997  [antarctic, peninsula, larger, uk, limited, ge...             7  \n",
       "2998  [wwox, tumour, suppressor, gene, demonstrated,...            23  \n",
       "2999  [research, concern, improvement, power, effici...             9  "
      ]
     },
     "execution_count": 18,
     "metadata": {},
     "output_type": "execute_result"
    }
   ],
   "source": [
    "sub = megadf.loc[:, [\"id\", \"title\", \"abstract\", \"clusterlabel\"]]\n",
    "sub.tail()"
   ]
  },
  {
   "cell_type": "code",
   "execution_count": 19,
   "metadata": {},
   "outputs": [
    {
     "data": {
      "text/plain": [
       "Index(['id', 'title', 'abstract', 'embedding', 'clusterlabel'], dtype='object')"
      ]
     },
     "execution_count": 19,
     "metadata": {},
     "output_type": "execute_result"
    }
   ],
   "source": [
    "megadf.columns"
   ]
  },
  {
   "cell_type": "code",
   "execution_count": null,
   "metadata": {},
   "outputs": [],
   "source": []
  }
 ],
 "metadata": {
  "colab": {
   "collapsed_sections": [],
   "include_colab_link": true,
   "name": "TemplateClusterKEuclid.ipynb",
   "provenance": []
  },
  "file_extension": ".py",
  "kernelspec": {
   "display_name": "Python 3.7.4 64-bit ('base': conda)",
   "language": "python",
   "name": "python37464bitbasecondaccb10e44a6224ec5a8090d4d6e72e602"
  },
  "language_info": {
   "codemirror_mode": {
    "name": "ipython",
    "version": 3
   },
   "file_extension": ".py",
   "mimetype": "text/x-python",
   "name": "python",
   "nbconvert_exporter": "python",
   "pygments_lexer": "ipython3",
   "version": "3.7.4"
  },
  "mimetype": "text/x-python",
  "name": "python",
  "npconvert_exporter": "python",
  "pygments_lexer": "ipython3",
  "version": 3
 },
 "nbformat": 4,
 "nbformat_minor": 1
}

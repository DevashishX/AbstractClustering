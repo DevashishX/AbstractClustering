{
  "nbformat": 4,
  "nbformat_minor": 0,
  "metadata": {
    "accelerator": "TPU",
    "colab": {
      "name": "KmeansGlovePmeans5_Colab.ipynb",
      "provenance": [],
      "collapsed_sections": [],
      "toc_visible": true,
      "include_colab_link": true
    },
    "file_extension": ".py",
    "kernelspec": {
      "name": "python3",
      "display_name": "Python 3"
    },
    "language_info": {
      "codemirror_mode": {
        "name": "ipython",
        "version": 3
      },
      "file_extension": ".py",
      "mimetype": "text/x-python",
      "name": "python",
      "nbconvert_exporter": "python",
      "pygments_lexer": "ipython3",
      "version": "3.7.4"
    },
    "mimetype": "text/x-python",
    "name": "python",
    "npconvert_exporter": "python",
    "pygments_lexer": "ipython3",
    "version": 3
  },
  "cells": [
    {
      "cell_type": "markdown",
      "metadata": {
        "id": "view-in-github",
        "colab_type": "text"
      },
      "source": [
        "<a href=\"https://colab.research.google.com/github/DevashishX/AbstractClustering/blob/master/templates/KmeansGlovePmeans5_Colab.ipynb\" target=\"_parent\"><img src=\"https://colab.research.google.com/assets/colab-badge.svg\" alt=\"Open In Colab\"/></a>"
      ]
    },
    {
      "cell_type": "markdown",
      "metadata": {
        "colab_type": "text",
        "id": "68T2sTjJHR_j"
      },
      "source": [
        "# Colab Requirements"
      ]
    },
    {
      "cell_type": "markdown",
      "metadata": {
        "colab_type": "text",
        "id": "hEdzG0C9HR_m"
      },
      "source": [
        "This file has been modified for colab training, all outputs are stored in *ColabOutput* folder in your google drive, there is also a one copy in the normal training folders as well.\n",
        "*Make sure you have ColabOutput folder in your google drive*"
      ]
    },
    {
      "cell_type": "code",
      "metadata": {
        "colab_type": "code",
        "id": "3cDvyz4xHR_q",
        "outputId": "adf7bbab-51eb-491d-aec8-3bbf0c9eb98c",
        "colab": {
          "base_uri": "https://localhost:8080/",
          "height": 124
        }
      },
      "source": [
        "from google.colab import drive\n",
        "drive.mount('/content/drive')"
      ],
      "execution_count": 1,
      "outputs": [
        {
          "output_type": "stream",
          "text": [
            "Go to this URL in a browser: https://accounts.google.com/o/oauth2/auth?client_id=947318989803-6bn6qk8qdgf4n4g3pfee6491hc0brc4i.apps.googleusercontent.com&redirect_uri=urn%3aietf%3awg%3aoauth%3a2.0%3aoob&response_type=code&scope=email%20https%3a%2f%2fwww.googleapis.com%2fauth%2fdocs.test%20https%3a%2f%2fwww.googleapis.com%2fauth%2fdrive%20https%3a%2f%2fwww.googleapis.com%2fauth%2fdrive.photos.readonly%20https%3a%2f%2fwww.googleapis.com%2fauth%2fpeopleapi.readonly\n",
            "\n",
            "Enter your authorization code:\n",
            "··········\n",
            "Mounted at /content/drive\n"
          ],
          "name": "stdout"
        }
      ]
    },
    {
      "cell_type": "code",
      "metadata": {
        "colab_type": "code",
        "id": "Rz5MDDqGHR_5",
        "outputId": "d312278e-ecbe-4ae6-e952-424d365e7090",
        "colab": {
          "base_uri": "https://localhost:8080/",
          "height": 156
        }
      },
      "source": [
        "!git clone https://github.com/DevashishX/AbstractClustering.git; \n",
        "!cp -r AbstractClustering/* ./."
      ],
      "execution_count": 2,
      "outputs": [
        {
          "output_type": "stream",
          "text": [
            "Cloning into 'AbstractClustering'...\n",
            "remote: Enumerating objects: 76, done.\u001b[K\n",
            "remote: Counting objects: 100% (76/76), done.\u001b[K\n",
            "remote: Compressing objects: 100% (67/67), done.\u001b[K\n",
            "remote: Total 624 (delta 38), reused 42 (delta 9), pack-reused 548\u001b[K\n",
            "Receiving objects: 100% (624/624), 669.96 MiB | 31.25 MiB/s, done.\n",
            "Resolving deltas: 100% (292/292), done.\n",
            "Checking out files: 100% (368/368), done.\n"
          ],
          "name": "stdout"
        }
      ]
    },
    {
      "cell_type": "code",
      "metadata": {
        "colab_type": "code",
        "id": "V-dqCeSCHSAB",
        "outputId": "993ae64b-7c8d-4c5a-8569-052c4a7ed1c2",
        "colab": {
          "base_uri": "https://localhost:8080/",
          "height": 454
        }
      },
      "source": [
        "import subprocess\n",
        "print((subprocess.check_output(\"lscpu\", shell=True).strip()).decode())"
      ],
      "execution_count": 3,
      "outputs": [
        {
          "output_type": "stream",
          "text": [
            "Architecture:        x86_64\n",
            "CPU op-mode(s):      32-bit, 64-bit\n",
            "Byte Order:          Little Endian\n",
            "CPU(s):              2\n",
            "On-line CPU(s) list: 0,1\n",
            "Thread(s) per core:  2\n",
            "Core(s) per socket:  1\n",
            "Socket(s):           1\n",
            "NUMA node(s):        1\n",
            "Vendor ID:           GenuineIntel\n",
            "CPU family:          6\n",
            "Model:               63\n",
            "Model name:          Intel(R) Xeon(R) CPU @ 2.30GHz\n",
            "Stepping:            0\n",
            "CPU MHz:             2300.000\n",
            "BogoMIPS:            4600.00\n",
            "Hypervisor vendor:   KVM\n",
            "Virtualization type: full\n",
            "L1d cache:           32K\n",
            "L1i cache:           32K\n",
            "L2 cache:            256K\n",
            "L3 cache:            46080K\n",
            "NUMA node0 CPU(s):   0,1\n",
            "Flags:               fpu vme de pse tsc msr pae mce cx8 apic sep mtrr pge mca cmov pat pse36 clflush mmx fxsr sse sse2 ss ht syscall nx pdpe1gb rdtscp lm constant_tsc rep_good nopl xtopology nonstop_tsc cpuid tsc_known_freq pni pclmulqdq ssse3 fma cx16 pcid sse4_1 sse4_2 x2apic movbe popcnt aes xsave avx f16c rdrand hypervisor lahf_lm abm invpcid_single ssbd ibrs ibpb stibp fsgsbase tsc_adjust bmi1 avx2 smep bmi2 erms invpcid xsaveopt arat md_clear arch_capabilities\n"
          ],
          "name": "stdout"
        }
      ]
    },
    {
      "cell_type": "markdown",
      "metadata": {
        "colab_type": "text",
        "id": "n6yRKl7Nx8NV"
      },
      "source": [
        "# ***Set parameters***"
      ]
    },
    {
      "cell_type": "code",
      "metadata": {
        "colab_type": "code",
        "id": "RLla__P2wqVL",
        "colab": {}
      },
      "source": [
        "__algo__ = \"KMEANS\"               #Name of the Clustering algorithm\n",
        "__emb__ = \"glove\"                 #Name of the Word Embeddings used (glove, w2v, ftt), MUST set directory below\n",
        "__sentemb__ = \"pmeans5\"           #Name of Sentence Embedding algorithm used\n",
        "recnum = 30000                     #Number of records to be read from files\n",
        "k = 350                           #Number of Clusters\n",
        "usesqrt = False                   #Set value of k to sqrt of recnum, overrides k\n",
        "randomsample = False              #Random Sampling to be True/False for records which are read\n",
        "embedDir = \"./MegaSentEmbs/\"     #Directory where embeddings are saved for that selected embedding\n",
        "modelDir = \"./models/\"           #Directory where models are saved\n",
        "megadfDir = \"./MegaDfs/\"         #Directory Where Megadf is to be saved\n",
        "plotDir = \"./plots/\"             #Directory where plots are saved\n",
        "metadataDir = \"./modelMetaData/\" #Directory where performance and distribution params are to be stored\n",
        "dumpDir = \"./dump/\"              #Directory where test outcomes are saved"
      ],
      "execution_count": 0,
      "outputs": []
    },
    {
      "cell_type": "markdown",
      "metadata": {
        "colab_type": "text",
        "id": "LGy8jsWQx0nS"
      },
      "source": [
        "# Actual Code"
      ]
    },
    {
      "cell_type": "markdown",
      "metadata": {
        "colab_type": "text",
        "id": "II0jpbbTzD8M"
      },
      "source": [
        "### imports and time"
      ]
    },
    {
      "cell_type": "code",
      "metadata": {
        "colab_type": "code",
        "id": "wkS4KGOphHK4",
        "colab": {}
      },
      "source": [
        "import numpy as np\n",
        "import matplotlib.pyplot as plt\n",
        "import pandas as pd\n",
        "from sklearn import cluster, datasets\n",
        "from sklearn.metrics import silhouette_score, davies_bouldin_score\n",
        "import seaborn as sns\n",
        "import os, subprocess, sys\n",
        "import datetime, time\n",
        "import pickle"
      ],
      "execution_count": 0,
      "outputs": []
    },
    {
      "cell_type": "markdown",
      "metadata": {
        "colab_type": "text",
        "id": "X2T_-VrUzBVt"
      },
      "source": [
        "### File Settings"
      ]
    },
    {
      "cell_type": "code",
      "metadata": {
        "colab_type": "code",
        "id": "fAi1m08zhHLn",
        "outputId": "dcbeb964-ab49-4ff6-ca45-c29f3ce3b9de",
        "colab": {
          "base_uri": "https://localhost:8080/",
          "height": 34
        }
      },
      "source": [
        "oldlist = os.listdir(embedDir)\n",
        "filelist = sorted([embedDir+f for f in oldlist if f[-3:]==\"pkl\"])\n",
        "filenum = len(filelist)\n",
        "smalllist = filelist[:filenum]\n",
        "print(\"Length of Smalllist: \", len(smalllist))"
      ],
      "execution_count": 118,
      "outputs": [
        {
          "output_type": "stream",
          "text": [
            "Length of Smalllist:  116\n"
          ],
          "name": "stdout"
        }
      ]
    },
    {
      "cell_type": "markdown",
      "metadata": {
        "colab_type": "text",
        "id": "Verw6R-QVK24"
      },
      "source": [
        "### Number of Records\n",
        "It is Recommended to Set this at the top parameters"
      ]
    },
    {
      "cell_type": "code",
      "metadata": {
        "colab_type": "code",
        "id": "1KLrsnyYVN0R",
        "colab": {}
      },
      "source": [
        "recnum = recnum"
      ],
      "execution_count": 0,
      "outputs": []
    },
    {
      "cell_type": "markdown",
      "metadata": {
        "colab_type": "text",
        "id": "fN1QgBS0hHL1"
      },
      "source": [
        "### Read all the pandas dataframes"
      ]
    },
    {
      "cell_type": "code",
      "metadata": {
        "colab_type": "code",
        "id": "opx4vfnfhHL4",
        "outputId": "d1a6be60-b690-4afa-bb6b-3586125c7f33",
        "colab": {
          "base_uri": "https://localhost:8080/",
          "height": 86
        }
      },
      "source": [
        "%%time\n",
        "megadf = pd.DataFrame()\n",
        "\n",
        "if randomsample == True:\n",
        "    print(\"randomsample: \", randomsample)\n",
        "    for f in smalllist:\n",
        "        tempdf = pd.read_pickle(f)\n",
        "        megadf = megadf.append(tempdf, ignore_index = True)\n",
        "    megadf = megadf.sample(recnum, random_state=42)\n",
        "else:\n",
        "    print(\"randomsample: \", randomsample)\n",
        "    for f in smalllist:\n",
        "        tempdf = pd.read_pickle(f)\n",
        "        megadf = megadf.append(tempdf, ignore_index = True)\n",
        "        if megadf.shape[0] >= recnum:\n",
        "            megadf = megadf[:recnum]\n",
        "            break\n",
        "\n",
        "print(\"megadf.shape: \", megadf.shape)"
      ],
      "execution_count": 120,
      "outputs": [
        {
          "output_type": "stream",
          "text": [
            "randomsample:  False\n",
            "megadf.shape:  (30000, 4)\n",
            "CPU times: user 646 ms, sys: 177 ms, total: 823 ms\n",
            "Wall time: 825 ms\n"
          ],
          "name": "stdout"
        }
      ]
    },
    {
      "cell_type": "code",
      "metadata": {
        "colab_type": "code",
        "id": "AH7_54wfhHMH",
        "outputId": "9c275a79-0dd9-4e76-89df-6799df472470",
        "colab": {
          "base_uri": "https://localhost:8080/",
          "height": 34
        }
      },
      "source": [
        "predata = megadf[\"embedding\"]\n",
        "data = np.matrix(predata.to_list())\n",
        "print(data.shape)"
      ],
      "execution_count": 121,
      "outputs": [
        {
          "output_type": "stream",
          "text": [
            "(30000, 250)\n"
          ],
          "name": "stdout"
        }
      ]
    },
    {
      "cell_type": "markdown",
      "metadata": {
        "colab_type": "text",
        "id": "AHw4QXjahHMV"
      },
      "source": [
        "### Number of Clusters\n",
        "It is Recommended to Set this at the top parameters"
      ]
    },
    {
      "cell_type": "code",
      "metadata": {
        "colab_type": "code",
        "id": "NDTDoVfhhHMa",
        "outputId": "c84dcdce-9964-432c-de00-0d3e29601da4",
        "colab": {
          "base_uri": "https://localhost:8080/",
          "height": 52
        }
      },
      "source": [
        "if usesqrt == True:\n",
        "    print(\"usesqrt: \", usesqrt)\n",
        "    sqrt_k = int(np.sqrt(data.shape[0]))\n",
        "    k = int(sqrt_k)\n",
        "else:\n",
        "    print(\"usesqrt: \", usesqrt)\n",
        "    k = k\n",
        "print(\"k: \", k)"
      ],
      "execution_count": 122,
      "outputs": [
        {
          "output_type": "stream",
          "text": [
            "usesqrt:  False\n",
            "k:  350\n"
          ],
          "name": "stdout"
        }
      ]
    },
    {
      "cell_type": "markdown",
      "metadata": {
        "colab_type": "text",
        "id": "KGn8OXrj2CJQ"
      },
      "source": [
        "## Clustering\n",
        "Please modify the functions here to change algorithm"
      ]
    },
    {
      "cell_type": "code",
      "metadata": {
        "colab_type": "code",
        "id": "bQYesl8uhHMk",
        "outputId": "542853c2-c0d9-4e52-ae53-9a4df6b205a9",
        "colab": {
          "base_uri": "https://localhost:8080/",
          "height": 159
        }
      },
      "source": [
        "%%time\n",
        "print(\"Starting Clustering Process\")\n",
        "start_time = time.time()\n",
        "model = cluster.KMeans(n_clusters=k, n_init = 20, max_iter=1000, verbose=1, n_jobs=-1)\n",
        "model.fit(data)\n",
        "end_time = time.time()\n",
        "timetrain = round(end_time-start_time, 2)\n",
        "print(\"done! {}\".format(timetrain))\n",
        "print(\"k_means.fit(data) Done!\")"
      ],
      "execution_count": 123,
      "outputs": [
        {
          "output_type": "stream",
          "text": [
            "Starting Clustering Process\n"
          ],
          "name": "stdout"
        },
        {
          "output_type": "stream",
          "text": [
            "/usr/local/lib/python3.6/dist-packages/joblib/externals/loky/process_executor.py:706: UserWarning: A worker stopped while some jobs were given to the executor. This can be caused by a too short worker timeout or by a memory leak.\n",
            "  \"timeout or by a memory leak.\", UserWarning\n"
          ],
          "name": "stderr"
        },
        {
          "output_type": "stream",
          "text": [
            "done! 890.59\n",
            "k_means.fit(data) Done!\n",
            "CPU times: user 223 ms, sys: 143 ms, total: 366 ms\n",
            "Wall time: 14min 50s\n"
          ],
          "name": "stdout"
        }
      ]
    },
    {
      "cell_type": "markdown",
      "metadata": {
        "colab_type": "text",
        "id": "CArLi48A6ABy"
      },
      "source": [
        "### Saving the output data into vars"
      ]
    },
    {
      "cell_type": "code",
      "metadata": {
        "colab_type": "code",
        "id": "QIfHjjLShHM8",
        "colab": {}
      },
      "source": [
        "centroids = model.cluster_centers_\n",
        "labels = model.labels_\n",
        "megadf[\"clusterlabel\"]=labels\n",
        "centroidDF = pd.DataFrame(centroids)\n"
      ],
      "execution_count": 0,
      "outputs": []
    },
    {
      "cell_type": "markdown",
      "metadata": {
        "colab_type": "text",
        "id": "katJKlYX3DVA"
      },
      "source": [
        "## Plotting"
      ]
    },
    {
      "cell_type": "code",
      "metadata": {
        "colab_type": "code",
        "id": "5RdhXBYhhHNG",
        "outputId": "a39fbaf0-aa0f-4c8e-d9e3-62b574233be2",
        "scrolled": true,
        "colab": {
          "base_uri": "https://localhost:8080/",
          "height": 934
        }
      },
      "source": [
        "plt.figure(figsize=(16,16))\n",
        "titlestring = \"{} with k={} records={} features={} using {}\".format(__algo__, k, data.shape[0], data.shape[1], __emb__)\n",
        "snsplot = sns.countplot(\"clusterlabel\", data=megadf)\n",
        "snsplot.xaxis.label.set_size(20)\n",
        "snsplot.yaxis.label.set_size(20)\n",
        "plt.title(\n",
        "        titlestring,\n",
        "        fontdict = {'fontsize' : 30}\n",
        "    )"
      ],
      "execution_count": 125,
      "outputs": [
        {
          "output_type": "execute_result",
          "data": {
            "text/plain": [
              "Text(0.5, 1.0, 'KMEANS with k=350 records=30000 features=250 using glove')"
            ]
          },
          "metadata": {
            "tags": []
          },
          "execution_count": 125
        },
        {
          "output_type": "display_data",
          "data": {
            "image/png": "[encoded data removed]",
            "text/plain": [
              "<Figure size 1152x1152 with 1 Axes>"
            ]
          },
          "metadata": {
            "tags": [],
            "needs_background": "light"
          }
        }
      ]
    },
    {
      "cell_type": "markdown",
      "metadata": {
        "colab_type": "text",
        "id": "XeKZjylmHSBe"
      },
      "source": [
        "### *Name given to saved files*"
      ]
    },
    {
      "cell_type": "code",
      "metadata": {
        "colab_type": "code",
        "id": "ba1gRBa0HSBe",
        "outputId": "977e1064-9aa9-4636-cc65-a28a7e0bb20a",
        "scrolled": true,
        "colab": {
          "base_uri": "https://localhost:8080/",
          "height": 34
        }
      },
      "source": [
        "features = data.shape[1]\n",
        "records = data.shape[0]\n",
        "name = \"{}_{}_{}_K{}_R{}_F{}\".format(__algo__, __emb__, __sentemb__, k, records, features)\n",
        "name"
      ],
      "execution_count": 126,
      "outputs": [
        {
          "output_type": "execute_result",
          "data": {
            "text/plain": [
              "'KMEANS_glove_pmeans5_K350_R30000_F250'"
            ]
          },
          "metadata": {
            "tags": []
          },
          "execution_count": 126
        }
      ]
    },
    {
      "cell_type": "markdown",
      "metadata": {
        "colab_type": "text",
        "id": "Auz4Iqgh4Run"
      },
      "source": [
        "### Saving Data"
      ]
    },
    {
      "cell_type": "markdown",
      "metadata": {
        "colab_type": "text",
        "id": "72omKTUTHSBm"
      },
      "source": [
        "Save model"
      ]
    },
    {
      "cell_type": "code",
      "metadata": {
        "colab_type": "code",
        "id": "OSXVqXvqHSBn",
        "colab": {}
      },
      "source": [
        "modelname = \"{}_model.pkl\".format(name)\n",
        "pickle.dump(model, open(modelDir + modelname, 'wb'))\n",
        "os.environ[\"SAVE_DF\"] = modelDir + modelname\n",
        "!cp $SAVE_DF ./drive/My\\ Drive/ColabOutput/."
      ],
      "execution_count": 0,
      "outputs": []
    },
    {
      "cell_type": "markdown",
      "metadata": {
        "colab_type": "text",
        "id": "Cl1cVogDHSBs"
      },
      "source": [
        "Save Plot"
      ]
    },
    {
      "cell_type": "code",
      "metadata": {
        "colab_type": "code",
        "id": "l0RRWXwvQ9jz",
        "colab": {}
      },
      "source": [
        "snspltname = \"{}_plt.png\".format(name)\n",
        "snsplot.figure.savefig(plotDir + snspltname)\n",
        "os.environ[\"SAVE_DF\"] = plotDir + snspltname\n",
        "!cp $SAVE_DF ./drive/My\\ Drive/ColabOutput/."
      ],
      "execution_count": 0,
      "outputs": []
    },
    {
      "cell_type": "markdown",
      "metadata": {
        "colab_type": "text",
        "id": "hCYs0xROHSBx"
      },
      "source": [
        "Save Megadf"
      ]
    },
    {
      "cell_type": "code",
      "metadata": {
        "colab_type": "code",
        "id": "ZLHiM-gclArn",
        "colab": {}
      },
      "source": [
        "clusterdfname = \"{}_clustered_megadf.pkl\".format(name)\n",
        "megadf.to_pickle(megadfDir + clusterdfname)\n",
        "os.environ[\"SAVE_DF\"] = megadfDir + clusterdfname\n",
        "!cp $SAVE_DF ./drive/My\\ Drive/ColabOutput/."
      ],
      "execution_count": 0,
      "outputs": []
    },
    {
      "cell_type": "markdown",
      "metadata": {
        "colab_type": "text",
        "id": "lAWuWNjWHSB4"
      },
      "source": [
        "Save Centroids"
      ]
    },
    {
      "cell_type": "code",
      "metadata": {
        "colab_type": "code",
        "id": "N8MsneQ_vx4H",
        "outputId": "9c08a61a-85c2-43b1-bc07-9ac5fe5ac41e",
        "colab": {
          "base_uri": "https://localhost:8080/",
          "height": 34
        }
      },
      "source": [
        "centroidDF = pd.DataFrame(centroids)\n",
        "centroidDFname = \"{}_centroids.pkl\".format(name)\n",
        "centroidDF.to_pickle(megadfDir + centroidDFname)\n",
        "os.environ[\"SAVE_DF\"] = megadfDir + centroidDFname\n",
        "!cp $SAVE_DF ./drive/My\\ Drive/ColabOutput/.\n",
        "print(centroidDF.shape)"
      ],
      "execution_count": 130,
      "outputs": [
        {
          "output_type": "stream",
          "text": [
            "(350, 250)\n"
          ],
          "name": "stdout"
        }
      ]
    },
    {
      "cell_type": "markdown",
      "metadata": {
        "colab_type": "text",
        "id": "P0kYelyC5NqY"
      },
      "source": [
        "#### Open dataframe to test"
      ]
    },
    {
      "cell_type": "code",
      "metadata": {
        "colab_type": "code",
        "id": "VvsuuCMaQEj4",
        "outputId": "98eb03b3-37df-4a6b-9a62-0e2f61423eb1",
        "scrolled": false,
        "colab": {
          "base_uri": "https://localhost:8080/",
          "height": 293
        }
      },
      "source": [
        "sub = megadf.loc[:, [\"id\", \"title\", \"abstract\", \"clusterlabel\"]]\n",
        "sub.tail()"
      ],
      "execution_count": 131,
      "outputs": [
        {
          "output_type": "execute_result",
          "data": {
            "text/html": [
              "<div>\n",
              "<style scoped>\n",
              "    .dataframe tbody tr th:only-of-type {\n",
              "        vertical-align: middle;\n",
              "    }\n",
              "\n",
              "    .dataframe tbody tr th {\n",
              "        vertical-align: top;\n",
              "    }\n",
              "\n",
              "    .dataframe thead th {\n",
              "        text-align: right;\n",
              "    }\n",
              "</style>\n",
              "<table border=\"1\" class=\"dataframe\">\n",
              "  <thead>\n",
              "    <tr style=\"text-align: right;\">\n",
              "      <th></th>\n",
              "      <th>id</th>\n",
              "      <th>title</th>\n",
              "      <th>abstract</th>\n",
              "      <th>clusterlabel</th>\n",
              "    </tr>\n",
              "  </thead>\n",
              "  <tbody>\n",
              "    <tr>\n",
              "      <th>29995</th>\n",
              "      <td>1639102</td>\n",
              "      <td>Age of onset of schizophrenia in siblings: A t...</td>\n",
              "      <td>[original, article, found, http, www, scienced...</td>\n",
              "      <td>48</td>\n",
              "    </tr>\n",
              "    <tr>\n",
              "      <th>29996</th>\n",
              "      <td>1639103</td>\n",
              "      <td>Reducing persistent auditory hallucinations by...</td>\n",
              "      <td>[copyright, british, psychological, society, f...</td>\n",
              "      <td>340</td>\n",
              "    </tr>\n",
              "    <tr>\n",
              "      <th>29997</th>\n",
              "      <td>1639104</td>\n",
              "      <td>Investigating Visual Knowledge in Dementia of ...</td>\n",
              "      <td>[original, article, found, http, www, scienced...</td>\n",
              "      <td>48</td>\n",
              "    </tr>\n",
              "    <tr>\n",
              "      <th>29998</th>\n",
              "      <td>1639105</td>\n",
              "      <td>Monaural ear advantages in simple and choice r...</td>\n",
              "      <td>[original, article, found, http, www, scienced...</td>\n",
              "      <td>48</td>\n",
              "    </tr>\n",
              "    <tr>\n",
              "      <th>29999</th>\n",
              "      <td>1639106</td>\n",
              "      <td>Routes to action in reaction time tasks</td>\n",
              "      <td>[original, publication, available, www, spring...</td>\n",
              "      <td>43</td>\n",
              "    </tr>\n",
              "  </tbody>\n",
              "</table>\n",
              "</div>"
            ],
            "text/plain": [
              "            id  ... clusterlabel\n",
              "29995  1639102  ...           48\n",
              "29996  1639103  ...          340\n",
              "29997  1639104  ...           48\n",
              "29998  1639105  ...           48\n",
              "29999  1639106  ...           43\n",
              "\n",
              "[5 rows x 4 columns]"
            ]
          },
          "metadata": {
            "tags": []
          },
          "execution_count": 131
        }
      ]
    },
    {
      "cell_type": "code",
      "metadata": {
        "colab_type": "code",
        "id": "KD2iqstDHSCJ",
        "outputId": "7651f256-d5d4-4540-b1d3-d08fff3a7071",
        "colab": {
          "base_uri": "https://localhost:8080/",
          "height": 34
        }
      },
      "source": [
        "megadf.columns"
      ],
      "execution_count": 132,
      "outputs": [
        {
          "output_type": "execute_result",
          "data": {
            "text/plain": [
              "Index(['id', 'title', 'abstract', 'embedding', 'clusterlabel'], dtype='object')"
            ]
          },
          "metadata": {
            "tags": []
          },
          "execution_count": 132
        }
      ]
    },
    {
      "cell_type": "markdown",
      "metadata": {
        "colab_type": "text",
        "id": "AGGilqrWHSCQ"
      },
      "source": [
        "# Performance Testing and Distribution\n"
      ]
    },
    {
      "cell_type": "code",
      "metadata": {
        "colab_type": "code",
        "id": "iNcjh1CaHSCS",
        "colab": {}
      },
      "source": [
        "metadata = pd.DataFrame(columns=[\"Name\", \"Algo\", \"WordEmb\", \"SentEmb\", \"K\", \"R\", \"F\", \"SS\", \"CSavg\", \"CSmin\", \"CSmax\", \"T2Pavg\", \"T2LM\", \"T2LMP\", \"MEM\"])"
      ],
      "execution_count": 0,
      "outputs": []
    },
    {
      "cell_type": "code",
      "metadata": {
        "colab_type": "code",
        "id": "vOTegmq3HSCY",
        "outputId": "c4a10ef9-1d6d-472a-c8d9-73325d622d85",
        "colab": {
          "base_uri": "https://localhost:8080/",
          "height": 312
        }
      },
      "source": [
        "metadict = {\n",
        "    \"Name\":None,                     #Name of the save file prefix\n",
        "    \"Algo\":None,                     #Name of the Clustering algorithm\n",
        "    \"WordEmb\":None,                  #Name of the Word Embeddings used (glove, w2v, ftt)\n",
        "    \"SentEmb\":None,                  #Name of Sentence Embedding algorithm used \n",
        "    \"K\":None, \"R\":None, \"F\":None,    #Number of clusters, records and fetures\n",
        "    \"T2T\":None,                      #Time required to train model\n",
        "    \"SS\":None,                       #Silhoutte Score\n",
        "    \"DBS\":None,                      #Davis Bouldin Score\n",
        "    \"CSavg\":None,                    #Average Cluster Size\n",
        "    \"CSmin\":None,                    #Minimum Cluster Size\n",
        "    \"CSmax\":None,                    #Maximum Cluster Size\n",
        "    \"T2Pavg\":None,                   #Average Time To Predict cluster of one record\n",
        "    \"T2LM\":None,                     #Average Time to Load Model\n",
        "    \"T2LMP\":None,                    #Amortized time to Predict after loading the model\n",
        "    \"MEM\":None                      #Memory used by the Model\n",
        "    }\n",
        "metadict"
      ],
      "execution_count": 134,
      "outputs": [
        {
          "output_type": "execute_result",
          "data": {
            "text/plain": [
              "{'Algo': None,\n",
              " 'CSavg': None,\n",
              " 'CSmax': None,\n",
              " 'CSmin': None,\n",
              " 'DBS': None,\n",
              " 'F': None,\n",
              " 'K': None,\n",
              " 'MEM': None,\n",
              " 'Name': None,\n",
              " 'R': None,\n",
              " 'SS': None,\n",
              " 'SentEmb': None,\n",
              " 'T2LM': None,\n",
              " 'T2LMP': None,\n",
              " 'T2Pavg': None,\n",
              " 'T2T': None,\n",
              " 'WordEmb': None}"
            ]
          },
          "metadata": {
            "tags": []
          },
          "execution_count": 134
        }
      ]
    },
    {
      "cell_type": "code",
      "metadata": {
        "colab_type": "code",
        "id": "LrV-xYTCHSCe",
        "outputId": "b5f8079c-0767-483b-d8a5-786ce567eab3",
        "colab": {
          "base_uri": "https://localhost:8080/",
          "height": 312
        }
      },
      "source": [
        "metadict[\"Name\"]=name\n",
        "metadict[\"Algo\"]=__algo__\n",
        "metadict[\"WordEmb\"]=__emb__\n",
        "metadict[\"SentEmb\"]=__sentemb__\n",
        "metadict[\"K\"]=k\n",
        "metadict[\"R\"]=recnum\n",
        "metadict[\"F\"]=features\n",
        "metadict"
      ],
      "execution_count": 135,
      "outputs": [
        {
          "output_type": "execute_result",
          "data": {
            "text/plain": [
              "{'Algo': 'KMEANS',\n",
              " 'CSavg': None,\n",
              " 'CSmax': None,\n",
              " 'CSmin': None,\n",
              " 'DBS': None,\n",
              " 'F': 250,\n",
              " 'K': 350,\n",
              " 'MEM': None,\n",
              " 'Name': 'KMEANS_glove_pmeans5_K350_R30000_F250',\n",
              " 'R': 30000,\n",
              " 'SS': None,\n",
              " 'SentEmb': 'pmeans5',\n",
              " 'T2LM': None,\n",
              " 'T2LMP': None,\n",
              " 'T2Pavg': None,\n",
              " 'T2T': None,\n",
              " 'WordEmb': 'glove'}"
            ]
          },
          "metadata": {
            "tags": []
          },
          "execution_count": 135
        }
      ]
    },
    {
      "cell_type": "markdown",
      "metadata": {
        "colab_type": "text",
        "id": "z-uBHNpGHSCj"
      },
      "source": [
        "#### Time to train"
      ]
    },
    {
      "cell_type": "code",
      "metadata": {
        "colab_type": "code",
        "id": "G-hfZnYWHSCm",
        "colab": {}
      },
      "source": [
        "metadict[\"T2T\"]=timetrain"
      ],
      "execution_count": 0,
      "outputs": []
    },
    {
      "cell_type": "markdown",
      "metadata": {
        "colab_type": "text",
        "id": "281AeaQmHSCr"
      },
      "source": [
        "#### Scores"
      ]
    },
    {
      "cell_type": "code",
      "metadata": {
        "colab_type": "code",
        "id": "U6P2WKG-HSCs",
        "colab": {}
      },
      "source": [
        "ss = silhouette_score(data, labels, metric = 'euclidean')\n",
        "dbs = davies_bouldin_score(data, labels)\n",
        "metadict[\"SS\"]=ss\n",
        "metadict[\"DBS\"]=dbs"
      ],
      "execution_count": 0,
      "outputs": []
    },
    {
      "cell_type": "markdown",
      "metadata": {
        "colab_type": "text",
        "id": "PjcfcCkuHSCy"
      },
      "source": [
        "#### Cluster Size"
      ]
    },
    {
      "cell_type": "code",
      "metadata": {
        "colab_type": "code",
        "id": "Fu9kMmRFHSCz",
        "outputId": "7915c32d-c4ee-49e6-baec-72ab025b0920",
        "colab": {
          "base_uri": "https://localhost:8080/",
          "height": 206
        }
      },
      "source": [
        "clusterdata = megadf.groupby(\"clusterlabel\", as_index=True).size().reset_index(name=\"count\")\n",
        "clusterdata.head()"
      ],
      "execution_count": 138,
      "outputs": [
        {
          "output_type": "execute_result",
          "data": {
            "text/html": [
              "<div>\n",
              "<style scoped>\n",
              "    .dataframe tbody tr th:only-of-type {\n",
              "        vertical-align: middle;\n",
              "    }\n",
              "\n",
              "    .dataframe tbody tr th {\n",
              "        vertical-align: top;\n",
              "    }\n",
              "\n",
              "    .dataframe thead th {\n",
              "        text-align: right;\n",
              "    }\n",
              "</style>\n",
              "<table border=\"1\" class=\"dataframe\">\n",
              "  <thead>\n",
              "    <tr style=\"text-align: right;\">\n",
              "      <th></th>\n",
              "      <th>clusterlabel</th>\n",
              "      <th>count</th>\n",
              "    </tr>\n",
              "  </thead>\n",
              "  <tbody>\n",
              "    <tr>\n",
              "      <th>0</th>\n",
              "      <td>0</td>\n",
              "      <td>13</td>\n",
              "    </tr>\n",
              "    <tr>\n",
              "      <th>1</th>\n",
              "      <td>1</td>\n",
              "      <td>113</td>\n",
              "    </tr>\n",
              "    <tr>\n",
              "      <th>2</th>\n",
              "      <td>2</td>\n",
              "      <td>46</td>\n",
              "    </tr>\n",
              "    <tr>\n",
              "      <th>3</th>\n",
              "      <td>3</td>\n",
              "      <td>88</td>\n",
              "    </tr>\n",
              "    <tr>\n",
              "      <th>4</th>\n",
              "      <td>4</td>\n",
              "      <td>136</td>\n",
              "    </tr>\n",
              "  </tbody>\n",
              "</table>\n",
              "</div>"
            ],
            "text/plain": [
              "   clusterlabel  count\n",
              "0             0     13\n",
              "1             1    113\n",
              "2             2     46\n",
              "3             3     88\n",
              "4             4    136"
            ]
          },
          "metadata": {
            "tags": []
          },
          "execution_count": 138
        }
      ]
    },
    {
      "cell_type": "code",
      "metadata": {
        "colab_type": "code",
        "id": "AtbBksMeHSC3",
        "colab": {}
      },
      "source": [
        "clusterdfname = \"{}_clustered_counts.pkl\".format(name)\n",
        "clusterdata.to_pickle(megadfDir + clusterdfname)\n",
        "os.environ[\"SAVE_DF\"] = megadfDir + clusterdfname\n",
        "!cp $SAVE_DF ./drive/My\\ Drive/ColabOutput/."
      ],
      "execution_count": 0,
      "outputs": []
    },
    {
      "cell_type": "code",
      "metadata": {
        "colab_type": "code",
        "id": "_BGjwM7UHSC9",
        "outputId": "050d19ea-0738-4f28-bf3a-3529497ff04a",
        "scrolled": true,
        "colab": {
          "base_uri": "https://localhost:8080/",
          "height": 270
        }
      },
      "source": [
        "countdata = clusterdata.groupby(\"count\").size().reset_index(name=\"clusters\")\n",
        "display(countdata.head(3))\n",
        "display(countdata.tail(3))"
      ],
      "execution_count": 140,
      "outputs": [
        {
          "output_type": "display_data",
          "data": {
            "text/html": [
              "<div>\n",
              "<style scoped>\n",
              "    .dataframe tbody tr th:only-of-type {\n",
              "        vertical-align: middle;\n",
              "    }\n",
              "\n",
              "    .dataframe tbody tr th {\n",
              "        vertical-align: top;\n",
              "    }\n",
              "\n",
              "    .dataframe thead th {\n",
              "        text-align: right;\n",
              "    }\n",
              "</style>\n",
              "<table border=\"1\" class=\"dataframe\">\n",
              "  <thead>\n",
              "    <tr style=\"text-align: right;\">\n",
              "      <th></th>\n",
              "      <th>count</th>\n",
              "      <th>clusters</th>\n",
              "    </tr>\n",
              "  </thead>\n",
              "  <tbody>\n",
              "    <tr>\n",
              "      <th>0</th>\n",
              "      <td>2</td>\n",
              "      <td>1</td>\n",
              "    </tr>\n",
              "    <tr>\n",
              "      <th>1</th>\n",
              "      <td>4</td>\n",
              "      <td>1</td>\n",
              "    </tr>\n",
              "    <tr>\n",
              "      <th>2</th>\n",
              "      <td>5</td>\n",
              "      <td>1</td>\n",
              "    </tr>\n",
              "  </tbody>\n",
              "</table>\n",
              "</div>"
            ],
            "text/plain": [
              "   count  clusters\n",
              "0      2         1\n",
              "1      4         1\n",
              "2      5         1"
            ]
          },
          "metadata": {
            "tags": []
          }
        },
        {
          "output_type": "display_data",
          "data": {
            "text/html": [
              "<div>\n",
              "<style scoped>\n",
              "    .dataframe tbody tr th:only-of-type {\n",
              "        vertical-align: middle;\n",
              "    }\n",
              "\n",
              "    .dataframe tbody tr th {\n",
              "        vertical-align: top;\n",
              "    }\n",
              "\n",
              "    .dataframe thead th {\n",
              "        text-align: right;\n",
              "    }\n",
              "</style>\n",
              "<table border=\"1\" class=\"dataframe\">\n",
              "  <thead>\n",
              "    <tr style=\"text-align: right;\">\n",
              "      <th></th>\n",
              "      <th>count</th>\n",
              "      <th>clusters</th>\n",
              "    </tr>\n",
              "  </thead>\n",
              "  <tbody>\n",
              "    <tr>\n",
              "      <th>152</th>\n",
              "      <td>223</td>\n",
              "      <td>1</td>\n",
              "    </tr>\n",
              "    <tr>\n",
              "      <th>153</th>\n",
              "      <td>224</td>\n",
              "      <td>1</td>\n",
              "    </tr>\n",
              "    <tr>\n",
              "      <th>154</th>\n",
              "      <td>234</td>\n",
              "      <td>1</td>\n",
              "    </tr>\n",
              "  </tbody>\n",
              "</table>\n",
              "</div>"
            ],
            "text/plain": [
              "     count  clusters\n",
              "152    223         1\n",
              "153    224         1\n",
              "154    234         1"
            ]
          },
          "metadata": {
            "tags": []
          }
        }
      ]
    },
    {
      "cell_type": "code",
      "metadata": {
        "colab_type": "code",
        "id": "AdtkIFV8HSDB",
        "colab": {}
      },
      "source": [
        "metadict[\"CSmax\"] = max(clusterdata[\"count\"])\n",
        "metadict[\"CSmin\"] = min(clusterdata[\"count\"])\n",
        "metadict[\"CSavg\"] = np.mean(clusterdata[\"count\"])"
      ],
      "execution_count": 0,
      "outputs": []
    },
    {
      "cell_type": "code",
      "metadata": {
        "colab_type": "code",
        "id": "l0Pk6So5HSDE",
        "outputId": "139958d2-6745-461f-c7bb-0b830461e27b",
        "colab": {
          "base_uri": "https://localhost:8080/",
          "height": 931
        }
      },
      "source": [
        "%matplotlib inline\n",
        "plt.figure(figsize=(16,16))\n",
        "\n",
        "sns.axes_style(\"whitegrid\", {\"axes.grid\":True, \n",
        "                            'axes.spines.left': False,\n",
        "                             'axes.spines.bottom': False,\n",
        "                             'axes.spines.right': False,\n",
        "                             'axes.spines.top': False})\n",
        "\n",
        "\n",
        "titlestring = \"{}_Cluster_Distribution\".format(name)\n",
        "snsplot = sns.distplot(clusterdata[\"count\"], \n",
        "                       kde=True, \n",
        "                    #    bins=len(clusterdata[\"count\"]),\n",
        "                      hist_kws={'edgecolor':'black'},)\n",
        "snsplot.set(xlabel=\"Number of Papers\", ylabel=\"Number of Clusters\")\n",
        "snsplot.xaxis.label.set_size(20)\n",
        "snsplot.yaxis.label.set_size(20)\n",
        "plt.title(\n",
        "        titlestring,\n",
        "        fontdict = {'fontsize' : 25}\n",
        "    )\n",
        "plt.show()\n",
        "\n"
      ],
      "execution_count": 155,
      "outputs": [
        {
          "output_type": "display_data",
          "data": {
            "image/png": "[encoded data removed]",
            "text/plain": [
              "<Figure size 1152x1152 with 1 Axes>"
            ]
          },
          "metadata": {
            "tags": [],
            "needs_background": "light"
          }
        }
      ]
    },
    {
      "cell_type": "code",
      "metadata": {
        "colab_type": "code",
        "id": "S4VZBPnLHSDL",
        "colab": {}
      },
      "source": [
        "snspltname = \"{}_Cluster_Distribution.png\".format(name)\n",
        "snsplot.figure.savefig(plotDir + snspltname)\n",
        "os.environ[\"SAVE_DF\"] = plotDir + snspltname\n",
        "!cp $SAVE_DF ./drive/My\\ Drive/ColabOutput/."
      ],
      "execution_count": 0,
      "outputs": []
    },
    {
      "cell_type": "markdown",
      "metadata": {
        "colab_type": "text",
        "id": "ol5sSN8jHSDQ"
      },
      "source": [
        "#### Prediction Time Performance"
      ]
    },
    {
      "cell_type": "code",
      "metadata": {
        "colab_type": "code",
        "id": "uFjYhyM6HSDR",
        "outputId": "7703be24-913a-42c0-d35b-e7da34d9b99d",
        "colab": {
          "base_uri": "https://localhost:8080/",
          "height": 34
        }
      },
      "source": [
        "testdf = pd.DataFrame()\n",
        "if recnum < 2000:\n",
        "    samplenum = int(recnum / 10)\n",
        "else:\n",
        "    samplenum = 2000\n",
        "\n",
        "for f in smalllist:\n",
        "    tempdf = pd.read_pickle(f)\n",
        "    testdf = megadf.append(tempdf, ignore_index = True, sort = False)\n",
        "testdf = testdf.sample(samplenum, random_state=int(time.time()%100000))\n",
        "predata = testdf[\"embedding\"]\n",
        "data = np.matrix(predata.to_list())\n",
        "print(data.shape)"
      ],
      "execution_count": 144,
      "outputs": [
        {
          "output_type": "stream",
          "text": [
            "(2000, 250)\n"
          ],
          "name": "stdout"
        }
      ]
    },
    {
      "cell_type": "code",
      "metadata": {
        "colab_type": "code",
        "id": "e6-rI414HSDX",
        "outputId": "071a341b-6993-43cb-8372-b080248dfce2",
        "colab": {
          "base_uri": "https://localhost:8080/",
          "height": 52
        }
      },
      "source": [
        "print(\"Starting Predicting Performance\")\n",
        "testmodel = model\n",
        "start_time = time.time()\n",
        "for d in data:\n",
        "    lb = testmodel.predict(d)\n",
        "end_time = time.time()\n",
        "timetest = end_time-start_time\n",
        "avgtime = timetest/data.shape[0]\n",
        "print(\"Avgtime: {} Totaltime: {}\".format(avgtime, timetest))\n",
        "metadict[\"T2Pavg\"]=avgtime"
      ],
      "execution_count": 145,
      "outputs": [
        {
          "output_type": "stream",
          "text": [
            "Starting Predicting Performance\n",
            "Avgtime: 0.0008863788843154907 Totaltime: 1.7727577686309814\n"
          ],
          "name": "stdout"
        }
      ]
    },
    {
      "cell_type": "code",
      "metadata": {
        "colab_type": "code",
        "id": "duyLISHCHSDd",
        "outputId": "f3a03d1b-ae5c-4407-8816-dc3c959efe91",
        "scrolled": true,
        "colab": {
          "base_uri": "https://localhost:8080/",
          "height": 69
        }
      },
      "source": [
        "print(\"Starting Loading Performance\")\n",
        "loadruns = 50\n",
        "start_time = time.time()\n",
        "for i in range(loadruns):\n",
        "    testmodel = pickle.load(open(modelDir + modelname, 'rb'))\n",
        "end_time = time.time()\n",
        "timetest = end_time-start_time\n",
        "avgtime = timetest/loadruns\n",
        "print(\"Avgtime: {} Totaltime: {}\".format(avgtime, timetest))\n",
        "metadict[\"T2LM\"] = avgtime\n",
        "avgtime"
      ],
      "execution_count": 146,
      "outputs": [
        {
          "output_type": "stream",
          "text": [
            "Starting Loading Performance\n",
            "Avgtime: 0.0005214643478393554 Totaltime: 0.026073217391967773\n"
          ],
          "name": "stdout"
        },
        {
          "output_type": "execute_result",
          "data": {
            "text/plain": [
              "0.0005214643478393554"
            ]
          },
          "metadata": {
            "tags": []
          },
          "execution_count": 146
        }
      ]
    },
    {
      "cell_type": "code",
      "metadata": {
        "colab_type": "code",
        "id": "gkafA2sLHSDj",
        "outputId": "a3ce9467-056b-4051-f352-1360eb33fe86",
        "scrolled": true,
        "colab": {
          "base_uri": "https://localhost:8080/",
          "height": 69
        }
      },
      "source": [
        "print(\"Starting Amortized Performance\")\n",
        "loadruns = 5\n",
        "avglist = []\n",
        "\n",
        "for i in range(loadruns):\n",
        "    start_time = time.time()\n",
        "    testmodel = pickle.load(open(modelDir + modelname, 'rb'))\n",
        "    for d in data:\n",
        "        lb = testmodel.predict(d)\n",
        "    end_time = time.time()\n",
        "    timetest = (end_time-start_time)/data.shape[0]\n",
        "    avglist.append(timetest)\n",
        "\n",
        "timetest = np.sum(avglist)\n",
        "avgtime = np.mean(avglist)\n",
        "print(\"Avgtime: {} Totaltime: {}\".format(avgtime, timetest))\n",
        "metadict[\"T2LMP\"] = avgtime\n",
        "avgtime"
      ],
      "execution_count": 147,
      "outputs": [
        {
          "output_type": "stream",
          "text": [
            "Starting Amortized Performance\n",
            "Avgtime: 0.000887313461303711 Totaltime: 0.004436567306518555\n"
          ],
          "name": "stdout"
        },
        {
          "output_type": "execute_result",
          "data": {
            "text/plain": [
              "0.000887313461303711"
            ]
          },
          "metadata": {
            "tags": []
          },
          "execution_count": 147
        }
      ]
    },
    {
      "cell_type": "code",
      "metadata": {
        "colab_type": "code",
        "id": "hg9Mx3N7HSDp",
        "outputId": "4e9f651b-886f-4b30-d5f3-71ec64145c38",
        "colab": {
          "base_uri": "https://localhost:8080/",
          "height": 34
        }
      },
      "source": [
        "modelsize = sys.getsizeof(pickle.dumps(model))\n",
        "print(\"modelsize:\", modelsize, \"bytes\")\n",
        "metadict[\"MEM\"]=modelsize"
      ],
      "execution_count": 148,
      "outputs": [
        {
          "output_type": "stream",
          "text": [
            "modelsize: 820749 bytes\n"
          ],
          "name": "stdout"
        }
      ]
    },
    {
      "cell_type": "code",
      "metadata": {
        "colab_type": "code",
        "id": "7L-s3BcCHSDu",
        "outputId": "dad482b2-30a7-4844-c9ff-e389e623b9fb",
        "scrolled": true,
        "colab": {
          "base_uri": "https://localhost:8080/",
          "height": 312
        }
      },
      "source": [
        "metadict"
      ],
      "execution_count": 149,
      "outputs": [
        {
          "output_type": "execute_result",
          "data": {
            "text/plain": [
              "{'Algo': 'KMEANS',\n",
              " 'CSavg': 85.71428571428571,\n",
              " 'CSmax': 234,\n",
              " 'CSmin': 2,\n",
              " 'DBS': 3.413832029565413,\n",
              " 'F': 250,\n",
              " 'K': 350,\n",
              " 'MEM': 820749,\n",
              " 'Name': 'KMEANS_glove_pmeans5_K350_R30000_F250',\n",
              " 'R': 30000,\n",
              " 'SS': 0.04121838448692947,\n",
              " 'SentEmb': 'pmeans5',\n",
              " 'T2LM': 0.0005214643478393554,\n",
              " 'T2LMP': 0.000887313461303711,\n",
              " 'T2Pavg': 0.0008863788843154907,\n",
              " 'T2T': 890.59,\n",
              " 'WordEmb': 'glove'}"
            ]
          },
          "metadata": {
            "tags": []
          },
          "execution_count": 149
        }
      ]
    },
    {
      "cell_type": "code",
      "metadata": {
        "colab_type": "code",
        "id": "tI_nWMgoHSD2",
        "outputId": "e22261f5-0d52-491e-e9ad-7a4568b23dd6",
        "colab": {
          "base_uri": "https://localhost:8080/",
          "height": 101
        }
      },
      "source": [
        "metadata = metadata.append(metadict, ignore_index=True)\n",
        "metadata"
      ],
      "execution_count": 150,
      "outputs": [
        {
          "output_type": "execute_result",
          "data": {
            "text/html": [
              "<div>\n",
              "<style scoped>\n",
              "    .dataframe tbody tr th:only-of-type {\n",
              "        vertical-align: middle;\n",
              "    }\n",
              "\n",
              "    .dataframe tbody tr th {\n",
              "        vertical-align: top;\n",
              "    }\n",
              "\n",
              "    .dataframe thead th {\n",
              "        text-align: right;\n",
              "    }\n",
              "</style>\n",
              "<table border=\"1\" class=\"dataframe\">\n",
              "  <thead>\n",
              "    <tr style=\"text-align: right;\">\n",
              "      <th></th>\n",
              "      <th>Name</th>\n",
              "      <th>Algo</th>\n",
              "      <th>WordEmb</th>\n",
              "      <th>SentEmb</th>\n",
              "      <th>K</th>\n",
              "      <th>R</th>\n",
              "      <th>F</th>\n",
              "      <th>SS</th>\n",
              "      <th>CSavg</th>\n",
              "      <th>CSmin</th>\n",
              "      <th>CSmax</th>\n",
              "      <th>T2Pavg</th>\n",
              "      <th>T2LM</th>\n",
              "      <th>T2LMP</th>\n",
              "      <th>MEM</th>\n",
              "      <th>DBS</th>\n",
              "      <th>T2T</th>\n",
              "    </tr>\n",
              "  </thead>\n",
              "  <tbody>\n",
              "    <tr>\n",
              "      <th>0</th>\n",
              "      <td>KMEANS_glove_pmeans5_K350_R30000_F250</td>\n",
              "      <td>KMEANS</td>\n",
              "      <td>glove</td>\n",
              "      <td>pmeans5</td>\n",
              "      <td>350</td>\n",
              "      <td>30000</td>\n",
              "      <td>250</td>\n",
              "      <td>0.041218</td>\n",
              "      <td>85.714286</td>\n",
              "      <td>2</td>\n",
              "      <td>234</td>\n",
              "      <td>0.000886</td>\n",
              "      <td>0.000521</td>\n",
              "      <td>0.000887</td>\n",
              "      <td>820749</td>\n",
              "      <td>3.413832</td>\n",
              "      <td>890.59</td>\n",
              "    </tr>\n",
              "  </tbody>\n",
              "</table>\n",
              "</div>"
            ],
            "text/plain": [
              "                                    Name    Algo  ...       DBS     T2T\n",
              "0  KMEANS_glove_pmeans5_K350_R30000_F250  KMEANS  ...  3.413832  890.59\n",
              "\n",
              "[1 rows x 17 columns]"
            ]
          },
          "metadata": {
            "tags": []
          },
          "execution_count": 150
        }
      ]
    },
    {
      "cell_type": "code",
      "metadata": {
        "colab_type": "code",
        "id": "QfBTFZ87HSD7",
        "colab": {}
      },
      "source": [
        "metadataname = \"{}_metadata.pkl\".format(name)\n",
        "metadata.to_pickle(metadataDir + metadataname)\n",
        "os.environ[\"SAVE_DF\"] = metadataDir + metadataname\n",
        "!cp $SAVE_DF ./drive/My\\ Drive/ColabOutput/."
      ],
      "execution_count": 0,
      "outputs": []
    },
    {
      "cell_type": "code",
      "metadata": {
        "colab_type": "code",
        "id": "Grnv1DBQHSEB",
        "colab": {
          "base_uri": "https://localhost:8080/",
          "height": 52
        },
        "outputId": "077ca5f2-3633-4717-a472-3f419acb1e3e"
      },
      "source": [
        "print(\"All Done!\\nCheck ColabOutput!\")"
      ],
      "execution_count": 152,
      "outputs": [
        {
          "output_type": "stream",
          "text": [
            "All Done!\n",
            "Check ColabOutput!\n"
          ],
          "name": "stdout"
        }
      ]
    },
    {
      "cell_type": "code",
      "metadata": {
        "id": "yUwdTtZcM-Qn",
        "colab_type": "code",
        "colab": {}
      },
      "source": [
        ""
      ],
      "execution_count": 0,
      "outputs": []
    }
  ]
}
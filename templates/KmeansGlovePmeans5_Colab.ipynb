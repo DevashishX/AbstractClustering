{
  "nbformat": 4,
  "nbformat_minor": 0,
  "metadata": {
    "accelerator": "TPU",
    "colab": {
      "name": "KmeansGlovePmeans5_Colab.ipynb",
      "provenance": [],
      "collapsed_sections": [],
      "toc_visible": true,
      "include_colab_link": true
    },
    "file_extension": ".py",
    "kernelspec": {
      "name": "python3",
      "display_name": "Python 3"
    },
    "language_info": {
      "codemirror_mode": {
        "name": "ipython",
        "version": 3
      },
      "file_extension": ".py",
      "mimetype": "text/x-python",
      "name": "python",
      "nbconvert_exporter": "python",
      "pygments_lexer": "ipython3",
      "version": "3.7.4"
    },
    "mimetype": "text/x-python",
    "name": "python",
    "npconvert_exporter": "python",
    "pygments_lexer": "ipython3",
    "version": 3
  },
  "cells": [
    {
      "cell_type": "markdown",
      "metadata": {
        "id": "view-in-github",
        "colab_type": "text"
      },
      "source": [
        "<a href=\"https://colab.research.google.com/github/DevashishX/AbstractClustering/blob/master/templates/KmeansGlovePmeans5_Colab.ipynb\" target=\"_parent\"><img src=\"https://colab.research.google.com/assets/colab-badge.svg\" alt=\"Open In Colab\"/></a>"
      ]
    },
    {
      "cell_type": "markdown",
      "metadata": {
        "colab_type": "text",
        "id": "68T2sTjJHR_j"
      },
      "source": [
        "# Colab Requirements"
      ]
    },
    {
      "cell_type": "markdown",
      "metadata": {
        "colab_type": "text",
        "id": "hEdzG0C9HR_m"
      },
      "source": [
        "This file has been modified for colab training, all outputs are stored in *ColabOutput* folder in your google drive, there is also a one copy in the normal training folders as well.\n",
        "*Make sure you have ColabOutput folder in your google drive*"
      ]
    },
    {
      "cell_type": "code",
      "metadata": {
        "colab_type": "code",
        "id": "3cDvyz4xHR_q",
        "outputId": "75023dd5-440e-4a8e-9b54-18116e0b41b9",
        "colab": {
          "base_uri": "https://localhost:8080/",
          "height": 124
        }
      },
      "source": [
        "from google.colab import drive\n",
        "drive.mount('/content/drive')"
      ],
      "execution_count": 0,
      "outputs": [
        {
          "output_type": "stream",
          "text": [
            "Go to this URL in a browser: https://accounts.google.com/o/oauth2/auth?client_id=947318989803-6bn6qk8qdgf4n4g3pfee6491hc0brc4i.apps.googleusercontent.com&redirect_uri=urn%3aietf%3awg%3aoauth%3a2.0%3aoob&response_type=code&scope=email%20https%3a%2f%2fwww.googleapis.com%2fauth%2fdocs.test%20https%3a%2f%2fwww.googleapis.com%2fauth%2fdrive%20https%3a%2f%2fwww.googleapis.com%2fauth%2fdrive.photos.readonly%20https%3a%2f%2fwww.googleapis.com%2fauth%2fpeopleapi.readonly\n",
            "\n",
            "Enter your authorization code:\n",
            "··········\n",
            "Mounted at /content/drive\n"
          ],
          "name": "stdout"
        }
      ]
    },
    {
      "cell_type": "code",
      "metadata": {
        "colab_type": "code",
        "id": "Rz5MDDqGHR_5",
        "outputId": "745b49b2-e5f2-4bdc-e1b8-3d98621862c5",
        "colab": {
          "base_uri": "https://localhost:8080/",
          "height": 121
        }
      },
      "source": [
        "!git clone https://github.com/DevashishX/AbstractClustering.git; \n",
        "!cp -r AbstractClustering/* ./."
      ],
      "execution_count": 0,
      "outputs": [
        {
          "output_type": "stream",
          "text": [
            "Cloning into 'AbstractClustering'...\n",
            "remote: Enumerating objects: 741, done.\u001b[K\n",
            "remote: Total 741 (delta 0), reused 0 (delta 0), pack-reused 741\u001b[K\n",
            "Receiving objects: 100% (741/741), 765.35 MiB | 30.68 MiB/s, done.\n",
            "Resolving deltas: 100% (374/374), done.\n",
            "Checking out files: 100% (439/439), done.\n"
          ],
          "name": "stdout"
        }
      ]
    },
    {
      "cell_type": "code",
      "metadata": {
        "colab_type": "code",
        "id": "V-dqCeSCHSAB",
        "outputId": "efa1861f-8545-4d07-d78c-034a4e2ef5a9",
        "colab": {
          "base_uri": "https://localhost:8080/",
          "height": 454
        }
      },
      "source": [
        "import subprocess\n",
        "print((subprocess.check_output(\"lscpu\", shell=True).strip()).decode())"
      ],
      "execution_count": 0,
      "outputs": [
        {
          "output_type": "stream",
          "text": [
            "Architecture:        x86_64\n",
            "CPU op-mode(s):      32-bit, 64-bit\n",
            "Byte Order:          Little Endian\n",
            "CPU(s):              2\n",
            "On-line CPU(s) list: 0,1\n",
            "Thread(s) per core:  2\n",
            "Core(s) per socket:  1\n",
            "Socket(s):           1\n",
            "NUMA node(s):        1\n",
            "Vendor ID:           GenuineIntel\n",
            "CPU family:          6\n",
            "Model:               63\n",
            "Model name:          Intel(R) Xeon(R) CPU @ 2.30GHz\n",
            "Stepping:            0\n",
            "CPU MHz:             2300.000\n",
            "BogoMIPS:            4600.00\n",
            "Hypervisor vendor:   KVM\n",
            "Virtualization type: full\n",
            "L1d cache:           32K\n",
            "L1i cache:           32K\n",
            "L2 cache:            256K\n",
            "L3 cache:            46080K\n",
            "NUMA node0 CPU(s):   0,1\n",
            "Flags:               fpu vme de pse tsc msr pae mce cx8 apic sep mtrr pge mca cmov pat pse36 clflush mmx fxsr sse sse2 ss ht syscall nx pdpe1gb rdtscp lm constant_tsc rep_good nopl xtopology nonstop_tsc cpuid tsc_known_freq pni pclmulqdq ssse3 fma cx16 pcid sse4_1 sse4_2 x2apic movbe popcnt aes xsave avx f16c rdrand hypervisor lahf_lm abm invpcid_single ssbd ibrs ibpb stibp fsgsbase tsc_adjust bmi1 avx2 smep bmi2 erms invpcid xsaveopt arat md_clear arch_capabilities\n"
          ],
          "name": "stdout"
        }
      ]
    },
    {
      "cell_type": "markdown",
      "metadata": {
        "colab_type": "text",
        "id": "n6yRKl7Nx8NV"
      },
      "source": [
        "# ***Set parameters***"
      ]
    },
    {
      "cell_type": "code",
      "metadata": {
        "colab_type": "code",
        "id": "RLla__P2wqVL",
        "colab": {}
      },
      "source": [
        "__algo__ = \"KMEANS\"               #Name of the Clustering algorithm\n",
        "__emb__ = \"glove\"                 #Name of the Word Embeddings used (glove, w2v, ftt), MUST set directory below\n",
        "__sentemb__ = \"pmeans5\"           #Name of Sentence Embedding algorithm used\n",
        "recnum = 30000                     #Number of records to be read from files\n",
        "k = 350                           #Number of Clusters\n",
        "usesqrt = False                   #Set value of k to sqrt of recnum, overrides k\n",
        "randomsample = True              #Random Sampling to be True/False for records which are read\n",
        "embedDir = \"./MegaSentEmbs/\"     #Directory where embeddings are saved for that selected embedding\n",
        "modelDir = \"./models/\"           #Directory where models are saved\n",
        "megadfDir = \"./MegaDfs/\"         #Directory Where Megadf is to be saved\n",
        "plotDir = \"./plots/\"             #Directory where plots are saved\n",
        "metadataDir = \"./modelMetaData/\" #Directory where performance and distribution params are to be stored\n",
        "dumpDir = \"./dump/\"              #Directory where test outcomes are saved"
      ],
      "execution_count": 0,
      "outputs": []
    },
    {
      "cell_type": "markdown",
      "metadata": {
        "colab_type": "text",
        "id": "LGy8jsWQx0nS"
      },
      "source": [
        "# Actual Code"
      ]
    },
    {
      "cell_type": "markdown",
      "metadata": {
        "colab_type": "text",
        "id": "II0jpbbTzD8M"
      },
      "source": [
        "### imports and time"
      ]
    },
    {
      "cell_type": "code",
      "metadata": {
        "colab_type": "code",
        "id": "wkS4KGOphHK4",
        "colab": {}
      },
      "source": [
        "import numpy as np\n",
        "import matplotlib.pyplot as plt\n",
        "import pandas as pd\n",
        "from sklearn import cluster, datasets\n",
        "from sklearn.metrics import silhouette_score, davies_bouldin_score\n",
        "import seaborn as sns\n",
        "import os, subprocess, sys\n",
        "import datetime, time\n",
        "import pickle"
      ],
      "execution_count": 0,
      "outputs": []
    },
    {
      "cell_type": "markdown",
      "metadata": {
        "colab_type": "text",
        "id": "X2T_-VrUzBVt"
      },
      "source": [
        "### File Settings"
      ]
    },
    {
      "cell_type": "code",
      "metadata": {
        "colab_type": "code",
        "id": "fAi1m08zhHLn",
        "outputId": "684ce88b-618e-4b34-c0cf-d6d237f065d7",
        "colab": {
          "base_uri": "https://localhost:8080/",
          "height": 34
        }
      },
      "source": [
        "oldlist = os.listdir(embedDir)\n",
        "filelist = sorted([embedDir+f for f in oldlist if f[-3:]==\"pkl\"])\n",
        "filenum = len(filelist)\n",
        "smalllist = filelist[:filenum]\n",
        "print(\"Length of Smalllist: \", len(smalllist))"
      ],
      "execution_count": 0,
      "outputs": [
        {
          "output_type": "stream",
          "text": [
            "Length of Smalllist:  116\n"
          ],
          "name": "stdout"
        }
      ]
    },
    {
      "cell_type": "markdown",
      "metadata": {
        "colab_type": "text",
        "id": "Verw6R-QVK24"
      },
      "source": [
        "### Number of Records\n",
        "It is Recommended to Set this at the top parameters"
      ]
    },
    {
      "cell_type": "code",
      "metadata": {
        "colab_type": "code",
        "id": "1KLrsnyYVN0R",
        "colab": {}
      },
      "source": [
        "recnum = recnum"
      ],
      "execution_count": 0,
      "outputs": []
    },
    {
      "cell_type": "markdown",
      "metadata": {
        "colab_type": "text",
        "id": "fN1QgBS0hHL1"
      },
      "source": [
        "### Read all the pandas dataframes"
      ]
    },
    {
      "cell_type": "code",
      "metadata": {
        "colab_type": "code",
        "id": "opx4vfnfhHL4",
        "outputId": "450204ac-8e04-4762-f98d-bfabd1d1646f",
        "colab": {
          "base_uri": "https://localhost:8080/",
          "height": 86
        }
      },
      "source": [
        "%%time\n",
        "megadf = pd.DataFrame()\n",
        "\n",
        "if randomsample == True:\n",
        "    print(\"randomsample: \", randomsample)\n",
        "    for f in smalllist:\n",
        "        tempdf = pd.read_pickle(f)\n",
        "        megadf = megadf.append(tempdf, ignore_index = True)\n",
        "    megadf = megadf.sample(recnum, random_state=42)\n",
        "else:\n",
        "    print(\"randomsample: \", randomsample)\n",
        "    for f in smalllist:\n",
        "        tempdf = pd.read_pickle(f)\n",
        "        megadf = megadf.append(tempdf, ignore_index = True)\n",
        "        if megadf.shape[0] >= recnum:\n",
        "            megadf = megadf[:recnum]\n",
        "            break\n",
        "\n",
        "print(\"megadf.shape: \", megadf.shape)"
      ],
      "execution_count": 0,
      "outputs": [
        {
          "output_type": "stream",
          "text": [
            "randomsample:  True\n",
            "megadf.shape:  (30000, 4)\n",
            "CPU times: user 8.24 s, sys: 871 ms, total: 9.11 s\n",
            "Wall time: 9.12 s\n"
          ],
          "name": "stdout"
        }
      ]
    },
    {
      "cell_type": "code",
      "metadata": {
        "colab_type": "code",
        "id": "AH7_54wfhHMH",
        "outputId": "226d14e5-beab-44d4-f7f1-c821a3e5802c",
        "colab": {
          "base_uri": "https://localhost:8080/",
          "height": 34
        }
      },
      "source": [
        "predata = megadf[\"embedding\"]\n",
        "data = np.matrix(predata.to_list())\n",
        "print(data.shape)"
      ],
      "execution_count": 0,
      "outputs": [
        {
          "output_type": "stream",
          "text": [
            "(30000, 250)\n"
          ],
          "name": "stdout"
        }
      ]
    },
    {
      "cell_type": "markdown",
      "metadata": {
        "colab_type": "text",
        "id": "AHw4QXjahHMV"
      },
      "source": [
        "### Number of Clusters\n",
        "It is Recommended to Set this at the top parameters"
      ]
    },
    {
      "cell_type": "code",
      "metadata": {
        "colab_type": "code",
        "id": "NDTDoVfhhHMa",
        "outputId": "e4b779dd-83fb-4a12-d4db-67a2c1e36946",
        "colab": {
          "base_uri": "https://localhost:8080/",
          "height": 52
        }
      },
      "source": [
        "if usesqrt == True:\n",
        "    print(\"usesqrt: \", usesqrt)\n",
        "    sqrt_k = int(np.sqrt(data.shape[0]))\n",
        "    k = int(sqrt_k)\n",
        "else:\n",
        "    print(\"usesqrt: \", usesqrt)\n",
        "    k = k\n",
        "print(\"k: \", k)"
      ],
      "execution_count": 0,
      "outputs": [
        {
          "output_type": "stream",
          "text": [
            "usesqrt:  False\n",
            "k:  350\n"
          ],
          "name": "stdout"
        }
      ]
    },
    {
      "cell_type": "markdown",
      "metadata": {
        "colab_type": "text",
        "id": "KGn8OXrj2CJQ"
      },
      "source": [
        "## Clustering\n",
        "Please modify the functions here to change algorithm"
      ]
    },
    {
      "cell_type": "code",
      "metadata": {
        "colab_type": "code",
        "id": "bQYesl8uhHMk",
        "outputId": "ec2729a9-f332-49cb-d818-a12f259fdad5",
        "colab": {
          "base_uri": "https://localhost:8080/",
          "height": 159
        }
      },
      "source": [
        "%%time\n",
        "print(\"Starting Clustering Process\")\n",
        "start_time = time.time()\n",
        "model = cluster.KMeans(n_clusters=k, n_init = 20, max_iter=1000, verbose=1, n_jobs=-1)\n",
        "model.fit(data)\n",
        "end_time = time.time()\n",
        "timetrain = round(end_time-start_time, 2)\n",
        "print(\"done! {}\".format(timetrain))\n",
        "print(\"k_means.fit(data) Done!\")"
      ],
      "execution_count": 0,
      "outputs": [
        {
          "output_type": "stream",
          "text": [
            "Starting Clustering Process\n"
          ],
          "name": "stdout"
        },
        {
          "output_type": "stream",
          "text": [
            "/usr/local/lib/python3.6/dist-packages/joblib/externals/loky/process_executor.py:706: UserWarning: A worker stopped while some jobs were given to the executor. This can be caused by a too short worker timeout or by a memory leak.\n",
            "  \"timeout or by a memory leak.\", UserWarning\n"
          ],
          "name": "stderr"
        },
        {
          "output_type": "stream",
          "text": [
            "done! 862.78\n",
            "k_means.fit(data) Done!\n",
            "CPU times: user 231 ms, sys: 238 ms, total: 469 ms\n",
            "Wall time: 14min 22s\n"
          ],
          "name": "stdout"
        }
      ]
    },
    {
      "cell_type": "markdown",
      "metadata": {
        "colab_type": "text",
        "id": "CArLi48A6ABy"
      },
      "source": [
        "### Saving the output data into vars"
      ]
    },
    {
      "cell_type": "code",
      "metadata": {
        "colab_type": "code",
        "id": "QIfHjjLShHM8",
        "colab": {}
      },
      "source": [
        "centroids = model.cluster_centers_\n",
        "labels = model.labels_\n",
        "megadf[\"clusterlabel\"]=labels\n",
        "centroidDF = pd.DataFrame(centroids)\n"
      ],
      "execution_count": 0,
      "outputs": []
    },
    {
      "cell_type": "code",
      "metadata": {
        "id": "k-gGeEipSj4y",
        "colab_type": "code",
        "outputId": "5562e016-6d79-4ef9-c807-2c0f7d654f02",
        "colab": {
          "base_uri": "https://localhost:8080/",
          "height": 652
        }
      },
      "source": [
        "display(megadf[\"clusterlabel\"])\n",
        "display(centroidDF)"
      ],
      "execution_count": 0,
      "outputs": [
        {
          "output_type": "display_data",
          "data": {
            "text/plain": [
              "267625    114\n",
              "132693    254\n",
              "42457     226\n",
              "11052     166\n",
              "13984      15\n",
              "         ... \n",
              "18574      25\n",
              "44937     207\n",
              "127685     71\n",
              "159718    113\n",
              "142878     65\n",
              "Name: clusterlabel, Length: 30000, dtype: int32"
            ]
          },
          "metadata": {
            "tags": []
          }
        },
        {
          "output_type": "display_data",
          "data": {
            "text/html": [
              "<div>\n",
              "<style scoped>\n",
              "    .dataframe tbody tr th:only-of-type {\n",
              "        vertical-align: middle;\n",
              "    }\n",
              "\n",
              "    .dataframe tbody tr th {\n",
              "        vertical-align: top;\n",
              "    }\n",
              "\n",
              "    .dataframe thead th {\n",
              "        text-align: right;\n",
              "    }\n",
              "</style>\n",
              "<table border=\"1\" class=\"dataframe\">\n",
              "  <thead>\n",
              "    <tr style=\"text-align: right;\">\n",
              "      <th></th>\n",
              "      <th>0</th>\n",
              "      <th>1</th>\n",
              "      <th>2</th>\n",
              "      <th>3</th>\n",
              "      <th>4</th>\n",
              "      <th>5</th>\n",
              "      <th>6</th>\n",
              "      <th>7</th>\n",
              "      <th>8</th>\n",
              "      <th>9</th>\n",
              "      <th>10</th>\n",
              "      <th>11</th>\n",
              "      <th>12</th>\n",
              "      <th>13</th>\n",
              "      <th>14</th>\n",
              "      <th>15</th>\n",
              "      <th>16</th>\n",
              "      <th>17</th>\n",
              "      <th>18</th>\n",
              "      <th>19</th>\n",
              "      <th>20</th>\n",
              "      <th>21</th>\n",
              "      <th>22</th>\n",
              "      <th>23</th>\n",
              "      <th>24</th>\n",
              "      <th>25</th>\n",
              "      <th>26</th>\n",
              "      <th>27</th>\n",
              "      <th>28</th>\n",
              "      <th>29</th>\n",
              "      <th>30</th>\n",
              "      <th>31</th>\n",
              "      <th>32</th>\n",
              "      <th>33</th>\n",
              "      <th>34</th>\n",
              "      <th>35</th>\n",
              "      <th>36</th>\n",
              "      <th>37</th>\n",
              "      <th>38</th>\n",
              "      <th>39</th>\n",
              "      <th>...</th>\n",
              "      <th>210</th>\n",
              "      <th>211</th>\n",
              "      <th>212</th>\n",
              "      <th>213</th>\n",
              "      <th>214</th>\n",
              "      <th>215</th>\n",
              "      <th>216</th>\n",
              "      <th>217</th>\n",
              "      <th>218</th>\n",
              "      <th>219</th>\n",
              "      <th>220</th>\n",
              "      <th>221</th>\n",
              "      <th>222</th>\n",
              "      <th>223</th>\n",
              "      <th>224</th>\n",
              "      <th>225</th>\n",
              "      <th>226</th>\n",
              "      <th>227</th>\n",
              "      <th>228</th>\n",
              "      <th>229</th>\n",
              "      <th>230</th>\n",
              "      <th>231</th>\n",
              "      <th>232</th>\n",
              "      <th>233</th>\n",
              "      <th>234</th>\n",
              "      <th>235</th>\n",
              "      <th>236</th>\n",
              "      <th>237</th>\n",
              "      <th>238</th>\n",
              "      <th>239</th>\n",
              "      <th>240</th>\n",
              "      <th>241</th>\n",
              "      <th>242</th>\n",
              "      <th>243</th>\n",
              "      <th>244</th>\n",
              "      <th>245</th>\n",
              "      <th>246</th>\n",
              "      <th>247</th>\n",
              "      <th>248</th>\n",
              "      <th>249</th>\n",
              "    </tr>\n",
              "  </thead>\n",
              "  <tbody>\n",
              "    <tr>\n",
              "      <th>0</th>\n",
              "      <td>0.177503</td>\n",
              "      <td>0.220895</td>\n",
              "      <td>0.313306</td>\n",
              "      <td>0.120603</td>\n",
              "      <td>0.055730</td>\n",
              "      <td>0.193860</td>\n",
              "      <td>0.366736</td>\n",
              "      <td>-0.399598</td>\n",
              "      <td>0.094650</td>\n",
              "      <td>0.266527</td>\n",
              "      <td>0.351354</td>\n",
              "      <td>-0.057419</td>\n",
              "      <td>0.042105</td>\n",
              "      <td>0.135944</td>\n",
              "      <td>-0.241383</td>\n",
              "      <td>0.206174</td>\n",
              "      <td>-0.076298</td>\n",
              "      <td>0.073238</td>\n",
              "      <td>-0.297151</td>\n",
              "      <td>-0.369672</td>\n",
              "      <td>0.040202</td>\n",
              "      <td>-0.312779</td>\n",
              "      <td>0.205128</td>\n",
              "      <td>-0.072471</td>\n",
              "      <td>0.017197</td>\n",
              "      <td>-0.380409</td>\n",
              "      <td>-0.159185</td>\n",
              "      <td>0.122349</td>\n",
              "      <td>0.216597</td>\n",
              "      <td>0.114122</td>\n",
              "      <td>1.824937</td>\n",
              "      <td>-0.159476</td>\n",
              "      <td>-0.020190</td>\n",
              "      <td>-0.348601</td>\n",
              "      <td>0.040671</td>\n",
              "      <td>-0.091682</td>\n",
              "      <td>0.166882</td>\n",
              "      <td>0.112042</td>\n",
              "      <td>0.014752</td>\n",
              "      <td>0.147722</td>\n",
              "      <td>...</td>\n",
              "      <td>0.818121</td>\n",
              "      <td>0.698651</td>\n",
              "      <td>0.755658</td>\n",
              "      <td>0.800157</td>\n",
              "      <td>0.861988</td>\n",
              "      <td>0.684045</td>\n",
              "      <td>0.711001</td>\n",
              "      <td>0.767878</td>\n",
              "      <td>0.920260</td>\n",
              "      <td>0.880717</td>\n",
              "      <td>0.734427</td>\n",
              "      <td>0.801547</td>\n",
              "      <td>0.837959</td>\n",
              "      <td>0.711872</td>\n",
              "      <td>0.667597</td>\n",
              "      <td>1.124374</td>\n",
              "      <td>0.776239</td>\n",
              "      <td>0.751776</td>\n",
              "      <td>0.775775</td>\n",
              "      <td>0.759959</td>\n",
              "      <td>2.610431</td>\n",
              "      <td>0.784974</td>\n",
              "      <td>0.726243</td>\n",
              "      <td>1.010085</td>\n",
              "      <td>0.667392</td>\n",
              "      <td>0.711143</td>\n",
              "      <td>0.697058</td>\n",
              "      <td>0.785221</td>\n",
              "      <td>0.733750</td>\n",
              "      <td>0.741890</td>\n",
              "      <td>0.877838</td>\n",
              "      <td>0.597348</td>\n",
              "      <td>0.706777</td>\n",
              "      <td>0.769823</td>\n",
              "      <td>0.788758</td>\n",
              "      <td>0.722523</td>\n",
              "      <td>0.977050</td>\n",
              "      <td>0.825815</td>\n",
              "      <td>0.732845</td>\n",
              "      <td>0.715460</td>\n",
              "    </tr>\n",
              "    <tr>\n",
              "      <th>1</th>\n",
              "      <td>0.203889</td>\n",
              "      <td>0.085882</td>\n",
              "      <td>-0.143129</td>\n",
              "      <td>-0.089254</td>\n",
              "      <td>0.271657</td>\n",
              "      <td>0.299424</td>\n",
              "      <td>0.090765</td>\n",
              "      <td>-0.209305</td>\n",
              "      <td>-0.014825</td>\n",
              "      <td>0.169567</td>\n",
              "      <td>0.102178</td>\n",
              "      <td>0.086133</td>\n",
              "      <td>-0.097858</td>\n",
              "      <td>-0.046659</td>\n",
              "      <td>0.130874</td>\n",
              "      <td>0.121880</td>\n",
              "      <td>0.069545</td>\n",
              "      <td>-0.156076</td>\n",
              "      <td>0.106670</td>\n",
              "      <td>-0.330532</td>\n",
              "      <td>0.006922</td>\n",
              "      <td>0.001004</td>\n",
              "      <td>0.028436</td>\n",
              "      <td>0.021568</td>\n",
              "      <td>0.247550</td>\n",
              "      <td>-1.010542</td>\n",
              "      <td>-0.389908</td>\n",
              "      <td>-0.081428</td>\n",
              "      <td>0.181999</td>\n",
              "      <td>0.097992</td>\n",
              "      <td>2.303821</td>\n",
              "      <td>-0.095013</td>\n",
              "      <td>-0.257268</td>\n",
              "      <td>-0.656409</td>\n",
              "      <td>-0.023134</td>\n",
              "      <td>-0.125514</td>\n",
              "      <td>0.045418</td>\n",
              "      <td>0.094163</td>\n",
              "      <td>-0.224522</td>\n",
              "      <td>-0.069186</td>\n",
              "      <td>...</td>\n",
              "      <td>0.654698</td>\n",
              "      <td>0.619419</td>\n",
              "      <td>0.689259</td>\n",
              "      <td>0.610484</td>\n",
              "      <td>0.725296</td>\n",
              "      <td>0.601902</td>\n",
              "      <td>0.623074</td>\n",
              "      <td>0.645287</td>\n",
              "      <td>0.723599</td>\n",
              "      <td>0.708515</td>\n",
              "      <td>0.654867</td>\n",
              "      <td>0.669745</td>\n",
              "      <td>0.632466</td>\n",
              "      <td>0.646371</td>\n",
              "      <td>0.748979</td>\n",
              "      <td>1.485762</td>\n",
              "      <td>0.861592</td>\n",
              "      <td>0.635620</td>\n",
              "      <td>0.741723</td>\n",
              "      <td>0.710603</td>\n",
              "      <td>2.825934</td>\n",
              "      <td>0.769447</td>\n",
              "      <td>0.795159</td>\n",
              "      <td>1.052805</td>\n",
              "      <td>0.642680</td>\n",
              "      <td>0.647064</td>\n",
              "      <td>0.650680</td>\n",
              "      <td>0.676918</td>\n",
              "      <td>0.691314</td>\n",
              "      <td>0.636624</td>\n",
              "      <td>0.683939</td>\n",
              "      <td>0.623881</td>\n",
              "      <td>0.648501</td>\n",
              "      <td>0.852222</td>\n",
              "      <td>0.744162</td>\n",
              "      <td>0.587309</td>\n",
              "      <td>0.822454</td>\n",
              "      <td>0.969754</td>\n",
              "      <td>0.639874</td>\n",
              "      <td>0.680940</td>\n",
              "    </tr>\n",
              "    <tr>\n",
              "      <th>2</th>\n",
              "      <td>0.019372</td>\n",
              "      <td>0.119154</td>\n",
              "      <td>-0.092583</td>\n",
              "      <td>-0.019034</td>\n",
              "      <td>0.260721</td>\n",
              "      <td>0.098190</td>\n",
              "      <td>-0.532485</td>\n",
              "      <td>-0.253882</td>\n",
              "      <td>0.100802</td>\n",
              "      <td>-0.153153</td>\n",
              "      <td>-0.166489</td>\n",
              "      <td>-0.033742</td>\n",
              "      <td>-0.033243</td>\n",
              "      <td>-0.127774</td>\n",
              "      <td>0.102369</td>\n",
              "      <td>0.082264</td>\n",
              "      <td>-0.075712</td>\n",
              "      <td>-0.011384</td>\n",
              "      <td>-0.241977</td>\n",
              "      <td>-0.235239</td>\n",
              "      <td>0.469668</td>\n",
              "      <td>-0.120682</td>\n",
              "      <td>0.062060</td>\n",
              "      <td>0.051192</td>\n",
              "      <td>-0.176462</td>\n",
              "      <td>-0.780298</td>\n",
              "      <td>-0.207340</td>\n",
              "      <td>0.086547</td>\n",
              "      <td>0.166118</td>\n",
              "      <td>-0.083185</td>\n",
              "      <td>1.905280</td>\n",
              "      <td>-0.233328</td>\n",
              "      <td>-0.011475</td>\n",
              "      <td>0.026110</td>\n",
              "      <td>0.115207</td>\n",
              "      <td>-0.026220</td>\n",
              "      <td>0.043470</td>\n",
              "      <td>0.232002</td>\n",
              "      <td>0.081210</td>\n",
              "      <td>-0.174788</td>\n",
              "      <td>...</td>\n",
              "      <td>0.712482</td>\n",
              "      <td>0.657630</td>\n",
              "      <td>0.904237</td>\n",
              "      <td>0.777346</td>\n",
              "      <td>0.832110</td>\n",
              "      <td>0.499724</td>\n",
              "      <td>0.842675</td>\n",
              "      <td>0.653396</td>\n",
              "      <td>0.926539</td>\n",
              "      <td>0.759778</td>\n",
              "      <td>1.051968</td>\n",
              "      <td>0.726058</td>\n",
              "      <td>0.984620</td>\n",
              "      <td>0.671260</td>\n",
              "      <td>0.656544</td>\n",
              "      <td>1.274789</td>\n",
              "      <td>0.823220</td>\n",
              "      <td>0.823342</td>\n",
              "      <td>0.773795</td>\n",
              "      <td>0.695993</td>\n",
              "      <td>2.617866</td>\n",
              "      <td>0.709995</td>\n",
              "      <td>0.727284</td>\n",
              "      <td>1.014832</td>\n",
              "      <td>0.730585</td>\n",
              "      <td>0.704739</td>\n",
              "      <td>0.720745</td>\n",
              "      <td>0.745238</td>\n",
              "      <td>0.757558</td>\n",
              "      <td>0.639784</td>\n",
              "      <td>0.754672</td>\n",
              "      <td>0.561272</td>\n",
              "      <td>0.635402</td>\n",
              "      <td>0.823320</td>\n",
              "      <td>0.818195</td>\n",
              "      <td>0.708557</td>\n",
              "      <td>0.629471</td>\n",
              "      <td>0.855730</td>\n",
              "      <td>0.547864</td>\n",
              "      <td>0.688711</td>\n",
              "    </tr>\n",
              "    <tr>\n",
              "      <th>3</th>\n",
              "      <td>0.238215</td>\n",
              "      <td>0.179073</td>\n",
              "      <td>0.125665</td>\n",
              "      <td>-0.060096</td>\n",
              "      <td>0.083500</td>\n",
              "      <td>0.199667</td>\n",
              "      <td>-0.059631</td>\n",
              "      <td>-0.239650</td>\n",
              "      <td>0.158899</td>\n",
              "      <td>-0.021216</td>\n",
              "      <td>0.168381</td>\n",
              "      <td>-0.084588</td>\n",
              "      <td>-0.041847</td>\n",
              "      <td>0.062883</td>\n",
              "      <td>-0.052537</td>\n",
              "      <td>0.148186</td>\n",
              "      <td>0.016011</td>\n",
              "      <td>0.028246</td>\n",
              "      <td>-0.281547</td>\n",
              "      <td>-0.424631</td>\n",
              "      <td>0.029704</td>\n",
              "      <td>-0.149994</td>\n",
              "      <td>0.059428</td>\n",
              "      <td>-0.079246</td>\n",
              "      <td>0.093003</td>\n",
              "      <td>-0.760848</td>\n",
              "      <td>-0.165925</td>\n",
              "      <td>0.151107</td>\n",
              "      <td>0.216858</td>\n",
              "      <td>0.105443</td>\n",
              "      <td>2.301393</td>\n",
              "      <td>-0.053335</td>\n",
              "      <td>-0.036483</td>\n",
              "      <td>-0.318618</td>\n",
              "      <td>0.069306</td>\n",
              "      <td>0.041241</td>\n",
              "      <td>0.117412</td>\n",
              "      <td>0.151627</td>\n",
              "      <td>-0.040546</td>\n",
              "      <td>-0.025712</td>\n",
              "      <td>...</td>\n",
              "      <td>0.692613</td>\n",
              "      <td>0.731509</td>\n",
              "      <td>0.771844</td>\n",
              "      <td>0.791821</td>\n",
              "      <td>0.827422</td>\n",
              "      <td>0.658934</td>\n",
              "      <td>0.707986</td>\n",
              "      <td>0.769046</td>\n",
              "      <td>0.938625</td>\n",
              "      <td>0.924486</td>\n",
              "      <td>0.782627</td>\n",
              "      <td>0.743466</td>\n",
              "      <td>0.780955</td>\n",
              "      <td>0.687887</td>\n",
              "      <td>0.683290</td>\n",
              "      <td>1.293915</td>\n",
              "      <td>0.784318</td>\n",
              "      <td>0.810893</td>\n",
              "      <td>0.790681</td>\n",
              "      <td>0.749952</td>\n",
              "      <td>2.844595</td>\n",
              "      <td>0.786935</td>\n",
              "      <td>0.748675</td>\n",
              "      <td>0.984668</td>\n",
              "      <td>0.672558</td>\n",
              "      <td>0.682471</td>\n",
              "      <td>0.700327</td>\n",
              "      <td>0.712004</td>\n",
              "      <td>0.757146</td>\n",
              "      <td>0.691751</td>\n",
              "      <td>0.756722</td>\n",
              "      <td>0.634948</td>\n",
              "      <td>0.673373</td>\n",
              "      <td>0.738500</td>\n",
              "      <td>0.833289</td>\n",
              "      <td>0.691338</td>\n",
              "      <td>0.837132</td>\n",
              "      <td>0.891235</td>\n",
              "      <td>0.663493</td>\n",
              "      <td>0.711250</td>\n",
              "    </tr>\n",
              "    <tr>\n",
              "      <th>4</th>\n",
              "      <td>0.053860</td>\n",
              "      <td>0.265055</td>\n",
              "      <td>-0.054366</td>\n",
              "      <td>0.210886</td>\n",
              "      <td>-0.057046</td>\n",
              "      <td>-0.083283</td>\n",
              "      <td>-0.289663</td>\n",
              "      <td>-0.649952</td>\n",
              "      <td>0.147748</td>\n",
              "      <td>-0.148379</td>\n",
              "      <td>0.133967</td>\n",
              "      <td>0.313592</td>\n",
              "      <td>0.237271</td>\n",
              "      <td>0.001693</td>\n",
              "      <td>0.224304</td>\n",
              "      <td>-0.010196</td>\n",
              "      <td>-0.325805</td>\n",
              "      <td>-0.184947</td>\n",
              "      <td>-0.029272</td>\n",
              "      <td>0.037633</td>\n",
              "      <td>0.223528</td>\n",
              "      <td>-0.092551</td>\n",
              "      <td>0.090281</td>\n",
              "      <td>0.208271</td>\n",
              "      <td>0.003036</td>\n",
              "      <td>-0.470234</td>\n",
              "      <td>-0.422120</td>\n",
              "      <td>-0.191288</td>\n",
              "      <td>-0.187624</td>\n",
              "      <td>-0.117326</td>\n",
              "      <td>1.691306</td>\n",
              "      <td>-0.514468</td>\n",
              "      <td>-0.162733</td>\n",
              "      <td>-0.269018</td>\n",
              "      <td>-0.348738</td>\n",
              "      <td>0.033255</td>\n",
              "      <td>0.168012</td>\n",
              "      <td>-0.236740</td>\n",
              "      <td>0.023813</td>\n",
              "      <td>-0.089591</td>\n",
              "      <td>...</td>\n",
              "      <td>0.637937</td>\n",
              "      <td>0.715592</td>\n",
              "      <td>0.748261</td>\n",
              "      <td>0.623000</td>\n",
              "      <td>0.858553</td>\n",
              "      <td>0.433176</td>\n",
              "      <td>0.694533</td>\n",
              "      <td>0.791227</td>\n",
              "      <td>0.894163</td>\n",
              "      <td>0.688734</td>\n",
              "      <td>0.815303</td>\n",
              "      <td>0.572240</td>\n",
              "      <td>0.692016</td>\n",
              "      <td>0.746673</td>\n",
              "      <td>0.525048</td>\n",
              "      <td>1.152851</td>\n",
              "      <td>1.023850</td>\n",
              "      <td>0.758639</td>\n",
              "      <td>0.675880</td>\n",
              "      <td>0.628917</td>\n",
              "      <td>2.475141</td>\n",
              "      <td>0.978735</td>\n",
              "      <td>0.813457</td>\n",
              "      <td>0.930946</td>\n",
              "      <td>0.955473</td>\n",
              "      <td>0.600913</td>\n",
              "      <td>0.725668</td>\n",
              "      <td>0.738013</td>\n",
              "      <td>0.695996</td>\n",
              "      <td>0.520252</td>\n",
              "      <td>1.546082</td>\n",
              "      <td>0.576199</td>\n",
              "      <td>0.735210</td>\n",
              "      <td>0.814222</td>\n",
              "      <td>0.781824</td>\n",
              "      <td>0.629062</td>\n",
              "      <td>0.868178</td>\n",
              "      <td>0.788841</td>\n",
              "      <td>0.502459</td>\n",
              "      <td>0.554978</td>\n",
              "    </tr>\n",
              "    <tr>\n",
              "      <th>...</th>\n",
              "      <td>...</td>\n",
              "      <td>...</td>\n",
              "      <td>...</td>\n",
              "      <td>...</td>\n",
              "      <td>...</td>\n",
              "      <td>...</td>\n",
              "      <td>...</td>\n",
              "      <td>...</td>\n",
              "      <td>...</td>\n",
              "      <td>...</td>\n",
              "      <td>...</td>\n",
              "      <td>...</td>\n",
              "      <td>...</td>\n",
              "      <td>...</td>\n",
              "      <td>...</td>\n",
              "      <td>...</td>\n",
              "      <td>...</td>\n",
              "      <td>...</td>\n",
              "      <td>...</td>\n",
              "      <td>...</td>\n",
              "      <td>...</td>\n",
              "      <td>...</td>\n",
              "      <td>...</td>\n",
              "      <td>...</td>\n",
              "      <td>...</td>\n",
              "      <td>...</td>\n",
              "      <td>...</td>\n",
              "      <td>...</td>\n",
              "      <td>...</td>\n",
              "      <td>...</td>\n",
              "      <td>...</td>\n",
              "      <td>...</td>\n",
              "      <td>...</td>\n",
              "      <td>...</td>\n",
              "      <td>...</td>\n",
              "      <td>...</td>\n",
              "      <td>...</td>\n",
              "      <td>...</td>\n",
              "      <td>...</td>\n",
              "      <td>...</td>\n",
              "      <td>...</td>\n",
              "      <td>...</td>\n",
              "      <td>...</td>\n",
              "      <td>...</td>\n",
              "      <td>...</td>\n",
              "      <td>...</td>\n",
              "      <td>...</td>\n",
              "      <td>...</td>\n",
              "      <td>...</td>\n",
              "      <td>...</td>\n",
              "      <td>...</td>\n",
              "      <td>...</td>\n",
              "      <td>...</td>\n",
              "      <td>...</td>\n",
              "      <td>...</td>\n",
              "      <td>...</td>\n",
              "      <td>...</td>\n",
              "      <td>...</td>\n",
              "      <td>...</td>\n",
              "      <td>...</td>\n",
              "      <td>...</td>\n",
              "      <td>...</td>\n",
              "      <td>...</td>\n",
              "      <td>...</td>\n",
              "      <td>...</td>\n",
              "      <td>...</td>\n",
              "      <td>...</td>\n",
              "      <td>...</td>\n",
              "      <td>...</td>\n",
              "      <td>...</td>\n",
              "      <td>...</td>\n",
              "      <td>...</td>\n",
              "      <td>...</td>\n",
              "      <td>...</td>\n",
              "      <td>...</td>\n",
              "      <td>...</td>\n",
              "      <td>...</td>\n",
              "      <td>...</td>\n",
              "      <td>...</td>\n",
              "      <td>...</td>\n",
              "      <td>...</td>\n",
              "    </tr>\n",
              "    <tr>\n",
              "      <th>345</th>\n",
              "      <td>-0.010979</td>\n",
              "      <td>0.331553</td>\n",
              "      <td>-0.274579</td>\n",
              "      <td>0.064968</td>\n",
              "      <td>0.078219</td>\n",
              "      <td>-0.178412</td>\n",
              "      <td>-0.461879</td>\n",
              "      <td>-0.202393</td>\n",
              "      <td>0.023632</td>\n",
              "      <td>-0.313280</td>\n",
              "      <td>0.012995</td>\n",
              "      <td>-0.178745</td>\n",
              "      <td>-0.242036</td>\n",
              "      <td>-0.003990</td>\n",
              "      <td>0.279264</td>\n",
              "      <td>-0.061283</td>\n",
              "      <td>-0.172645</td>\n",
              "      <td>-0.149154</td>\n",
              "      <td>-0.474223</td>\n",
              "      <td>0.067488</td>\n",
              "      <td>0.533267</td>\n",
              "      <td>-0.079140</td>\n",
              "      <td>0.043737</td>\n",
              "      <td>-0.020643</td>\n",
              "      <td>-0.120477</td>\n",
              "      <td>-0.900936</td>\n",
              "      <td>-0.155905</td>\n",
              "      <td>-0.159396</td>\n",
              "      <td>-0.372659</td>\n",
              "      <td>0.072530</td>\n",
              "      <td>2.211118</td>\n",
              "      <td>-0.040268</td>\n",
              "      <td>-0.291990</td>\n",
              "      <td>-0.393795</td>\n",
              "      <td>-0.075925</td>\n",
              "      <td>-0.110955</td>\n",
              "      <td>0.237479</td>\n",
              "      <td>0.253272</td>\n",
              "      <td>-0.078545</td>\n",
              "      <td>-0.133086</td>\n",
              "      <td>...</td>\n",
              "      <td>0.635119</td>\n",
              "      <td>0.706926</td>\n",
              "      <td>0.690798</td>\n",
              "      <td>0.690580</td>\n",
              "      <td>0.849696</td>\n",
              "      <td>0.649644</td>\n",
              "      <td>0.793928</td>\n",
              "      <td>0.732375</td>\n",
              "      <td>1.075138</td>\n",
              "      <td>0.699428</td>\n",
              "      <td>1.058233</td>\n",
              "      <td>0.697163</td>\n",
              "      <td>0.729277</td>\n",
              "      <td>0.656755</td>\n",
              "      <td>0.627824</td>\n",
              "      <td>1.279957</td>\n",
              "      <td>0.820479</td>\n",
              "      <td>0.690117</td>\n",
              "      <td>0.953289</td>\n",
              "      <td>0.721440</td>\n",
              "      <td>2.658146</td>\n",
              "      <td>0.732943</td>\n",
              "      <td>0.770521</td>\n",
              "      <td>0.897170</td>\n",
              "      <td>0.703092</td>\n",
              "      <td>0.624452</td>\n",
              "      <td>0.616827</td>\n",
              "      <td>0.719700</td>\n",
              "      <td>0.649564</td>\n",
              "      <td>0.601741</td>\n",
              "      <td>0.815231</td>\n",
              "      <td>0.627280</td>\n",
              "      <td>0.701981</td>\n",
              "      <td>0.899600</td>\n",
              "      <td>0.653105</td>\n",
              "      <td>0.691876</td>\n",
              "      <td>0.682394</td>\n",
              "      <td>0.892427</td>\n",
              "      <td>0.532914</td>\n",
              "      <td>0.605134</td>\n",
              "    </tr>\n",
              "    <tr>\n",
              "      <th>346</th>\n",
              "      <td>0.083009</td>\n",
              "      <td>0.255613</td>\n",
              "      <td>-0.103843</td>\n",
              "      <td>-0.151955</td>\n",
              "      <td>0.265606</td>\n",
              "      <td>-0.055384</td>\n",
              "      <td>-0.552133</td>\n",
              "      <td>-0.168589</td>\n",
              "      <td>0.001985</td>\n",
              "      <td>-0.243296</td>\n",
              "      <td>-0.162176</td>\n",
              "      <td>-0.115868</td>\n",
              "      <td>-0.202647</td>\n",
              "      <td>-0.046971</td>\n",
              "      <td>0.100698</td>\n",
              "      <td>0.089026</td>\n",
              "      <td>-0.033706</td>\n",
              "      <td>-0.011393</td>\n",
              "      <td>-0.341604</td>\n",
              "      <td>-0.232455</td>\n",
              "      <td>0.328026</td>\n",
              "      <td>0.055872</td>\n",
              "      <td>-0.170620</td>\n",
              "      <td>0.121034</td>\n",
              "      <td>-0.084994</td>\n",
              "      <td>-0.962399</td>\n",
              "      <td>-0.200767</td>\n",
              "      <td>0.168157</td>\n",
              "      <td>0.078449</td>\n",
              "      <td>-0.126067</td>\n",
              "      <td>2.158763</td>\n",
              "      <td>-0.041964</td>\n",
              "      <td>0.025603</td>\n",
              "      <td>-0.184776</td>\n",
              "      <td>0.052800</td>\n",
              "      <td>0.085452</td>\n",
              "      <td>0.161538</td>\n",
              "      <td>0.083069</td>\n",
              "      <td>-0.040877</td>\n",
              "      <td>-0.128889</td>\n",
              "      <td>...</td>\n",
              "      <td>0.774894</td>\n",
              "      <td>0.741543</td>\n",
              "      <td>0.755110</td>\n",
              "      <td>0.735051</td>\n",
              "      <td>0.800317</td>\n",
              "      <td>0.607786</td>\n",
              "      <td>0.745838</td>\n",
              "      <td>0.696121</td>\n",
              "      <td>0.917469</td>\n",
              "      <td>0.829451</td>\n",
              "      <td>0.945030</td>\n",
              "      <td>0.698429</td>\n",
              "      <td>0.792887</td>\n",
              "      <td>0.707080</td>\n",
              "      <td>0.663492</td>\n",
              "      <td>1.418338</td>\n",
              "      <td>0.858076</td>\n",
              "      <td>0.793326</td>\n",
              "      <td>0.743684</td>\n",
              "      <td>0.711563</td>\n",
              "      <td>2.767954</td>\n",
              "      <td>0.731433</td>\n",
              "      <td>0.744855</td>\n",
              "      <td>0.834752</td>\n",
              "      <td>0.651835</td>\n",
              "      <td>0.679880</td>\n",
              "      <td>0.652215</td>\n",
              "      <td>0.658559</td>\n",
              "      <td>0.741166</td>\n",
              "      <td>0.696610</td>\n",
              "      <td>0.686153</td>\n",
              "      <td>0.598610</td>\n",
              "      <td>0.686799</td>\n",
              "      <td>0.739211</td>\n",
              "      <td>0.705407</td>\n",
              "      <td>0.681684</td>\n",
              "      <td>0.680485</td>\n",
              "      <td>1.013522</td>\n",
              "      <td>0.613063</td>\n",
              "      <td>0.715571</td>\n",
              "    </tr>\n",
              "    <tr>\n",
              "      <th>347</th>\n",
              "      <td>0.083837</td>\n",
              "      <td>0.168351</td>\n",
              "      <td>0.144835</td>\n",
              "      <td>-0.253560</td>\n",
              "      <td>0.354944</td>\n",
              "      <td>-0.019238</td>\n",
              "      <td>-0.636575</td>\n",
              "      <td>0.117894</td>\n",
              "      <td>-0.173432</td>\n",
              "      <td>-0.561260</td>\n",
              "      <td>-0.228364</td>\n",
              "      <td>-0.283654</td>\n",
              "      <td>-0.485257</td>\n",
              "      <td>0.037130</td>\n",
              "      <td>0.179072</td>\n",
              "      <td>-0.088345</td>\n",
              "      <td>-0.061477</td>\n",
              "      <td>-0.397939</td>\n",
              "      <td>-0.626464</td>\n",
              "      <td>-0.143013</td>\n",
              "      <td>0.190283</td>\n",
              "      <td>-0.162074</td>\n",
              "      <td>0.017384</td>\n",
              "      <td>0.098018</td>\n",
              "      <td>-0.084563</td>\n",
              "      <td>-1.108462</td>\n",
              "      <td>-0.028437</td>\n",
              "      <td>-0.034553</td>\n",
              "      <td>0.033712</td>\n",
              "      <td>-0.082773</td>\n",
              "      <td>2.775799</td>\n",
              "      <td>0.000007</td>\n",
              "      <td>-0.029977</td>\n",
              "      <td>-0.135235</td>\n",
              "      <td>0.164582</td>\n",
              "      <td>0.013663</td>\n",
              "      <td>0.335715</td>\n",
              "      <td>0.130771</td>\n",
              "      <td>-0.009785</td>\n",
              "      <td>-0.135253</td>\n",
              "      <td>...</td>\n",
              "      <td>0.890213</td>\n",
              "      <td>0.587452</td>\n",
              "      <td>0.777483</td>\n",
              "      <td>0.611119</td>\n",
              "      <td>0.834350</td>\n",
              "      <td>0.673352</td>\n",
              "      <td>0.743571</td>\n",
              "      <td>0.663931</td>\n",
              "      <td>1.065114</td>\n",
              "      <td>0.619121</td>\n",
              "      <td>0.926057</td>\n",
              "      <td>0.721062</td>\n",
              "      <td>0.716485</td>\n",
              "      <td>0.513018</td>\n",
              "      <td>0.459001</td>\n",
              "      <td>1.474192</td>\n",
              "      <td>0.699950</td>\n",
              "      <td>0.868822</td>\n",
              "      <td>0.671341</td>\n",
              "      <td>0.700585</td>\n",
              "      <td>3.195942</td>\n",
              "      <td>0.614210</td>\n",
              "      <td>0.749527</td>\n",
              "      <td>0.515999</td>\n",
              "      <td>0.713348</td>\n",
              "      <td>0.557513</td>\n",
              "      <td>0.571673</td>\n",
              "      <td>0.515571</td>\n",
              "      <td>0.620263</td>\n",
              "      <td>0.518112</td>\n",
              "      <td>0.504294</td>\n",
              "      <td>0.489316</td>\n",
              "      <td>0.544115</td>\n",
              "      <td>0.908160</td>\n",
              "      <td>0.539542</td>\n",
              "      <td>0.582449</td>\n",
              "      <td>0.626533</td>\n",
              "      <td>0.931728</td>\n",
              "      <td>0.422582</td>\n",
              "      <td>0.591630</td>\n",
              "    </tr>\n",
              "    <tr>\n",
              "      <th>348</th>\n",
              "      <td>-0.018125</td>\n",
              "      <td>0.073950</td>\n",
              "      <td>-0.037625</td>\n",
              "      <td>0.126214</td>\n",
              "      <td>-0.243353</td>\n",
              "      <td>-0.134163</td>\n",
              "      <td>0.121133</td>\n",
              "      <td>-0.048076</td>\n",
              "      <td>-0.000009</td>\n",
              "      <td>-0.135604</td>\n",
              "      <td>0.463785</td>\n",
              "      <td>-0.124144</td>\n",
              "      <td>0.004368</td>\n",
              "      <td>-0.040679</td>\n",
              "      <td>0.047730</td>\n",
              "      <td>0.040780</td>\n",
              "      <td>0.115135</td>\n",
              "      <td>0.136636</td>\n",
              "      <td>0.018132</td>\n",
              "      <td>0.369514</td>\n",
              "      <td>0.041556</td>\n",
              "      <td>-0.210189</td>\n",
              "      <td>-0.036465</td>\n",
              "      <td>0.073709</td>\n",
              "      <td>0.031060</td>\n",
              "      <td>-0.570062</td>\n",
              "      <td>0.061548</td>\n",
              "      <td>-0.212231</td>\n",
              "      <td>-0.475184</td>\n",
              "      <td>0.058746</td>\n",
              "      <td>1.121946</td>\n",
              "      <td>0.088072</td>\n",
              "      <td>-0.231729</td>\n",
              "      <td>-0.058485</td>\n",
              "      <td>-0.359400</td>\n",
              "      <td>-0.131671</td>\n",
              "      <td>-0.082443</td>\n",
              "      <td>0.208196</td>\n",
              "      <td>0.032474</td>\n",
              "      <td>0.050322</td>\n",
              "      <td>...</td>\n",
              "      <td>0.943295</td>\n",
              "      <td>0.803217</td>\n",
              "      <td>0.704576</td>\n",
              "      <td>0.734551</td>\n",
              "      <td>0.759093</td>\n",
              "      <td>0.866490</td>\n",
              "      <td>0.699374</td>\n",
              "      <td>0.763483</td>\n",
              "      <td>0.787230</td>\n",
              "      <td>0.856085</td>\n",
              "      <td>0.802229</td>\n",
              "      <td>0.791625</td>\n",
              "      <td>0.728927</td>\n",
              "      <td>0.759461</td>\n",
              "      <td>0.692308</td>\n",
              "      <td>1.486967</td>\n",
              "      <td>0.778851</td>\n",
              "      <td>0.655188</td>\n",
              "      <td>1.106849</td>\n",
              "      <td>0.678534</td>\n",
              "      <td>2.269325</td>\n",
              "      <td>0.763284</td>\n",
              "      <td>0.738692</td>\n",
              "      <td>0.991163</td>\n",
              "      <td>0.854911</td>\n",
              "      <td>0.658414</td>\n",
              "      <td>0.715359</td>\n",
              "      <td>0.815157</td>\n",
              "      <td>0.912070</td>\n",
              "      <td>0.617561</td>\n",
              "      <td>0.826304</td>\n",
              "      <td>0.723609</td>\n",
              "      <td>1.068499</td>\n",
              "      <td>1.136347</td>\n",
              "      <td>0.851618</td>\n",
              "      <td>0.821878</td>\n",
              "      <td>0.712414</td>\n",
              "      <td>1.022403</td>\n",
              "      <td>0.755305</td>\n",
              "      <td>0.964821</td>\n",
              "    </tr>\n",
              "    <tr>\n",
              "      <th>349</th>\n",
              "      <td>0.180852</td>\n",
              "      <td>0.201287</td>\n",
              "      <td>-0.135105</td>\n",
              "      <td>-0.106870</td>\n",
              "      <td>0.173468</td>\n",
              "      <td>0.172173</td>\n",
              "      <td>-0.208097</td>\n",
              "      <td>-0.343514</td>\n",
              "      <td>0.160177</td>\n",
              "      <td>0.132877</td>\n",
              "      <td>0.120607</td>\n",
              "      <td>0.076485</td>\n",
              "      <td>-0.080001</td>\n",
              "      <td>-0.009792</td>\n",
              "      <td>0.067791</td>\n",
              "      <td>0.061572</td>\n",
              "      <td>0.059565</td>\n",
              "      <td>0.045637</td>\n",
              "      <td>0.108162</td>\n",
              "      <td>-0.263371</td>\n",
              "      <td>0.232435</td>\n",
              "      <td>0.125752</td>\n",
              "      <td>-0.037845</td>\n",
              "      <td>0.032461</td>\n",
              "      <td>0.216857</td>\n",
              "      <td>-1.007144</td>\n",
              "      <td>-0.315448</td>\n",
              "      <td>-0.271938</td>\n",
              "      <td>0.028461</td>\n",
              "      <td>0.052988</td>\n",
              "      <td>2.598132</td>\n",
              "      <td>-0.010774</td>\n",
              "      <td>-0.210390</td>\n",
              "      <td>-0.751075</td>\n",
              "      <td>-0.003465</td>\n",
              "      <td>0.075439</td>\n",
              "      <td>-0.054020</td>\n",
              "      <td>0.246165</td>\n",
              "      <td>-0.102065</td>\n",
              "      <td>-0.104947</td>\n",
              "      <td>...</td>\n",
              "      <td>0.609153</td>\n",
              "      <td>0.581297</td>\n",
              "      <td>0.654016</td>\n",
              "      <td>0.564135</td>\n",
              "      <td>0.705763</td>\n",
              "      <td>0.566579</td>\n",
              "      <td>0.649627</td>\n",
              "      <td>0.695665</td>\n",
              "      <td>0.754406</td>\n",
              "      <td>0.721042</td>\n",
              "      <td>0.720516</td>\n",
              "      <td>0.674128</td>\n",
              "      <td>0.658219</td>\n",
              "      <td>0.658748</td>\n",
              "      <td>0.722887</td>\n",
              "      <td>1.391021</td>\n",
              "      <td>0.787996</td>\n",
              "      <td>0.763140</td>\n",
              "      <td>0.793002</td>\n",
              "      <td>0.629846</td>\n",
              "      <td>2.976913</td>\n",
              "      <td>0.793627</td>\n",
              "      <td>0.733450</td>\n",
              "      <td>1.120211</td>\n",
              "      <td>0.630381</td>\n",
              "      <td>0.617922</td>\n",
              "      <td>0.630224</td>\n",
              "      <td>0.720397</td>\n",
              "      <td>0.753115</td>\n",
              "      <td>0.585750</td>\n",
              "      <td>0.693447</td>\n",
              "      <td>0.616670</td>\n",
              "      <td>0.562244</td>\n",
              "      <td>0.768729</td>\n",
              "      <td>0.645375</td>\n",
              "      <td>0.567267</td>\n",
              "      <td>0.773521</td>\n",
              "      <td>0.906326</td>\n",
              "      <td>0.523315</td>\n",
              "      <td>0.643073</td>\n",
              "    </tr>\n",
              "  </tbody>\n",
              "</table>\n",
              "<p>350 rows × 250 columns</p>\n",
              "</div>"
            ],
            "text/plain": [
              "          0         1         2    ...       247       248       249\n",
              "0    0.177503  0.220895  0.313306  ...  0.825815  0.732845  0.715460\n",
              "1    0.203889  0.085882 -0.143129  ...  0.969754  0.639874  0.680940\n",
              "2    0.019372  0.119154 -0.092583  ...  0.855730  0.547864  0.688711\n",
              "3    0.238215  0.179073  0.125665  ...  0.891235  0.663493  0.711250\n",
              "4    0.053860  0.265055 -0.054366  ...  0.788841  0.502459  0.554978\n",
              "..        ...       ...       ...  ...       ...       ...       ...\n",
              "345 -0.010979  0.331553 -0.274579  ...  0.892427  0.532914  0.605134\n",
              "346  0.083009  0.255613 -0.103843  ...  1.013522  0.613063  0.715571\n",
              "347  0.083837  0.168351  0.144835  ...  0.931728  0.422582  0.591630\n",
              "348 -0.018125  0.073950 -0.037625  ...  1.022403  0.755305  0.964821\n",
              "349  0.180852  0.201287 -0.135105  ...  0.906326  0.523315  0.643073\n",
              "\n",
              "[350 rows x 250 columns]"
            ]
          },
          "metadata": {
            "tags": []
          }
        }
      ]
    },
    {
      "cell_type": "markdown",
      "metadata": {
        "colab_type": "text",
        "id": "katJKlYX3DVA"
      },
      "source": [
        "## Plotting"
      ]
    },
    {
      "cell_type": "code",
      "metadata": {
        "colab_type": "code",
        "id": "5RdhXBYhhHNG",
        "outputId": "a801a62b-242f-426e-c885-64478db0660c",
        "scrolled": true,
        "colab": {
          "base_uri": "https://localhost:8080/",
          "height": 934
        }
      },
      "source": [
        "plt.figure(figsize=(16,16))\n",
        "titlestring = \"{} with k={} records={} features={} using {}\".format(__algo__, k, data.shape[0], data.shape[1], __emb__)\n",
        "snsplot = sns.countplot(\"clusterlabel\", data=megadf)\n",
        "snsplot.xaxis.label.set_size(20)\n",
        "snsplot.yaxis.label.set_size(20)\n",
        "plt.title(\n",
        "        titlestring,\n",
        "        fontdict = {'fontsize' : 30}\n",
        "    )"
      ],
      "execution_count": 0,
      "outputs": [
        {
          "output_type": "execute_result",
          "data": {
            "text/plain": [
              "Text(0.5, 1.0, 'KMEANS with k=350 records=30000 features=250 using glove')"
            ]
          },
          "metadata": {
            "tags": []
          },
          "execution_count": 129
        },
        {
          "output_type": "display_data",
          "data": {
            "image/png": "[encoded data removed]",
            "text/plain": [
              "<Figure size 1152x1152 with 1 Axes>"
            ]
          },
          "metadata": {
            "tags": [],
            "needs_background": "light"
          }
        }
      ]
    },
    {
      "cell_type": "markdown",
      "metadata": {
        "colab_type": "text",
        "id": "XeKZjylmHSBe"
      },
      "source": [
        "### *Name given to saved files*"
      ]
    },
    {
      "cell_type": "code",
      "metadata": {
        "colab_type": "code",
        "id": "ba1gRBa0HSBe",
        "outputId": "6080d3d7-72bb-4a90-e2e7-926e2f40e6bd",
        "scrolled": true,
        "colab": {
          "base_uri": "https://localhost:8080/",
          "height": 34
        }
      },
      "source": [
        "features = data.shape[1]\n",
        "records = data.shape[0]\n",
        "name = \"{}_{}_{}_K{}_R{}_F{}\".format(__algo__, __emb__, __sentemb__, k, records, features)\n",
        "name"
      ],
      "execution_count": 0,
      "outputs": [
        {
          "output_type": "execute_result",
          "data": {
            "text/plain": [
              "'KMEANS_glove_pmeans5_K350_R30000_F250'"
            ]
          },
          "metadata": {
            "tags": []
          },
          "execution_count": 130
        }
      ]
    },
    {
      "cell_type": "markdown",
      "metadata": {
        "colab_type": "text",
        "id": "Auz4Iqgh4Run"
      },
      "source": [
        "### Saving Data"
      ]
    },
    {
      "cell_type": "markdown",
      "metadata": {
        "colab_type": "text",
        "id": "72omKTUTHSBm"
      },
      "source": [
        "Save model"
      ]
    },
    {
      "cell_type": "code",
      "metadata": {
        "colab_type": "code",
        "id": "OSXVqXvqHSBn",
        "colab": {}
      },
      "source": [
        "modelname = \"{}_model.pkl\".format(name)\n",
        "pickle.dump(model, open(modelDir + modelname, 'wb'))\n",
        "os.environ[\"SAVE_DF\"] = modelDir + modelname\n",
        "!cp $SAVE_DF ./drive/My\\ Drive/ColabOutput/."
      ],
      "execution_count": 0,
      "outputs": []
    },
    {
      "cell_type": "markdown",
      "metadata": {
        "colab_type": "text",
        "id": "Cl1cVogDHSBs"
      },
      "source": [
        "Save Plot"
      ]
    },
    {
      "cell_type": "code",
      "metadata": {
        "colab_type": "code",
        "id": "l0RRWXwvQ9jz",
        "colab": {}
      },
      "source": [
        "snspltname = \"{}_plt.png\".format(name)\n",
        "snsplot.figure.savefig(plotDir + snspltname)\n",
        "os.environ[\"SAVE_DF\"] = plotDir + snspltname\n",
        "!cp $SAVE_DF ./drive/My\\ Drive/ColabOutput/."
      ],
      "execution_count": 0,
      "outputs": []
    },
    {
      "cell_type": "markdown",
      "metadata": {
        "colab_type": "text",
        "id": "hCYs0xROHSBx"
      },
      "source": [
        "Save Megadf"
      ]
    },
    {
      "cell_type": "code",
      "metadata": {
        "colab_type": "code",
        "id": "ZLHiM-gclArn",
        "colab": {}
      },
      "source": [
        "clusterdfname = \"{}_clustered_megadf.pkl\".format(name)\n",
        "megadf.to_pickle(megadfDir + clusterdfname)\n",
        "os.environ[\"SAVE_DF\"] = megadfDir + clusterdfname\n",
        "!cp $SAVE_DF ./drive/My\\ Drive/ColabOutput/."
      ],
      "execution_count": 0,
      "outputs": []
    },
    {
      "cell_type": "markdown",
      "metadata": {
        "colab_type": "text",
        "id": "lAWuWNjWHSB4"
      },
      "source": [
        "Save Centroids"
      ]
    },
    {
      "cell_type": "code",
      "metadata": {
        "colab_type": "code",
        "id": "N8MsneQ_vx4H",
        "outputId": "997af934-caa8-4794-f54f-dcf2e152a445",
        "colab": {
          "base_uri": "https://localhost:8080/",
          "height": 34
        }
      },
      "source": [
        "centroidDF = pd.DataFrame(centroids)\n",
        "centroidDFname = \"{}_centroids.pkl\".format(name)\n",
        "centroidDF.to_pickle(megadfDir + centroidDFname)\n",
        "os.environ[\"SAVE_DF\"] = megadfDir + centroidDFname\n",
        "!cp $SAVE_DF ./drive/My\\ Drive/ColabOutput/.\n",
        "print(centroidDF.shape)"
      ],
      "execution_count": 0,
      "outputs": [
        {
          "output_type": "stream",
          "text": [
            "(350, 250)\n"
          ],
          "name": "stdout"
        }
      ]
    },
    {
      "cell_type": "markdown",
      "metadata": {
        "colab_type": "text",
        "id": "P0kYelyC5NqY"
      },
      "source": [
        "#### Open dataframe to test"
      ]
    },
    {
      "cell_type": "code",
      "metadata": {
        "colab_type": "code",
        "id": "VvsuuCMaQEj4",
        "outputId": "753b295c-e8ea-4657-cbd2-29434a6f3a65",
        "scrolled": false,
        "colab": {
          "base_uri": "https://localhost:8080/",
          "height": 293
        }
      },
      "source": [
        "sub = megadf.loc[:, [\"id\", \"title\", \"abstract\", \"clusterlabel\"]]\n",
        "sub.tail()"
      ],
      "execution_count": 0,
      "outputs": [
        {
          "output_type": "execute_result",
          "data": {
            "text/html": [
              "<div>\n",
              "<style scoped>\n",
              "    .dataframe tbody tr th:only-of-type {\n",
              "        vertical-align: middle;\n",
              "    }\n",
              "\n",
              "    .dataframe tbody tr th {\n",
              "        vertical-align: top;\n",
              "    }\n",
              "\n",
              "    .dataframe thead th {\n",
              "        text-align: right;\n",
              "    }\n",
              "</style>\n",
              "<table border=\"1\" class=\"dataframe\">\n",
              "  <thead>\n",
              "    <tr style=\"text-align: right;\">\n",
              "      <th></th>\n",
              "      <th>id</th>\n",
              "      <th>title</th>\n",
              "      <th>abstract</th>\n",
              "      <th>clusterlabel</th>\n",
              "    </tr>\n",
              "  </thead>\n",
              "  <tbody>\n",
              "    <tr>\n",
              "      <th>18574</th>\n",
              "      <td>9013351</td>\n",
              "      <td>Trace (Layered Neck-piece and Feather Wrap)</td>\n",
              "      <td>[exhibition, two, large, printed, feather, bod...</td>\n",
              "      <td>25</td>\n",
              "    </tr>\n",
              "    <tr>\n",
              "      <th>44937</th>\n",
              "      <td>333129</td>\n",
              "      <td>Equivalence of conservative, free, linear prog...</td>\n",
              "      <td>[program, schema, defines, class, program, ide...</td>\n",
              "      <td>207</td>\n",
              "    </tr>\n",
              "    <tr>\n",
              "      <th>127685</th>\n",
              "      <td>371081</td>\n",
              "      <td>The impact of structural adjustment programmes...</td>\n",
              "      <td>[requirement, doctor, business, administration...</td>\n",
              "      <td>71</td>\n",
              "    </tr>\n",
              "    <tr>\n",
              "      <th>159718</th>\n",
              "      <td>7379292</td>\n",
              "      <td>Neville Street, Water Lane, Great Wilson Street</td>\n",
              "      <td>[16th, february, neville, street, foreground, ...</td>\n",
              "      <td>113</td>\n",
              "    </tr>\n",
              "    <tr>\n",
              "      <th>142878</th>\n",
              "      <td>1537402</td>\n",
              "      <td>Paperless examination boards promote wider and...</td>\n",
              "      <td>[series, development, since, inception, sits, ...</td>\n",
              "      <td>65</td>\n",
              "    </tr>\n",
              "  </tbody>\n",
              "</table>\n",
              "</div>"
            ],
            "text/plain": [
              "             id  ... clusterlabel\n",
              "18574   9013351  ...           25\n",
              "44937    333129  ...          207\n",
              "127685   371081  ...           71\n",
              "159718  7379292  ...          113\n",
              "142878  1537402  ...           65\n",
              "\n",
              "[5 rows x 4 columns]"
            ]
          },
          "metadata": {
            "tags": []
          },
          "execution_count": 135
        }
      ]
    },
    {
      "cell_type": "code",
      "metadata": {
        "colab_type": "code",
        "id": "KD2iqstDHSCJ",
        "outputId": "8b6befda-7931-4f1c-a79f-bee48a6f9fa5",
        "colab": {
          "base_uri": "https://localhost:8080/",
          "height": 34
        }
      },
      "source": [
        "megadf.columns"
      ],
      "execution_count": 0,
      "outputs": [
        {
          "output_type": "execute_result",
          "data": {
            "text/plain": [
              "Index(['id', 'title', 'abstract', 'embedding', 'clusterlabel'], dtype='object')"
            ]
          },
          "metadata": {
            "tags": []
          },
          "execution_count": 136
        }
      ]
    },
    {
      "cell_type": "markdown",
      "metadata": {
        "colab_type": "text",
        "id": "AGGilqrWHSCQ"
      },
      "source": [
        "# Performance Testing and Distribution\n"
      ]
    },
    {
      "cell_type": "code",
      "metadata": {
        "colab_type": "code",
        "id": "iNcjh1CaHSCS",
        "colab": {}
      },
      "source": [
        "metadata = pd.DataFrame(columns=[\"Name\", \"Algo\", \"WordEmb\", \"SentEmb\", \"K\", \"R\", \"F\", \"SS\", \"CSavg\", \"CSmin\", \"CSmax\", \"T2Pavg\", \"T2LM\", \"T2LMP\", \"MEM\"])"
      ],
      "execution_count": 0,
      "outputs": []
    },
    {
      "cell_type": "code",
      "metadata": {
        "colab_type": "code",
        "id": "vOTegmq3HSCY",
        "outputId": "9b0ea18c-e5f3-4fce-e62b-72ffa24e5b79",
        "colab": {
          "base_uri": "https://localhost:8080/",
          "height": 312
        }
      },
      "source": [
        "metadict = {\n",
        "    \"Name\":None,                     #Name of the save file prefix\n",
        "    \"Algo\":None,                     #Name of the Clustering algorithm\n",
        "    \"WordEmb\":None,                  #Name of the Word Embeddings used (glove, w2v, ftt)\n",
        "    \"SentEmb\":None,                  #Name of Sentence Embedding algorithm used \n",
        "    \"K\":None, \"R\":None, \"F\":None,    #Number of clusters, records and fetures\n",
        "    \"T2T\":None,                      #Time required to train model\n",
        "    \"SS\":None,                       #Silhoutte Score\n",
        "    \"DBS\":None,                      #Davis Bouldin Score\n",
        "    \"CSavg\":None,                    #Average Cluster Size\n",
        "    \"CSmin\":None,                    #Minimum Cluster Size\n",
        "    \"CSmax\":None,                    #Maximum Cluster Size\n",
        "    \"T2Pavg\":None,                   #Average Time To Predict cluster of one record\n",
        "    \"T2LM\":None,                     #Average Time to Load Model\n",
        "    \"T2LMP\":None,                    #Amortized time to Predict after loading the model\n",
        "    \"MEM\":None                      #Memory used by the Model\n",
        "    }\n",
        "metadict"
      ],
      "execution_count": 0,
      "outputs": [
        {
          "output_type": "execute_result",
          "data": {
            "text/plain": [
              "{'Algo': None,\n",
              " 'CSavg': None,\n",
              " 'CSmax': None,\n",
              " 'CSmin': None,\n",
              " 'DBS': None,\n",
              " 'F': None,\n",
              " 'K': None,\n",
              " 'MEM': None,\n",
              " 'Name': None,\n",
              " 'R': None,\n",
              " 'SS': None,\n",
              " 'SentEmb': None,\n",
              " 'T2LM': None,\n",
              " 'T2LMP': None,\n",
              " 'T2Pavg': None,\n",
              " 'T2T': None,\n",
              " 'WordEmb': None}"
            ]
          },
          "metadata": {
            "tags": []
          },
          "execution_count": 138
        }
      ]
    },
    {
      "cell_type": "code",
      "metadata": {
        "colab_type": "code",
        "id": "LrV-xYTCHSCe",
        "outputId": "5cd1b08a-fa41-43c0-d62e-f7fd79c8af8a",
        "colab": {
          "base_uri": "https://localhost:8080/",
          "height": 312
        }
      },
      "source": [
        "metadict[\"Name\"]=name\n",
        "metadict[\"Algo\"]=__algo__\n",
        "metadict[\"WordEmb\"]=__emb__\n",
        "metadict[\"SentEmb\"]=__sentemb__\n",
        "metadict[\"K\"]=k\n",
        "metadict[\"R\"]=recnum\n",
        "metadict[\"F\"]=features\n",
        "metadict"
      ],
      "execution_count": 0,
      "outputs": [
        {
          "output_type": "execute_result",
          "data": {
            "text/plain": [
              "{'Algo': 'KMEANS',\n",
              " 'CSavg': None,\n",
              " 'CSmax': None,\n",
              " 'CSmin': None,\n",
              " 'DBS': None,\n",
              " 'F': 250,\n",
              " 'K': 350,\n",
              " 'MEM': None,\n",
              " 'Name': 'KMEANS_glove_pmeans5_K350_R30000_F250',\n",
              " 'R': 30000,\n",
              " 'SS': None,\n",
              " 'SentEmb': 'pmeans5',\n",
              " 'T2LM': None,\n",
              " 'T2LMP': None,\n",
              " 'T2Pavg': None,\n",
              " 'T2T': None,\n",
              " 'WordEmb': 'glove'}"
            ]
          },
          "metadata": {
            "tags": []
          },
          "execution_count": 139
        }
      ]
    },
    {
      "cell_type": "markdown",
      "metadata": {
        "colab_type": "text",
        "id": "z-uBHNpGHSCj"
      },
      "source": [
        "#### Time to train"
      ]
    },
    {
      "cell_type": "code",
      "metadata": {
        "colab_type": "code",
        "id": "G-hfZnYWHSCm",
        "colab": {}
      },
      "source": [
        "metadict[\"T2T\"]=timetrain"
      ],
      "execution_count": 0,
      "outputs": []
    },
    {
      "cell_type": "markdown",
      "metadata": {
        "colab_type": "text",
        "id": "281AeaQmHSCr"
      },
      "source": [
        "#### Scores"
      ]
    },
    {
      "cell_type": "code",
      "metadata": {
        "colab_type": "code",
        "id": "U6P2WKG-HSCs",
        "colab": {}
      },
      "source": [
        "ss = silhouette_score(data, labels, metric = 'euclidean')\n",
        "dbs = davies_bouldin_score(data, labels)\n",
        "metadict[\"SS\"]=ss\n",
        "metadict[\"DBS\"]=dbs"
      ],
      "execution_count": 0,
      "outputs": []
    },
    {
      "cell_type": "markdown",
      "metadata": {
        "colab_type": "text",
        "id": "PjcfcCkuHSCy"
      },
      "source": [
        "#### Cluster Size"
      ]
    },
    {
      "cell_type": "code",
      "metadata": {
        "colab_type": "code",
        "id": "Fu9kMmRFHSCz",
        "outputId": "7e690e30-9aaa-41e1-d595-2de7f15031bc",
        "colab": {
          "base_uri": "https://localhost:8080/",
          "height": 206
        }
      },
      "source": [
        "clusterdata = megadf.groupby(\"clusterlabel\", as_index=True).size().reset_index(name=\"count\")\n",
        "clusterdata.head()"
      ],
      "execution_count": 0,
      "outputs": [
        {
          "output_type": "execute_result",
          "data": {
            "text/html": [
              "<div>\n",
              "<style scoped>\n",
              "    .dataframe tbody tr th:only-of-type {\n",
              "        vertical-align: middle;\n",
              "    }\n",
              "\n",
              "    .dataframe tbody tr th {\n",
              "        vertical-align: top;\n",
              "    }\n",
              "\n",
              "    .dataframe thead th {\n",
              "        text-align: right;\n",
              "    }\n",
              "</style>\n",
              "<table border=\"1\" class=\"dataframe\">\n",
              "  <thead>\n",
              "    <tr style=\"text-align: right;\">\n",
              "      <th></th>\n",
              "      <th>clusterlabel</th>\n",
              "      <th>count</th>\n",
              "    </tr>\n",
              "  </thead>\n",
              "  <tbody>\n",
              "    <tr>\n",
              "      <th>0</th>\n",
              "      <td>0</td>\n",
              "      <td>125</td>\n",
              "    </tr>\n",
              "    <tr>\n",
              "      <th>1</th>\n",
              "      <td>1</td>\n",
              "      <td>72</td>\n",
              "    </tr>\n",
              "    <tr>\n",
              "      <th>2</th>\n",
              "      <td>2</td>\n",
              "      <td>14</td>\n",
              "    </tr>\n",
              "    <tr>\n",
              "      <th>3</th>\n",
              "      <td>3</td>\n",
              "      <td>59</td>\n",
              "    </tr>\n",
              "    <tr>\n",
              "      <th>4</th>\n",
              "      <td>4</td>\n",
              "      <td>57</td>\n",
              "    </tr>\n",
              "  </tbody>\n",
              "</table>\n",
              "</div>"
            ],
            "text/plain": [
              "   clusterlabel  count\n",
              "0             0    125\n",
              "1             1     72\n",
              "2             2     14\n",
              "3             3     59\n",
              "4             4     57"
            ]
          },
          "metadata": {
            "tags": []
          },
          "execution_count": 142
        }
      ]
    },
    {
      "cell_type": "code",
      "metadata": {
        "colab_type": "code",
        "id": "AtbBksMeHSC3",
        "colab": {}
      },
      "source": [
        "clusterdfname = \"{}_clustered_counts.pkl\".format(name)\n",
        "clusterdata.to_pickle(megadfDir + clusterdfname)\n",
        "os.environ[\"SAVE_DF\"] = megadfDir + clusterdfname\n",
        "!cp $SAVE_DF ./drive/My\\ Drive/ColabOutput/."
      ],
      "execution_count": 0,
      "outputs": []
    },
    {
      "cell_type": "code",
      "metadata": {
        "colab_type": "code",
        "id": "_BGjwM7UHSC9",
        "outputId": "95e44f24-c776-4037-a11f-eada925d094d",
        "scrolled": true,
        "colab": {
          "base_uri": "https://localhost:8080/",
          "height": 270
        }
      },
      "source": [
        "countdata = clusterdata.groupby(\"count\").size().reset_index(name=\"clusters\")\n",
        "display(countdata.head(3))\n",
        "display(countdata.tail(3))"
      ],
      "execution_count": 0,
      "outputs": [
        {
          "output_type": "display_data",
          "data": {
            "text/html": [
              "<div>\n",
              "<style scoped>\n",
              "    .dataframe tbody tr th:only-of-type {\n",
              "        vertical-align: middle;\n",
              "    }\n",
              "\n",
              "    .dataframe tbody tr th {\n",
              "        vertical-align: top;\n",
              "    }\n",
              "\n",
              "    .dataframe thead th {\n",
              "        text-align: right;\n",
              "    }\n",
              "</style>\n",
              "<table border=\"1\" class=\"dataframe\">\n",
              "  <thead>\n",
              "    <tr style=\"text-align: right;\">\n",
              "      <th></th>\n",
              "      <th>count</th>\n",
              "      <th>clusters</th>\n",
              "    </tr>\n",
              "  </thead>\n",
              "  <tbody>\n",
              "    <tr>\n",
              "      <th>0</th>\n",
              "      <td>4</td>\n",
              "      <td>1</td>\n",
              "    </tr>\n",
              "    <tr>\n",
              "      <th>1</th>\n",
              "      <td>7</td>\n",
              "      <td>1</td>\n",
              "    </tr>\n",
              "    <tr>\n",
              "      <th>2</th>\n",
              "      <td>8</td>\n",
              "      <td>1</td>\n",
              "    </tr>\n",
              "  </tbody>\n",
              "</table>\n",
              "</div>"
            ],
            "text/plain": [
              "   count  clusters\n",
              "0      4         1\n",
              "1      7         1\n",
              "2      8         1"
            ]
          },
          "metadata": {
            "tags": []
          }
        },
        {
          "output_type": "display_data",
          "data": {
            "text/html": [
              "<div>\n",
              "<style scoped>\n",
              "    .dataframe tbody tr th:only-of-type {\n",
              "        vertical-align: middle;\n",
              "    }\n",
              "\n",
              "    .dataframe tbody tr th {\n",
              "        vertical-align: top;\n",
              "    }\n",
              "\n",
              "    .dataframe thead th {\n",
              "        text-align: right;\n",
              "    }\n",
              "</style>\n",
              "<table border=\"1\" class=\"dataframe\">\n",
              "  <thead>\n",
              "    <tr style=\"text-align: right;\">\n",
              "      <th></th>\n",
              "      <th>count</th>\n",
              "      <th>clusters</th>\n",
              "    </tr>\n",
              "  </thead>\n",
              "  <tbody>\n",
              "    <tr>\n",
              "      <th>145</th>\n",
              "      <td>204</td>\n",
              "      <td>1</td>\n",
              "    </tr>\n",
              "    <tr>\n",
              "      <th>146</th>\n",
              "      <td>210</td>\n",
              "      <td>1</td>\n",
              "    </tr>\n",
              "    <tr>\n",
              "      <th>147</th>\n",
              "      <td>764</td>\n",
              "      <td>1</td>\n",
              "    </tr>\n",
              "  </tbody>\n",
              "</table>\n",
              "</div>"
            ],
            "text/plain": [
              "     count  clusters\n",
              "145    204         1\n",
              "146    210         1\n",
              "147    764         1"
            ]
          },
          "metadata": {
            "tags": []
          }
        }
      ]
    },
    {
      "cell_type": "code",
      "metadata": {
        "colab_type": "code",
        "id": "AdtkIFV8HSDB",
        "colab": {}
      },
      "source": [
        "metadict[\"CSmax\"] = max(clusterdata[\"count\"])\n",
        "metadict[\"CSmin\"] = min(clusterdata[\"count\"])\n",
        "metadict[\"CSavg\"] = np.mean(clusterdata[\"count\"])"
      ],
      "execution_count": 0,
      "outputs": []
    },
    {
      "cell_type": "code",
      "metadata": {
        "colab_type": "code",
        "id": "l0Pk6So5HSDE",
        "outputId": "e7ab1210-6f80-4ecf-b869-1519fe25c88d",
        "colab": {
          "base_uri": "https://localhost:8080/",
          "height": 945
        }
      },
      "source": [
        "%matplotlib inline\n",
        "plt.figure(figsize=(16,16))\n",
        "\n",
        "sns.axes_style(\"whitegrid\", {\"axes.grid\":True, \n",
        "                            'axes.spines.left': False,\n",
        "                             'axes.spines.bottom': False,\n",
        "                             'axes.spines.right': False,\n",
        "                             'axes.spines.top': False})\n",
        "\n",
        "\n",
        "titlestring = \"{}_Cluster_Distribution\".format(name)\n",
        "snsplot = sns.distplot(clusterdata[\"count\"], \n",
        "                       kde=False, \n",
        "                       bins=max(clusterdata[\"count\"]),\n",
        "                      hist_kws={'edgecolor':'black'},)\n",
        "snsplot.set(xlabel=\"Number of Papers\", ylabel=\"Number of Clusters\")\n",
        "snsplot.xaxis.label.set_size(20)\n",
        "snsplot.yaxis.label.set_size(20)\n",
        "plt.title(\n",
        "        titlestring,\n",
        "        fontdict = {'fontsize' : 25}\n",
        "    )\n",
        "plt.show()\n",
        "\n"
      ],
      "execution_count": 0,
      "outputs": [
        {
          "output_type": "display_data",
          "data": {
            "image/png": "[encoded data removed]",
            "text/plain": [
              "<Figure size 1152x1152 with 1 Axes>"
            ]
          },
          "metadata": {
            "tags": [],
            "needs_background": "light"
          }
        }
      ]
    },
    {
      "cell_type": "code",
      "metadata": {
        "colab_type": "code",
        "id": "S4VZBPnLHSDL",
        "colab": {}
      },
      "source": [
        "snspltname = \"{}_Cluster_Distribution.png\".format(name)\n",
        "snsplot.figure.savefig(plotDir + snspltname)\n",
        "os.environ[\"SAVE_DF\"] = plotDir + snspltname\n",
        "!cp $SAVE_DF ./drive/My\\ Drive/ColabOutput/."
      ],
      "execution_count": 0,
      "outputs": []
    },
    {
      "cell_type": "markdown",
      "metadata": {
        "colab_type": "text",
        "id": "ol5sSN8jHSDQ"
      },
      "source": [
        "#### Prediction Time Performance"
      ]
    },
    {
      "cell_type": "code",
      "metadata": {
        "colab_type": "code",
        "id": "uFjYhyM6HSDR",
        "outputId": "05ce839d-4106-4c09-8496-7b38975f38f3",
        "colab": {
          "base_uri": "https://localhost:8080/",
          "height": 34
        }
      },
      "source": [
        "testdf = pd.DataFrame()\n",
        "if recnum < 2000:\n",
        "    samplenum = int(recnum / 10)\n",
        "else:\n",
        "    samplenum = 2000\n",
        "\n",
        "for f in smalllist:\n",
        "    tempdf = pd.read_pickle(f)\n",
        "    testdf = megadf.append(tempdf, ignore_index = True, sort = False)\n",
        "testdf = testdf.sample(samplenum, random_state=int(time.time()%100000))\n",
        "predata = testdf[\"embedding\"]\n",
        "data = np.matrix(predata.to_list())\n",
        "print(data.shape)"
      ],
      "execution_count": 0,
      "outputs": [
        {
          "output_type": "stream",
          "text": [
            "(2000, 250)\n"
          ],
          "name": "stdout"
        }
      ]
    },
    {
      "cell_type": "code",
      "metadata": {
        "colab_type": "code",
        "id": "e6-rI414HSDX",
        "outputId": "d0f7bc5a-1fc3-4167-8d89-0b9d43711464",
        "colab": {
          "base_uri": "https://localhost:8080/",
          "height": 52
        }
      },
      "source": [
        "print(\"Starting Predicting Performance\")\n",
        "testmodel = model\n",
        "start_time = time.time()\n",
        "for d in data:\n",
        "    lb = testmodel.predict(d)\n",
        "end_time = time.time()\n",
        "timetest = end_time-start_time\n",
        "avgtime = timetest/data.shape[0]\n",
        "print(\"Avgtime: {} Totaltime: {}\".format(avgtime, timetest))\n",
        "metadict[\"T2Pavg\"]=avgtime"
      ],
      "execution_count": 0,
      "outputs": [
        {
          "output_type": "stream",
          "text": [
            "Starting Predicting Performance\n",
            "Avgtime: 0.0008862920999526977 Totaltime: 1.7725841999053955\n"
          ],
          "name": "stdout"
        }
      ]
    },
    {
      "cell_type": "code",
      "metadata": {
        "colab_type": "code",
        "id": "duyLISHCHSDd",
        "outputId": "d0a57900-ff2b-4920-b077-8fc43eb1a838",
        "scrolled": true,
        "colab": {
          "base_uri": "https://localhost:8080/",
          "height": 69
        }
      },
      "source": [
        "print(\"Starting Loading Performance\")\n",
        "loadruns = 50\n",
        "start_time = time.time()\n",
        "for i in range(loadruns):\n",
        "    testmodel = pickle.load(open(modelDir + modelname, 'rb'))\n",
        "end_time = time.time()\n",
        "timetest = end_time-start_time\n",
        "avgtime = timetest/loadruns\n",
        "print(\"Avgtime: {} Totaltime: {}\".format(avgtime, timetest))\n",
        "metadict[\"T2LM\"] = avgtime\n",
        "avgtime"
      ],
      "execution_count": 0,
      "outputs": [
        {
          "output_type": "stream",
          "text": [
            "Starting Loading Performance\n",
            "Avgtime: 0.0005409288406372071 Totaltime: 0.02704644203186035\n"
          ],
          "name": "stdout"
        },
        {
          "output_type": "execute_result",
          "data": {
            "text/plain": [
              "0.0005409288406372071"
            ]
          },
          "metadata": {
            "tags": []
          },
          "execution_count": 150
        }
      ]
    },
    {
      "cell_type": "code",
      "metadata": {
        "colab_type": "code",
        "id": "gkafA2sLHSDj",
        "outputId": "11b24c77-a175-49d4-d8f6-662cd3ec4f73",
        "scrolled": true,
        "colab": {
          "base_uri": "https://localhost:8080/",
          "height": 69
        }
      },
      "source": [
        "print(\"Starting Amortized Performance\")\n",
        "loadruns = 5\n",
        "avglist = []\n",
        "\n",
        "for i in range(loadruns):\n",
        "    start_time = time.time()\n",
        "    testmodel = pickle.load(open(modelDir + modelname, 'rb'))\n",
        "    for d in data:\n",
        "        lb = testmodel.predict(d)\n",
        "    end_time = time.time()\n",
        "    timetest = (end_time-start_time)/data.shape[0]\n",
        "    avglist.append(timetest)\n",
        "\n",
        "timetest = np.sum(avglist)\n",
        "avgtime = np.mean(avglist)\n",
        "print(\"Avgtime: {} Totaltime: {}\".format(avgtime, timetest))\n",
        "metadict[\"T2LMP\"] = avgtime\n",
        "avgtime"
      ],
      "execution_count": 0,
      "outputs": [
        {
          "output_type": "stream",
          "text": [
            "Starting Amortized Performance\n",
            "Avgtime: 0.0008832240819931029 Totaltime: 0.004416120409965515\n"
          ],
          "name": "stdout"
        },
        {
          "output_type": "execute_result",
          "data": {
            "text/plain": [
              "0.0008832240819931029"
            ]
          },
          "metadata": {
            "tags": []
          },
          "execution_count": 151
        }
      ]
    },
    {
      "cell_type": "code",
      "metadata": {
        "colab_type": "code",
        "id": "hg9Mx3N7HSDp",
        "outputId": "e73c3015-f5a0-446c-ef6a-8cc3bc42511a",
        "colab": {
          "base_uri": "https://localhost:8080/",
          "height": 34
        }
      },
      "source": [
        "modelsize = sys.getsizeof(pickle.dumps(model))\n",
        "print(\"modelsize:\", modelsize, \"bytes\")\n",
        "metadict[\"MEM\"]=modelsize"
      ],
      "execution_count": 0,
      "outputs": [
        {
          "output_type": "stream",
          "text": [
            "modelsize: 820749 bytes\n"
          ],
          "name": "stdout"
        }
      ]
    },
    {
      "cell_type": "code",
      "metadata": {
        "colab_type": "code",
        "id": "7L-s3BcCHSDu",
        "outputId": "e8b658c3-dcde-4a5c-a7d6-ceb3d6f135a4",
        "scrolled": true,
        "colab": {
          "base_uri": "https://localhost:8080/",
          "height": 312
        }
      },
      "source": [
        "metadict"
      ],
      "execution_count": 0,
      "outputs": [
        {
          "output_type": "execute_result",
          "data": {
            "text/plain": [
              "{'Algo': 'KMEANS',\n",
              " 'CSavg': 85.71428571428571,\n",
              " 'CSmax': 764,\n",
              " 'CSmin': 4,\n",
              " 'DBS': 3.5175272383194045,\n",
              " 'F': 250,\n",
              " 'K': 350,\n",
              " 'MEM': 820749,\n",
              " 'Name': 'KMEANS_glove_pmeans5_K350_R30000_F250',\n",
              " 'R': 30000,\n",
              " 'SS': 0.06316511641150116,\n",
              " 'SentEmb': 'pmeans5',\n",
              " 'T2LM': 0.0005409288406372071,\n",
              " 'T2LMP': 0.0008832240819931029,\n",
              " 'T2Pavg': 0.0008862920999526977,\n",
              " 'T2T': 862.78,\n",
              " 'WordEmb': 'glove'}"
            ]
          },
          "metadata": {
            "tags": []
          },
          "execution_count": 153
        }
      ]
    },
    {
      "cell_type": "code",
      "metadata": {
        "colab_type": "code",
        "id": "tI_nWMgoHSD2",
        "outputId": "225c6eee-a7a0-442f-8a4f-c0a720ee1288",
        "colab": {
          "base_uri": "https://localhost:8080/",
          "height": 101
        }
      },
      "source": [
        "metadata = metadata.append(metadict, ignore_index=True)\n",
        "metadata"
      ],
      "execution_count": 0,
      "outputs": [
        {
          "output_type": "execute_result",
          "data": {
            "text/html": [
              "<div>\n",
              "<style scoped>\n",
              "    .dataframe tbody tr th:only-of-type {\n",
              "        vertical-align: middle;\n",
              "    }\n",
              "\n",
              "    .dataframe tbody tr th {\n",
              "        vertical-align: top;\n",
              "    }\n",
              "\n",
              "    .dataframe thead th {\n",
              "        text-align: right;\n",
              "    }\n",
              "</style>\n",
              "<table border=\"1\" class=\"dataframe\">\n",
              "  <thead>\n",
              "    <tr style=\"text-align: right;\">\n",
              "      <th></th>\n",
              "      <th>Name</th>\n",
              "      <th>Algo</th>\n",
              "      <th>WordEmb</th>\n",
              "      <th>SentEmb</th>\n",
              "      <th>K</th>\n",
              "      <th>R</th>\n",
              "      <th>F</th>\n",
              "      <th>SS</th>\n",
              "      <th>CSavg</th>\n",
              "      <th>CSmin</th>\n",
              "      <th>CSmax</th>\n",
              "      <th>T2Pavg</th>\n",
              "      <th>T2LM</th>\n",
              "      <th>T2LMP</th>\n",
              "      <th>MEM</th>\n",
              "      <th>DBS</th>\n",
              "      <th>T2T</th>\n",
              "    </tr>\n",
              "  </thead>\n",
              "  <tbody>\n",
              "    <tr>\n",
              "      <th>0</th>\n",
              "      <td>KMEANS_glove_pmeans5_K350_R30000_F250</td>\n",
              "      <td>KMEANS</td>\n",
              "      <td>glove</td>\n",
              "      <td>pmeans5</td>\n",
              "      <td>350</td>\n",
              "      <td>30000</td>\n",
              "      <td>250</td>\n",
              "      <td>0.063165</td>\n",
              "      <td>85.714286</td>\n",
              "      <td>4</td>\n",
              "      <td>764</td>\n",
              "      <td>0.000886</td>\n",
              "      <td>0.000541</td>\n",
              "      <td>0.000883</td>\n",
              "      <td>820749</td>\n",
              "      <td>3.517527</td>\n",
              "      <td>862.78</td>\n",
              "    </tr>\n",
              "  </tbody>\n",
              "</table>\n",
              "</div>"
            ],
            "text/plain": [
              "                                    Name    Algo  ...       DBS     T2T\n",
              "0  KMEANS_glove_pmeans5_K350_R30000_F250  KMEANS  ...  3.517527  862.78\n",
              "\n",
              "[1 rows x 17 columns]"
            ]
          },
          "metadata": {
            "tags": []
          },
          "execution_count": 154
        }
      ]
    },
    {
      "cell_type": "code",
      "metadata": {
        "colab_type": "code",
        "id": "QfBTFZ87HSD7",
        "colab": {}
      },
      "source": [
        "metadataname = \"{}_metadata.pkl\".format(name)\n",
        "metadata.to_pickle(metadataDir + metadataname)\n",
        "os.environ[\"SAVE_DF\"] = metadataDir + metadataname\n",
        "!cp $SAVE_DF ./drive/My\\ Drive/ColabOutput/."
      ],
      "execution_count": 0,
      "outputs": []
    },
    {
      "cell_type": "code",
      "metadata": {
        "colab_type": "code",
        "id": "Grnv1DBQHSEB",
        "outputId": "98bfe205-bcbc-4e3f-f8f7-cbff6e4bc95d",
        "colab": {
          "base_uri": "https://localhost:8080/",
          "height": 52
        }
      },
      "source": [
        "print(\"All Done!\\nCheck ColabOutput!\")"
      ],
      "execution_count": 0,
      "outputs": [
        {
          "output_type": "stream",
          "text": [
            "All Done!\n",
            "Check ColabOutput!\n"
          ],
          "name": "stdout"
        }
      ]
    },
    {
      "cell_type": "code",
      "metadata": {
        "id": "yUwdTtZcM-Qn",
        "colab_type": "code",
        "colab": {}
      },
      "source": [
        ""
      ],
      "execution_count": 0,
      "outputs": []
    }
  ]
}
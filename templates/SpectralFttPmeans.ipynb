{
  "nbformat": 4,
  "nbformat_minor": 0,
  "metadata": {
    "colab": {
      "name": "BaseTemplate.ipynb",
      "provenance": [],
      "collapsed_sections": []
    },
    "file_extension": ".py",
    "kernelspec": {
      "display_name": "Python 3.7.4 64-bit ('base': conda)",
      "language": "python",
      "name": "python37464bitbasecondaccb10e44a6224ec5a8090d4d6e72e602"
    },
    "language_info": {
      "codemirror_mode": {
        "name": "ipython",
        "version": 3
      },
      "file_extension": ".py",
      "mimetype": "text/x-python",
      "name": "python",
      "nbconvert_exporter": "python",
      "pygments_lexer": "ipython3",
      "version": "3.7.4"
    },
    "mimetype": "text/x-python",
    "name": "python",
    "npconvert_exporter": "python",
    "pygments_lexer": "ipython3",
    "version": 3
  },
  "cells": [
    {
      "cell_type": "code",
      "metadata": {
        "id": "6dDK9BtZ7aqn",
        "colab_type": "code",
        "outputId": "1997ba8b-1b3d-4e5c-a2da-3dfc411ee378",
        "colab": {
          "base_uri": "https://localhost:8080/",
          "height": 454
        }
      },
      "source": [
        "import subprocess\n",
        "print((subprocess.check_output(\"lscpu\", shell=True).strip()).decode())"
      ],
      "execution_count": 67,
      "outputs": [
        {
          "output_type": "stream",
          "text": [
            "Architecture:        x86_64\n",
            "CPU op-mode(s):      32-bit, 64-bit\n",
            "Byte Order:          Little Endian\n",
            "CPU(s):              2\n",
            "On-line CPU(s) list: 0,1\n",
            "Thread(s) per core:  2\n",
            "Core(s) per socket:  1\n",
            "Socket(s):           1\n",
            "NUMA node(s):        1\n",
            "Vendor ID:           GenuineIntel\n",
            "CPU family:          6\n",
            "Model:               63\n",
            "Model name:          Intel(R) Xeon(R) CPU @ 2.30GHz\n",
            "Stepping:            0\n",
            "CPU MHz:             2300.000\n",
            "BogoMIPS:            4600.00\n",
            "Hypervisor vendor:   KVM\n",
            "Virtualization type: full\n",
            "L1d cache:           32K\n",
            "L1i cache:           32K\n",
            "L2 cache:            256K\n",
            "L3 cache:            46080K\n",
            "NUMA node0 CPU(s):   0,1\n",
            "Flags:               fpu vme de pse tsc msr pae mce cx8 apic sep mtrr pge mca cmov pat pse36 clflush mmx fxsr sse sse2 ss ht syscall nx pdpe1gb rdtscp lm constant_tsc rep_good nopl xtopology nonstop_tsc cpuid tsc_known_freq pni pclmulqdq ssse3 fma cx16 pcid sse4_1 sse4_2 x2apic movbe popcnt aes xsave avx f16c rdrand hypervisor lahf_lm abm invpcid_single ssbd ibrs ibpb stibp fsgsbase tsc_adjust bmi1 avx2 smep bmi2 erms invpcid xsaveopt arat md_clear arch_capabilities\n"
          ],
          "name": "stdout"
        }
      ]
    },
    {
      "cell_type": "code",
      "metadata": {
        "id": "UmzP0_ie7e2q",
        "colab_type": "code",
        "outputId": "f4e31e4a-6901-4e67-9604-55b9258d8253",
        "colab": {
          "base_uri": "https://localhost:8080/",
          "height": 156
        }
      },
      "source": [
        "!git clone https://github.com/DevashishX/AbstractClustering.git; "
      ],
      "execution_count": 2,
      "outputs": [
        {
          "output_type": "stream",
          "text": [
            "Cloning into 'AbstractClustering'...\n",
            "remote: Enumerating objects: 76, done.\u001b[K\n",
            "remote: Counting objects:   1% (1/76)\u001b[K\rremote: Counting objects:   2% (2/76)\u001b[K\rremote: Counting objects:   3% (3/76)\u001b[K\rremote: Counting objects:   5% (4/76)\u001b[K\rremote: Counting objects:   6% (5/76)\u001b[K\rremote: Counting objects:   7% (6/76)\u001b[K\rremote: Counting objects:   9% (7/76)\u001b[K\rremote: Counting objects:  10% (8/76)\u001b[K\rremote: Counting objects:  11% (9/76)\u001b[K\rremote: Counting objects:  13% (10/76)\u001b[K\rremote: Counting objects:  14% (11/76)\u001b[K\rremote: Counting objects:  15% (12/76)\u001b[K\rremote: Counting objects:  17% (13/76)\u001b[K\rremote: Counting objects:  18% (14/76)\u001b[K\rremote: Counting objects:  19% (15/76)\u001b[K\rremote: Counting objects:  21% (16/76)\u001b[K\rremote: Counting objects:  22% (17/76)\u001b[K\rremote: Counting objects:  23% (18/76)\u001b[K\rremote: Counting objects:  25% (19/76)\u001b[K\rremote: Counting objects:  26% (20/76)\u001b[K\rremote: Counting objects:  27% (21/76)\u001b[K\rremote: Counting objects:  28% (22/76)\u001b[K\rremote: Counting objects:  30% (23/76)\u001b[K\rremote: Counting objects:  31% (24/76)\u001b[K\rremote: Counting objects:  32% (25/76)\u001b[K\rremote: Counting objects:  34% (26/76)\u001b[K\rremote: Counting objects:  35% (27/76)\u001b[K\rremote: Counting objects:  36% (28/76)\u001b[K\rremote: Counting objects:  38% (29/76)\u001b[K\rremote: Counting objects:  39% (30/76)\u001b[K\rremote: Counting objects:  40% (31/76)\u001b[K\rremote: Counting objects:  42% (32/76)\u001b[K\rremote: Counting objects:  43% (33/76)\u001b[K\rremote: Counting objects:  44% (34/76)\u001b[K\rremote: Counting objects:  46% (35/76)\u001b[K\rremote: Counting objects:  47% (36/76)\u001b[K\rremote: Counting objects:  48% (37/76)\u001b[K\rremote: Counting objects:  50% (38/76)\u001b[K\rremote: Counting objects:  51% (39/76)\u001b[K\rremote: Counting objects:  52% (40/76)\u001b[K\rremote: Counting objects:  53% (41/76)\u001b[K\rremote: Counting objects:  55% (42/76)\u001b[K\rremote: Counting objects:  56% (43/76)\u001b[K\rremote: Counting objects:  57% (44/76)\u001b[K\rremote: Counting objects:  59% (45/76)\u001b[K\rremote: Counting objects:  60% (46/76)\u001b[K\rremote: Counting objects:  61% (47/76)\u001b[K\rremote: Counting objects:  63% (48/76)\u001b[K\rremote: Counting objects:  64% (49/76)\u001b[K\rremote: Counting objects:  65% (50/76)\u001b[K\rremote: Counting objects:  67% (51/76)\u001b[K\rremote: Counting objects:  68% (52/76)\u001b[K\rremote: Counting objects:  69% (53/76)\u001b[K\rremote: Counting objects:  71% (54/76)\u001b[K\rremote: Counting objects:  72% (55/76)\u001b[K\rremote: Counting objects:  73% (56/76)\u001b[K\rremote: Counting objects:  75% (57/76)\u001b[K\rremote: Counting objects:  76% (58/76)\u001b[K\rremote: Counting objects:  77% (59/76)\u001b[K\rremote: Counting objects:  78% (60/76)\u001b[K\rremote: Counting objects:  80% (61/76)\u001b[K\rremote: Counting objects:  81% (62/76)\u001b[K\rremote: Counting objects:  82% (63/76)\u001b[K\rremote: Counting objects:  84% (64/76)\u001b[K\rremote: Counting objects:  85% (65/76)\u001b[K\rremote: Counting objects:  86% (66/76)\u001b[K\rremote: Counting objects:  88% (67/76)\u001b[K\rremote: Counting objects:  89% (68/76)\u001b[K\rremote: Counting objects:  90% (69/76)\u001b[K\rremote: Counting objects:  92% (70/76)\u001b[K\rremote: Counting objects:  93% (71/76)\u001b[K\rremote: Counting objects:  94% (72/76)\u001b[K\rremote: Counting objects:  96% (73/76)\u001b[K\rremote: Counting objects:  97% (74/76)\u001b[K\rremote: Counting objects:  98% (75/76)\u001b[K\rremote: Counting objects: 100% (76/76)\u001b[K\rremote: Counting objects: 100% (76/76), done.\u001b[K\n",
            "remote: Compressing objects: 100% (67/67), done.\u001b[K\n",
            "remote: Total 624 (delta 38), reused 42 (delta 9), pack-reused 548\u001b[K\n",
            "Receiving objects: 100% (624/624), 669.96 MiB | 30.63 MiB/s, done.\n",
            "Resolving deltas: 100% (292/292), done.\n",
            "Checking out files: 100% (368/368), done.\n"
          ],
          "name": "stdout"
        }
      ]
    },
    {
      "cell_type": "code",
      "metadata": {
        "id": "rir7i4_T7jvF",
        "colab_type": "code",
        "outputId": "d5f4ec70-2d45-4ece-8d42-36e9dc60a7aa",
        "colab": {
          "base_uri": "https://localhost:8080/",
          "height": 885
        }
      },
      "source": [
        "!cp -r AbstractClustering/* ./.\n",
        "!ls -alFh"
      ],
      "execution_count": 3,
      "outputs": [
        {
          "output_type": "stream",
          "text": [
            "total 140M\n",
            "drwxr-xr-x  1 root root 4.0K Apr 17 08:11  ./\n",
            "drwxr-xr-x  1 root root 4.0K Apr 17 08:07  ../\n",
            "drwxr-xr-x 15 root root 4.0K Apr 17 08:10  AbstractClustering/\n",
            "-rw-r--r--  1 root root  55K Apr 17 08:11  BaseTemplate.ipynb\n",
            "-rw-r--r--  1 root root  39M Apr 17 08:11  cleaned.7z\n",
            "-rw-r--r--  1 root root  26K Apr 17 08:11  ClusterKEuclid.ipynb\n",
            "-rw-r--r--  1 root root  60K Apr 17 08:11  ColabTemplate.ipynb\n",
            "drwxr-xr-x  1 root root 4.0K Apr 15 16:10  .config/\n",
            "-rw-r--r--  1 root root 3.7K Apr 17 08:11  convert_repository_json.py\n",
            "drwxr-xr-x  2 root root 4.0K Apr 17 08:11  CORE_files/\n",
            "-rw-r--r--  1 root root  33K Apr 17 08:11  CORE.html\n",
            "-rw-r--r--  1 root root  54K Apr 17 08:11  CreateSentenceEmbedding.ipynb\n",
            "drwxr-xr-x  2 root root 4.0K Apr 17 08:11  dataset/\n",
            "-rw-r--r--  1 root root  93K Apr 17 08:11  Devashish_word2vec_cluster.ipynb\n",
            "-rw-r--r--  1 root root 3.9M Apr 17 08:11  downloaded_sample_500.pkl\n",
            "-rw-r--r--  1 root root  27K Apr 17 08:11  example_tags.txt\n",
            "drwxr-xr-x  3 root root 4.0K Apr 17 08:11 'final app'/\n",
            "-rw-r--r--  1 root root 184K Apr 17 08:11  FindKTemplateClusterKEuclid.ipynb\n",
            "-rw-r--r--  1 root root  37K Apr 17 08:11  h_cluster.ipynb\n",
            "-rw-r--r--  1 root root    0 Apr 17 08:11  __init__.py\n",
            "-rw-r--r--  1 root root 912K Apr 17 08:11  Keras-DEC.ipynb\n",
            "-rw-r--r--  1 root root 1.1K Apr 17 08:11  LICENSE\n",
            "drwxr-xr-x  2 root root 4.0K Apr 17 08:11  MegaDfs/\n",
            "drwxr-xr-x  2 root root  12K Apr 17 08:11  MegaSentEmbs/\n",
            "drwxr-xr-x  2 root root 4.0K Apr 17 08:11  modelMetaData/\n",
            "drwxr-xr-x  2 root root 4.0K Apr 17 08:11  models/\n",
            "drwxr-xr-x  2 root root 4.0K Apr 17 08:11  OptimalK/\n",
            "drwxr-xr-x  2 root root 4.0K Apr 17 08:11  output/\n",
            "-rw-r--r--  1 root root  56M Apr 17 08:11  papers.7z\n",
            "-rw-r--r--  1 root root 1.3K Apr 17 08:11  papersqlite.py\n",
            "-rw-r--r--  1 root root  12K Apr 17 08:11  PickleViewer.ipynb\n",
            "drwxr-xr-x  2 root root  12K Apr 17 08:11  PklCleaned/\n",
            "-rw-r--r--  1 root root  39M Apr 17 08:11  PklCleaned.7z\n",
            "-rw-r--r--  1 root root  61K Apr 17 08:11  plot_dbscan.ipynb\n",
            "drwxr-xr-x  2 root root 4.0K Apr 17 08:11  plots/\n",
            "-rw-r--r--  1 root root 1.4K Apr 17 08:11  preprocessing.py\n",
            "-rw-r--r--  1 root root   31 Apr 17 08:11  README.md\n",
            "drwxr-xr-x  1 root root 4.0K Apr  3 16:24  sample_data/\n",
            "-rw-r--r--  1 root root 831K Apr 17 08:11  sample.html\n",
            "-rw-r--r--  1 root root  360 Apr 17 08:11  scripts.sh\n",
            "-rw-r--r--  1 root root 1.1K Apr 17 08:11  sentence_embedding.py\n",
            "-rw-r--r--  1 root root  22K Apr 17 08:11  splitembs.ipynb\n",
            "-rw-r--r--  1 root root  59K Apr 17 08:11  TemplateClusterKEuclid.ipynb\n",
            "drwxr-xr-x  2 root root 4.0K Apr 17 08:11  templates/\n",
            "-rw-r--r--  1 root root    0 Apr 17 08:11  test.txt\n",
            "-rw-r--r--  1 root root  51K Apr 17 08:11  Untitled.ipynb\n",
            "-rw-r--r--  1 root root  38K Apr 17 08:11  word2vec_cluster.ipynb\n",
            "-rw-r--r--  1 root root  11K Apr 17 08:11  word2vectest.ipynb\n",
            "-rw-r--r--  1 root root 2.0K Apr 17 08:11  word_embedding.py\n"
          ],
          "name": "stdout"
        }
      ]
    },
    {
      "cell_type": "code",
      "metadata": {
        "id": "8L-wCdVw7v4f",
        "colab_type": "code",
        "outputId": "e735116a-102f-4341-b31a-dd7643f7a968",
        "colab": {
          "base_uri": "https://localhost:8080/",
          "height": 52
        }
      },
      "source": [
        "from google.colab import drive # import drive from google colab\n",
        "\n",
        "ROOT = \"/content/drive\"     # default location for the drive\n",
        "print(ROOT)                 # print content of ROOT (Optional)\n",
        "\n",
        "drive.mount(ROOT)"
      ],
      "execution_count": 68,
      "outputs": [
        {
          "output_type": "stream",
          "text": [
            "/content/drive\n",
            "Drive already mounted at /content/drive; to attempt to forcibly remount, call drive.mount(\"/content/drive\", force_remount=True).\n"
          ],
          "name": "stdout"
        }
      ]
    },
    {
      "cell_type": "code",
      "metadata": {
        "id": "XA7MYB5Z7_oO",
        "colab_type": "code",
        "outputId": "6edf8f3c-a680-4153-b81e-019a645b9016",
        "colab": {
          "base_uri": "https://localhost:8080/",
          "height": 399
        }
      },
      "source": [
        "%ls"
      ],
      "execution_count": 69,
      "outputs": [
        {
          "output_type": "stream",
          "text": [
            " BaseTemplate.ipynb                  \u001b[0m\u001b[01;34mOptimalK\u001b[0m/\n",
            " cleaned.7z                          \u001b[01;34moutput\u001b[0m/\n",
            " ClusterKEuclid.ipynb                papers.7z\n",
            " ColabTemplate.ipynb                 papersqlite.py\n",
            " convert_repository_json.py          PickleViewer.ipynb\n",
            " \u001b[01;34mCORE_files\u001b[0m/                         \u001b[01;34mPklCleaned\u001b[0m/\n",
            " CORE.html                           PklCleaned.7z\n",
            " CreateSentenceEmbedding.ipynb       plot_dbscan.ipynb\n",
            " \u001b[01;34mdataset\u001b[0m/                            \u001b[01;34mplots\u001b[0m/\n",
            " Devashish_word2vec_cluster.ipynb    preprocessing.py\n",
            " downloaded_sample_500.pkl           README.md\n",
            " example_tags.txt                    sample.html\n",
            "\u001b[01;34m'final app'\u001b[0m/                         scripts.sh\n",
            " FindKTemplateClusterKEuclid.ipynb   sentence_embedding.py\n",
            " h_cluster.ipynb                     splitembs.ipynb\n",
            " __init__.py                         TemplateClusterKEuclid.ipynb\n",
            " Keras-DEC.ipynb                     \u001b[01;34mtemplates\u001b[0m/\n",
            " LICENSE                             test.txt\n",
            " \u001b[01;34mMegaDfs\u001b[0m/                            Untitled.ipynb\n",
            " \u001b[01;34mMegaSentEmbs\u001b[0m/                       word2vec_cluster.ipynb\n",
            " \u001b[01;34mmodelMetaData\u001b[0m/                      word2vectest.ipynb\n",
            " \u001b[01;34mmodels\u001b[0m/                             word_embedding.py\n"
          ],
          "name": "stdout"
        }
      ]
    },
    {
      "cell_type": "code",
      "metadata": {
        "id": "wO9H5iGgMniF",
        "colab_type": "code",
        "colab": {}
      },
      "source": [
        "%cp -r drive/My\\ Drive/abstract-clustering/MegaSentEmbs MegaSentEmbs/"
      ],
      "execution_count": 0,
      "outputs": []
    },
    {
      "cell_type": "code",
      "metadata": {
        "id": "rSVMGkHZ-n6a",
        "colab_type": "code",
        "outputId": "9ab7dbce-cc20-45e9-cd7f-12539aa5b411",
        "colab": {
          "base_uri": "https://localhost:8080/",
          "height": 34
        }
      },
      "source": [
        "cd AbstractClustering/"
      ],
      "execution_count": 26,
      "outputs": [
        {
          "output_type": "stream",
          "text": [
            "/content/AbstractClustering\n"
          ],
          "name": "stdout"
        }
      ]
    },
    {
      "cell_type": "markdown",
      "metadata": {
        "colab_type": "text",
        "id": "n6yRKl7Nx8NV"
      },
      "source": [
        "# ***Set parameters***"
      ]
    },
    {
      "cell_type": "code",
      "metadata": {
        "colab_type": "code",
        "id": "RLla__P2wqVL",
        "colab": {}
      },
      "source": [
        "__algo__ = \"SPECTRAL\"               #Name of the Clustering algorithm\n",
        "__emb__ = \"ftt\"                 #Name of the Word Embeddings used (glove, w2v, ftt), MUST set directory below\n",
        "__sentemb__ = \"pmeans5\"           #Name of Sentence Embedding algorithm used\n",
        "recnum = 3000                     #Number of records to be read from files\n",
        "k = 50                            #Number of Clusters\n",
        "usesqrt = False                   #Set value of k to sqrt of recnum, overrides k\n",
        "randomsample = False              #Random Sampling to be True/False for records which are read\n",
        "embedDir = \"../MegaSentEmbs/MegaSentEmbs/\"     #Directory where embeddings are saved for that selected embedding\n",
        "modelDir = \"../models/\"           #Directory where models are saved\n",
        "megadfDir = \"../MegaDfs/\"         #Directory Where Megadf is to be saved\n",
        "plotDir = \"../plots/\"             #Directory where plots are saved\n",
        "metadataDir = \"../modelMetaData/\" #Directory where performance and distribution params are to be stored\n",
        "dumpDir = \"../dump/\"              #Directory where test outcomes are saved"
      ],
      "execution_count": 0,
      "outputs": []
    },
    {
      "cell_type": "markdown",
      "metadata": {
        "colab_type": "text",
        "id": "LGy8jsWQx0nS"
      },
      "source": [
        "# Actual Code"
      ]
    },
    {
      "cell_type": "markdown",
      "metadata": {
        "colab_type": "text",
        "id": "II0jpbbTzD8M"
      },
      "source": [
        "### imports and time"
      ]
    },
    {
      "cell_type": "code",
      "metadata": {
        "colab_type": "code",
        "id": "wkS4KGOphHK4",
        "colab": {}
      },
      "source": [
        "import numpy as np\n",
        "import matplotlib.pyplot as plt\n",
        "import pandas as pd\n",
        "from sklearn import cluster, datasets\n",
        "from sklearn.metrics import silhouette_score, davies_bouldin_score\n",
        "import seaborn as sns\n",
        "import os, subprocess, sys\n",
        "import datetime, time\n",
        "import pickle"
      ],
      "execution_count": 0,
      "outputs": []
    },
    {
      "cell_type": "markdown",
      "metadata": {
        "colab_type": "text",
        "id": "X2T_-VrUzBVt"
      },
      "source": [
        "### File Settings"
      ]
    },
    {
      "cell_type": "code",
      "metadata": {
        "colab_type": "code",
        "id": "fAi1m08zhHLn",
        "outputId": "d6a20c5f-ad0f-4dfc-bb9e-d27c5f793f75",
        "colab": {
          "base_uri": "https://localhost:8080/",
          "height": 34
        }
      },
      "source": [
        "oldlist = os.listdir(embedDir)\n",
        "filelist = sorted([embedDir+f for f in oldlist if f[-3:]==\"pkl\"])\n",
        "filenum = len(filelist)\n",
        "smalllist = filelist[:filenum]\n",
        "print(\"Length of Smalllist: \", len(smalllist))"
      ],
      "execution_count": 72,
      "outputs": [
        {
          "output_type": "stream",
          "text": [
            "Length of Smalllist:  123\n"
          ],
          "name": "stdout"
        }
      ]
    },
    {
      "cell_type": "markdown",
      "metadata": {
        "colab_type": "text",
        "id": "Verw6R-QVK24"
      },
      "source": [
        "### Number of Records\n",
        "It is Recommended to Set this at the top parameters"
      ]
    },
    {
      "cell_type": "code",
      "metadata": {
        "colab_type": "code",
        "id": "1KLrsnyYVN0R",
        "colab": {}
      },
      "source": [
        "recnum = recnum"
      ],
      "execution_count": 0,
      "outputs": []
    },
    {
      "cell_type": "markdown",
      "metadata": {
        "colab_type": "text",
        "id": "fN1QgBS0hHL1"
      },
      "source": [
        "### Read all the pandas dataframes"
      ]
    },
    {
      "cell_type": "code",
      "metadata": {
        "colab_type": "code",
        "id": "opx4vfnfhHL4",
        "outputId": "ed28ec06-7361-4209-c0ba-f933868b96dc",
        "colab": {
          "base_uri": "https://localhost:8080/",
          "height": 86
        }
      },
      "source": [
        "%%time\n",
        "megadf = pd.DataFrame()\n",
        "\n",
        "if randomsample == True:\n",
        "    print(\"randomsample: \", randomsample)\n",
        "    for f in smalllist:\n",
        "        tempdf = pd.read_pickle(f)\n",
        "        megadf = megadf.append(tempdf, ignore_index = True)\n",
        "    megadf = megadf.sample(recnum, random_state=42)\n",
        "else:\n",
        "    print(\"randomsample: \", randomsample)\n",
        "    for f in smalllist:\n",
        "        tempdf = pd.read_pickle(f)\n",
        "        megadf = megadf.append(tempdf, ignore_index = True)\n",
        "        if megadf.shape[0] >= recnum:\n",
        "            megadf = megadf[:recnum]\n",
        "            break\n",
        "\n",
        "print(\"megadf.shape: \", megadf.shape)"
      ],
      "execution_count": 74,
      "outputs": [
        {
          "output_type": "stream",
          "text": [
            "randomsample:  False\n",
            "megadf.shape:  (3000, 3)\n",
            "CPU times: user 100 ms, sys: 38.1 ms, total: 138 ms\n",
            "Wall time: 219 ms\n"
          ],
          "name": "stdout"
        }
      ]
    },
    {
      "cell_type": "code",
      "metadata": {
        "colab_type": "code",
        "id": "AH7_54wfhHMH",
        "outputId": "98589b0b-a138-4ca3-9d73-efc8c3f36181",
        "colab": {
          "base_uri": "https://localhost:8080/",
          "height": 34
        }
      },
      "source": [
        "predata = megadf[\"embedding\"]\n",
        "data = np.matrix(predata.to_list())\n",
        "print(data.shape)"
      ],
      "execution_count": 75,
      "outputs": [
        {
          "output_type": "stream",
          "text": [
            "(3000, 1500)\n"
          ],
          "name": "stdout"
        }
      ]
    },
    {
      "cell_type": "markdown",
      "metadata": {
        "colab_type": "text",
        "id": "AHw4QXjahHMV"
      },
      "source": [
        "### Number of Clusters\n",
        "It is Recommended to Set this at the top parameters"
      ]
    },
    {
      "cell_type": "code",
      "metadata": {
        "colab_type": "code",
        "id": "NDTDoVfhhHMa",
        "outputId": "39941153-c952-42ce-9cef-2e97777516f5",
        "colab": {
          "base_uri": "https://localhost:8080/",
          "height": 52
        }
      },
      "source": [
        "if usesqrt == True:\n",
        "    print(\"usesqrt: \", usesqrt)\n",
        "    sqrt_k = int(np.sqrt(data.shape[0]))\n",
        "    k = int(sqrt_k)\n",
        "else:\n",
        "    print(\"usesqrt: \", usesqrt)\n",
        "    k = k\n",
        "print(\"k: \", k)"
      ],
      "execution_count": 76,
      "outputs": [
        {
          "output_type": "stream",
          "text": [
            "usesqrt:  False\n",
            "k:  50\n"
          ],
          "name": "stdout"
        }
      ]
    },
    {
      "cell_type": "markdown",
      "metadata": {
        "colab_type": "text",
        "id": "KGn8OXrj2CJQ"
      },
      "source": [
        "## Clustering\n",
        "Please modify the functions here to change algorithm"
      ]
    },
    {
      "cell_type": "code",
      "metadata": {
        "colab_type": "code",
        "id": "bQYesl8uhHMk",
        "outputId": "94486cd1-a912-4385-bdb7-d52c675464fc",
        "colab": {
          "base_uri": "https://localhost:8080/",
          "height": 104
        }
      },
      "source": [
        "%%time\n",
        "print(\"Starting Clustering Process\")\n",
        "start_time = time.time()\n",
        "model = cluster.SpectralClustering(n_clusters=k, eigen_solver=\"arpack\", random_state=42, affinity='nearest_neighbors', n_neighbors=10,  n_init = 20, n_jobs=-1)\n",
        "model.fit(data)\n",
        "end_time = time.time()\n",
        "timetrain = round(end_time-start_time, 2)\n",
        "print(\"done! {}\".format(timetrain))\n",
        "print(\"k_means.fit(data) Done!\")"
      ],
      "execution_count": 77,
      "outputs": [
        {
          "output_type": "stream",
          "text": [
            "Starting Clustering Process\n",
            "done! 23.65\n",
            "k_means.fit(data) Done!\n",
            "CPU times: user 42.4 s, sys: 3.33 s, total: 45.7 s\n",
            "Wall time: 23.6 s\n"
          ],
          "name": "stdout"
        }
      ]
    },
    {
      "cell_type": "markdown",
      "metadata": {
        "colab_type": "text",
        "id": "CArLi48A6ABy"
      },
      "source": [
        "### Saving the output data into vars"
      ]
    },
    {
      "cell_type": "code",
      "metadata": {
        "colab_type": "code",
        "id": "QIfHjjLShHM8",
        "colab": {}
      },
      "source": [
        "affinity = model.affinity_matrix_\n",
        "labels = model.labels_\n",
        "megadf[\"clusterlabel\"]=labels\n",
        "affinityDF = pd.DataFrame(affinity)\n",
        "\n",
        "#   centroids = model.cluster_centers_\n",
        "#   labels = model.labels_\n",
        "#   megadf[\"clusterlabel\"]=labels\n",
        "#   centroidDF = pd.DataFrame(centroids)"
      ],
      "execution_count": 0,
      "outputs": []
    },
    {
      "cell_type": "markdown",
      "metadata": {
        "colab_type": "text",
        "id": "katJKlYX3DVA"
      },
      "source": [
        "## Plotting"
      ]
    },
    {
      "cell_type": "code",
      "metadata": {
        "colab_type": "code",
        "id": "5RdhXBYhhHNG",
        "outputId": "fb54ceed-b1a6-402a-f9e1-6aefa0b4b91e",
        "scrolled": true,
        "colab": {
          "base_uri": "https://localhost:8080/",
          "height": 987
        }
      },
      "source": [
        "plt.figure(figsize=(16,16))\n",
        "titlestring = \"{} with k={} records={} features={} using {}\".format(__algo__, k, data.shape[0], data.shape[1], __emb__)\n",
        "snsplot = sns.countplot(\"clusterlabel\", data=megadf)\n",
        "snsplot.xaxis.label.set_size(20)\n",
        "snsplot.yaxis.label.set_size(20)\n",
        "plt.title(\n",
        "        titlestring,\n",
        "        fontdict = {'fontsize' : 30}\n",
        "    )"
      ],
      "execution_count": 80,
      "outputs": [
        {
          "output_type": "execute_result",
          "data": {
            "text/plain": [
              "Text(0.5, 1.0, 'SPECTRAL with k=50 records=3000 features=1500 using ftt')"
            ]
          },
          "metadata": {
            "tags": []
          },
          "execution_count": 80
        },
        {
          "output_type": "display_data",
          "data": {
            "image/png": "[encoded data removed]",
            "text/plain": [
              "<Figure size 1152x1152 with 1 Axes>"
            ]
          },
          "metadata": {
            "tags": [],
            "needs_background": "light"
          }
        }
      ]
    },
    {
      "cell_type": "markdown",
      "metadata": {
        "id": "ydV_jDMc7Khd",
        "colab_type": "text"
      },
      "source": [
        "### *Name given to saved files*"
      ]
    },
    {
      "cell_type": "code",
      "metadata": {
        "scrolled": true,
        "id": "fbknS6Sm7Khg",
        "colab_type": "code",
        "outputId": "baa2fb60-5639-4110-8a62-7ba73c9a89ab",
        "colab": {
          "base_uri": "https://localhost:8080/",
          "height": 34
        }
      },
      "source": [
        "features = data.shape[1]\n",
        "records = data.shape[0]\n",
        "name = \"{}_{}_{}_K{}_R{}_F{}\".format(__algo__, __emb__, __sentemb__, k, records, features)\n",
        "name"
      ],
      "execution_count": 81,
      "outputs": [
        {
          "output_type": "execute_result",
          "data": {
            "text/plain": [
              "'SPECTRAL_ftt_pmeans5_K50_R3000_F1500'"
            ]
          },
          "metadata": {
            "tags": []
          },
          "execution_count": 81
        }
      ]
    },
    {
      "cell_type": "markdown",
      "metadata": {
        "colab_type": "text",
        "id": "Auz4Iqgh4Run"
      },
      "source": [
        "### Saving Data"
      ]
    },
    {
      "cell_type": "markdown",
      "metadata": {
        "id": "pkadiakK7Kht",
        "colab_type": "text"
      },
      "source": [
        "Save model"
      ]
    },
    {
      "cell_type": "code",
      "metadata": {
        "id": "y5O1sVm87Khu",
        "colab_type": "code",
        "colab": {}
      },
      "source": [
        "modelname = \"{}_model.pkl\".format(name)\n",
        "pickle.dump(model, open(modelDir + modelname, 'wb'))"
      ],
      "execution_count": 0,
      "outputs": []
    },
    {
      "cell_type": "markdown",
      "metadata": {
        "id": "OjJHKsr37Kh2",
        "colab_type": "text"
      },
      "source": [
        "Save Plot"
      ]
    },
    {
      "cell_type": "code",
      "metadata": {
        "colab_type": "code",
        "id": "l0RRWXwvQ9jz",
        "colab": {}
      },
      "source": [
        "snspltname = \"{}_plt.png\".format(name)\n",
        "snsplot.figure.savefig(plotDir + snspltname)"
      ],
      "execution_count": 0,
      "outputs": []
    },
    {
      "cell_type": "markdown",
      "metadata": {
        "id": "8jzCXaLM7KiE",
        "colab_type": "text"
      },
      "source": [
        "Save Megadf"
      ]
    },
    {
      "cell_type": "code",
      "metadata": {
        "colab_type": "code",
        "id": "ZLHiM-gclArn",
        "colab": {}
      },
      "source": [
        "clusterdfname = \"{}_clustered_megadf.pkl\".format(name)\n",
        "megadf.to_pickle(megadfDir + clusterdfname)"
      ],
      "execution_count": 0,
      "outputs": []
    },
    {
      "cell_type": "markdown",
      "metadata": {
        "id": "C-WtMrKq7KiM",
        "colab_type": "text"
      },
      "source": [
        "Save Affinity"
      ]
    },
    {
      "cell_type": "code",
      "metadata": {
        "colab_type": "code",
        "id": "N8MsneQ_vx4H",
        "outputId": "2fff6b03-c4ff-4c4c-c3a8-947816dd2a8a",
        "colab": {
          "base_uri": "https://localhost:8080/",
          "height": 52
        }
      },
      "source": [
        "affinityDF = pd.DataFrame(affinity)\n",
        "affinityDFname = \"{}_affinity.pkl\".format(name)\n",
        "affinityDF.to_pickle(megadfDir + affinityDFname)\n",
        "print(affinityDF.shape)\n",
        "print(affinityDF.columns)\n",
        "\n",
        "#   centroidDF = pd.DataFrame(centroids)\n",
        "#   centroidDFname = \"{}_centroids.pkl\".format(name)\n",
        "#   centroidDF.to_pickle(megadfDir + centroidDFname)\n",
        "#   print(centroidDF.shape)"
      ],
      "execution_count": 85,
      "outputs": [
        {
          "output_type": "stream",
          "text": [
            "(3000, 1)\n",
            "RangeIndex(start=0, stop=1, step=1)\n"
          ],
          "name": "stdout"
        }
      ]
    },
    {
      "cell_type": "markdown",
      "metadata": {
        "colab_type": "text",
        "id": "P0kYelyC5NqY"
      },
      "source": [
        "#### Open dataframe to test"
      ]
    },
    {
      "cell_type": "code",
      "metadata": {
        "colab_type": "code",
        "id": "VvsuuCMaQEj4",
        "outputId": "fa473bb9-7073-423a-98b0-17a41e6374c2",
        "scrolled": false,
        "colab": {
          "base_uri": "https://localhost:8080/",
          "height": 349
        }
      },
      "source": [
        "sub = megadf.loc[:, [\"id\", \"title\", \"abstract\", \"clusterlabel\"]]\n",
        "sub.tail()"
      ],
      "execution_count": 43,
      "outputs": [
        {
          "output_type": "error",
          "ename": "KeyError",
          "evalue": "ignored",
          "traceback": [
            "\u001b[0;31m---------------------------------------------------------------------------\u001b[0m",
            "\u001b[0;31mKeyError\u001b[0m                                  Traceback (most recent call last)",
            "\u001b[0;32m<ipython-input-43-dbbb43346404>\u001b[0m in \u001b[0;36m<module>\u001b[0;34m()\u001b[0m\n\u001b[0;32m----> 1\u001b[0;31m \u001b[0msub\u001b[0m \u001b[0;34m=\u001b[0m \u001b[0mmegadf\u001b[0m\u001b[0;34m.\u001b[0m\u001b[0mloc\u001b[0m\u001b[0;34m[\u001b[0m\u001b[0;34m:\u001b[0m\u001b[0;34m,\u001b[0m \u001b[0;34m[\u001b[0m\u001b[0;34m\"id\"\u001b[0m\u001b[0;34m,\u001b[0m \u001b[0;34m\"title\"\u001b[0m\u001b[0;34m,\u001b[0m \u001b[0;34m\"abstract\"\u001b[0m\u001b[0;34m,\u001b[0m \u001b[0;34m\"clusterlabel\"\u001b[0m\u001b[0;34m]\u001b[0m\u001b[0;34m]\u001b[0m\u001b[0;34m\u001b[0m\u001b[0;34m\u001b[0m\u001b[0m\n\u001b[0m\u001b[1;32m      2\u001b[0m \u001b[0msub\u001b[0m\u001b[0;34m.\u001b[0m\u001b[0mtail\u001b[0m\u001b[0;34m(\u001b[0m\u001b[0;34m)\u001b[0m\u001b[0;34m\u001b[0m\u001b[0;34m\u001b[0m\u001b[0m\n",
            "\u001b[0;32m/usr/local/lib/python3.6/dist-packages/pandas/core/indexing.py\u001b[0m in \u001b[0;36m__getitem__\u001b[0;34m(self, key)\u001b[0m\n\u001b[1;32m   1760\u001b[0m                 \u001b[0;32mexcept\u001b[0m \u001b[0;34m(\u001b[0m\u001b[0mKeyError\u001b[0m\u001b[0;34m,\u001b[0m \u001b[0mIndexError\u001b[0m\u001b[0;34m,\u001b[0m \u001b[0mAttributeError\u001b[0m\u001b[0;34m)\u001b[0m\u001b[0;34m:\u001b[0m\u001b[0;34m\u001b[0m\u001b[0;34m\u001b[0m\u001b[0m\n\u001b[1;32m   1761\u001b[0m                     \u001b[0;32mpass\u001b[0m\u001b[0;34m\u001b[0m\u001b[0;34m\u001b[0m\u001b[0m\n\u001b[0;32m-> 1762\u001b[0;31m             \u001b[0;32mreturn\u001b[0m \u001b[0mself\u001b[0m\u001b[0;34m.\u001b[0m\u001b[0m_getitem_tuple\u001b[0m\u001b[0;34m(\u001b[0m\u001b[0mkey\u001b[0m\u001b[0;34m)\u001b[0m\u001b[0;34m\u001b[0m\u001b[0;34m\u001b[0m\u001b[0m\n\u001b[0m\u001b[1;32m   1763\u001b[0m         \u001b[0;32melse\u001b[0m\u001b[0;34m:\u001b[0m\u001b[0;34m\u001b[0m\u001b[0;34m\u001b[0m\u001b[0m\n\u001b[1;32m   1764\u001b[0m             \u001b[0;31m# we by definition only have the 0th axis\u001b[0m\u001b[0;34m\u001b[0m\u001b[0;34m\u001b[0m\u001b[0;34m\u001b[0m\u001b[0m\n",
            "\u001b[0;32m/usr/local/lib/python3.6/dist-packages/pandas/core/indexing.py\u001b[0m in \u001b[0;36m_getitem_tuple\u001b[0;34m(self, tup)\u001b[0m\n\u001b[1;32m   1287\u001b[0m                 \u001b[0;32mcontinue\u001b[0m\u001b[0;34m\u001b[0m\u001b[0;34m\u001b[0m\u001b[0m\n\u001b[1;32m   1288\u001b[0m \u001b[0;34m\u001b[0m\u001b[0m\n\u001b[0;32m-> 1289\u001b[0;31m             \u001b[0mretval\u001b[0m \u001b[0;34m=\u001b[0m \u001b[0mgetattr\u001b[0m\u001b[0;34m(\u001b[0m\u001b[0mretval\u001b[0m\u001b[0;34m,\u001b[0m \u001b[0mself\u001b[0m\u001b[0;34m.\u001b[0m\u001b[0mname\u001b[0m\u001b[0;34m)\u001b[0m\u001b[0;34m.\u001b[0m\u001b[0m_getitem_axis\u001b[0m\u001b[0;34m(\u001b[0m\u001b[0mkey\u001b[0m\u001b[0;34m,\u001b[0m \u001b[0maxis\u001b[0m\u001b[0;34m=\u001b[0m\u001b[0mi\u001b[0m\u001b[0;34m)\u001b[0m\u001b[0;34m\u001b[0m\u001b[0;34m\u001b[0m\u001b[0m\n\u001b[0m\u001b[1;32m   1290\u001b[0m \u001b[0;34m\u001b[0m\u001b[0m\n\u001b[1;32m   1291\u001b[0m         \u001b[0;32mreturn\u001b[0m \u001b[0mretval\u001b[0m\u001b[0;34m\u001b[0m\u001b[0;34m\u001b[0m\u001b[0m\n",
            "\u001b[0;32m/usr/local/lib/python3.6/dist-packages/pandas/core/indexing.py\u001b[0m in \u001b[0;36m_getitem_axis\u001b[0;34m(self, key, axis)\u001b[0m\n\u001b[1;32m   1952\u001b[0m                     \u001b[0;32mraise\u001b[0m \u001b[0mValueError\u001b[0m\u001b[0;34m(\u001b[0m\u001b[0;34m\"Cannot index with multidimensional key\"\u001b[0m\u001b[0;34m)\u001b[0m\u001b[0;34m\u001b[0m\u001b[0;34m\u001b[0m\u001b[0m\n\u001b[1;32m   1953\u001b[0m \u001b[0;34m\u001b[0m\u001b[0m\n\u001b[0;32m-> 1954\u001b[0;31m                 \u001b[0;32mreturn\u001b[0m \u001b[0mself\u001b[0m\u001b[0;34m.\u001b[0m\u001b[0m_getitem_iterable\u001b[0m\u001b[0;34m(\u001b[0m\u001b[0mkey\u001b[0m\u001b[0;34m,\u001b[0m \u001b[0maxis\u001b[0m\u001b[0;34m=\u001b[0m\u001b[0maxis\u001b[0m\u001b[0;34m)\u001b[0m\u001b[0;34m\u001b[0m\u001b[0;34m\u001b[0m\u001b[0m\n\u001b[0m\u001b[1;32m   1955\u001b[0m \u001b[0;34m\u001b[0m\u001b[0m\n\u001b[1;32m   1956\u001b[0m             \u001b[0;31m# nested tuple slicing\u001b[0m\u001b[0;34m\u001b[0m\u001b[0;34m\u001b[0m\u001b[0;34m\u001b[0m\u001b[0m\n",
            "\u001b[0;32m/usr/local/lib/python3.6/dist-packages/pandas/core/indexing.py\u001b[0m in \u001b[0;36m_getitem_iterable\u001b[0;34m(self, key, axis)\u001b[0m\n\u001b[1;32m   1593\u001b[0m         \u001b[0;32melse\u001b[0m\u001b[0;34m:\u001b[0m\u001b[0;34m\u001b[0m\u001b[0;34m\u001b[0m\u001b[0m\n\u001b[1;32m   1594\u001b[0m             \u001b[0;31m# A collection of keys\u001b[0m\u001b[0;34m\u001b[0m\u001b[0;34m\u001b[0m\u001b[0;34m\u001b[0m\u001b[0m\n\u001b[0;32m-> 1595\u001b[0;31m             \u001b[0mkeyarr\u001b[0m\u001b[0;34m,\u001b[0m \u001b[0mindexer\u001b[0m \u001b[0;34m=\u001b[0m \u001b[0mself\u001b[0m\u001b[0;34m.\u001b[0m\u001b[0m_get_listlike_indexer\u001b[0m\u001b[0;34m(\u001b[0m\u001b[0mkey\u001b[0m\u001b[0;34m,\u001b[0m \u001b[0maxis\u001b[0m\u001b[0;34m,\u001b[0m \u001b[0mraise_missing\u001b[0m\u001b[0;34m=\u001b[0m\u001b[0;32mFalse\u001b[0m\u001b[0;34m)\u001b[0m\u001b[0;34m\u001b[0m\u001b[0;34m\u001b[0m\u001b[0m\n\u001b[0m\u001b[1;32m   1596\u001b[0m             return self.obj._reindex_with_indexers(\n\u001b[1;32m   1597\u001b[0m                 \u001b[0;34m{\u001b[0m\u001b[0maxis\u001b[0m\u001b[0;34m:\u001b[0m \u001b[0;34m[\u001b[0m\u001b[0mkeyarr\u001b[0m\u001b[0;34m,\u001b[0m \u001b[0mindexer\u001b[0m\u001b[0;34m]\u001b[0m\u001b[0;34m}\u001b[0m\u001b[0;34m,\u001b[0m \u001b[0mcopy\u001b[0m\u001b[0;34m=\u001b[0m\u001b[0;32mTrue\u001b[0m\u001b[0;34m,\u001b[0m \u001b[0mallow_dups\u001b[0m\u001b[0;34m=\u001b[0m\u001b[0;32mTrue\u001b[0m\u001b[0;34m\u001b[0m\u001b[0;34m\u001b[0m\u001b[0m\n",
            "\u001b[0;32m/usr/local/lib/python3.6/dist-packages/pandas/core/indexing.py\u001b[0m in \u001b[0;36m_get_listlike_indexer\u001b[0;34m(self, key, axis, raise_missing)\u001b[0m\n\u001b[1;32m   1551\u001b[0m \u001b[0;34m\u001b[0m\u001b[0m\n\u001b[1;32m   1552\u001b[0m         self._validate_read_indexer(\n\u001b[0;32m-> 1553\u001b[0;31m             \u001b[0mkeyarr\u001b[0m\u001b[0;34m,\u001b[0m \u001b[0mindexer\u001b[0m\u001b[0;34m,\u001b[0m \u001b[0mo\u001b[0m\u001b[0;34m.\u001b[0m\u001b[0m_get_axis_number\u001b[0m\u001b[0;34m(\u001b[0m\u001b[0maxis\u001b[0m\u001b[0;34m)\u001b[0m\u001b[0;34m,\u001b[0m \u001b[0mraise_missing\u001b[0m\u001b[0;34m=\u001b[0m\u001b[0mraise_missing\u001b[0m\u001b[0;34m\u001b[0m\u001b[0;34m\u001b[0m\u001b[0m\n\u001b[0m\u001b[1;32m   1554\u001b[0m         )\n\u001b[1;32m   1555\u001b[0m         \u001b[0;32mreturn\u001b[0m \u001b[0mkeyarr\u001b[0m\u001b[0;34m,\u001b[0m \u001b[0mindexer\u001b[0m\u001b[0;34m\u001b[0m\u001b[0;34m\u001b[0m\u001b[0m\n",
            "\u001b[0;32m/usr/local/lib/python3.6/dist-packages/pandas/core/indexing.py\u001b[0m in \u001b[0;36m_validate_read_indexer\u001b[0;34m(self, key, indexer, axis, raise_missing)\u001b[0m\n\u001b[1;32m   1653\u001b[0m             \u001b[0;32mif\u001b[0m \u001b[0;32mnot\u001b[0m \u001b[0;34m(\u001b[0m\u001b[0max\u001b[0m\u001b[0;34m.\u001b[0m\u001b[0mis_categorical\u001b[0m\u001b[0;34m(\u001b[0m\u001b[0;34m)\u001b[0m \u001b[0;32mor\u001b[0m \u001b[0max\u001b[0m\u001b[0;34m.\u001b[0m\u001b[0mis_interval\u001b[0m\u001b[0;34m(\u001b[0m\u001b[0;34m)\u001b[0m\u001b[0;34m)\u001b[0m\u001b[0;34m:\u001b[0m\u001b[0;34m\u001b[0m\u001b[0;34m\u001b[0m\u001b[0m\n\u001b[1;32m   1654\u001b[0m                 raise KeyError(\n\u001b[0;32m-> 1655\u001b[0;31m                     \u001b[0;34m\"Passing list-likes to .loc or [] with any missing labels \"\u001b[0m\u001b[0;34m\u001b[0m\u001b[0;34m\u001b[0m\u001b[0m\n\u001b[0m\u001b[1;32m   1656\u001b[0m                     \u001b[0;34m\"is no longer supported, see \"\u001b[0m\u001b[0;34m\u001b[0m\u001b[0;34m\u001b[0m\u001b[0m\n\u001b[1;32m   1657\u001b[0m                     \u001b[0;34m\"https://pandas.pydata.org/pandas-docs/stable/user_guide/indexing.html#deprecate-loc-reindex-listlike\"\u001b[0m  \u001b[0;31m# noqa:E501\u001b[0m\u001b[0;34m\u001b[0m\u001b[0;34m\u001b[0m\u001b[0m\n",
            "\u001b[0;31mKeyError\u001b[0m: 'Passing list-likes to .loc or [] with any missing labels is no longer supported, see https://pandas.pydata.org/pandas-docs/stable/user_guide/indexing.html#deprecate-loc-reindex-listlike'"
          ]
        }
      ]
    },
    {
      "cell_type": "code",
      "metadata": {
        "id": "75yNXT6I7Kie",
        "colab_type": "code",
        "outputId": "81c4b3c7-c4d2-4a5b-eac3-6c700a9173d8",
        "colab": {
          "base_uri": "https://localhost:8080/",
          "height": 34
        }
      },
      "source": [
        "megadf.columns"
      ],
      "execution_count": 86,
      "outputs": [
        {
          "output_type": "execute_result",
          "data": {
            "text/plain": [
              "Index(['id', 'title', 'embedding', 'clusterlabel'], dtype='object')"
            ]
          },
          "metadata": {
            "tags": []
          },
          "execution_count": 86
        }
      ]
    },
    {
      "cell_type": "markdown",
      "metadata": {
        "id": "6Kjxo8OO7Kin",
        "colab_type": "text"
      },
      "source": [
        "# Performance Testing and Distribution\n"
      ]
    },
    {
      "cell_type": "code",
      "metadata": {
        "id": "ZhqsTij67Kin",
        "colab_type": "code",
        "colab": {}
      },
      "source": [
        "metadata = pd.DataFrame(columns=[\"Name\", \"Algo\", \"WordEmb\", \"SentEmb\", \"K\", \"R\", \"F\", \"SS\", \"CSavg\", \"CSmin\", \"CSmax\", \"T2Pavg\", \"T2LM\", \"T2LMP\", \"MEM\"])"
      ],
      "execution_count": 0,
      "outputs": []
    },
    {
      "cell_type": "code",
      "metadata": {
        "id": "D6WWQn8N7Kiw",
        "colab_type": "code",
        "outputId": "ee9f8829-9233-48e6-eae2-29de21936554",
        "colab": {
          "base_uri": "https://localhost:8080/",
          "height": 312
        }
      },
      "source": [
        "metadict = {\n",
        "    \"Name\":None,                     #Name of the save file prefix\n",
        "    \"Algo\":None,                     #Name of the Clustering algorithm\n",
        "    \"WordEmb\":None,                  #Name of the Word Embeddings used (glove, w2v, ftt)\n",
        "    \"SentEmb\":None,                  #Name of Sentence Embedding algorithm used \n",
        "    \"K\":None, \"R\":None, \"F\":None,    #Number of clusters, records and fetures\n",
        "    \"T2T\":None,                      #Time required to train model\n",
        "    \"SS\":None,                       #Silhoutte Score\n",
        "    \"DBS\":None,                      #Davis Bouldin Score\n",
        "    \"CSavg\":None,                    #Average Cluster Size\n",
        "    \"CSmin\":None,                    #Minimum Cluster Size\n",
        "    \"CSmax\":None,                    #Maximum Cluster Size\n",
        "    \"T2Pavg\":None,                   #Average Time To Predict cluster of one record\n",
        "    \"T2LM\":None,                     #Average Time to Load Model\n",
        "    \"T2LMP\":None,                    #Amortized time to Predict after loading the model\n",
        "    \"MEM\":None                      #Memory used by the Model\n",
        "    }\n",
        "metadict"
      ],
      "execution_count": 46,
      "outputs": [
        {
          "output_type": "execute_result",
          "data": {
            "text/plain": [
              "{'Algo': None,\n",
              " 'CSavg': None,\n",
              " 'CSmax': None,\n",
              " 'CSmin': None,\n",
              " 'DBS': None,\n",
              " 'F': None,\n",
              " 'K': None,\n",
              " 'MEM': None,\n",
              " 'Name': None,\n",
              " 'R': None,\n",
              " 'SS': None,\n",
              " 'SentEmb': None,\n",
              " 'T2LM': None,\n",
              " 'T2LMP': None,\n",
              " 'T2Pavg': None,\n",
              " 'T2T': None,\n",
              " 'WordEmb': None}"
            ]
          },
          "metadata": {
            "tags": []
          },
          "execution_count": 46
        }
      ]
    },
    {
      "cell_type": "code",
      "metadata": {
        "id": "SGr76NCN7Ki7",
        "colab_type": "code",
        "outputId": "e0420a6e-810a-4370-b748-496597f09d93",
        "colab": {
          "base_uri": "https://localhost:8080/",
          "height": 312
        }
      },
      "source": [
        "metadict[\"Name\"]=name\n",
        "metadict[\"Algo\"]=__algo__\n",
        "metadict[\"WordEmb\"]=__emb__\n",
        "metadict[\"SentEmb\"]=__sentemb__\n",
        "metadict[\"K\"]=k\n",
        "metadict[\"R\"]=recnum\n",
        "metadict[\"F\"]=features\n",
        "metadict"
      ],
      "execution_count": 88,
      "outputs": [
        {
          "output_type": "execute_result",
          "data": {
            "text/plain": [
              "{'Algo': 'SPECTRAL',\n",
              " 'CSavg': 60.0,\n",
              " 'CSmax': 443,\n",
              " 'CSmin': 1,\n",
              " 'DBS': 2.1448043448781564,\n",
              " 'F': 1500,\n",
              " 'K': 50,\n",
              " 'MEM': 613302,\n",
              " 'Name': 'SPECTRAL_ftt_pmeans5_K50_R3000_F1500',\n",
              " 'R': 3000,\n",
              " 'SS': -0.04220857641035521,\n",
              " 'SentEmb': 'pmeans5',\n",
              " 'T2LM': 0.0004537487030029297,\n",
              " 'T2LMP': 0.0014576838970184326,\n",
              " 'T2Pavg': 0.0014439107179641723,\n",
              " 'T2T': 1.64,\n",
              " 'WordEmb': 'ftt'}"
            ]
          },
          "metadata": {
            "tags": []
          },
          "execution_count": 88
        }
      ]
    },
    {
      "cell_type": "markdown",
      "metadata": {
        "id": "1nYQMLWe7KjG",
        "colab_type": "text"
      },
      "source": [
        "#### Time to train"
      ]
    },
    {
      "cell_type": "code",
      "metadata": {
        "id": "RCsFCFgO7KjI",
        "colab_type": "code",
        "colab": {}
      },
      "source": [
        "metadict[\"T2T\"]=timetrain"
      ],
      "execution_count": 0,
      "outputs": []
    },
    {
      "cell_type": "markdown",
      "metadata": {
        "id": "b_PdSH507KjQ",
        "colab_type": "text"
      },
      "source": [
        "#### Scores"
      ]
    },
    {
      "cell_type": "code",
      "metadata": {
        "id": "zgTA1FKP7KjR",
        "colab_type": "code",
        "colab": {}
      },
      "source": [
        "ss = silhouette_score(data, labels, metric = 'euclidean')\n",
        "dbs = davies_bouldin_score(data, labels)\n",
        "metadict[\"SS\"]=ss\n",
        "metadict[\"DBS\"]=dbs"
      ],
      "execution_count": 0,
      "outputs": []
    },
    {
      "cell_type": "markdown",
      "metadata": {
        "id": "OWqrLc8W7Kji",
        "colab_type": "text"
      },
      "source": [
        "#### Cluster Size"
      ]
    },
    {
      "cell_type": "code",
      "metadata": {
        "id": "sKnH2wiD7Kjl",
        "colab_type": "code",
        "outputId": "216138b8-d51d-46ac-970a-fa274c03fab3",
        "colab": {
          "base_uri": "https://localhost:8080/",
          "height": 206
        }
      },
      "source": [
        "clusterdata = megadf.groupby(\"clusterlabel\", as_index=True).size().reset_index(name=\"count\")\n",
        "clusterdata.head()"
      ],
      "execution_count": 91,
      "outputs": [
        {
          "output_type": "execute_result",
          "data": {
            "text/html": [
              "<div>\n",
              "<style scoped>\n",
              "    .dataframe tbody tr th:only-of-type {\n",
              "        vertical-align: middle;\n",
              "    }\n",
              "\n",
              "    .dataframe tbody tr th {\n",
              "        vertical-align: top;\n",
              "    }\n",
              "\n",
              "    .dataframe thead th {\n",
              "        text-align: right;\n",
              "    }\n",
              "</style>\n",
              "<table border=\"1\" class=\"dataframe\">\n",
              "  <thead>\n",
              "    <tr style=\"text-align: right;\">\n",
              "      <th></th>\n",
              "      <th>clusterlabel</th>\n",
              "      <th>count</th>\n",
              "    </tr>\n",
              "  </thead>\n",
              "  <tbody>\n",
              "    <tr>\n",
              "      <th>0</th>\n",
              "      <td>0</td>\n",
              "      <td>20</td>\n",
              "    </tr>\n",
              "    <tr>\n",
              "      <th>1</th>\n",
              "      <td>1</td>\n",
              "      <td>53</td>\n",
              "    </tr>\n",
              "    <tr>\n",
              "      <th>2</th>\n",
              "      <td>2</td>\n",
              "      <td>114</td>\n",
              "    </tr>\n",
              "    <tr>\n",
              "      <th>3</th>\n",
              "      <td>3</td>\n",
              "      <td>499</td>\n",
              "    </tr>\n",
              "    <tr>\n",
              "      <th>4</th>\n",
              "      <td>4</td>\n",
              "      <td>23</td>\n",
              "    </tr>\n",
              "  </tbody>\n",
              "</table>\n",
              "</div>"
            ],
            "text/plain": [
              "   clusterlabel  count\n",
              "0             0     20\n",
              "1             1     53\n",
              "2             2    114\n",
              "3             3    499\n",
              "4             4     23"
            ]
          },
          "metadata": {
            "tags": []
          },
          "execution_count": 91
        }
      ]
    },
    {
      "cell_type": "code",
      "metadata": {
        "id": "Vgui_d-u7Kjr",
        "colab_type": "code",
        "colab": {}
      },
      "source": [
        "clusterdfname = \"{}_clustered_counts.pkl\".format(name)\n",
        "clusterdata.to_pickle(megadfDir + clusterdfname)"
      ],
      "execution_count": 0,
      "outputs": []
    },
    {
      "cell_type": "code",
      "metadata": {
        "scrolled": true,
        "id": "hJnaqOoA7Kjx",
        "colab_type": "code",
        "outputId": "57200a8b-582e-41e2-c60f-9fb2a696d072",
        "colab": {
          "base_uri": "https://localhost:8080/",
          "height": 270
        }
      },
      "source": [
        "countdata = clusterdata.groupby(\"count\").size().reset_index(name=\"clusters\")\n",
        "display(countdata.head(3))\n",
        "display(countdata.tail(3))"
      ],
      "execution_count": 93,
      "outputs": [
        {
          "output_type": "display_data",
          "data": {
            "text/html": [
              "<div>\n",
              "<style scoped>\n",
              "    .dataframe tbody tr th:only-of-type {\n",
              "        vertical-align: middle;\n",
              "    }\n",
              "\n",
              "    .dataframe tbody tr th {\n",
              "        vertical-align: top;\n",
              "    }\n",
              "\n",
              "    .dataframe thead th {\n",
              "        text-align: right;\n",
              "    }\n",
              "</style>\n",
              "<table border=\"1\" class=\"dataframe\">\n",
              "  <thead>\n",
              "    <tr style=\"text-align: right;\">\n",
              "      <th></th>\n",
              "      <th>count</th>\n",
              "      <th>clusters</th>\n",
              "    </tr>\n",
              "  </thead>\n",
              "  <tbody>\n",
              "    <tr>\n",
              "      <th>0</th>\n",
              "      <td>7</td>\n",
              "      <td>1</td>\n",
              "    </tr>\n",
              "    <tr>\n",
              "      <th>1</th>\n",
              "      <td>8</td>\n",
              "      <td>1</td>\n",
              "    </tr>\n",
              "    <tr>\n",
              "      <th>2</th>\n",
              "      <td>10</td>\n",
              "      <td>3</td>\n",
              "    </tr>\n",
              "  </tbody>\n",
              "</table>\n",
              "</div>"
            ],
            "text/plain": [
              "   count  clusters\n",
              "0      7         1\n",
              "1      8         1\n",
              "2     10         3"
            ]
          },
          "metadata": {
            "tags": []
          }
        },
        {
          "output_type": "display_data",
          "data": {
            "text/html": [
              "<div>\n",
              "<style scoped>\n",
              "    .dataframe tbody tr th:only-of-type {\n",
              "        vertical-align: middle;\n",
              "    }\n",
              "\n",
              "    .dataframe tbody tr th {\n",
              "        vertical-align: top;\n",
              "    }\n",
              "\n",
              "    .dataframe thead th {\n",
              "        text-align: right;\n",
              "    }\n",
              "</style>\n",
              "<table border=\"1\" class=\"dataframe\">\n",
              "  <thead>\n",
              "    <tr style=\"text-align: right;\">\n",
              "      <th></th>\n",
              "      <th>count</th>\n",
              "      <th>clusters</th>\n",
              "    </tr>\n",
              "  </thead>\n",
              "  <tbody>\n",
              "    <tr>\n",
              "      <th>34</th>\n",
              "      <td>286</td>\n",
              "      <td>1</td>\n",
              "    </tr>\n",
              "    <tr>\n",
              "      <th>35</th>\n",
              "      <td>455</td>\n",
              "      <td>1</td>\n",
              "    </tr>\n",
              "    <tr>\n",
              "      <th>36</th>\n",
              "      <td>499</td>\n",
              "      <td>1</td>\n",
              "    </tr>\n",
              "  </tbody>\n",
              "</table>\n",
              "</div>"
            ],
            "text/plain": [
              "    count  clusters\n",
              "34    286         1\n",
              "35    455         1\n",
              "36    499         1"
            ]
          },
          "metadata": {
            "tags": []
          }
        }
      ]
    },
    {
      "cell_type": "code",
      "metadata": {
        "id": "JbFEllBa7Kj2",
        "colab_type": "code",
        "colab": {}
      },
      "source": [
        "metadict[\"CSmax\"] = max(clusterdata[\"count\"])\n",
        "metadict[\"CSmin\"] = min(clusterdata[\"count\"])\n",
        "metadict[\"CSavg\"] = np.mean(clusterdata[\"count\"])"
      ],
      "execution_count": 0,
      "outputs": []
    },
    {
      "cell_type": "code",
      "metadata": {
        "id": "khR0wMY27Kj9",
        "colab_type": "code",
        "outputId": "755fdde2-e7e7-46a5-fa79-92180e4c7e28",
        "colab": {
          "base_uri": "https://localhost:8080/",
          "height": 966
        }
      },
      "source": [
        "%matplotlib inline\n",
        "plt.figure(figsize=(16,16))\n",
        "\n",
        "sns.axes_style(\"whitegrid\", {\"axes.grid\":True, \n",
        "                            'axes.spines.left': False,\n",
        "                             'axes.spines.bottom': False,\n",
        "                             'axes.spines.right': False,\n",
        "                             'axes.spines.top': False})\n",
        "\n",
        "\n",
        "titlestring = \"{}_Cluster_Distribution\".format(name)\n",
        "snsplot = sns.distplot(clusterdata[\"count\"], kde=False, bins=max(clusterdata[\"count\"]),\n",
        "                      hist_kws={'edgecolor':'black'},)\n",
        "snsplot.set(xlabel=\"Number of Papers\", ylabel=\"Number of Clusters\")\n",
        "snsplot.xaxis.label.set_size(20)\n",
        "snsplot.yaxis.label.set_size(20)\n",
        "plt.title(\n",
        "        titlestring,\n",
        "        fontdict = {'fontsize' : 25}\n",
        "    )\n",
        "plt.show()\n",
        "\n"
      ],
      "execution_count": 95,
      "outputs": [
        {
          "output_type": "display_data",
          "data": {
            "image/png": "[encoded data removed]",
            "text/plain": [
              "<Figure size 1152x1152 with 1 Axes>"
            ]
          },
          "metadata": {
            "tags": [],
            "needs_background": "light"
          }
        }
      ]
    },
    {
      "cell_type": "code",
      "metadata": {
        "id": "9B3QcEz17KkF",
        "colab_type": "code",
        "colab": {}
      },
      "source": [
        "snspltname = \"{}_Cluster_Distribution.png\".format(name)\n",
        "snsplot.figure.savefig(plotDir + snspltname)"
      ],
      "execution_count": 0,
      "outputs": []
    },
    {
      "cell_type": "markdown",
      "metadata": {
        "id": "FYjOgGrE7KkK",
        "colab_type": "text"
      },
      "source": [
        "#### Prediction Time Performance"
      ]
    },
    {
      "cell_type": "code",
      "metadata": {
        "id": "mSs7lt5O7KkK",
        "colab_type": "code",
        "outputId": "74112d1c-e59e-4a20-c157-ce263040150a",
        "colab": {
          "base_uri": "https://localhost:8080/",
          "height": 34
        }
      },
      "source": [
        "testdf = pd.DataFrame()\n",
        "if recnum < 2000:\n",
        "    samplenum = int(recnum / 10)\n",
        "else:\n",
        "    samplenum = 2000\n",
        "\n",
        "for f in smalllist:\n",
        "    tempdf = pd.read_pickle(f)\n",
        "    testdf = megadf.append(tempdf, ignore_index = True, sort = False)\n",
        "testdf = testdf.sample(samplenum, random_state=int(time.time()%100000))\n",
        "predata = testdf[\"embedding\"]\n",
        "data = np.matrix(predata.to_list())\n",
        "print(data.shape)"
      ],
      "execution_count": 97,
      "outputs": [
        {
          "output_type": "stream",
          "text": [
            "(2000, 1500)\n"
          ],
          "name": "stdout"
        }
      ]
    },
    {
      "cell_type": "code",
      "metadata": {
        "id": "K9p3KbMF7KkR",
        "colab_type": "code",
        "outputId": "ef1664c3-97b7-4bab-faf8-6ce65b59d579",
        "colab": {
          "base_uri": "https://localhost:8080/",
          "height": 253
        }
      },
      "source": [
        "print(\"Starting Predicting Performance\")\n",
        "testmodel = model\n",
        "start_time = time.time()\n",
        "for d in data:\n",
        "    lb = testmodel.predict(d)\n",
        "end_time = time.time()\n",
        "timetest = end_time-start_time\n",
        "avgtime = timetest/data.shape[0]\n",
        "print(\"Avgtime: {} Totaltime: {}\".format(avgtime, timetest))\n",
        "metadict[\"T2Pavg\"]=avgtime"
      ],
      "execution_count": 100,
      "outputs": [
        {
          "output_type": "stream",
          "text": [
            "Starting Predicting Performance\n"
          ],
          "name": "stdout"
        },
        {
          "output_type": "error",
          "ename": "AttributeError",
          "evalue": "ignored",
          "traceback": [
            "\u001b[0;31m---------------------------------------------------------------------------\u001b[0m",
            "\u001b[0;31mAttributeError\u001b[0m                            Traceback (most recent call last)",
            "\u001b[0;32m<ipython-input-100-3574ed95c9e4>\u001b[0m in \u001b[0;36m<module>\u001b[0;34m()\u001b[0m\n\u001b[1;32m      3\u001b[0m \u001b[0mstart_time\u001b[0m \u001b[0;34m=\u001b[0m \u001b[0mtime\u001b[0m\u001b[0;34m.\u001b[0m\u001b[0mtime\u001b[0m\u001b[0;34m(\u001b[0m\u001b[0;34m)\u001b[0m\u001b[0;34m\u001b[0m\u001b[0;34m\u001b[0m\u001b[0m\n\u001b[1;32m      4\u001b[0m \u001b[0;32mfor\u001b[0m \u001b[0md\u001b[0m \u001b[0;32min\u001b[0m \u001b[0mdata\u001b[0m\u001b[0;34m:\u001b[0m\u001b[0;34m\u001b[0m\u001b[0;34m\u001b[0m\u001b[0m\n\u001b[0;32m----> 5\u001b[0;31m     \u001b[0mlb\u001b[0m \u001b[0;34m=\u001b[0m \u001b[0mtestmodel\u001b[0m\u001b[0;34m.\u001b[0m\u001b[0mpredict\u001b[0m\u001b[0;34m(\u001b[0m\u001b[0md\u001b[0m\u001b[0;34m)\u001b[0m\u001b[0;34m\u001b[0m\u001b[0;34m\u001b[0m\u001b[0m\n\u001b[0m\u001b[1;32m      6\u001b[0m \u001b[0mend_time\u001b[0m \u001b[0;34m=\u001b[0m \u001b[0mtime\u001b[0m\u001b[0;34m.\u001b[0m\u001b[0mtime\u001b[0m\u001b[0;34m(\u001b[0m\u001b[0;34m)\u001b[0m\u001b[0;34m\u001b[0m\u001b[0;34m\u001b[0m\u001b[0m\n\u001b[1;32m      7\u001b[0m \u001b[0mtimetest\u001b[0m \u001b[0;34m=\u001b[0m \u001b[0mend_time\u001b[0m\u001b[0;34m-\u001b[0m\u001b[0mstart_time\u001b[0m\u001b[0;34m\u001b[0m\u001b[0;34m\u001b[0m\u001b[0m\n",
            "\u001b[0;31mAttributeError\u001b[0m: 'SpectralClustering' object has no attribute 'predict'"
          ]
        }
      ]
    },
    {
      "cell_type": "code",
      "metadata": {
        "scrolled": true,
        "id": "Dfxi6ynH7KkX",
        "colab_type": "code",
        "outputId": "33f62385-94a2-4533-c2e7-b8aa67fa0046",
        "colab": {
          "base_uri": "https://localhost:8080/",
          "height": 69
        }
      },
      "source": [
        "print(\"Starting Loading Performance\")\n",
        "loadruns = 50\n",
        "start_time = time.time()\n",
        "for i in range(loadruns):\n",
        "    testmodel = pickle.load(open(modelDir + modelname, 'rb'))\n",
        "end_time = time.time()\n",
        "timetest = end_time-start_time\n",
        "avgtime = timetest/loadruns\n",
        "print(\"Avgtime: {} Totaltime: {}\".format(avgtime, timetest))\n",
        "metadict[\"T2LM\"] = avgtime\n",
        "avgtime"
      ],
      "execution_count": 101,
      "outputs": [
        {
          "output_type": "stream",
          "text": [
            "Starting Loading Performance\n",
            "Avgtime: 0.0004319000244140625 Totaltime: 0.021595001220703125\n"
          ],
          "name": "stdout"
        },
        {
          "output_type": "execute_result",
          "data": {
            "text/plain": [
              "0.0004319000244140625"
            ]
          },
          "metadata": {
            "tags": []
          },
          "execution_count": 101
        }
      ]
    },
    {
      "cell_type": "code",
      "metadata": {
        "scrolled": true,
        "id": "NBg7wzkg7Kke",
        "colab_type": "code",
        "outputId": "b6e50d85-f51c-404a-cfe0-575def38adba",
        "colab": {
          "base_uri": "https://localhost:8080/",
          "height": 253
        }
      },
      "source": [
        "print(\"Starting Amortized Performance\")\n",
        "loadruns = 5\n",
        "avglist = []\n",
        "\n",
        "for i in range(loadruns):\n",
        "    start_time = time.time()\n",
        "    testmodel = pickle.load(open(modelDir + modelname, 'rb'))\n",
        "    for d in data:\n",
        "        lb = testmodel.predict(d)\n",
        "    end_time = time.time()\n",
        "    timetest = (end_time-start_time)/data.shape[0]\n",
        "    avglist.append(timetest)\n",
        "\n",
        "timetest = np.sum(avglist)\n",
        "avgtime = np.mean(avglist)\n",
        "print(\"Avgtime: {} Totaltime: {}\".format(avgtime, timetest))\n",
        "metadict[\"T2LMP\"] = avgtime\n",
        "avgtime"
      ],
      "execution_count": 102,
      "outputs": [
        {
          "output_type": "stream",
          "text": [
            "Starting Amortized Performance\n"
          ],
          "name": "stdout"
        },
        {
          "output_type": "error",
          "ename": "AttributeError",
          "evalue": "ignored",
          "traceback": [
            "\u001b[0;31m---------------------------------------------------------------------------\u001b[0m",
            "\u001b[0;31mAttributeError\u001b[0m                            Traceback (most recent call last)",
            "\u001b[0;32m<ipython-input-102-6d546b724ec7>\u001b[0m in \u001b[0;36m<module>\u001b[0;34m()\u001b[0m\n\u001b[1;32m      7\u001b[0m     \u001b[0mtestmodel\u001b[0m \u001b[0;34m=\u001b[0m \u001b[0mpickle\u001b[0m\u001b[0;34m.\u001b[0m\u001b[0mload\u001b[0m\u001b[0;34m(\u001b[0m\u001b[0mopen\u001b[0m\u001b[0;34m(\u001b[0m\u001b[0mmodelDir\u001b[0m \u001b[0;34m+\u001b[0m \u001b[0mmodelname\u001b[0m\u001b[0;34m,\u001b[0m \u001b[0;34m'rb'\u001b[0m\u001b[0;34m)\u001b[0m\u001b[0;34m)\u001b[0m\u001b[0;34m\u001b[0m\u001b[0;34m\u001b[0m\u001b[0m\n\u001b[1;32m      8\u001b[0m     \u001b[0;32mfor\u001b[0m \u001b[0md\u001b[0m \u001b[0;32min\u001b[0m \u001b[0mdata\u001b[0m\u001b[0;34m:\u001b[0m\u001b[0;34m\u001b[0m\u001b[0;34m\u001b[0m\u001b[0m\n\u001b[0;32m----> 9\u001b[0;31m         \u001b[0mlb\u001b[0m \u001b[0;34m=\u001b[0m \u001b[0mtestmodel\u001b[0m\u001b[0;34m.\u001b[0m\u001b[0mpredict\u001b[0m\u001b[0;34m(\u001b[0m\u001b[0md\u001b[0m\u001b[0;34m)\u001b[0m\u001b[0;34m\u001b[0m\u001b[0;34m\u001b[0m\u001b[0m\n\u001b[0m\u001b[1;32m     10\u001b[0m     \u001b[0mend_time\u001b[0m \u001b[0;34m=\u001b[0m \u001b[0mtime\u001b[0m\u001b[0;34m.\u001b[0m\u001b[0mtime\u001b[0m\u001b[0;34m(\u001b[0m\u001b[0;34m)\u001b[0m\u001b[0;34m\u001b[0m\u001b[0;34m\u001b[0m\u001b[0m\n\u001b[1;32m     11\u001b[0m     \u001b[0mtimetest\u001b[0m \u001b[0;34m=\u001b[0m \u001b[0;34m(\u001b[0m\u001b[0mend_time\u001b[0m\u001b[0;34m-\u001b[0m\u001b[0mstart_time\u001b[0m\u001b[0;34m)\u001b[0m\u001b[0;34m/\u001b[0m\u001b[0mdata\u001b[0m\u001b[0;34m.\u001b[0m\u001b[0mshape\u001b[0m\u001b[0;34m[\u001b[0m\u001b[0;36m0\u001b[0m\u001b[0;34m]\u001b[0m\u001b[0;34m\u001b[0m\u001b[0;34m\u001b[0m\u001b[0m\n",
            "\u001b[0;31mAttributeError\u001b[0m: 'SpectralClustering' object has no attribute 'predict'"
          ]
        }
      ]
    },
    {
      "cell_type": "code",
      "metadata": {
        "id": "N9Lrc87U7Kkj",
        "colab_type": "code",
        "outputId": "67740ea7-a694-4d5e-aacf-9402b70de8bb",
        "colab": {
          "base_uri": "https://localhost:8080/",
          "height": 34
        }
      },
      "source": [
        "modelsize = sys.getsizeof(pickle.dumps(model))\n",
        "print(\"modelsize:\", modelsize, \"bytes\")\n",
        "metadict[\"MEM\"]=modelsize"
      ],
      "execution_count": 103,
      "outputs": [
        {
          "output_type": "stream",
          "text": [
            "modelsize: 596607 bytes\n"
          ],
          "name": "stdout"
        }
      ]
    },
    {
      "cell_type": "code",
      "metadata": {
        "scrolled": true,
        "id": "bgano-e-7Kkp",
        "colab_type": "code",
        "outputId": "330e81a4-9e16-45ae-cdc0-4d41a10d7846",
        "colab": {
          "base_uri": "https://localhost:8080/",
          "height": 312
        }
      },
      "source": [
        "metadict"
      ],
      "execution_count": 104,
      "outputs": [
        {
          "output_type": "execute_result",
          "data": {
            "text/plain": [
              "{'Algo': 'SPECTRAL',\n",
              " 'CSavg': 60.0,\n",
              " 'CSmax': 499,\n",
              " 'CSmin': 7,\n",
              " 'DBS': 2.7367257495103803,\n",
              " 'F': 1500,\n",
              " 'K': 50,\n",
              " 'MEM': 596607,\n",
              " 'Name': 'SPECTRAL_ftt_pmeans5_K50_R3000_F1500',\n",
              " 'R': 3000,\n",
              " 'SS': 0.02716257265639123,\n",
              " 'SentEmb': 'pmeans5',\n",
              " 'T2LM': 0.0004319000244140625,\n",
              " 'T2LMP': 0.0014576838970184326,\n",
              " 'T2Pavg': 0.0014439107179641723,\n",
              " 'T2T': 23.65,\n",
              " 'WordEmb': 'ftt'}"
            ]
          },
          "metadata": {
            "tags": []
          },
          "execution_count": 104
        }
      ]
    },
    {
      "cell_type": "code",
      "metadata": {
        "id": "mmlc9W347Kku",
        "colab_type": "code",
        "outputId": "9b758c25-b9ad-4b6e-9327-343a8d321b1a",
        "colab": {
          "base_uri": "https://localhost:8080/",
          "height": 101
        }
      },
      "source": [
        "metadata = metadata.append(metadict, ignore_index=True)\n",
        "metadata"
      ],
      "execution_count": 105,
      "outputs": [
        {
          "output_type": "execute_result",
          "data": {
            "text/html": [
              "<div>\n",
              "<style scoped>\n",
              "    .dataframe tbody tr th:only-of-type {\n",
              "        vertical-align: middle;\n",
              "    }\n",
              "\n",
              "    .dataframe tbody tr th {\n",
              "        vertical-align: top;\n",
              "    }\n",
              "\n",
              "    .dataframe thead th {\n",
              "        text-align: right;\n",
              "    }\n",
              "</style>\n",
              "<table border=\"1\" class=\"dataframe\">\n",
              "  <thead>\n",
              "    <tr style=\"text-align: right;\">\n",
              "      <th></th>\n",
              "      <th>Name</th>\n",
              "      <th>Algo</th>\n",
              "      <th>WordEmb</th>\n",
              "      <th>SentEmb</th>\n",
              "      <th>K</th>\n",
              "      <th>R</th>\n",
              "      <th>F</th>\n",
              "      <th>SS</th>\n",
              "      <th>CSavg</th>\n",
              "      <th>CSmin</th>\n",
              "      <th>CSmax</th>\n",
              "      <th>T2Pavg</th>\n",
              "      <th>T2LM</th>\n",
              "      <th>T2LMP</th>\n",
              "      <th>MEM</th>\n",
              "      <th>DBS</th>\n",
              "      <th>T2T</th>\n",
              "    </tr>\n",
              "  </thead>\n",
              "  <tbody>\n",
              "    <tr>\n",
              "      <th>0</th>\n",
              "      <td>SPECTRAL_ftt_pmeans5_K50_R3000_F1500</td>\n",
              "      <td>SPECTRAL</td>\n",
              "      <td>ftt</td>\n",
              "      <td>pmeans5</td>\n",
              "      <td>50</td>\n",
              "      <td>3000</td>\n",
              "      <td>1500</td>\n",
              "      <td>0.027163</td>\n",
              "      <td>60.0</td>\n",
              "      <td>7</td>\n",
              "      <td>499</td>\n",
              "      <td>0.001444</td>\n",
              "      <td>0.000432</td>\n",
              "      <td>0.001458</td>\n",
              "      <td>596607</td>\n",
              "      <td>2.736726</td>\n",
              "      <td>23.65</td>\n",
              "    </tr>\n",
              "  </tbody>\n",
              "</table>\n",
              "</div>"
            ],
            "text/plain": [
              "                                   Name      Algo  ...       DBS    T2T\n",
              "0  SPECTRAL_ftt_pmeans5_K50_R3000_F1500  SPECTRAL  ...  2.736726  23.65\n",
              "\n",
              "[1 rows x 17 columns]"
            ]
          },
          "metadata": {
            "tags": []
          },
          "execution_count": 105
        }
      ]
    },
    {
      "cell_type": "code",
      "metadata": {
        "id": "RViGy7KL7Kky",
        "colab_type": "code",
        "colab": {}
      },
      "source": [
        "metadataname = \"{}_metadata.pkl\".format(name)\n",
        "metadata.to_pickle(metadataDir + metadataname)"
      ],
      "execution_count": 0,
      "outputs": []
    },
    {
      "cell_type": "code",
      "metadata": {
        "id": "ZgbvwDcS7Kk2",
        "colab_type": "code",
        "colab": {}
      },
      "source": [
        "!cd .."
      ],
      "execution_count": 0,
      "outputs": []
    },
    {
      "cell_type": "code",
      "metadata": {
        "id": "O5D0Ba7yCshi",
        "colab_type": "code",
        "outputId": "4dbcf37c-2bec-4304-e923-e3c2068f3e79",
        "colab": {
          "base_uri": "https://localhost:8080/",
          "height": 34
        }
      },
      "source": [
        "!find / -type f -name \"*_metadata.pkl\""
      ],
      "execution_count": 109,
      "outputs": [
        {
          "output_type": "stream",
          "text": [
            "^C\n"
          ],
          "name": "stdout"
        }
      ]
    },
    {
      "cell_type": "code",
      "metadata": {
        "id": "sPqc7fnGDGmp",
        "colab_type": "code",
        "colab": {}
      },
      "source": [
        "%cd .."
      ],
      "execution_count": 0,
      "outputs": []
    },
    {
      "cell_type": "code",
      "metadata": {
        "id": "ys1deTD0DTME",
        "colab_type": "code",
        "colab": {}
      },
      "source": [
        "!cp /content/modelMetaData/SPECTRAL_ftt_pmeans5_K50_R3000_F1500_metadata.pkl /content/drive/My\\ Drive/."
      ],
      "execution_count": 0,
      "outputs": []
    }
  ]
}
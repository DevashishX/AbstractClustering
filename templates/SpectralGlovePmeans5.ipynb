{
 "cells": [
  {
   "cell_type": "markdown",
   "metadata": {
    "colab_type": "text",
    "id": "n6yRKl7Nx8NV"
   },
   "source": [
    "# ***Set parameters***"
   ]
  },
  {
   "cell_type": "code",
   "execution_count": 139,
   "metadata": {
    "colab": {},
    "colab_type": "code",
    "id": "RLla__P2wqVL"
   },
   "outputs": [],
   "source": [
    "__algo__ = \"Spectral\"             #Name of the Clustering algorithm\n",
    "__emb__ = \"glove\"                 #Name of the Word Embeddings used (glove, w2v, ftt), MUST set directory below\n",
    "__sentemb__ = \"pmeans5\"           #Name of Sentence Embedding algorithm used\n",
    "recnum = 30000                     #Number of records to be read from files\n",
    "k = 350                            #Number of Clusters\n",
    "usesqrt = False                   #Set value of k to sqrt of recnum, overrides k\n",
    "randomsample = False              #Random Sampling to be True/False for records which are read\n",
    "embedDir = \"../MegaSentEmbs/\"     #Directory where embeddings are saved for that selected embedding\n",
    "modelDir = \"../models/\"           #Directory where models are saved\n",
    "megadfDir = \"../MegaDfs/\"         #Directory Where Megadf is to be saved\n",
    "plotDir = \"../plots/\"             #Directory where plots are saved\n",
    "metadataDir = \"../modelMetaData/\" #Directory where performance and distribution params are to be stored\n",
    "dumpDir = \"../dump/\"              #Directory where test outcomes are saved"
   ]
  },
  {
   "cell_type": "markdown",
   "metadata": {
    "colab_type": "text",
    "id": "LGy8jsWQx0nS"
   },
   "source": [
    "# Actual Code"
   ]
  },
  {
   "cell_type": "markdown",
   "metadata": {
    "colab_type": "text",
    "id": "II0jpbbTzD8M"
   },
   "source": [
    "### imports and time"
   ]
  },
  {
   "cell_type": "code",
   "execution_count": 140,
   "metadata": {
    "colab": {},
    "colab_type": "code",
    "id": "wkS4KGOphHK4"
   },
   "outputs": [],
   "source": [
    "import numpy as np\n",
    "import matplotlib.pyplot as plt\n",
    "import pandas as pd\n",
    "from sklearn import cluster, datasets\n",
    "from sklearn.metrics import silhouette_score, davies_bouldin_score\n",
    "import seaborn as sns\n",
    "import os, subprocess, sys\n",
    "import datetime, time\n",
    "import pickle"
   ]
  },
  {
   "cell_type": "markdown",
   "metadata": {
    "colab_type": "text",
    "id": "X2T_-VrUzBVt"
   },
   "source": [
    "### File Settings"
   ]
  },
  {
   "cell_type": "code",
   "execution_count": 141,
   "metadata": {
    "colab": {
     "base_uri": "https://localhost:8080/"
    },
    "colab_type": "code",
    "id": "fAi1m08zhHLn",
    "outputId": "1e03b451-0705-4b84-9e6e-449141acfb97"
   },
   "outputs": [
    {
     "name": "stdout",
     "output_type": "stream",
     "text": [
      "Length of Smalllist:  116\n"
     ]
    }
   ],
   "source": [
    "oldlist = os.listdir(embedDir)\n",
    "filelist = sorted([embedDir+f for f in oldlist if f[-3:]==\"pkl\"])\n",
    "filenum = len(filelist)\n",
    "smalllist = filelist[:filenum]\n",
    "print(\"Length of Smalllist: \", len(smalllist))"
   ]
  },
  {
   "cell_type": "markdown",
   "metadata": {
    "colab_type": "text",
    "id": "Verw6R-QVK24"
   },
   "source": [
    "### Number of Records\n",
    "It is Recommended to Set this at the top parameters"
   ]
  },
  {
   "cell_type": "code",
   "execution_count": 142,
   "metadata": {
    "colab": {},
    "colab_type": "code",
    "id": "1KLrsnyYVN0R"
   },
   "outputs": [],
   "source": [
    "recnum = recnum"
   ]
  },
  {
   "cell_type": "markdown",
   "metadata": {
    "colab_type": "text",
    "id": "fN1QgBS0hHL1"
   },
   "source": [
    "### Read all the pandas dataframes"
   ]
  },
  {
   "cell_type": "code",
   "execution_count": 143,
   "metadata": {
    "colab": {
     "base_uri": "https://localhost:8080/"
    },
    "colab_type": "code",
    "id": "opx4vfnfhHL4",
    "outputId": "4de12cfa-fe83-4811-c5aa-b25e965ed72f"
   },
   "outputs": [
    {
     "name": "stdout",
     "output_type": "stream",
     "text": [
      "randomsample:  False\n",
      "megadf.shape:  (30000, 4)\n",
      "CPU times: user 652 ms, sys: 75.8 ms, total: 728 ms\n",
      "Wall time: 729 ms\n"
     ]
    }
   ],
   "source": [
    "%%time\n",
    "megadf = pd.DataFrame()\n",
    "\n",
    "if randomsample == True:\n",
    "    print(\"randomsample: \", randomsample)\n",
    "    for f in smalllist:\n",
    "        tempdf = pd.read_pickle(f)\n",
    "        megadf = megadf.append(tempdf, ignore_index = True)\n",
    "    megadf = megadf.sample(recnum, random_state=42)\n",
    "else:\n",
    "    print(\"randomsample: \", randomsample)\n",
    "    for f in smalllist:\n",
    "        tempdf = pd.read_pickle(f)\n",
    "        megadf = megadf.append(tempdf, ignore_index = True)\n",
    "        if megadf.shape[0] >= recnum:\n",
    "            megadf = megadf[:recnum]\n",
    "            break\n",
    "\n",
    "print(\"megadf.shape: \", megadf.shape)"
   ]
  },
  {
   "cell_type": "code",
   "execution_count": 144,
   "metadata": {
    "colab": {
     "base_uri": "https://localhost:8080/"
    },
    "colab_type": "code",
    "id": "AH7_54wfhHMH",
    "outputId": "e234ab86-7a01-47b6-cb23-c073e10fbf3b"
   },
   "outputs": [
    {
     "name": "stdout",
     "output_type": "stream",
     "text": [
      "(30000, 250)\n"
     ]
    }
   ],
   "source": [
    "predata = megadf[\"embedding\"]\n",
    "data = np.matrix(predata.to_list())\n",
    "print(data.shape)"
   ]
  },
  {
   "cell_type": "markdown",
   "metadata": {
    "colab_type": "text",
    "id": "AHw4QXjahHMV"
   },
   "source": [
    "### Number of Clusters\n",
    "It is Recommended to Set this at the top parameters"
   ]
  },
  {
   "cell_type": "code",
   "execution_count": 145,
   "metadata": {
    "colab": {
     "base_uri": "https://localhost:8080/"
    },
    "colab_type": "code",
    "id": "NDTDoVfhhHMa",
    "outputId": "6834227e-c968-4fe6-a288-3e502641167a"
   },
   "outputs": [
    {
     "name": "stdout",
     "output_type": "stream",
     "text": [
      "usesqrt:  False\n",
      "k:  350\n"
     ]
    }
   ],
   "source": [
    "if usesqrt == True:\n",
    "    print(\"usesqrt: \", usesqrt)\n",
    "    sqrt_k = int(np.sqrt(data.shape[0]))\n",
    "    k = int(sqrt_k)\n",
    "else:\n",
    "    print(\"usesqrt: \", usesqrt)\n",
    "    k = k\n",
    "print(\"k: \", k)"
   ]
  },
  {
   "cell_type": "markdown",
   "metadata": {
    "colab_type": "text",
    "id": "KGn8OXrj2CJQ"
   },
   "source": [
    "## Clustering\n",
    "Please modify the functions here to change algorithm"
   ]
  },
  {
   "cell_type": "code",
   "execution_count": 146,
   "metadata": {
    "colab": {
     "base_uri": "https://localhost:8080/",
     "height": 104
    },
    "colab_type": "code",
    "id": "bQYesl8uhHMk",
    "outputId": "6b0bad20-a06c-40f3-a8c5-322bed5d81ce"
   },
   "outputs": [
    {
     "name": "stdout",
     "output_type": "stream",
     "text": [
      "Starting Clustering Process\n"
     ]
    },
    {
     "name": "stderr",
     "output_type": "stream",
     "text": [
      "/home/devashish/anaconda3/lib/python3.7/site-packages/sklearn/manifold/spectral_embedding_.py:235: UserWarning: Graph is not fully connected, spectral embedding may not work as expected.\n",
      "  warnings.warn(\"Graph is not fully connected, spectral embedding\"\n"
     ]
    },
    {
     "name": "stdout",
     "output_type": "stream",
     "text": [
      "done! 2540.0\n",
      "k_means.fit(data) Done!\n",
      "CPU times: user 1h 26min 36s, sys: 1min 8s, total: 1h 27min 44s\n",
      "Wall time: 42min 20s\n"
     ]
    }
   ],
   "source": [
    "%%time\n",
    "print(\"Starting Clustering Process\")\n",
    "start_time = time.time()\n",
    "model = cluster.SpectralClustering(n_clusters=k, eigen_solver=\"arpack\", random_state=42, affinity='nearest_neighbors', n_neighbors=10,  n_init = 20, n_jobs=-1)\n",
    "model.fit(data)\n",
    "end_time = time.time()\n",
    "timetrain = round(end_time-start_time, 2)\n",
    "print(\"done! {}\".format(timetrain))\n",
    "print(\"k_means.fit(data) Done!\")"
   ]
  },
  {
   "cell_type": "markdown",
   "metadata": {
    "colab_type": "text",
    "id": "CArLi48A6ABy"
   },
   "source": [
    "### Saving the output data into vars"
   ]
  },
  {
   "cell_type": "code",
   "execution_count": 147,
   "metadata": {
    "colab": {},
    "colab_type": "code",
    "id": "QIfHjjLShHM8"
   },
   "outputs": [],
   "source": [
    "affinity = model.affinity_matrix_\n",
    "labels = model.labels_\n",
    "megadf[\"clusterlabel\"]=labels\n",
    "affinityDF = pd.DataFrame(affinity)\n"
   ]
  },
  {
   "cell_type": "markdown",
   "metadata": {
    "colab_type": "text",
    "id": "katJKlYX3DVA"
   },
   "source": [
    "## Plotting"
   ]
  },
  {
   "cell_type": "code",
   "execution_count": 148,
   "metadata": {
    "colab": {
     "base_uri": "https://localhost:8080/"
    },
    "colab_type": "code",
    "id": "5RdhXBYhhHNG",
    "outputId": "ff87a9c6-03d2-4527-d0b0-710176d17b6a",
    "scrolled": true
   },
   "outputs": [
    {
     "data": {
      "text/plain": [
       "Text(0.5, 1.0, 'Spectral with k=350 records=30000 features=250 using glove')"
      ]
     },
     "execution_count": 148,
     "metadata": {},
     "output_type": "execute_result"
    },
    {
     "data": {
      "image/png": "[encoded data removed]",
      "text/plain": [
       "<Figure size 1152x1152 with 1 Axes>"
      ]
     },
     "metadata": {
      "needs_background": "light"
     },
     "output_type": "display_data"
    }
   ],
   "source": [
    "plt.figure(figsize=(16,16))\n",
    "titlestring = \"{} with k={} records={} features={} using {}\".format(__algo__, k, data.shape[0], data.shape[1], __emb__)\n",
    "snsplot = sns.countplot(\"clusterlabel\", data=megadf)\n",
    "snsplot.xaxis.label.set_size(20)\n",
    "snsplot.yaxis.label.set_size(20)\n",
    "plt.title(\n",
    "        titlestring,\n",
    "        fontdict = {'fontsize' : 30}\n",
    "    )"
   ]
  },
  {
   "cell_type": "markdown",
   "metadata": {},
   "source": [
    "### *Name given to saved files*"
   ]
  },
  {
   "cell_type": "code",
   "execution_count": 149,
   "metadata": {
    "scrolled": true
   },
   "outputs": [
    {
     "data": {
      "text/plain": [
       "'Spectral_glove_pmeans5_K350_R30000_F250'"
      ]
     },
     "execution_count": 149,
     "metadata": {},
     "output_type": "execute_result"
    }
   ],
   "source": [
    "features = data.shape[1]\n",
    "records = data.shape[0]\n",
    "name = \"{}_{}_{}_K{}_R{}_F{}\".format(__algo__, __emb__, __sentemb__, k, records, features)\n",
    "name"
   ]
  },
  {
   "cell_type": "markdown",
   "metadata": {
    "colab_type": "text",
    "id": "Auz4Iqgh4Run"
   },
   "source": [
    "### Saving Data"
   ]
  },
  {
   "cell_type": "markdown",
   "metadata": {},
   "source": [
    "Save model"
   ]
  },
  {
   "cell_type": "code",
   "execution_count": 150,
   "metadata": {},
   "outputs": [],
   "source": [
    "modelname = \"{}_model.pkl\".format(name)\n",
    "pickle.dump(model, open(modelDir + modelname, 'wb'))"
   ]
  },
  {
   "cell_type": "markdown",
   "metadata": {},
   "source": [
    "Save Plot"
   ]
  },
  {
   "cell_type": "code",
   "execution_count": 151,
   "metadata": {
    "colab": {},
    "colab_type": "code",
    "id": "l0RRWXwvQ9jz"
   },
   "outputs": [],
   "source": [
    "snspltname = \"{}_plt.png\".format(name)\n",
    "snsplot.figure.savefig(plotDir + snspltname)"
   ]
  },
  {
   "cell_type": "markdown",
   "metadata": {},
   "source": [
    "Save Megadf"
   ]
  },
  {
   "cell_type": "code",
   "execution_count": 152,
   "metadata": {
    "colab": {},
    "colab_type": "code",
    "id": "ZLHiM-gclArn"
   },
   "outputs": [],
   "source": [
    "clusterdfname = \"{}_clustered_megadf.pkl\".format(name)\n",
    "megadf.to_pickle(megadfDir + clusterdfname)"
   ]
  },
  {
   "cell_type": "markdown",
   "metadata": {},
   "source": [
    "Save Affinity"
   ]
  },
  {
   "cell_type": "code",
   "execution_count": 153,
   "metadata": {
    "colab": {},
    "colab_type": "code",
    "id": "N8MsneQ_vx4H"
   },
   "outputs": [
    {
     "name": "stdout",
     "output_type": "stream",
     "text": [
      "(30000, 1)\n",
      "RangeIndex(start=0, stop=1, step=1)\n"
     ]
    }
   ],
   "source": [
    "affinityDF = pd.DataFrame(affinity)\n",
    "affinityDFname = \"{}_affinity.pkl\".format(name)\n",
    "affinityDF.to_pickle(megadfDir + affinityDFname)\n",
    "print(affinityDF.shape)\n",
    "print(affinityDF.columns)"
   ]
  },
  {
   "cell_type": "markdown",
   "metadata": {
    "colab_type": "text",
    "id": "P0kYelyC5NqY"
   },
   "source": [
    "#### Open dataframe to test"
   ]
  },
  {
   "cell_type": "code",
   "execution_count": 154,
   "metadata": {
    "colab": {
     "base_uri": "https://localhost:8080/"
    },
    "colab_type": "code",
    "id": "VvsuuCMaQEj4",
    "outputId": "5b11f4b6-275c-441c-ebab-130b39dccf5a",
    "scrolled": false
   },
   "outputs": [
    {
     "data": {
      "text/html": [
       "<div>\n",
       "<style scoped>\n",
       "    .dataframe tbody tr th:only-of-type {\n",
       "        vertical-align: middle;\n",
       "    }\n",
       "\n",
       "    .dataframe tbody tr th {\n",
       "        vertical-align: top;\n",
       "    }\n",
       "\n",
       "    .dataframe thead th {\n",
       "        text-align: right;\n",
       "    }\n",
       "</style>\n",
       "<table border=\"1\" class=\"dataframe\">\n",
       "  <thead>\n",
       "    <tr style=\"text-align: right;\">\n",
       "      <th></th>\n",
       "      <th>id</th>\n",
       "      <th>title</th>\n",
       "      <th>abstract</th>\n",
       "      <th>clusterlabel</th>\n",
       "    </tr>\n",
       "  </thead>\n",
       "  <tbody>\n",
       "    <tr>\n",
       "      <td>29995</td>\n",
       "      <td>1639102</td>\n",
       "      <td>Age of onset of schizophrenia in siblings: A t...</td>\n",
       "      <td>[original, article, found, http, www, scienced...</td>\n",
       "      <td>244</td>\n",
       "    </tr>\n",
       "    <tr>\n",
       "      <td>29996</td>\n",
       "      <td>1639103</td>\n",
       "      <td>Reducing persistent auditory hallucinations by...</td>\n",
       "      <td>[copyright, british, psychological, society, f...</td>\n",
       "      <td>262</td>\n",
       "    </tr>\n",
       "    <tr>\n",
       "      <td>29997</td>\n",
       "      <td>1639104</td>\n",
       "      <td>Investigating Visual Knowledge in Dementia of ...</td>\n",
       "      <td>[original, article, found, http, www, scienced...</td>\n",
       "      <td>244</td>\n",
       "    </tr>\n",
       "    <tr>\n",
       "      <td>29998</td>\n",
       "      <td>1639105</td>\n",
       "      <td>Monaural ear advantages in simple and choice r...</td>\n",
       "      <td>[original, article, found, http, www, scienced...</td>\n",
       "      <td>244</td>\n",
       "    </tr>\n",
       "    <tr>\n",
       "      <td>29999</td>\n",
       "      <td>1639106</td>\n",
       "      <td>Routes to action in reaction time tasks</td>\n",
       "      <td>[original, publication, available, www, spring...</td>\n",
       "      <td>180</td>\n",
       "    </tr>\n",
       "  </tbody>\n",
       "</table>\n",
       "</div>"
      ],
      "text/plain": [
       "            id                                              title  \\\n",
       "29995  1639102  Age of onset of schizophrenia in siblings: A t...   \n",
       "29996  1639103  Reducing persistent auditory hallucinations by...   \n",
       "29997  1639104  Investigating Visual Knowledge in Dementia of ...   \n",
       "29998  1639105  Monaural ear advantages in simple and choice r...   \n",
       "29999  1639106            Routes to action in reaction time tasks   \n",
       "\n",
       "                                                abstract  clusterlabel  \n",
       "29995  [original, article, found, http, www, scienced...           244  \n",
       "29996  [copyright, british, psychological, society, f...           262  \n",
       "29997  [original, article, found, http, www, scienced...           244  \n",
       "29998  [original, article, found, http, www, scienced...           244  \n",
       "29999  [original, publication, available, www, spring...           180  "
      ]
     },
     "execution_count": 154,
     "metadata": {},
     "output_type": "execute_result"
    }
   ],
   "source": [
    "sub = megadf.loc[:, [\"id\", \"title\", \"abstract\", \"clusterlabel\"]]\n",
    "sub.tail()"
   ]
  },
  {
   "cell_type": "code",
   "execution_count": 155,
   "metadata": {},
   "outputs": [
    {
     "data": {
      "text/plain": [
       "Index(['id', 'title', 'abstract', 'embedding', 'clusterlabel'], dtype='object')"
      ]
     },
     "execution_count": 155,
     "metadata": {},
     "output_type": "execute_result"
    }
   ],
   "source": [
    "megadf.columns"
   ]
  },
  {
   "cell_type": "markdown",
   "metadata": {},
   "source": [
    "# Performance Testing and Distribution\n"
   ]
  },
  {
   "cell_type": "code",
   "execution_count": 156,
   "metadata": {},
   "outputs": [],
   "source": [
    "metadata = pd.DataFrame(columns=[\"Name\", \"Algo\", \"WordEmb\", \"SentEmb\", \"K\", \"R\", \"F\", \"SS\", \"CSavg\", \"CSmin\", \"CSmax\", \"T2Pavg\", \"T2LM\", \"T2LMP\", \"MEM\"])"
   ]
  },
  {
   "cell_type": "code",
   "execution_count": 157,
   "metadata": {},
   "outputs": [
    {
     "data": {
      "text/plain": [
       "{'Name': None,\n",
       " 'Algo': None,\n",
       " 'WordEmb': None,\n",
       " 'SentEmb': None,\n",
       " 'K': None,\n",
       " 'R': None,\n",
       " 'F': None,\n",
       " 'T2T': None,\n",
       " 'SS': None,\n",
       " 'DBS': None,\n",
       " 'CSavg': None,\n",
       " 'CSmin': None,\n",
       " 'CSmax': None,\n",
       " 'T2Pavg': None,\n",
       " 'T2LM': None,\n",
       " 'T2LMP': None,\n",
       " 'MEM': None}"
      ]
     },
     "execution_count": 157,
     "metadata": {},
     "output_type": "execute_result"
    }
   ],
   "source": [
    "metadict = {\n",
    "    \"Name\":None,                     #Name of the save file prefix\n",
    "    \"Algo\":None,                     #Name of the Clustering algorithm\n",
    "    \"WordEmb\":None,                  #Name of the Word Embeddings used (glove, w2v, ftt)\n",
    "    \"SentEmb\":None,                  #Name of Sentence Embedding algorithm used \n",
    "    \"K\":None, \"R\":None, \"F\":None,    #Number of clusters, records and fetures\n",
    "    \"T2T\":None,                      #Time required to train model\n",
    "    \"SS\":None,                       #Silhoutte Score\n",
    "    \"DBS\":None,                      #Davis Bouldin Score\n",
    "    \"CSavg\":None,                    #Average Cluster Size\n",
    "    \"CSmin\":None,                    #Minimum Cluster Size\n",
    "    \"CSmax\":None,                    #Maximum Cluster Size\n",
    "    \"T2Pavg\":None,                   #Average Time To Predict cluster of one record\n",
    "    \"T2LM\":None,                     #Average Time to Load Model\n",
    "    \"T2LMP\":None,                    #Amortized time to Predict after loading the model\n",
    "    \"MEM\":None                      #Memory used by the Model\n",
    "    }\n",
    "metadict"
   ]
  },
  {
   "cell_type": "code",
   "execution_count": 158,
   "metadata": {},
   "outputs": [
    {
     "data": {
      "text/plain": [
       "{'Name': 'Spectral_glove_pmeans5_K350_R30000_F250',\n",
       " 'Algo': 'Spectral',\n",
       " 'WordEmb': 'glove',\n",
       " 'SentEmb': 'pmeans5',\n",
       " 'K': 350,\n",
       " 'R': 30000,\n",
       " 'F': 250,\n",
       " 'T2T': None,\n",
       " 'SS': None,\n",
       " 'DBS': None,\n",
       " 'CSavg': None,\n",
       " 'CSmin': None,\n",
       " 'CSmax': None,\n",
       " 'T2Pavg': None,\n",
       " 'T2LM': None,\n",
       " 'T2LMP': None,\n",
       " 'MEM': None}"
      ]
     },
     "execution_count": 158,
     "metadata": {},
     "output_type": "execute_result"
    }
   ],
   "source": [
    "metadict[\"Name\"]=name\n",
    "metadict[\"Algo\"]=__algo__\n",
    "metadict[\"WordEmb\"]=__emb__\n",
    "metadict[\"SentEmb\"]=__sentemb__\n",
    "metadict[\"K\"]=k\n",
    "metadict[\"R\"]=recnum\n",
    "metadict[\"F\"]=features\n",
    "metadict"
   ]
  },
  {
   "cell_type": "markdown",
   "metadata": {},
   "source": [
    "#### Time to train"
   ]
  },
  {
   "cell_type": "code",
   "execution_count": 159,
   "metadata": {},
   "outputs": [],
   "source": [
    "metadict[\"T2T\"]=timetrain"
   ]
  },
  {
   "cell_type": "markdown",
   "metadata": {},
   "source": [
    "#### Scores"
   ]
  },
  {
   "cell_type": "code",
   "execution_count": 160,
   "metadata": {},
   "outputs": [],
   "source": [
    "ss = silhouette_score(data, labels, metric = 'euclidean')\n",
    "dbs = davies_bouldin_score(data, labels)\n",
    "metadict[\"SS\"]=ss\n",
    "metadict[\"DBS\"]=dbs"
   ]
  },
  {
   "cell_type": "markdown",
   "metadata": {},
   "source": [
    "#### Cluster Size"
   ]
  },
  {
   "cell_type": "code",
   "execution_count": 161,
   "metadata": {},
   "outputs": [
    {
     "data": {
      "text/html": [
       "<div>\n",
       "<style scoped>\n",
       "    .dataframe tbody tr th:only-of-type {\n",
       "        vertical-align: middle;\n",
       "    }\n",
       "\n",
       "    .dataframe tbody tr th {\n",
       "        vertical-align: top;\n",
       "    }\n",
       "\n",
       "    .dataframe thead th {\n",
       "        text-align: right;\n",
       "    }\n",
       "</style>\n",
       "<table border=\"1\" class=\"dataframe\">\n",
       "  <thead>\n",
       "    <tr style=\"text-align: right;\">\n",
       "      <th></th>\n",
       "      <th>clusterlabel</th>\n",
       "      <th>count</th>\n",
       "    </tr>\n",
       "  </thead>\n",
       "  <tbody>\n",
       "    <tr>\n",
       "      <td>0</td>\n",
       "      <td>0</td>\n",
       "      <td>9</td>\n",
       "    </tr>\n",
       "    <tr>\n",
       "      <td>1</td>\n",
       "      <td>1</td>\n",
       "      <td>4372</td>\n",
       "    </tr>\n",
       "    <tr>\n",
       "      <td>2</td>\n",
       "      <td>2</td>\n",
       "      <td>19</td>\n",
       "    </tr>\n",
       "    <tr>\n",
       "      <td>3</td>\n",
       "      <td>3</td>\n",
       "      <td>1401</td>\n",
       "    </tr>\n",
       "    <tr>\n",
       "      <td>4</td>\n",
       "      <td>4</td>\n",
       "      <td>9</td>\n",
       "    </tr>\n",
       "  </tbody>\n",
       "</table>\n",
       "</div>"
      ],
      "text/plain": [
       "   clusterlabel  count\n",
       "0             0      9\n",
       "1             1   4372\n",
       "2             2     19\n",
       "3             3   1401\n",
       "4             4      9"
      ]
     },
     "execution_count": 161,
     "metadata": {},
     "output_type": "execute_result"
    }
   ],
   "source": [
    "clusterdata = megadf.groupby(\"clusterlabel\", as_index=True).size().reset_index(name=\"count\")\n",
    "clusterdata.head()"
   ]
  },
  {
   "cell_type": "code",
   "execution_count": 162,
   "metadata": {},
   "outputs": [],
   "source": [
    "clusterdfname = \"{}_clustered_counts.pkl\".format(name)\n",
    "clusterdata.to_pickle(megadfDir + clusterdfname)"
   ]
  },
  {
   "cell_type": "code",
   "execution_count": 163,
   "metadata": {
    "scrolled": true
   },
   "outputs": [
    {
     "data": {
      "text/html": [
       "<div>\n",
       "<style scoped>\n",
       "    .dataframe tbody tr th:only-of-type {\n",
       "        vertical-align: middle;\n",
       "    }\n",
       "\n",
       "    .dataframe tbody tr th {\n",
       "        vertical-align: top;\n",
       "    }\n",
       "\n",
       "    .dataframe thead th {\n",
       "        text-align: right;\n",
       "    }\n",
       "</style>\n",
       "<table border=\"1\" class=\"dataframe\">\n",
       "  <thead>\n",
       "    <tr style=\"text-align: right;\">\n",
       "      <th></th>\n",
       "      <th>count</th>\n",
       "      <th>clusters</th>\n",
       "    </tr>\n",
       "  </thead>\n",
       "  <tbody>\n",
       "    <tr>\n",
       "      <td>0</td>\n",
       "      <td>5</td>\n",
       "      <td>3</td>\n",
       "    </tr>\n",
       "    <tr>\n",
       "      <td>1</td>\n",
       "      <td>6</td>\n",
       "      <td>3</td>\n",
       "    </tr>\n",
       "    <tr>\n",
       "      <td>2</td>\n",
       "      <td>7</td>\n",
       "      <td>11</td>\n",
       "    </tr>\n",
       "  </tbody>\n",
       "</table>\n",
       "</div>"
      ],
      "text/plain": [
       "   count  clusters\n",
       "0      5         3\n",
       "1      6         3\n",
       "2      7        11"
      ]
     },
     "metadata": {},
     "output_type": "display_data"
    },
    {
     "data": {
      "text/html": [
       "<div>\n",
       "<style scoped>\n",
       "    .dataframe tbody tr th:only-of-type {\n",
       "        vertical-align: middle;\n",
       "    }\n",
       "\n",
       "    .dataframe tbody tr th {\n",
       "        vertical-align: top;\n",
       "    }\n",
       "\n",
       "    .dataframe thead th {\n",
       "        text-align: right;\n",
       "    }\n",
       "</style>\n",
       "<table border=\"1\" class=\"dataframe\">\n",
       "  <thead>\n",
       "    <tr style=\"text-align: right;\">\n",
       "      <th></th>\n",
       "      <th>count</th>\n",
       "      <th>clusters</th>\n",
       "    </tr>\n",
       "  </thead>\n",
       "  <tbody>\n",
       "    <tr>\n",
       "      <td>95</td>\n",
       "      <td>1522</td>\n",
       "      <td>1</td>\n",
       "    </tr>\n",
       "    <tr>\n",
       "      <td>96</td>\n",
       "      <td>1772</td>\n",
       "      <td>1</td>\n",
       "    </tr>\n",
       "    <tr>\n",
       "      <td>97</td>\n",
       "      <td>4372</td>\n",
       "      <td>1</td>\n",
       "    </tr>\n",
       "  </tbody>\n",
       "</table>\n",
       "</div>"
      ],
      "text/plain": [
       "    count  clusters\n",
       "95   1522         1\n",
       "96   1772         1\n",
       "97   4372         1"
      ]
     },
     "metadata": {},
     "output_type": "display_data"
    }
   ],
   "source": [
    "countdata = clusterdata.groupby(\"count\").size().reset_index(name=\"clusters\")\n",
    "display(countdata.head(3))\n",
    "display(countdata.tail(3))"
   ]
  },
  {
   "cell_type": "code",
   "execution_count": 164,
   "metadata": {},
   "outputs": [],
   "source": [
    "metadict[\"CSmax\"] = max(clusterdata[\"count\"])\n",
    "metadict[\"CSmin\"] = min(clusterdata[\"count\"])\n",
    "metadict[\"CSavg\"] = np.mean(clusterdata[\"count\"])"
   ]
  },
  {
   "cell_type": "code",
   "execution_count": 165,
   "metadata": {},
   "outputs": [
    {
     "data": {
      "image/png": "[encoded data removed]",
      "text/plain": [
       "<Figure size 1152x1152 with 1 Axes>"
      ]
     },
     "metadata": {
      "needs_background": "light"
     },
     "output_type": "display_data"
    }
   ],
   "source": [
    "%matplotlib inline\n",
    "plt.figure(figsize=(16,16))\n",
    "\n",
    "sns.axes_style(\"whitegrid\", {\"axes.grid\":True, \n",
    "                            'axes.spines.left': False,\n",
    "                             'axes.spines.bottom': False,\n",
    "                             'axes.spines.right': False,\n",
    "                             'axes.spines.top': False})\n",
    "\n",
    "\n",
    "titlestring = \"{}_Cluster_Distribution\".format(name)\n",
    "snsplot = sns.distplot(clusterdata[\"count\"], kde=False, bins=max(clusterdata[\"count\"]),\n",
    "                      hist_kws={'edgecolor':'black'},)\n",
    "snsplot.set(xlabel=\"Number of Papers\", ylabel=\"Number of Clusters\")\n",
    "snsplot.xaxis.label.set_size(20)\n",
    "snsplot.yaxis.label.set_size(20)\n",
    "plt.title(\n",
    "        titlestring,\n",
    "        fontdict = {'fontsize' : 25}\n",
    "    )\n",
    "plt.show()\n",
    "\n"
   ]
  },
  {
   "cell_type": "code",
   "execution_count": 166,
   "metadata": {},
   "outputs": [],
   "source": [
    "snspltname = \"{}_Cluster_Distribution.png\".format(name)\n",
    "snsplot.figure.savefig(plotDir + snspltname)"
   ]
  },
  {
   "cell_type": "markdown",
   "metadata": {},
   "source": [
    "#### Prediction Time Performance"
   ]
  },
  {
   "cell_type": "code",
   "execution_count": 167,
   "metadata": {},
   "outputs": [
    {
     "name": "stdout",
     "output_type": "stream",
     "text": [
      "(2000, 250)\n"
     ]
    }
   ],
   "source": [
    "testdf = pd.DataFrame()\n",
    "if recnum < 2000:\n",
    "    samplenum = int(recnum / 10)\n",
    "else:\n",
    "    samplenum = 2000\n",
    "\n",
    "for f in smalllist:\n",
    "    tempdf = pd.read_pickle(f)\n",
    "    testdf = megadf.append(tempdf, ignore_index = True, sort = False)\n",
    "testdf = testdf.sample(samplenum, random_state=int(time.time()%100000))\n",
    "predata = testdf[\"embedding\"]\n",
    "data = np.matrix(predata.to_list())\n",
    "print(data.shape)"
   ]
  },
  {
   "cell_type": "code",
   "execution_count": 168,
   "metadata": {},
   "outputs": [],
   "source": [
    "# print(\"Starting Predicting Performance\")\n",
    "# testmodel = model\n",
    "# start_time = time.time()\n",
    "# for d in data:\n",
    "#     lb = testmodel.predict(d)\n",
    "# end_time = time.time()\n",
    "# timetest = end_time-start_time\n",
    "# avgtime = timetest/data.shape[0]\n",
    "# print(\"Avgtime: {} Totaltime: {}\".format(avgtime, timetest))\n",
    "avgtime = timetrain\n",
    "metadict[\"T2Pavg\"]=avgtime"
   ]
  },
  {
   "cell_type": "code",
   "execution_count": 169,
   "metadata": {
    "scrolled": true
   },
   "outputs": [
    {
     "name": "stdout",
     "output_type": "stream",
     "text": [
      "Starting Loading Performance\n",
      "Avgtime: 0.0027181291580200195 Totaltime: 0.13590645790100098\n"
     ]
    },
    {
     "data": {
      "text/plain": [
       "0.0027181291580200195"
      ]
     },
     "execution_count": 169,
     "metadata": {},
     "output_type": "execute_result"
    }
   ],
   "source": [
    "print(\"Starting Loading Performance\")\n",
    "loadruns = 50\n",
    "start_time = time.time()\n",
    "for i in range(loadruns):\n",
    "    testmodel = pickle.load(open(modelDir + modelname, 'rb'))\n",
    "end_time = time.time()\n",
    "timetest = end_time-start_time\n",
    "avgtime = timetest/loadruns\n",
    "print(\"Avgtime: {} Totaltime: {}\".format(avgtime, timetest))\n",
    "metadict[\"T2LM\"] = avgtime\n",
    "avgtime"
   ]
  },
  {
   "cell_type": "code",
   "execution_count": 170,
   "metadata": {
    "scrolled": true
   },
   "outputs": [
    {
     "data": {
      "text/plain": [
       "2540.0"
      ]
     },
     "execution_count": 170,
     "metadata": {},
     "output_type": "execute_result"
    }
   ],
   "source": [
    "# print(\"Starting Amortized Performance\")\n",
    "# loadruns = 5\n",
    "# avglist = []\n",
    "\n",
    "# for i in range(loadruns):\n",
    "#     start_time = time.time()\n",
    "#     testmodel = pickle.load(open(modelDir + modelname, 'rb'))\n",
    "#     for d in data:\n",
    "#         lb = testmodel.predict(d)\n",
    "#     end_time = time.time()\n",
    "#     timetest = (end_time-start_time)/data.shape[0]\n",
    "#     avglist.append(timetest)\n",
    "\n",
    "# timetest = np.sum(avglist)\n",
    "# avgtime = np.mean(avglist)\n",
    "# print(\"Avgtime: {} Totaltime: {}\".format(avgtime, timetest))\n",
    "avgtime = timetrain\n",
    "metadict[\"T2LMP\"] = avgtime\n",
    "avgtime"
   ]
  },
  {
   "cell_type": "code",
   "execution_count": 171,
   "metadata": {},
   "outputs": [
    {
     "name": "stdout",
     "output_type": "stream",
     "text": [
      "modelsize: 6110417 bytes\n"
     ]
    }
   ],
   "source": [
    "modelsize = sys.getsizeof(pickle.dumps(model))\n",
    "print(\"modelsize:\", modelsize, \"bytes\")\n",
    "metadict[\"MEM\"]=modelsize"
   ]
  },
  {
   "cell_type": "code",
   "execution_count": 172,
   "metadata": {
    "scrolled": true
   },
   "outputs": [
    {
     "data": {
      "text/plain": [
       "{'Name': 'Spectral_glove_pmeans5_K350_R30000_F250',\n",
       " 'Algo': 'Spectral',\n",
       " 'WordEmb': 'glove',\n",
       " 'SentEmb': 'pmeans5',\n",
       " 'K': 350,\n",
       " 'R': 30000,\n",
       " 'F': 250,\n",
       " 'T2T': 2540.0,\n",
       " 'SS': 0.004851195785810773,\n",
       " 'DBS': 2.335602826496675,\n",
       " 'CSavg': 85.71428571428571,\n",
       " 'CSmin': 5,\n",
       " 'CSmax': 4372,\n",
       " 'T2Pavg': 2540.0,\n",
       " 'T2LM': 0.0027181291580200195,\n",
       " 'T2LMP': 2540.0,\n",
       " 'MEM': 6110417}"
      ]
     },
     "execution_count": 172,
     "metadata": {},
     "output_type": "execute_result"
    }
   ],
   "source": [
    "metadict"
   ]
  },
  {
   "cell_type": "code",
   "execution_count": 173,
   "metadata": {},
   "outputs": [
    {
     "data": {
      "text/html": [
       "<div>\n",
       "<style scoped>\n",
       "    .dataframe tbody tr th:only-of-type {\n",
       "        vertical-align: middle;\n",
       "    }\n",
       "\n",
       "    .dataframe tbody tr th {\n",
       "        vertical-align: top;\n",
       "    }\n",
       "\n",
       "    .dataframe thead th {\n",
       "        text-align: right;\n",
       "    }\n",
       "</style>\n",
       "<table border=\"1\" class=\"dataframe\">\n",
       "  <thead>\n",
       "    <tr style=\"text-align: right;\">\n",
       "      <th></th>\n",
       "      <th>Name</th>\n",
       "      <th>Algo</th>\n",
       "      <th>WordEmb</th>\n",
       "      <th>SentEmb</th>\n",
       "      <th>K</th>\n",
       "      <th>R</th>\n",
       "      <th>F</th>\n",
       "      <th>SS</th>\n",
       "      <th>CSavg</th>\n",
       "      <th>CSmin</th>\n",
       "      <th>CSmax</th>\n",
       "      <th>T2Pavg</th>\n",
       "      <th>T2LM</th>\n",
       "      <th>T2LMP</th>\n",
       "      <th>MEM</th>\n",
       "      <th>DBS</th>\n",
       "      <th>T2T</th>\n",
       "    </tr>\n",
       "  </thead>\n",
       "  <tbody>\n",
       "    <tr>\n",
       "      <td>0</td>\n",
       "      <td>Spectral_glove_pmeans5_K350_R30000_F250</td>\n",
       "      <td>Spectral</td>\n",
       "      <td>glove</td>\n",
       "      <td>pmeans5</td>\n",
       "      <td>350</td>\n",
       "      <td>30000</td>\n",
       "      <td>250</td>\n",
       "      <td>0.004851</td>\n",
       "      <td>85.714286</td>\n",
       "      <td>5</td>\n",
       "      <td>4372</td>\n",
       "      <td>2540.0</td>\n",
       "      <td>0.002718</td>\n",
       "      <td>2540.0</td>\n",
       "      <td>6110417</td>\n",
       "      <td>2.335603</td>\n",
       "      <td>2540.0</td>\n",
       "    </tr>\n",
       "  </tbody>\n",
       "</table>\n",
       "</div>"
      ],
      "text/plain": [
       "                                      Name      Algo WordEmb  SentEmb    K  \\\n",
       "0  Spectral_glove_pmeans5_K350_R30000_F250  Spectral   glove  pmeans5  350   \n",
       "\n",
       "       R    F        SS      CSavg CSmin CSmax  T2Pavg      T2LM   T2LMP  \\\n",
       "0  30000  250  0.004851  85.714286     5  4372  2540.0  0.002718  2540.0   \n",
       "\n",
       "       MEM       DBS     T2T  \n",
       "0  6110417  2.335603  2540.0  "
      ]
     },
     "execution_count": 173,
     "metadata": {},
     "output_type": "execute_result"
    }
   ],
   "source": [
    "metadata = metadata.append(metadict, ignore_index=True)\n",
    "metadata"
   ]
  },
  {
   "cell_type": "code",
   "execution_count": 174,
   "metadata": {},
   "outputs": [],
   "source": [
    "metadataname = \"{}_metadata.pkl\".format(name)\n",
    "metadata.to_pickle(metadataDir + metadataname)"
   ]
  },
  {
   "cell_type": "code",
   "execution_count": null,
   "metadata": {},
   "outputs": [],
   "source": []
  }
 ],
 "metadata": {
  "colab": {
   "collapsed_sections": [],
   "include_colab_link": true,
   "name": "TemplateClusterKEuclid.ipynb",
   "provenance": []
  },
  "file_extension": ".py",
  "kernelspec": {
   "display_name": "Python 3.7.4 64-bit ('base': conda)",
   "language": "python",
   "name": "python37464bitbasecondaccb10e44a6224ec5a8090d4d6e72e602"
  },
  "language_info": {
   "codemirror_mode": {
    "name": "ipython",
    "version": 3
   },
   "file_extension": ".py",
   "mimetype": "text/x-python",
   "name": "python",
   "nbconvert_exporter": "python",
   "pygments_lexer": "ipython3",
   "version": "3.7.4"
  },
  "mimetype": "text/x-python",
  "name": "python",
  "npconvert_exporter": "python",
  "pygments_lexer": "ipython3",
  "version": 3
 },
 "nbformat": 4,
 "nbformat_minor": 1
}

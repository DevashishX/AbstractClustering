{
  "nbformat": 4,
  "nbformat_minor": 0,
  "metadata": {
    "colab": {
      "name": "BaseTemplate.ipynb",
      "provenance": [],
      "collapsed_sections": []
    },
    "file_extension": ".py",
    "kernelspec": {
      "display_name": "Python 3.7.4 64-bit ('base': conda)",
      "language": "python",
      "name": "python37464bitbasecondaccb10e44a6224ec5a8090d4d6e72e602"
    },
    "language_info": {
      "codemirror_mode": {
        "name": "ipython",
        "version": 3
      },
      "file_extension": ".py",
      "mimetype": "text/x-python",
      "name": "python",
      "nbconvert_exporter": "python",
      "pygments_lexer": "ipython3",
      "version": "3.7.4"
    },
    "mimetype": "text/x-python",
    "name": "python",
    "npconvert_exporter": "python",
    "pygments_lexer": "ipython3",
    "version": 3
  },
  "cells": [
    {
      "cell_type": "code",
      "metadata": {
        "id": "6dDK9BtZ7aqn",
        "colab_type": "code",
        "outputId": "4113b3d2-00f8-4c8b-9284-bee29afde03e",
        "colab": {
          "base_uri": "https://localhost:8080/",
          "height": 454
        }
      },
      "source": [
        "import subprocess\n",
        "print((subprocess.check_output(\"lscpu\", shell=True).strip()).decode())"
      ],
      "execution_count": 0,
      "outputs": [
        {
          "output_type": "stream",
          "text": [
            "Architecture:        x86_64\n",
            "CPU op-mode(s):      32-bit, 64-bit\n",
            "Byte Order:          Little Endian\n",
            "CPU(s):              2\n",
            "On-line CPU(s) list: 0,1\n",
            "Thread(s) per core:  2\n",
            "Core(s) per socket:  1\n",
            "Socket(s):           1\n",
            "NUMA node(s):        1\n",
            "Vendor ID:           GenuineIntel\n",
            "CPU family:          6\n",
            "Model:               63\n",
            "Model name:          Intel(R) Xeon(R) CPU @ 2.30GHz\n",
            "Stepping:            0\n",
            "CPU MHz:             2300.000\n",
            "BogoMIPS:            4600.00\n",
            "Hypervisor vendor:   KVM\n",
            "Virtualization type: full\n",
            "L1d cache:           32K\n",
            "L1i cache:           32K\n",
            "L2 cache:            256K\n",
            "L3 cache:            46080K\n",
            "NUMA node0 CPU(s):   0,1\n",
            "Flags:               fpu vme de pse tsc msr pae mce cx8 apic sep mtrr pge mca cmov pat pse36 clflush mmx fxsr sse sse2 ss ht syscall nx pdpe1gb rdtscp lm constant_tsc rep_good nopl xtopology nonstop_tsc cpuid tsc_known_freq pni pclmulqdq ssse3 fma cx16 pcid sse4_1 sse4_2 x2apic movbe popcnt aes xsave avx f16c rdrand hypervisor lahf_lm abm invpcid_single ssbd ibrs ibpb stibp fsgsbase tsc_adjust bmi1 avx2 smep bmi2 erms invpcid xsaveopt arat md_clear arch_capabilities\n"
          ],
          "name": "stdout"
        }
      ]
    },
    {
      "cell_type": "code",
      "metadata": {
        "id": "UmzP0_ie7e2q",
        "colab_type": "code",
        "outputId": "db98bf36-3b96-4bde-c504-980b2e2fdb0c",
        "colab": {
          "base_uri": "https://localhost:8080/",
          "height": 156
        }
      },
      "source": [
        "!git clone https://github.com/DevashishX/AbstractClustering.git; "
      ],
      "execution_count": 0,
      "outputs": [
        {
          "output_type": "stream",
          "text": [
            "Cloning into 'AbstractClustering'...\n",
            "remote: Enumerating objects: 68, done.\u001b[K\n",
            "remote: Counting objects:   1% (1/68)\u001b[K\rremote: Counting objects:   2% (2/68)\u001b[K\rremote: Counting objects:   4% (3/68)\u001b[K\rremote: Counting objects:   5% (4/68)\u001b[K\rremote: Counting objects:   7% (5/68)\u001b[K\rremote: Counting objects:   8% (6/68)\u001b[K\rremote: Counting objects:  10% (7/68)\u001b[K\rremote: Counting objects:  11% (8/68)\u001b[K\rremote: Counting objects:  13% (9/68)\u001b[K\rremote: Counting objects:  14% (10/68)\u001b[K\rremote: Counting objects:  16% (11/68)\u001b[K\rremote: Counting objects:  17% (12/68)\u001b[K\rremote: Counting objects:  19% (13/68)\u001b[K\rremote: Counting objects:  20% (14/68)\u001b[K\rremote: Counting objects:  22% (15/68)\u001b[K\rremote: Counting objects:  23% (16/68)\u001b[K\rremote: Counting objects:  25% (17/68)\u001b[K\rremote: Counting objects:  26% (18/68)\u001b[K\rremote: Counting objects:  27% (19/68)\u001b[K\rremote: Counting objects:  29% (20/68)\u001b[K\rremote: Counting objects:  30% (21/68)\u001b[K\rremote: Counting objects:  32% (22/68)\u001b[K\rremote: Counting objects:  33% (23/68)\u001b[K\rremote: Counting objects:  35% (24/68)\u001b[K\rremote: Counting objects:  36% (25/68)\u001b[K\rremote: Counting objects:  38% (26/68)\u001b[K\rremote: Counting objects:  39% (27/68)\u001b[K\rremote: Counting objects:  41% (28/68)\u001b[K\rremote: Counting objects:  42% (29/68)\u001b[K\rremote: Counting objects:  44% (30/68)\u001b[K\rremote: Counting objects:  45% (31/68)\u001b[K\rremote: Counting objects:  47% (32/68)\u001b[K\rremote: Counting objects:  48% (33/68)\u001b[K\rremote: Counting objects:  50% (34/68)\u001b[K\rremote: Counting objects:  51% (35/68)\u001b[K\rremote: Counting objects:  52% (36/68)\u001b[K\rremote: Counting objects:  54% (37/68)\u001b[K\rremote: Counting objects:  55% (38/68)\u001b[K\rremote: Counting objects:  57% (39/68)\u001b[K\rremote: Counting objects:  58% (40/68)\u001b[K\rremote: Counting objects:  60% (41/68)\u001b[K\rremote: Counting objects:  61% (42/68)\u001b[K\rremote: Counting objects:  63% (43/68)\u001b[K\rremote: Counting objects:  64% (44/68)\u001b[K\rremote: Counting objects:  66% (45/68)\u001b[K\rremote: Counting objects:  67% (46/68)\u001b[K\rremote: Counting objects:  69% (47/68)\u001b[K\rremote: Counting objects:  70% (48/68)\u001b[K\rremote: Counting objects:  72% (49/68)\u001b[K\rremote: Counting objects:  73% (50/68)\u001b[K\rremote: Counting objects:  75% (51/68)\u001b[K\rremote: Counting objects:  76% (52/68)\u001b[K\rremote: Counting objects:  77% (53/68)\u001b[K\rremote: Counting objects:  79% (54/68)\u001b[K\rremote: Counting objects:  80% (55/68)\u001b[K\rremote: Counting objects:  82% (56/68)\u001b[K\rremote: Counting objects:  83% (57/68)\u001b[K\rremote: Counting objects:  85% (58/68)\u001b[K\rremote: Counting objects:  86% (59/68)\u001b[K\rremote: Counting objects:  88% (60/68)\u001b[K\rremote: Counting objects:  89% (61/68)\u001b[K\rremote: Counting objects:  91% (62/68)\u001b[K\rremote: Counting objects:  92% (63/68)\u001b[K\rremote: Counting objects:  94% (64/68)\u001b[K\rremote: Counting objects:  95% (65/68)\u001b[K\rremote: Counting objects:  97% (66/68)\u001b[K\rremote: Counting objects:  98% (67/68)\u001b[K\rremote: Counting objects: 100% (68/68)\u001b[K\rremote: Counting objects: 100% (68/68), done.\u001b[K\n",
            "remote: Compressing objects: 100% (59/59), done.\u001b[K\n",
            "remote: Total 616 (delta 32), reused 42 (delta 9), pack-reused 548\u001b[K\n",
            "Receiving objects: 100% (616/616), 669.95 MiB | 29.04 MiB/s, done.\n",
            "Resolving deltas: 100% (286/286), done.\n",
            "Checking out files: 100% (367/367), done.\n"
          ],
          "name": "stdout"
        }
      ]
    },
    {
      "cell_type": "code",
      "metadata": {
        "id": "rir7i4_T7jvF",
        "colab_type": "code",
        "outputId": "baf4ec36-0f47-4ea0-af2c-25b638692332",
        "colab": {
          "base_uri": "https://localhost:8080/",
          "height": 885
        }
      },
      "source": [
        "!cp -r AbstractClustering/* ./.\n",
        "!ls -alFh"
      ],
      "execution_count": 0,
      "outputs": [
        {
          "output_type": "stream",
          "text": [
            "total 140M\n",
            "drwxr-xr-x  1 root root 4.0K Apr 16 21:39  ./\n",
            "drwxr-xr-x  1 root root 4.0K Apr 16 21:37  ../\n",
            "drwxr-xr-x 15 root root 4.0K Apr 16 21:39  AbstractClustering/\n",
            "-rw-r--r--  1 root root  55K Apr 16 21:39  BaseTemplate.ipynb\n",
            "-rw-r--r--  1 root root  39M Apr 16 21:39  cleaned.7z\n",
            "-rw-r--r--  1 root root  26K Apr 16 21:39  ClusterKEuclid.ipynb\n",
            "-rw-r--r--  1 root root  60K Apr 16 21:39  ColabTemplate.ipynb\n",
            "drwxr-xr-x  1 root root 4.0K Apr 15 16:10  .config/\n",
            "-rw-r--r--  1 root root 3.7K Apr 16 21:39  convert_repository_json.py\n",
            "drwxr-xr-x  2 root root 4.0K Apr 16 21:39  CORE_files/\n",
            "-rw-r--r--  1 root root  33K Apr 16 21:39  CORE.html\n",
            "-rw-r--r--  1 root root  54K Apr 16 21:39  CreateSentenceEmbedding.ipynb\n",
            "drwxr-xr-x  2 root root 4.0K Apr 16 21:39  dataset/\n",
            "-rw-r--r--  1 root root  93K Apr 16 21:39  Devashish_word2vec_cluster.ipynb\n",
            "-rw-r--r--  1 root root 3.9M Apr 16 21:39  downloaded_sample_500.pkl\n",
            "-rw-r--r--  1 root root  27K Apr 16 21:39  example_tags.txt\n",
            "drwxr-xr-x  3 root root 4.0K Apr 16 21:39 'final app'/\n",
            "-rw-r--r--  1 root root 184K Apr 16 21:39  FindKTemplateClusterKEuclid.ipynb\n",
            "-rw-r--r--  1 root root  37K Apr 16 21:39  h_cluster.ipynb\n",
            "-rw-r--r--  1 root root    0 Apr 16 21:39  __init__.py\n",
            "-rw-r--r--  1 root root 912K Apr 16 21:39  Keras-DEC.ipynb\n",
            "-rw-r--r--  1 root root 1.1K Apr 16 21:39  LICENSE\n",
            "drwxr-xr-x  2 root root 4.0K Apr 16 21:39  MegaDfs/\n",
            "drwxr-xr-x  2 root root  12K Apr 16 21:39  MegaSentEmbs/\n",
            "drwxr-xr-x  2 root root 4.0K Apr 16 21:39  modelMetaData/\n",
            "drwxr-xr-x  2 root root 4.0K Apr 16 21:39  models/\n",
            "drwxr-xr-x  2 root root 4.0K Apr 16 21:39  OptimalK/\n",
            "drwxr-xr-x  2 root root 4.0K Apr 16 21:39  output/\n",
            "-rw-r--r--  1 root root  56M Apr 16 21:39  papers.7z\n",
            "-rw-r--r--  1 root root 1.3K Apr 16 21:39  papersqlite.py\n",
            "-rw-r--r--  1 root root  12K Apr 16 21:39  PickleViewer.ipynb\n",
            "drwxr-xr-x  2 root root  12K Apr 16 21:39  PklCleaned/\n",
            "-rw-r--r--  1 root root  39M Apr 16 21:39  PklCleaned.7z\n",
            "-rw-r--r--  1 root root  61K Apr 16 21:39  plot_dbscan.ipynb\n",
            "drwxr-xr-x  2 root root 4.0K Apr 16 21:39  plots/\n",
            "-rw-r--r--  1 root root 1.4K Apr 16 21:39  preprocessing.py\n",
            "-rw-r--r--  1 root root   31 Apr 16 21:39  README.md\n",
            "drwxr-xr-x  1 root root 4.0K Apr  3 16:24  sample_data/\n",
            "-rw-r--r--  1 root root 831K Apr 16 21:39  sample.html\n",
            "-rw-r--r--  1 root root  360 Apr 16 21:39  scripts.sh\n",
            "-rw-r--r--  1 root root 1.1K Apr 16 21:39  sentence_embedding.py\n",
            "-rw-r--r--  1 root root  22K Apr 16 21:39  splitembs.ipynb\n",
            "-rw-r--r--  1 root root  59K Apr 16 21:39  TemplateClusterKEuclid.ipynb\n",
            "drwxr-xr-x  2 root root 4.0K Apr 16 21:39  templates/\n",
            "-rw-r--r--  1 root root    0 Apr 16 21:39  test.txt\n",
            "-rw-r--r--  1 root root  51K Apr 16 21:39  Untitled.ipynb\n",
            "-rw-r--r--  1 root root  38K Apr 16 21:39  word2vec_cluster.ipynb\n",
            "-rw-r--r--  1 root root  11K Apr 16 21:39  word2vectest.ipynb\n",
            "-rw-r--r--  1 root root 2.0K Apr 16 21:39  word_embedding.py\n"
          ],
          "name": "stdout"
        }
      ]
    },
    {
      "cell_type": "code",
      "metadata": {
        "id": "8L-wCdVw7v4f",
        "colab_type": "code",
        "outputId": "24aafda1-f118-4750-d91b-431853151396",
        "colab": {
          "base_uri": "https://localhost:8080/",
          "height": 141
        }
      },
      "source": [
        "from google.colab import drive # import drive from google colab\n",
        "\n",
        "ROOT = \"/content/drive\"     # default location for the drive\n",
        "print(ROOT)                 # print content of ROOT (Optional)\n",
        "\n",
        "drive.mount(ROOT)"
      ],
      "execution_count": 0,
      "outputs": [
        {
          "output_type": "stream",
          "text": [
            "/content/drive\n",
            "Go to this URL in a browser: https://accounts.google.com/o/oauth2/auth?client_id=947318989803-6bn6qk8qdgf4n4g3pfee6491hc0brc4i.apps.googleusercontent.com&redirect_uri=urn%3aietf%3awg%3aoauth%3a2.0%3aoob&response_type=code&scope=email%20https%3a%2f%2fwww.googleapis.com%2fauth%2fdocs.test%20https%3a%2f%2fwww.googleapis.com%2fauth%2fdrive%20https%3a%2f%2fwww.googleapis.com%2fauth%2fdrive.photos.readonly%20https%3a%2f%2fwww.googleapis.com%2fauth%2fpeopleapi.readonly\n",
            "\n",
            "Enter your authorization code:\n",
            "··········\n",
            "Mounted at /content/drive\n"
          ],
          "name": "stdout"
        }
      ]
    },
    {
      "cell_type": "code",
      "metadata": {
        "id": "XA7MYB5Z7_oO",
        "colab_type": "code",
        "outputId": "9a8a38e7-4d45-484f-be9e-2f2927e27c66",
        "colab": {
          "base_uri": "https://localhost:8080/",
          "height": 434
        }
      },
      "source": [
        "!ls"
      ],
      "execution_count": 0,
      "outputs": [
        {
          "output_type": "stream",
          "text": [
            " AbstractClustering\t\t     OptimalK\n",
            " BaseTemplate.ipynb\t\t     output\n",
            " cleaned.7z\t\t\t     papers.7z\n",
            " ClusterKEuclid.ipynb\t\t     papersqlite.py\n",
            " ColabTemplate.ipynb\t\t     PickleViewer.ipynb\n",
            " convert_repository_json.py\t     PklCleaned\n",
            " CORE_files\t\t\t     PklCleaned.7z\n",
            " CORE.html\t\t\t     plot_dbscan.ipynb\n",
            " CreateSentenceEmbedding.ipynb\t     plots\n",
            " dataset\t\t\t     preprocessing.py\n",
            " Devashish_word2vec_cluster.ipynb    README.md\n",
            " downloaded_sample_500.pkl\t     sample_data\n",
            " drive\t\t\t\t     sample.html\n",
            " example_tags.txt\t\t     scripts.sh\n",
            "'final app'\t\t\t     sentence_embedding.py\n",
            " FindKTemplateClusterKEuclid.ipynb   splitembs.ipynb\n",
            " h_cluster.ipynb\t\t     TemplateClusterKEuclid.ipynb\n",
            " __init__.py\t\t\t     templates\n",
            " Keras-DEC.ipynb\t\t     test.txt\n",
            " LICENSE\t\t\t     Untitled.ipynb\n",
            " MegaDfs\t\t\t     word2vec_cluster.ipynb\n",
            " MegaSentEmbs\t\t\t     word2vectest.ipynb\n",
            " modelMetaData\t\t\t     word_embedding.py\n",
            " models\n"
          ],
          "name": "stdout"
        }
      ]
    },
    {
      "cell_type": "code",
      "metadata": {
        "id": "rSVMGkHZ-n6a",
        "colab_type": "code",
        "outputId": "a149e193-5018-4649-8e53-0957ac71fe44",
        "colab": {
          "base_uri": "https://localhost:8080/",
          "height": 34
        }
      },
      "source": [
        "cd AbstractClustering/"
      ],
      "execution_count": 0,
      "outputs": [
        {
          "output_type": "stream",
          "text": [
            "/content/AbstractClustering\n"
          ],
          "name": "stdout"
        }
      ]
    },
    {
      "cell_type": "markdown",
      "metadata": {
        "colab_type": "text",
        "id": "n6yRKl7Nx8NV"
      },
      "source": [
        "# ***Set parameters***"
      ]
    },
    {
      "cell_type": "code",
      "metadata": {
        "colab_type": "code",
        "id": "RLla__P2wqVL",
        "colab": {}
      },
      "source": [
        "__algo__ = \"KMEANS\"               #Name of the Clustering algorithm\n",
        "__emb__ = \"ftt\"                 #Name of the Word Embeddings used (glove, w2v, ftt), MUST set directory below\n",
        "__sentemb__ = \"pmeans5\"           #Name of Sentence Embedding algorithm used\n",
        "recnum = 3000                     #Number of records to be read from files\n",
        "k = 50                            #Number of Clusters\n",
        "usesqrt = False                   #Set value of k to sqrt of recnum, overrides k\n",
        "randomsample = False              #Random Sampling to be True/False for records which are read\n",
        "embedDir = \"../MegaSentEmbs/MegaSentEmbs/\"     #Directory where embeddings are saved for that selected embedding\n",
        "modelDir = \"../models/\"           #Directory where models are saved\n",
        "megadfDir = \"../MegaDfs/\"         #Directory Where Megadf is to be saved\n",
        "plotDir = \"../plots/\"             #Directory where plots are saved\n",
        "metadataDir = \"../modelMetaData/\" #Directory where performance and distribution params are to be stored\n",
        "dumpDir = \"../dump/\"              #Directory where test outcomes are saved"
      ],
      "execution_count": 0,
      "outputs": []
    },
    {
      "cell_type": "markdown",
      "metadata": {
        "colab_type": "text",
        "id": "LGy8jsWQx0nS"
      },
      "source": [
        "# Actual Code"
      ]
    },
    {
      "cell_type": "markdown",
      "metadata": {
        "colab_type": "text",
        "id": "II0jpbbTzD8M"
      },
      "source": [
        "### imports and time"
      ]
    },
    {
      "cell_type": "code",
      "metadata": {
        "colab_type": "code",
        "id": "wkS4KGOphHK4",
        "colab": {}
      },
      "source": [
        "import numpy as np\n",
        "import matplotlib.pyplot as plt\n",
        "import pandas as pd\n",
        "from sklearn import cluster, datasets\n",
        "from sklearn.metrics import silhouette_score, davies_bouldin_score\n",
        "import seaborn as sns\n",
        "import os, subprocess, sys\n",
        "import datetime, time\n",
        "import pickle"
      ],
      "execution_count": 0,
      "outputs": []
    },
    {
      "cell_type": "markdown",
      "metadata": {
        "colab_type": "text",
        "id": "X2T_-VrUzBVt"
      },
      "source": [
        "### File Settings"
      ]
    },
    {
      "cell_type": "code",
      "metadata": {
        "colab_type": "code",
        "id": "fAi1m08zhHLn",
        "outputId": "4d8e8d4d-0597-4c63-f324-e5c6c2d63f1c",
        "colab": {
          "base_uri": "https://localhost:8080/",
          "height": 34
        }
      },
      "source": [
        "oldlist = os.listdir(embedDir)\n",
        "filelist = sorted([embedDir+f for f in oldlist if f[-3:]==\"pkl\"])\n",
        "filenum = len(filelist)\n",
        "smalllist = filelist[:filenum]\n",
        "print(\"Length of Smalllist: \", len(smalllist))"
      ],
      "execution_count": 0,
      "outputs": [
        {
          "output_type": "stream",
          "text": [
            "Length of Smalllist:  123\n"
          ],
          "name": "stdout"
        }
      ]
    },
    {
      "cell_type": "markdown",
      "metadata": {
        "colab_type": "text",
        "id": "Verw6R-QVK24"
      },
      "source": [
        "### Number of Records\n",
        "It is Recommended to Set this at the top parameters"
      ]
    },
    {
      "cell_type": "code",
      "metadata": {
        "colab_type": "code",
        "id": "1KLrsnyYVN0R",
        "colab": {}
      },
      "source": [
        "recnum = recnum"
      ],
      "execution_count": 0,
      "outputs": []
    },
    {
      "cell_type": "markdown",
      "metadata": {
        "colab_type": "text",
        "id": "fN1QgBS0hHL1"
      },
      "source": [
        "### Read all the pandas dataframes"
      ]
    },
    {
      "cell_type": "code",
      "metadata": {
        "colab_type": "code",
        "id": "opx4vfnfhHL4",
        "outputId": "213eb0ee-6f94-48a9-f533-e9a51b8d6ce3",
        "colab": {
          "base_uri": "https://localhost:8080/",
          "height": 86
        }
      },
      "source": [
        "%%time\n",
        "megadf = pd.DataFrame()\n",
        "\n",
        "if randomsample == True:\n",
        "    print(\"randomsample: \", randomsample)\n",
        "    for f in smalllist:\n",
        "        tempdf = pd.read_pickle(f)\n",
        "        megadf = megadf.append(tempdf, ignore_index = True)\n",
        "    megadf = megadf.sample(recnum, random_state=42)\n",
        "else:\n",
        "    print(\"randomsample: \", randomsample)\n",
        "    for f in smalllist:\n",
        "        tempdf = pd.read_pickle(f)\n",
        "        megadf = megadf.append(tempdf, ignore_index = True)\n",
        "        if megadf.shape[0] >= recnum:\n",
        "            megadf = megadf[:recnum]\n",
        "            break\n",
        "\n",
        "print(\"megadf.shape: \", megadf.shape)"
      ],
      "execution_count": 0,
      "outputs": [
        {
          "output_type": "stream",
          "text": [
            "randomsample:  False\n",
            "megadf.shape:  (3000, 3)\n",
            "CPU times: user 63.7 ms, sys: 44.8 ms, total: 109 ms\n",
            "Wall time: 181 ms\n"
          ],
          "name": "stdout"
        }
      ]
    },
    {
      "cell_type": "code",
      "metadata": {
        "colab_type": "code",
        "id": "AH7_54wfhHMH",
        "outputId": "90f6f4ec-bf8b-4d2d-d67f-81e8b689b4d1",
        "colab": {
          "base_uri": "https://localhost:8080/",
          "height": 34
        }
      },
      "source": [
        "predata = megadf[\"embedding\"]\n",
        "data = np.matrix(predata.to_list())\n",
        "print(data.shape)"
      ],
      "execution_count": 0,
      "outputs": [
        {
          "output_type": "stream",
          "text": [
            "(3000, 1500)\n"
          ],
          "name": "stdout"
        }
      ]
    },
    {
      "cell_type": "markdown",
      "metadata": {
        "colab_type": "text",
        "id": "AHw4QXjahHMV"
      },
      "source": [
        "### Number of Clusters\n",
        "It is Recommended to Set this at the top parameters"
      ]
    },
    {
      "cell_type": "code",
      "metadata": {
        "colab_type": "code",
        "id": "NDTDoVfhhHMa",
        "outputId": "eca1c0d5-c173-40cd-f608-ff101d16c9af",
        "colab": {
          "base_uri": "https://localhost:8080/",
          "height": 52
        }
      },
      "source": [
        "if usesqrt == True:\n",
        "    print(\"usesqrt: \", usesqrt)\n",
        "    sqrt_k = int(np.sqrt(data.shape[0]))\n",
        "    k = int(sqrt_k)\n",
        "else:\n",
        "    print(\"usesqrt: \", usesqrt)\n",
        "    k = k\n",
        "print(\"k: \", k)"
      ],
      "execution_count": 0,
      "outputs": [
        {
          "output_type": "stream",
          "text": [
            "usesqrt:  False\n",
            "k:  50\n"
          ],
          "name": "stdout"
        }
      ]
    },
    {
      "cell_type": "markdown",
      "metadata": {
        "colab_type": "text",
        "id": "KGn8OXrj2CJQ"
      },
      "source": [
        "## Clustering\n",
        "Please modify the functions here to change algorithm"
      ]
    },
    {
      "cell_type": "code",
      "metadata": {
        "colab_type": "code",
        "id": "bQYesl8uhHMk",
        "outputId": "42accc43-6b1f-474b-b8ac-c40354e66671",
        "colab": {
          "base_uri": "https://localhost:8080/",
          "height": 104
        }
      },
      "source": [
        "%%time\n",
        "print(\"Starting Clustering Process\")\n",
        "start_time = time.time()\n",
        "model = cluster.KMeans(n_clusters=k, n_init = 20, max_iter=1000, verbose=1, n_jobs=-1)\n",
        "model.fit(data)\n",
        "end_time = time.time()\n",
        "timetrain = round(end_time-start_time, 2)\n",
        "print(\"done! {}\".format(timetrain))\n",
        "print(\"k_means.fit(data) Done!\")"
      ],
      "execution_count": 0,
      "outputs": [
        {
          "output_type": "stream",
          "text": [
            "Starting Clustering Process\n",
            "done! 84.2\n",
            "k_means.fit(data) Done!\n",
            "CPU times: user 123 ms, sys: 46.5 ms, total: 169 ms\n",
            "Wall time: 1min 24s\n"
          ],
          "name": "stdout"
        }
      ]
    },
    {
      "cell_type": "markdown",
      "metadata": {
        "colab_type": "text",
        "id": "CArLi48A6ABy"
      },
      "source": [
        "### Saving the output data into vars"
      ]
    },
    {
      "cell_type": "code",
      "metadata": {
        "colab_type": "code",
        "id": "QIfHjjLShHM8",
        "colab": {}
      },
      "source": [
        "centroids = model.cluster_centers_\n",
        "labels = model.labels_\n",
        "megadf[\"clusterlabel\"]=labels\n",
        "centroidDF = pd.DataFrame(centroids)\n"
      ],
      "execution_count": 0,
      "outputs": []
    },
    {
      "cell_type": "markdown",
      "metadata": {
        "colab_type": "text",
        "id": "katJKlYX3DVA"
      },
      "source": [
        "## Plotting"
      ]
    },
    {
      "cell_type": "code",
      "metadata": {
        "colab_type": "code",
        "id": "5RdhXBYhhHNG",
        "outputId": "9e2e62e7-ac33-413a-b760-daebfd469ace",
        "scrolled": true,
        "colab": {
          "base_uri": "https://localhost:8080/",
          "height": 987
        }
      },
      "source": [
        "plt.figure(figsize=(16,16))\n",
        "titlestring = \"{} with k={} records={} features={} using {}\".format(__algo__, k, data.shape[0], data.shape[1], __emb__)\n",
        "snsplot = sns.countplot(\"clusterlabel\", data=megadf)\n",
        "snsplot.xaxis.label.set_size(20)\n",
        "snsplot.yaxis.label.set_size(20)\n",
        "plt.title(\n",
        "        titlestring,\n",
        "        fontdict = {'fontsize' : 30}\n",
        "    )"
      ],
      "execution_count": 0,
      "outputs": [
        {
          "output_type": "execute_result",
          "data": {
            "text/plain": [
              "Text(0.5, 1.0, 'KMEANS with k=50 records=3000 features=1500 using ftt')"
            ]
          },
          "metadata": {
            "tags": []
          },
          "execution_count": 41
        },
        {
          "output_type": "display_data",
          "data": {
            "image/png": "[encoded data removed]",
            "text/plain": [
              "<Figure size 1152x1152 with 1 Axes>"
            ]
          },
          "metadata": {
            "tags": [],
            "needs_background": "light"
          }
        }
      ]
    },
    {
      "cell_type": "markdown",
      "metadata": {
        "id": "ydV_jDMc7Khd",
        "colab_type": "text"
      },
      "source": [
        "### *Name given to saved files*"
      ]
    },
    {
      "cell_type": "code",
      "metadata": {
        "scrolled": true,
        "id": "fbknS6Sm7Khg",
        "colab_type": "code",
        "outputId": "d1e68074-1fda-4a7c-ccf6-d5e27e200e1b",
        "colab": {
          "base_uri": "https://localhost:8080/",
          "height": 34
        }
      },
      "source": [
        "features = data.shape[1]\n",
        "records = data.shape[0]\n",
        "name = \"{}_{}_{}_K{}_R{}_F{}\".format(__algo__, __emb__, __sentemb__, k, records, features)\n",
        "name"
      ],
      "execution_count": 0,
      "outputs": [
        {
          "output_type": "execute_result",
          "data": {
            "text/plain": [
              "'KMEANS_ftt_pmeans5_K50_R3000_F1500'"
            ]
          },
          "metadata": {
            "tags": []
          },
          "execution_count": 42
        }
      ]
    },
    {
      "cell_type": "markdown",
      "metadata": {
        "colab_type": "text",
        "id": "Auz4Iqgh4Run"
      },
      "source": [
        "### Saving Data"
      ]
    },
    {
      "cell_type": "markdown",
      "metadata": {
        "id": "pkadiakK7Kht",
        "colab_type": "text"
      },
      "source": [
        "Save model"
      ]
    },
    {
      "cell_type": "code",
      "metadata": {
        "id": "y5O1sVm87Khu",
        "colab_type": "code",
        "colab": {}
      },
      "source": [
        "modelname = \"{}_model.pkl\".format(name)\n",
        "pickle.dump(model, open(modelDir + modelname, 'wb'))"
      ],
      "execution_count": 0,
      "outputs": []
    },
    {
      "cell_type": "markdown",
      "metadata": {
        "id": "OjJHKsr37Kh2",
        "colab_type": "text"
      },
      "source": [
        "Save Plot"
      ]
    },
    {
      "cell_type": "code",
      "metadata": {
        "colab_type": "code",
        "id": "l0RRWXwvQ9jz",
        "colab": {}
      },
      "source": [
        "snspltname = \"{}_plt.png\".format(name)\n",
        "snsplot.figure.savefig(plotDir + snspltname)"
      ],
      "execution_count": 0,
      "outputs": []
    },
    {
      "cell_type": "markdown",
      "metadata": {
        "id": "8jzCXaLM7KiE",
        "colab_type": "text"
      },
      "source": [
        "Save Megadf"
      ]
    },
    {
      "cell_type": "code",
      "metadata": {
        "colab_type": "code",
        "id": "ZLHiM-gclArn",
        "colab": {}
      },
      "source": [
        "clusterdfname = \"{}_clustered_megadf.pkl\".format(name)\n",
        "megadf.to_pickle(megadfDir + clusterdfname)"
      ],
      "execution_count": 0,
      "outputs": []
    },
    {
      "cell_type": "markdown",
      "metadata": {
        "id": "C-WtMrKq7KiM",
        "colab_type": "text"
      },
      "source": [
        "Save Centroids"
      ]
    },
    {
      "cell_type": "code",
      "metadata": {
        "colab_type": "code",
        "id": "N8MsneQ_vx4H",
        "outputId": "45049326-3416-47ec-a175-c5304a4b5309",
        "colab": {
          "base_uri": "https://localhost:8080/",
          "height": 34
        }
      },
      "source": [
        "centroidDF = pd.DataFrame(centroids)\n",
        "centroidDFname = \"{}_centroids.pkl\".format(name)\n",
        "centroidDF.to_pickle(megadfDir + centroidDFname)\n",
        "print(centroidDF.shape)"
      ],
      "execution_count": 0,
      "outputs": [
        {
          "output_type": "stream",
          "text": [
            "(50, 1500)\n"
          ],
          "name": "stdout"
        }
      ]
    },
    {
      "cell_type": "markdown",
      "metadata": {
        "colab_type": "text",
        "id": "P0kYelyC5NqY"
      },
      "source": [
        "#### Open dataframe to test"
      ]
    },
    {
      "cell_type": "code",
      "metadata": {
        "colab_type": "code",
        "id": "VvsuuCMaQEj4",
        "outputId": "b1535de8-9f8c-4242-f72c-bb8fb6cdd065",
        "scrolled": false,
        "colab": {
          "base_uri": "https://localhost:8080/",
          "height": 349
        }
      },
      "source": [
        "sub = megadf.loc[:, [\"id\", \"title\", \"abstract\", \"clusterlabel\"]]\n",
        "sub.tail()"
      ],
      "execution_count": 0,
      "outputs": [
        {
          "output_type": "error",
          "ename": "KeyError",
          "evalue": "ignored",
          "traceback": [
            "\u001b[0;31m---------------------------------------------------------------------------\u001b[0m",
            "\u001b[0;31mKeyError\u001b[0m                                  Traceback (most recent call last)",
            "\u001b[0;32m<ipython-input-47-dbbb43346404>\u001b[0m in \u001b[0;36m<module>\u001b[0;34m()\u001b[0m\n\u001b[0;32m----> 1\u001b[0;31m \u001b[0msub\u001b[0m \u001b[0;34m=\u001b[0m \u001b[0mmegadf\u001b[0m\u001b[0;34m.\u001b[0m\u001b[0mloc\u001b[0m\u001b[0;34m[\u001b[0m\u001b[0;34m:\u001b[0m\u001b[0;34m,\u001b[0m \u001b[0;34m[\u001b[0m\u001b[0;34m\"id\"\u001b[0m\u001b[0;34m,\u001b[0m \u001b[0;34m\"title\"\u001b[0m\u001b[0;34m,\u001b[0m \u001b[0;34m\"abstract\"\u001b[0m\u001b[0;34m,\u001b[0m \u001b[0;34m\"clusterlabel\"\u001b[0m\u001b[0;34m]\u001b[0m\u001b[0;34m]\u001b[0m\u001b[0;34m\u001b[0m\u001b[0;34m\u001b[0m\u001b[0m\n\u001b[0m\u001b[1;32m      2\u001b[0m \u001b[0msub\u001b[0m\u001b[0;34m.\u001b[0m\u001b[0mtail\u001b[0m\u001b[0;34m(\u001b[0m\u001b[0;34m)\u001b[0m\u001b[0;34m\u001b[0m\u001b[0;34m\u001b[0m\u001b[0m\n",
            "\u001b[0;32m/usr/local/lib/python3.6/dist-packages/pandas/core/indexing.py\u001b[0m in \u001b[0;36m__getitem__\u001b[0;34m(self, key)\u001b[0m\n\u001b[1;32m   1760\u001b[0m                 \u001b[0;32mexcept\u001b[0m \u001b[0;34m(\u001b[0m\u001b[0mKeyError\u001b[0m\u001b[0;34m,\u001b[0m \u001b[0mIndexError\u001b[0m\u001b[0;34m,\u001b[0m \u001b[0mAttributeError\u001b[0m\u001b[0;34m)\u001b[0m\u001b[0;34m:\u001b[0m\u001b[0;34m\u001b[0m\u001b[0;34m\u001b[0m\u001b[0m\n\u001b[1;32m   1761\u001b[0m                     \u001b[0;32mpass\u001b[0m\u001b[0;34m\u001b[0m\u001b[0;34m\u001b[0m\u001b[0m\n\u001b[0;32m-> 1762\u001b[0;31m             \u001b[0;32mreturn\u001b[0m \u001b[0mself\u001b[0m\u001b[0;34m.\u001b[0m\u001b[0m_getitem_tuple\u001b[0m\u001b[0;34m(\u001b[0m\u001b[0mkey\u001b[0m\u001b[0;34m)\u001b[0m\u001b[0;34m\u001b[0m\u001b[0;34m\u001b[0m\u001b[0m\n\u001b[0m\u001b[1;32m   1763\u001b[0m         \u001b[0;32melse\u001b[0m\u001b[0;34m:\u001b[0m\u001b[0;34m\u001b[0m\u001b[0;34m\u001b[0m\u001b[0m\n\u001b[1;32m   1764\u001b[0m             \u001b[0;31m# we by definition only have the 0th axis\u001b[0m\u001b[0;34m\u001b[0m\u001b[0;34m\u001b[0m\u001b[0;34m\u001b[0m\u001b[0m\n",
            "\u001b[0;32m/usr/local/lib/python3.6/dist-packages/pandas/core/indexing.py\u001b[0m in \u001b[0;36m_getitem_tuple\u001b[0;34m(self, tup)\u001b[0m\n\u001b[1;32m   1287\u001b[0m                 \u001b[0;32mcontinue\u001b[0m\u001b[0;34m\u001b[0m\u001b[0;34m\u001b[0m\u001b[0m\n\u001b[1;32m   1288\u001b[0m \u001b[0;34m\u001b[0m\u001b[0m\n\u001b[0;32m-> 1289\u001b[0;31m             \u001b[0mretval\u001b[0m \u001b[0;34m=\u001b[0m \u001b[0mgetattr\u001b[0m\u001b[0;34m(\u001b[0m\u001b[0mretval\u001b[0m\u001b[0;34m,\u001b[0m \u001b[0mself\u001b[0m\u001b[0;34m.\u001b[0m\u001b[0mname\u001b[0m\u001b[0;34m)\u001b[0m\u001b[0;34m.\u001b[0m\u001b[0m_getitem_axis\u001b[0m\u001b[0;34m(\u001b[0m\u001b[0mkey\u001b[0m\u001b[0;34m,\u001b[0m \u001b[0maxis\u001b[0m\u001b[0;34m=\u001b[0m\u001b[0mi\u001b[0m\u001b[0;34m)\u001b[0m\u001b[0;34m\u001b[0m\u001b[0;34m\u001b[0m\u001b[0m\n\u001b[0m\u001b[1;32m   1290\u001b[0m \u001b[0;34m\u001b[0m\u001b[0m\n\u001b[1;32m   1291\u001b[0m         \u001b[0;32mreturn\u001b[0m \u001b[0mretval\u001b[0m\u001b[0;34m\u001b[0m\u001b[0;34m\u001b[0m\u001b[0m\n",
            "\u001b[0;32m/usr/local/lib/python3.6/dist-packages/pandas/core/indexing.py\u001b[0m in \u001b[0;36m_getitem_axis\u001b[0;34m(self, key, axis)\u001b[0m\n\u001b[1;32m   1952\u001b[0m                     \u001b[0;32mraise\u001b[0m \u001b[0mValueError\u001b[0m\u001b[0;34m(\u001b[0m\u001b[0;34m\"Cannot index with multidimensional key\"\u001b[0m\u001b[0;34m)\u001b[0m\u001b[0;34m\u001b[0m\u001b[0;34m\u001b[0m\u001b[0m\n\u001b[1;32m   1953\u001b[0m \u001b[0;34m\u001b[0m\u001b[0m\n\u001b[0;32m-> 1954\u001b[0;31m                 \u001b[0;32mreturn\u001b[0m \u001b[0mself\u001b[0m\u001b[0;34m.\u001b[0m\u001b[0m_getitem_iterable\u001b[0m\u001b[0;34m(\u001b[0m\u001b[0mkey\u001b[0m\u001b[0;34m,\u001b[0m \u001b[0maxis\u001b[0m\u001b[0;34m=\u001b[0m\u001b[0maxis\u001b[0m\u001b[0;34m)\u001b[0m\u001b[0;34m\u001b[0m\u001b[0;34m\u001b[0m\u001b[0m\n\u001b[0m\u001b[1;32m   1955\u001b[0m \u001b[0;34m\u001b[0m\u001b[0m\n\u001b[1;32m   1956\u001b[0m             \u001b[0;31m# nested tuple slicing\u001b[0m\u001b[0;34m\u001b[0m\u001b[0;34m\u001b[0m\u001b[0;34m\u001b[0m\u001b[0m\n",
            "\u001b[0;32m/usr/local/lib/python3.6/dist-packages/pandas/core/indexing.py\u001b[0m in \u001b[0;36m_getitem_iterable\u001b[0;34m(self, key, axis)\u001b[0m\n\u001b[1;32m   1593\u001b[0m         \u001b[0;32melse\u001b[0m\u001b[0;34m:\u001b[0m\u001b[0;34m\u001b[0m\u001b[0;34m\u001b[0m\u001b[0m\n\u001b[1;32m   1594\u001b[0m             \u001b[0;31m# A collection of keys\u001b[0m\u001b[0;34m\u001b[0m\u001b[0;34m\u001b[0m\u001b[0;34m\u001b[0m\u001b[0m\n\u001b[0;32m-> 1595\u001b[0;31m             \u001b[0mkeyarr\u001b[0m\u001b[0;34m,\u001b[0m \u001b[0mindexer\u001b[0m \u001b[0;34m=\u001b[0m \u001b[0mself\u001b[0m\u001b[0;34m.\u001b[0m\u001b[0m_get_listlike_indexer\u001b[0m\u001b[0;34m(\u001b[0m\u001b[0mkey\u001b[0m\u001b[0;34m,\u001b[0m \u001b[0maxis\u001b[0m\u001b[0;34m,\u001b[0m \u001b[0mraise_missing\u001b[0m\u001b[0;34m=\u001b[0m\u001b[0;32mFalse\u001b[0m\u001b[0;34m)\u001b[0m\u001b[0;34m\u001b[0m\u001b[0;34m\u001b[0m\u001b[0m\n\u001b[0m\u001b[1;32m   1596\u001b[0m             return self.obj._reindex_with_indexers(\n\u001b[1;32m   1597\u001b[0m                 \u001b[0;34m{\u001b[0m\u001b[0maxis\u001b[0m\u001b[0;34m:\u001b[0m \u001b[0;34m[\u001b[0m\u001b[0mkeyarr\u001b[0m\u001b[0;34m,\u001b[0m \u001b[0mindexer\u001b[0m\u001b[0;34m]\u001b[0m\u001b[0;34m}\u001b[0m\u001b[0;34m,\u001b[0m \u001b[0mcopy\u001b[0m\u001b[0;34m=\u001b[0m\u001b[0;32mTrue\u001b[0m\u001b[0;34m,\u001b[0m \u001b[0mallow_dups\u001b[0m\u001b[0;34m=\u001b[0m\u001b[0;32mTrue\u001b[0m\u001b[0;34m\u001b[0m\u001b[0;34m\u001b[0m\u001b[0m\n",
            "\u001b[0;32m/usr/local/lib/python3.6/dist-packages/pandas/core/indexing.py\u001b[0m in \u001b[0;36m_get_listlike_indexer\u001b[0;34m(self, key, axis, raise_missing)\u001b[0m\n\u001b[1;32m   1551\u001b[0m \u001b[0;34m\u001b[0m\u001b[0m\n\u001b[1;32m   1552\u001b[0m         self._validate_read_indexer(\n\u001b[0;32m-> 1553\u001b[0;31m             \u001b[0mkeyarr\u001b[0m\u001b[0;34m,\u001b[0m \u001b[0mindexer\u001b[0m\u001b[0;34m,\u001b[0m \u001b[0mo\u001b[0m\u001b[0;34m.\u001b[0m\u001b[0m_get_axis_number\u001b[0m\u001b[0;34m(\u001b[0m\u001b[0maxis\u001b[0m\u001b[0;34m)\u001b[0m\u001b[0;34m,\u001b[0m \u001b[0mraise_missing\u001b[0m\u001b[0;34m=\u001b[0m\u001b[0mraise_missing\u001b[0m\u001b[0;34m\u001b[0m\u001b[0;34m\u001b[0m\u001b[0m\n\u001b[0m\u001b[1;32m   1554\u001b[0m         )\n\u001b[1;32m   1555\u001b[0m         \u001b[0;32mreturn\u001b[0m \u001b[0mkeyarr\u001b[0m\u001b[0;34m,\u001b[0m \u001b[0mindexer\u001b[0m\u001b[0;34m\u001b[0m\u001b[0;34m\u001b[0m\u001b[0m\n",
            "\u001b[0;32m/usr/local/lib/python3.6/dist-packages/pandas/core/indexing.py\u001b[0m in \u001b[0;36m_validate_read_indexer\u001b[0;34m(self, key, indexer, axis, raise_missing)\u001b[0m\n\u001b[1;32m   1653\u001b[0m             \u001b[0;32mif\u001b[0m \u001b[0;32mnot\u001b[0m \u001b[0;34m(\u001b[0m\u001b[0max\u001b[0m\u001b[0;34m.\u001b[0m\u001b[0mis_categorical\u001b[0m\u001b[0;34m(\u001b[0m\u001b[0;34m)\u001b[0m \u001b[0;32mor\u001b[0m \u001b[0max\u001b[0m\u001b[0;34m.\u001b[0m\u001b[0mis_interval\u001b[0m\u001b[0;34m(\u001b[0m\u001b[0;34m)\u001b[0m\u001b[0;34m)\u001b[0m\u001b[0;34m:\u001b[0m\u001b[0;34m\u001b[0m\u001b[0;34m\u001b[0m\u001b[0m\n\u001b[1;32m   1654\u001b[0m                 raise KeyError(\n\u001b[0;32m-> 1655\u001b[0;31m                     \u001b[0;34m\"Passing list-likes to .loc or [] with any missing labels \"\u001b[0m\u001b[0;34m\u001b[0m\u001b[0;34m\u001b[0m\u001b[0m\n\u001b[0m\u001b[1;32m   1656\u001b[0m                     \u001b[0;34m\"is no longer supported, see \"\u001b[0m\u001b[0;34m\u001b[0m\u001b[0;34m\u001b[0m\u001b[0m\n\u001b[1;32m   1657\u001b[0m                     \u001b[0;34m\"https://pandas.pydata.org/pandas-docs/stable/user_guide/indexing.html#deprecate-loc-reindex-listlike\"\u001b[0m  \u001b[0;31m# noqa:E501\u001b[0m\u001b[0;34m\u001b[0m\u001b[0;34m\u001b[0m\u001b[0m\n",
            "\u001b[0;31mKeyError\u001b[0m: 'Passing list-likes to .loc or [] with any missing labels is no longer supported, see https://pandas.pydata.org/pandas-docs/stable/user_guide/indexing.html#deprecate-loc-reindex-listlike'"
          ]
        }
      ]
    },
    {
      "cell_type": "code",
      "metadata": {
        "id": "75yNXT6I7Kie",
        "colab_type": "code",
        "outputId": "9ab98956-b05b-4327-a66a-4a294c97e03d",
        "colab": {
          "base_uri": "https://localhost:8080/",
          "height": 34
        }
      },
      "source": [
        "megadf.columns"
      ],
      "execution_count": 0,
      "outputs": [
        {
          "output_type": "execute_result",
          "data": {
            "text/plain": [
              "Index(['id', 'title', 'embedding', 'clusterlabel'], dtype='object')"
            ]
          },
          "metadata": {
            "tags": []
          },
          "execution_count": 48
        }
      ]
    },
    {
      "cell_type": "markdown",
      "metadata": {
        "id": "6Kjxo8OO7Kin",
        "colab_type": "text"
      },
      "source": [
        "# Performance Testing and Distribution\n"
      ]
    },
    {
      "cell_type": "code",
      "metadata": {
        "id": "ZhqsTij67Kin",
        "colab_type": "code",
        "colab": {}
      },
      "source": [
        "metadata = pd.DataFrame(columns=[\"Name\", \"Algo\", \"WordEmb\", \"SentEmb\", \"K\", \"R\", \"F\", \"SS\", \"CSavg\", \"CSmin\", \"CSmax\", \"T2Pavg\", \"T2LM\", \"T2LMP\", \"MEM\"])"
      ],
      "execution_count": 0,
      "outputs": []
    },
    {
      "cell_type": "code",
      "metadata": {
        "id": "D6WWQn8N7Kiw",
        "colab_type": "code",
        "outputId": "fe2a6c11-732b-48d4-da69-ecc170094aa4",
        "colab": {
          "base_uri": "https://localhost:8080/",
          "height": 312
        }
      },
      "source": [
        "metadict = {\n",
        "    \"Name\":None,                     #Name of the save file prefix\n",
        "    \"Algo\":None,                     #Name of the Clustering algorithm\n",
        "    \"WordEmb\":None,                  #Name of the Word Embeddings used (glove, w2v, ftt)\n",
        "    \"SentEmb\":None,                  #Name of Sentence Embedding algorithm used \n",
        "    \"K\":None, \"R\":None, \"F\":None,    #Number of clusters, records and fetures\n",
        "    \"T2T\":None,                      #Time required to train model\n",
        "    \"SS\":None,                       #Silhoutte Score\n",
        "    \"DBS\":None,                      #Davis Bouldin Score\n",
        "    \"CSavg\":None,                    #Average Cluster Size\n",
        "    \"CSmin\":None,                    #Minimum Cluster Size\n",
        "    \"CSmax\":None,                    #Maximum Cluster Size\n",
        "    \"T2Pavg\":None,                   #Average Time To Predict cluster of one record\n",
        "    \"T2LM\":None,                     #Average Time to Load Model\n",
        "    \"T2LMP\":None,                    #Amortized time to Predict after loading the model\n",
        "    \"MEM\":None                      #Memory used by the Model\n",
        "    }\n",
        "metadict"
      ],
      "execution_count": 0,
      "outputs": [
        {
          "output_type": "execute_result",
          "data": {
            "text/plain": [
              "{'Algo': None,\n",
              " 'CSavg': None,\n",
              " 'CSmax': None,\n",
              " 'CSmin': None,\n",
              " 'DBS': None,\n",
              " 'F': None,\n",
              " 'K': None,\n",
              " 'MEM': None,\n",
              " 'Name': None,\n",
              " 'R': None,\n",
              " 'SS': None,\n",
              " 'SentEmb': None,\n",
              " 'T2LM': None,\n",
              " 'T2LMP': None,\n",
              " 'T2Pavg': None,\n",
              " 'T2T': None,\n",
              " 'WordEmb': None}"
            ]
          },
          "metadata": {
            "tags": []
          },
          "execution_count": 52
        }
      ]
    },
    {
      "cell_type": "code",
      "metadata": {
        "id": "SGr76NCN7Ki7",
        "colab_type": "code",
        "outputId": "40f195c9-f5fa-4a54-9238-890eebe32810",
        "colab": {
          "base_uri": "https://localhost:8080/",
          "height": 312
        }
      },
      "source": [
        "metadict[\"Name\"]=name\n",
        "metadict[\"Algo\"]=__algo__\n",
        "metadict[\"WordEmb\"]=__emb__\n",
        "metadict[\"SentEmb\"]=__sentemb__\n",
        "metadict[\"K\"]=k\n",
        "metadict[\"R\"]=recnum\n",
        "metadict[\"F\"]=features\n",
        "metadict"
      ],
      "execution_count": 0,
      "outputs": [
        {
          "output_type": "execute_result",
          "data": {
            "text/plain": [
              "{'Algo': 'KMEANS',\n",
              " 'CSavg': None,\n",
              " 'CSmax': None,\n",
              " 'CSmin': None,\n",
              " 'DBS': None,\n",
              " 'F': 1500,\n",
              " 'K': 50,\n",
              " 'MEM': None,\n",
              " 'Name': 'KMEANS_ftt_pmeans5_K50_R3000_F1500',\n",
              " 'R': 3000,\n",
              " 'SS': None,\n",
              " 'SentEmb': 'pmeans5',\n",
              " 'T2LM': None,\n",
              " 'T2LMP': None,\n",
              " 'T2Pavg': None,\n",
              " 'T2T': None,\n",
              " 'WordEmb': 'ftt'}"
            ]
          },
          "metadata": {
            "tags": []
          },
          "execution_count": 53
        }
      ]
    },
    {
      "cell_type": "markdown",
      "metadata": {
        "id": "1nYQMLWe7KjG",
        "colab_type": "text"
      },
      "source": [
        "#### Time to train"
      ]
    },
    {
      "cell_type": "code",
      "metadata": {
        "id": "RCsFCFgO7KjI",
        "colab_type": "code",
        "colab": {}
      },
      "source": [
        "metadict[\"T2T\"]=timetrain"
      ],
      "execution_count": 0,
      "outputs": []
    },
    {
      "cell_type": "markdown",
      "metadata": {
        "id": "b_PdSH507KjQ",
        "colab_type": "text"
      },
      "source": [
        "#### Scores"
      ]
    },
    {
      "cell_type": "code",
      "metadata": {
        "id": "zgTA1FKP7KjR",
        "colab_type": "code",
        "colab": {}
      },
      "source": [
        "ss = silhouette_score(data, labels, metric = 'euclidean')\n",
        "dbs = davies_bouldin_score(data, labels)\n",
        "metadict[\"SS\"]=ss\n",
        "metadict[\"DBS\"]=dbs"
      ],
      "execution_count": 0,
      "outputs": []
    },
    {
      "cell_type": "markdown",
      "metadata": {
        "id": "OWqrLc8W7Kji",
        "colab_type": "text"
      },
      "source": [
        "#### Cluster Size"
      ]
    },
    {
      "cell_type": "code",
      "metadata": {
        "id": "sKnH2wiD7Kjl",
        "colab_type": "code",
        "outputId": "5694c2df-3d37-476d-c47f-effe50b94927",
        "colab": {
          "base_uri": "https://localhost:8080/",
          "height": 206
        }
      },
      "source": [
        "clusterdata = megadf.groupby(\"clusterlabel\", as_index=True).size().reset_index(name=\"count\")\n",
        "clusterdata.head()"
      ],
      "execution_count": 0,
      "outputs": [
        {
          "output_type": "execute_result",
          "data": {
            "text/html": [
              "<div>\n",
              "<style scoped>\n",
              "    .dataframe tbody tr th:only-of-type {\n",
              "        vertical-align: middle;\n",
              "    }\n",
              "\n",
              "    .dataframe tbody tr th {\n",
              "        vertical-align: top;\n",
              "    }\n",
              "\n",
              "    .dataframe thead th {\n",
              "        text-align: right;\n",
              "    }\n",
              "</style>\n",
              "<table border=\"1\" class=\"dataframe\">\n",
              "  <thead>\n",
              "    <tr style=\"text-align: right;\">\n",
              "      <th></th>\n",
              "      <th>clusterlabel</th>\n",
              "      <th>count</th>\n",
              "    </tr>\n",
              "  </thead>\n",
              "  <tbody>\n",
              "    <tr>\n",
              "      <th>0</th>\n",
              "      <td>0</td>\n",
              "      <td>34</td>\n",
              "    </tr>\n",
              "    <tr>\n",
              "      <th>1</th>\n",
              "      <td>1</td>\n",
              "      <td>94</td>\n",
              "    </tr>\n",
              "    <tr>\n",
              "      <th>2</th>\n",
              "      <td>2</td>\n",
              "      <td>147</td>\n",
              "    </tr>\n",
              "    <tr>\n",
              "      <th>3</th>\n",
              "      <td>3</td>\n",
              "      <td>44</td>\n",
              "    </tr>\n",
              "    <tr>\n",
              "      <th>4</th>\n",
              "      <td>4</td>\n",
              "      <td>36</td>\n",
              "    </tr>\n",
              "  </tbody>\n",
              "</table>\n",
              "</div>"
            ],
            "text/plain": [
              "   clusterlabel  count\n",
              "0             0     34\n",
              "1             1     94\n",
              "2             2    147\n",
              "3             3     44\n",
              "4             4     36"
            ]
          },
          "metadata": {
            "tags": []
          },
          "execution_count": 56
        }
      ]
    },
    {
      "cell_type": "code",
      "metadata": {
        "id": "Vgui_d-u7Kjr",
        "colab_type": "code",
        "colab": {}
      },
      "source": [
        "clusterdfname = \"{}_clustered_counts.pkl\".format(name)\n",
        "clusterdata.to_pickle(megadfDir + clusterdfname)"
      ],
      "execution_count": 0,
      "outputs": []
    },
    {
      "cell_type": "code",
      "metadata": {
        "scrolled": true,
        "id": "hJnaqOoA7Kjx",
        "colab_type": "code",
        "outputId": "6d1df2b0-6293-40c7-9798-21a523b1e9cb",
        "colab": {
          "base_uri": "https://localhost:8080/",
          "height": 270
        }
      },
      "source": [
        "countdata = clusterdata.groupby(\"count\").size().reset_index(name=\"clusters\")\n",
        "display(countdata.head(3))\n",
        "display(countdata.tail(3))"
      ],
      "execution_count": 0,
      "outputs": [
        {
          "output_type": "display_data",
          "data": {
            "text/html": [
              "<div>\n",
              "<style scoped>\n",
              "    .dataframe tbody tr th:only-of-type {\n",
              "        vertical-align: middle;\n",
              "    }\n",
              "\n",
              "    .dataframe tbody tr th {\n",
              "        vertical-align: top;\n",
              "    }\n",
              "\n",
              "    .dataframe thead th {\n",
              "        text-align: right;\n",
              "    }\n",
              "</style>\n",
              "<table border=\"1\" class=\"dataframe\">\n",
              "  <thead>\n",
              "    <tr style=\"text-align: right;\">\n",
              "      <th></th>\n",
              "      <th>count</th>\n",
              "      <th>clusters</th>\n",
              "    </tr>\n",
              "  </thead>\n",
              "  <tbody>\n",
              "    <tr>\n",
              "      <th>0</th>\n",
              "      <td>2</td>\n",
              "      <td>1</td>\n",
              "    </tr>\n",
              "    <tr>\n",
              "      <th>1</th>\n",
              "      <td>10</td>\n",
              "      <td>2</td>\n",
              "    </tr>\n",
              "    <tr>\n",
              "      <th>2</th>\n",
              "      <td>11</td>\n",
              "      <td>1</td>\n",
              "    </tr>\n",
              "  </tbody>\n",
              "</table>\n",
              "</div>"
            ],
            "text/plain": [
              "   count  clusters\n",
              "0      2         1\n",
              "1     10         2\n",
              "2     11         1"
            ]
          },
          "metadata": {
            "tags": []
          }
        },
        {
          "output_type": "display_data",
          "data": {
            "text/html": [
              "<div>\n",
              "<style scoped>\n",
              "    .dataframe tbody tr th:only-of-type {\n",
              "        vertical-align: middle;\n",
              "    }\n",
              "\n",
              "    .dataframe tbody tr th {\n",
              "        vertical-align: top;\n",
              "    }\n",
              "\n",
              "    .dataframe thead th {\n",
              "        text-align: right;\n",
              "    }\n",
              "</style>\n",
              "<table border=\"1\" class=\"dataframe\">\n",
              "  <thead>\n",
              "    <tr style=\"text-align: right;\">\n",
              "      <th></th>\n",
              "      <th>count</th>\n",
              "      <th>clusters</th>\n",
              "    </tr>\n",
              "  </thead>\n",
              "  <tbody>\n",
              "    <tr>\n",
              "      <th>38</th>\n",
              "      <td>163</td>\n",
              "      <td>1</td>\n",
              "    </tr>\n",
              "    <tr>\n",
              "      <th>39</th>\n",
              "      <td>167</td>\n",
              "      <td>1</td>\n",
              "    </tr>\n",
              "    <tr>\n",
              "      <th>40</th>\n",
              "      <td>224</td>\n",
              "      <td>1</td>\n",
              "    </tr>\n",
              "  </tbody>\n",
              "</table>\n",
              "</div>"
            ],
            "text/plain": [
              "    count  clusters\n",
              "38    163         1\n",
              "39    167         1\n",
              "40    224         1"
            ]
          },
          "metadata": {
            "tags": []
          }
        }
      ]
    },
    {
      "cell_type": "code",
      "metadata": {
        "id": "JbFEllBa7Kj2",
        "colab_type": "code",
        "colab": {}
      },
      "source": [
        "metadict[\"CSmax\"] = max(clusterdata[\"count\"])\n",
        "metadict[\"CSmin\"] = min(clusterdata[\"count\"])\n",
        "metadict[\"CSavg\"] = np.mean(clusterdata[\"count\"])"
      ],
      "execution_count": 0,
      "outputs": []
    },
    {
      "cell_type": "code",
      "metadata": {
        "id": "khR0wMY27Kj9",
        "colab_type": "code",
        "outputId": "28b250cc-ca57-4815-e25e-7872e7df862a",
        "colab": {
          "base_uri": "https://localhost:8080/",
          "height": 966
        }
      },
      "source": [
        "%matplotlib inline\n",
        "plt.figure(figsize=(16,16))\n",
        "\n",
        "sns.axes_style(\"whitegrid\", {\"axes.grid\":True, \n",
        "                            'axes.spines.left': False,\n",
        "                             'axes.spines.bottom': False,\n",
        "                             'axes.spines.right': False,\n",
        "                             'axes.spines.top': False})\n",
        "\n",
        "\n",
        "titlestring = \"{}_Cluster_Distribution\".format(name)\n",
        "snsplot = sns.distplot(clusterdata[\"count\"], kde=False, bins=max(clusterdata[\"count\"]),\n",
        "                      hist_kws={'edgecolor':'black'},)\n",
        "snsplot.set(xlabel=\"Number of Papers\", ylabel=\"Number of Clusters\")\n",
        "snsplot.xaxis.label.set_size(20)\n",
        "snsplot.yaxis.label.set_size(20)\n",
        "plt.title(\n",
        "        titlestring,\n",
        "        fontdict = {'fontsize' : 25}\n",
        "    )\n",
        "plt.show()\n",
        "\n"
      ],
      "execution_count": 0,
      "outputs": [
        {
          "output_type": "display_data",
          "data": {
            "image/png": "[encoded data removed]",
            "text/plain": [
              "<Figure size 1152x1152 with 1 Axes>"
            ]
          },
          "metadata": {
            "tags": [],
            "needs_background": "light"
          }
        }
      ]
    },
    {
      "cell_type": "code",
      "metadata": {
        "id": "9B3QcEz17KkF",
        "colab_type": "code",
        "colab": {}
      },
      "source": [
        "snspltname = \"{}_Cluster_Distribution.png\".format(name)\n",
        "snsplot.figure.savefig(plotDir + snspltname)"
      ],
      "execution_count": 0,
      "outputs": []
    },
    {
      "cell_type": "markdown",
      "metadata": {
        "id": "FYjOgGrE7KkK",
        "colab_type": "text"
      },
      "source": [
        "#### Prediction Time Performance"
      ]
    },
    {
      "cell_type": "code",
      "metadata": {
        "id": "mSs7lt5O7KkK",
        "colab_type": "code",
        "outputId": "90560a65-b9da-4793-95cc-7936f6622f14",
        "colab": {
          "base_uri": "https://localhost:8080/",
          "height": 34
        }
      },
      "source": [
        "testdf = pd.DataFrame()\n",
        "if recnum < 2000:\n",
        "    samplenum = int(recnum / 10)\n",
        "else:\n",
        "    samplenum = 2000\n",
        "\n",
        "for f in smalllist:\n",
        "    tempdf = pd.read_pickle(f)\n",
        "    testdf = megadf.append(tempdf, ignore_index = True, sort = False)\n",
        "testdf = testdf.sample(samplenum, random_state=int(time.time()%100000))\n",
        "predata = testdf[\"embedding\"]\n",
        "data = np.matrix(predata.to_list())\n",
        "print(data.shape)"
      ],
      "execution_count": 0,
      "outputs": [
        {
          "output_type": "stream",
          "text": [
            "(2000, 1500)\n"
          ],
          "name": "stdout"
        }
      ]
    },
    {
      "cell_type": "code",
      "metadata": {
        "id": "K9p3KbMF7KkR",
        "colab_type": "code",
        "outputId": "9493a1f8-eada-4b78-c754-e7ee16a247d6",
        "colab": {
          "base_uri": "https://localhost:8080/",
          "height": 52
        }
      },
      "source": [
        "print(\"Starting Predicting Performance\")\n",
        "testmodel = model\n",
        "start_time = time.time()\n",
        "for d in data:\n",
        "    lb = testmodel.predict(d)\n",
        "end_time = time.time()\n",
        "timetest = end_time-start_time\n",
        "avgtime = timetest/data.shape[0]\n",
        "print(\"Avgtime: {} Totaltime: {}\".format(avgtime, timetest))\n",
        "metadict[\"T2Pavg\"]=avgtime"
      ],
      "execution_count": 0,
      "outputs": [
        {
          "output_type": "stream",
          "text": [
            "Starting Predicting Performance\n",
            "Avgtime: 0.0008576412200927735 Totaltime: 1.7152824401855469\n"
          ],
          "name": "stdout"
        }
      ]
    },
    {
      "cell_type": "code",
      "metadata": {
        "scrolled": true,
        "id": "Dfxi6ynH7KkX",
        "colab_type": "code",
        "outputId": "8595a950-4406-4aa7-9394-5b264e4229b1",
        "colab": {
          "base_uri": "https://localhost:8080/",
          "height": 69
        }
      },
      "source": [
        "print(\"Starting Loading Performance\")\n",
        "loadruns = 50\n",
        "start_time = time.time()\n",
        "for i in range(loadruns):\n",
        "    testmodel = pickle.load(open(modelDir + modelname, 'rb'))\n",
        "end_time = time.time()\n",
        "timetest = end_time-start_time\n",
        "avgtime = timetest/loadruns\n",
        "print(\"Avgtime: {} Totaltime: {}\".format(avgtime, timetest))\n",
        "metadict[\"T2LM\"] = avgtime\n",
        "avgtime"
      ],
      "execution_count": 0,
      "outputs": [
        {
          "output_type": "stream",
          "text": [
            "Starting Loading Performance\n",
            "Avgtime: 0.00042183876037597655 Totaltime: 0.021091938018798828\n"
          ],
          "name": "stdout"
        },
        {
          "output_type": "execute_result",
          "data": {
            "text/plain": [
              "0.00042183876037597655"
            ]
          },
          "metadata": {
            "tags": []
          },
          "execution_count": 64
        }
      ]
    },
    {
      "cell_type": "code",
      "metadata": {
        "scrolled": true,
        "id": "NBg7wzkg7Kke",
        "colab_type": "code",
        "outputId": "1f236b15-a2e2-45b1-c586-835a0a61fe65",
        "colab": {
          "base_uri": "https://localhost:8080/",
          "height": 69
        }
      },
      "source": [
        "print(\"Starting Amortized Performance\")\n",
        "loadruns = 5\n",
        "avglist = []\n",
        "\n",
        "for i in range(loadruns):\n",
        "    start_time = time.time()\n",
        "    testmodel = pickle.load(open(modelDir + modelname, 'rb'))\n",
        "    for d in data:\n",
        "        lb = testmodel.predict(d)\n",
        "    end_time = time.time()\n",
        "    timetest = (end_time-start_time)/data.shape[0]\n",
        "    avglist.append(timetest)\n",
        "\n",
        "timetest = np.sum(avglist)\n",
        "avgtime = np.mean(avglist)\n",
        "print(\"Avgtime: {} Totaltime: {}\".format(avgtime, timetest))\n",
        "metadict[\"T2LMP\"] = avgtime\n",
        "avgtime"
      ],
      "execution_count": 0,
      "outputs": [
        {
          "output_type": "stream",
          "text": [
            "Starting Amortized Performance\n",
            "Avgtime: 0.000848156762123108 Totaltime: 0.00424078381061554\n"
          ],
          "name": "stdout"
        },
        {
          "output_type": "execute_result",
          "data": {
            "text/plain": [
              "0.000848156762123108"
            ]
          },
          "metadata": {
            "tags": []
          },
          "execution_count": 65
        }
      ]
    },
    {
      "cell_type": "code",
      "metadata": {
        "id": "N9Lrc87U7Kkj",
        "colab_type": "code",
        "outputId": "8dc6ad6a-8353-4d09-b861-8550711b0a45",
        "colab": {
          "base_uri": "https://localhost:8080/",
          "height": 34
        }
      },
      "source": [
        "modelsize = sys.getsizeof(pickle.dumps(model))\n",
        "print(\"modelsize:\", modelsize, \"bytes\")\n",
        "metadict[\"MEM\"]=modelsize"
      ],
      "execution_count": 0,
      "outputs": [
        {
          "output_type": "stream",
          "text": [
            "modelsize: 612748 bytes\n"
          ],
          "name": "stdout"
        }
      ]
    },
    {
      "cell_type": "code",
      "metadata": {
        "scrolled": true,
        "id": "bgano-e-7Kkp",
        "colab_type": "code",
        "outputId": "9336d102-224d-443b-d293-b552a59910e4",
        "colab": {
          "base_uri": "https://localhost:8080/",
          "height": 312
        }
      },
      "source": [
        "metadict"
      ],
      "execution_count": 0,
      "outputs": [
        {
          "output_type": "execute_result",
          "data": {
            "text/plain": [
              "{'Algo': 'KMEANS',\n",
              " 'CSavg': 60.0,\n",
              " 'CSmax': 224,\n",
              " 'CSmin': 2,\n",
              " 'DBS': 3.3654746556364064,\n",
              " 'F': 1500,\n",
              " 'K': 50,\n",
              " 'MEM': 612748,\n",
              " 'Name': 'KMEANS_ftt_pmeans5_K50_R3000_F1500',\n",
              " 'R': 3000,\n",
              " 'SS': 0.03317412220258162,\n",
              " 'SentEmb': 'pmeans5',\n",
              " 'T2LM': 0.00042183876037597655,\n",
              " 'T2LMP': 0.000848156762123108,\n",
              " 'T2Pavg': 0.0008576412200927735,\n",
              " 'T2T': 84.2,\n",
              " 'WordEmb': 'ftt'}"
            ]
          },
          "metadata": {
            "tags": []
          },
          "execution_count": 67
        }
      ]
    },
    {
      "cell_type": "code",
      "metadata": {
        "id": "mmlc9W347Kku",
        "colab_type": "code",
        "outputId": "f0a58134-d3c1-473a-a052-4eb30a518c79",
        "colab": {
          "base_uri": "https://localhost:8080/",
          "height": 101
        }
      },
      "source": [
        "metadata = metadata.append(metadict, ignore_index=True)\n",
        "metadata"
      ],
      "execution_count": 0,
      "outputs": [
        {
          "output_type": "execute_result",
          "data": {
            "text/html": [
              "<div>\n",
              "<style scoped>\n",
              "    .dataframe tbody tr th:only-of-type {\n",
              "        vertical-align: middle;\n",
              "    }\n",
              "\n",
              "    .dataframe tbody tr th {\n",
              "        vertical-align: top;\n",
              "    }\n",
              "\n",
              "    .dataframe thead th {\n",
              "        text-align: right;\n",
              "    }\n",
              "</style>\n",
              "<table border=\"1\" class=\"dataframe\">\n",
              "  <thead>\n",
              "    <tr style=\"text-align: right;\">\n",
              "      <th></th>\n",
              "      <th>Name</th>\n",
              "      <th>Algo</th>\n",
              "      <th>WordEmb</th>\n",
              "      <th>SentEmb</th>\n",
              "      <th>K</th>\n",
              "      <th>R</th>\n",
              "      <th>F</th>\n",
              "      <th>SS</th>\n",
              "      <th>CSavg</th>\n",
              "      <th>CSmin</th>\n",
              "      <th>CSmax</th>\n",
              "      <th>T2Pavg</th>\n",
              "      <th>T2LM</th>\n",
              "      <th>T2LMP</th>\n",
              "      <th>MEM</th>\n",
              "      <th>DBS</th>\n",
              "      <th>T2T</th>\n",
              "    </tr>\n",
              "  </thead>\n",
              "  <tbody>\n",
              "    <tr>\n",
              "      <th>0</th>\n",
              "      <td>KMEANS_ftt_pmeans5_K50_R3000_F1500</td>\n",
              "      <td>KMEANS</td>\n",
              "      <td>ftt</td>\n",
              "      <td>pmeans5</td>\n",
              "      <td>50</td>\n",
              "      <td>3000</td>\n",
              "      <td>1500</td>\n",
              "      <td>0.033174</td>\n",
              "      <td>60.0</td>\n",
              "      <td>2</td>\n",
              "      <td>224</td>\n",
              "      <td>0.000858</td>\n",
              "      <td>0.000422</td>\n",
              "      <td>0.000848</td>\n",
              "      <td>612748</td>\n",
              "      <td>3.365475</td>\n",
              "      <td>84.2</td>\n",
              "    </tr>\n",
              "  </tbody>\n",
              "</table>\n",
              "</div>"
            ],
            "text/plain": [
              "                                 Name    Algo WordEmb  ...     MEM       DBS   T2T\n",
              "0  KMEANS_ftt_pmeans5_K50_R3000_F1500  KMEANS     ftt  ...  612748  3.365475  84.2\n",
              "\n",
              "[1 rows x 17 columns]"
            ]
          },
          "metadata": {
            "tags": []
          },
          "execution_count": 68
        }
      ]
    },
    {
      "cell_type": "code",
      "metadata": {
        "id": "RViGy7KL7Kky",
        "colab_type": "code",
        "colab": {}
      },
      "source": [
        "metadataname = \"{}_metadata.pkl\".format(name)\n",
        "metadata.to_pickle(metadataDir + metadataname)"
      ],
      "execution_count": 0,
      "outputs": []
    },
    {
      "cell_type": "code",
      "metadata": {
        "id": "ZgbvwDcS7Kk2",
        "colab_type": "code",
        "colab": {}
      },
      "source": [
        "!cd .."
      ],
      "execution_count": 0,
      "outputs": []
    },
    {
      "cell_type": "code",
      "metadata": {
        "id": "O5D0Ba7yCshi",
        "colab_type": "code",
        "outputId": "e2a50c31-be33-4a59-f227-8f08a02e6c45",
        "colab": {
          "base_uri": "https://localhost:8080/",
          "height": 139
        }
      },
      "source": [
        "!find / -type f -name \"*_metadata.pkl\""
      ],
      "execution_count": 0,
      "outputs": [
        {
          "output_type": "stream",
          "text": [
            "/content/AbstractClustering/modelMetaData/Agg_glove_pmeans5_K50_R3000_F250_metadata.pkl\n",
            "/content/AbstractClustering/modelMetaData/KMEANS_glove_pmeans5_K50_R3000_F250_metadata.pkl\n",
            "/content/AbstractClustering/modelMetaData/MBKMEANS_glove_pmeans5_K50_R3000_F250_metadata.pkl\n",
            "/content/modelMetaData/Agg_glove_pmeans5_K50_R3000_F250_metadata.pkl\n",
            "/content/modelMetaData/KMEANS_glove_pmeans5_K50_R3000_F250_metadata.pkl\n",
            "/content/modelMetaData/MBKMEANS_glove_pmeans5_K50_R3000_F250_metadata.pkl\n",
            "/content/modelMetaData/KMEANS_ftt_pmeans5_K50_R3000_F1500_metadata.pkl\n"
          ],
          "name": "stdout"
        }
      ]
    },
    {
      "cell_type": "code",
      "metadata": {
        "id": "sPqc7fnGDGmp",
        "colab_type": "code",
        "outputId": "6358fe36-b0f5-408f-f064-7fbd220f61d4",
        "colab": {
          "base_uri": "https://localhost:8080/",
          "height": 34
        }
      },
      "source": [
        "%cd .."
      ],
      "execution_count": 0,
      "outputs": [
        {
          "output_type": "stream",
          "text": [
            "/content/AbstractClustering\n"
          ],
          "name": "stdout"
        }
      ]
    },
    {
      "cell_type": "code",
      "metadata": {
        "id": "ys1deTD0DTME",
        "colab_type": "code",
        "colab": {}
      },
      "source": [
        "!cp /content/modelMetaData/KMEANS_ftt_pmeans5_K50_R3000_F1500_metadata.pkl /content/drive/My\\ Drive/."
      ],
      "execution_count": 0,
      "outputs": []
    }
  ]
}
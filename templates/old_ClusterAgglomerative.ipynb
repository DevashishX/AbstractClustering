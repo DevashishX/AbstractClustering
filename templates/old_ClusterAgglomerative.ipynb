{
 "cells": [
  {
   "cell_type": "code",
   "execution_count": 1,
   "metadata": {
    "colab": {},
    "colab_type": "code",
    "id": "Lk1YO9YeMPfX"
   },
   "outputs": [],
   "source": [
    "import numpy as np\n",
    "import matplotlib.pyplot as plt\n",
    "import pandas as pd\n",
    "from sklearn import cluster, datasets\n",
    "import seaborn as sns\n",
    "import json\n",
    "import sys\n",
    "import codecs\n",
    "import os\n",
    "from collections import defaultdict, Counter"
   ]
  },
  {
   "cell_type": "code",
   "execution_count": 2,
   "metadata": {
    "colab": {},
    "colab_type": "code",
    "id": "6yUaHIXBMPgH"
   },
   "outputs": [],
   "source": [
    "def show_histogram(d):\n",
    "    plt.figure(figsize=(16,8))\n",
    "    c = {k: len(d[k]) for k in d.keys()}\n",
    "    bars, heights = zip(*c.items())\n",
    "    y_pos = range(len(bars))\n",
    "    plt.bar(y_pos, heights)\n",
    "    plt.xticks(y_pos, bars, rotation=90)\n",
    "    plt.show()"
   ]
  },
  {
   "cell_type": "code",
   "execution_count": 3,
   "metadata": {
    "colab": {},
    "colab_type": "code",
    "id": "c2xCYJe5MPgY",
    "outputId": "f4bb6352-2b7b-47eb-c329-13a46a5e1e0f"
   },
   "outputs": [
    {
     "name": "stdout",
     "output_type": "stream",
     "text": [
      "smalllist:  ['../MegaSentEmbs/repository_embedding_100_2013-03-18.pkl', '../MegaSentEmbs/repository_embedding_101_2013-03-18.pkl', '../MegaSentEmbs/repository_embedding_102_2013-03-18.pkl', '../MegaSentEmbs/repository_embedding_103_2013-03-18.pkl', '../MegaSentEmbs/repository_embedding_104_2013-03-18.pkl']\n"
     ]
    }
   ],
   "source": [
    "embedDir = \"../MegaSentEmbs/\"\n",
    "dumpdir = \"../dump/\"\n",
    "oldlist = os.listdir(embedDir)\n",
    "filelist = sorted([embedDir+f for f in oldlist if f[-3:]==\"pkl\"])\n",
    "# filenum = len(filelist)\n",
    "filenum = 5\n",
    "# print(filelist)\n",
    "smalllist = filelist[:filenum]\n",
    "print(\"smalllist: \", smalllist)"
   ]
  },
  {
   "cell_type": "markdown",
   "metadata": {
    "colab_type": "text",
    "id": "N1cYJ4kuMPgn"
   },
   "source": [
    "#Read all the pandas dataframes"
   ]
  },
  {
   "cell_type": "code",
   "execution_count": 4,
   "metadata": {
    "colab": {},
    "colab_type": "code",
    "id": "WBf1iPzFMPgq",
    "outputId": "3eaecc26-530d-42bc-db33-a0f5e491eb04"
   },
   "outputs": [
    {
     "name": "stdout",
     "output_type": "stream",
     "text": [
      "(2433, 4)\n",
      "           id                                              title  \\\n",
      "2428  9549863                         In Search of the Argonauts   \n",
      "2429  9549864       When Is A National Team Not A National Team?   \n",
      "2430  9549866                   Football and the Cyprus conflict   \n",
      "2431  9549873  Optimisation of Mobile Communication Networks ...   \n",
      "2432  9549874                        Free Search of Global Value   \n",
      "\n",
      "                                               abstract  \\\n",
      "2428  [paper, examines, concerted, attempt, group, s...   \n",
      "2429  [essay, analyzes, anomaly, recognition, place,...   \n",
      "2430  [essay, look, football, role, cyprus, conflict...   \n",
      "2431  [mini, conference, optimisation, mobile, commu...   \n",
      "2432  [article, present, novel, investigation, two, ...   \n",
      "\n",
      "                                              embedding  \n",
      "2428  [-0.20942938586860307, 0.40039306438355393, -0...  \n",
      "2429  [-0.1677260275156407, 0.26426473158190433, -0....  \n",
      "2430  [-0.15642487500000005, 0.19240105999999996, -0...  \n",
      "2431  [0.3354838166666667, 0.06920026666666669, 0.11...  \n",
      "2432  [0.5210028771929824, -0.03993977192982456, 0.0...  \n"
     ]
    }
   ],
   "source": [
    "megadf = pd.DataFrame()\n",
    "for f in smalllist:\n",
    "    tempdf = pd.read_pickle(f)\n",
    "    # print(tempdf.shape)\n",
    "    megadf = megadf.append(tempdf, ignore_index = True)\n",
    "\n",
    "print(megadf.shape)\n",
    "print(megadf.tail())"
   ]
  },
  {
   "cell_type": "code",
   "execution_count": 5,
   "metadata": {
    "colab": {},
    "colab_type": "code",
    "id": "wIH6xrCgMPg1",
    "outputId": "f7be28d3-f500-4cea-d709-2b08e932d697"
   },
   "outputs": [
    {
     "name": "stdout",
     "output_type": "stream",
     "text": [
      "(2433, 250)\n"
     ]
    }
   ],
   "source": [
    "predata = megadf[\"embedding\"]\n",
    "\n",
    "data = np.matrix(predata.to_list())\n",
    "print(data.shape)\n"
   ]
  },
  {
   "cell_type": "markdown",
   "metadata": {
    "colab_type": "text",
    "id": "9-VBFJfkMPhB"
   },
   "source": [
    "#Number of Clusters"
   ]
  },
  {
   "cell_type": "code",
   "execution_count": 6,
   "metadata": {
    "colab": {},
    "colab_type": "code",
    "id": "tsa1YZQlMPhD"
   },
   "outputs": [],
   "source": [
    "k = 50"
   ]
  },
  {
   "cell_type": "code",
   "execution_count": 7,
   "metadata": {
    "colab": {},
    "colab_type": "code",
    "id": "RgaBbMpsMPhM",
    "outputId": "aeae084d-ebc9-4aec-ceac-32c73590cc26"
   },
   "outputs": [
    {
     "name": "stdout",
     "output_type": "stream",
     "text": [
      "Starting Clustering Process\n",
      "Agglomerative.fit(data) Done!\n"
     ]
    }
   ],
   "source": [
    "print(\"Starting Clustering Process\")\n",
    "model = cluster.AgglomerativeClustering(n_clusters=k, affinity='euclidean', linkage='ward')\n",
    "model.fit(data)\n",
    "print(\"Agglomerative.fit(data) Done!\")"
   ]
  },
  {
   "cell_type": "code",
   "execution_count": 8,
   "metadata": {
    "colab": {},
    "colab_type": "code",
    "id": "wX8XIdyaMPhT",
    "outputId": "37836bd2-7834-4b76-a414-af3f8223d5e0"
   },
   "outputs": [
    {
     "name": "stdout",
     "output_type": "stream",
     "text": [
      "hello\n"
     ]
    }
   ],
   "source": [
    "print(\"hello\")"
   ]
  },
  {
   "cell_type": "code",
   "execution_count": 9,
   "metadata": {
    "colab": {},
    "colab_type": "code",
    "id": "sJFmtDjJMPhd"
   },
   "outputs": [
    {
     "ename": "AttributeError",
     "evalue": "'AgglomerativeClustering' object has no attribute 'cluster_centers_'",
     "output_type": "error",
     "traceback": [
      "\u001b[0;31m---------------------------------------------------------------------------\u001b[0m",
      "\u001b[0;31mAttributeError\u001b[0m                            Traceback (most recent call last)",
      "\u001b[0;32m<ipython-input-9-219cc966efb2>\u001b[0m in \u001b[0;36m<module>\u001b[0;34m\u001b[0m\n\u001b[0;32m----> 1\u001b[0;31m \u001b[0mcentroids\u001b[0m \u001b[0;34m=\u001b[0m \u001b[0mmodel\u001b[0m\u001b[0;34m.\u001b[0m\u001b[0mcluster_centers_\u001b[0m\u001b[0;34m\u001b[0m\u001b[0;34m\u001b[0m\u001b[0m\n\u001b[0m\u001b[1;32m      2\u001b[0m \u001b[0mlabels\u001b[0m \u001b[0;34m=\u001b[0m \u001b[0mmodel\u001b[0m\u001b[0;34m.\u001b[0m\u001b[0mlabels_\u001b[0m\u001b[0;34m\u001b[0m\u001b[0;34m\u001b[0m\u001b[0m\n\u001b[1;32m      3\u001b[0m \u001b[0mmegadf\u001b[0m\u001b[0;34m[\u001b[0m\u001b[0;34m\"clusterlabel\"\u001b[0m\u001b[0;34m]\u001b[0m\u001b[0;34m=\u001b[0m\u001b[0mlabels\u001b[0m\u001b[0;34m\u001b[0m\u001b[0;34m\u001b[0m\u001b[0m\n",
      "\u001b[0;31mAttributeError\u001b[0m: 'AgglomerativeClustering' object has no attribute 'cluster_centers_'"
     ]
    }
   ],
   "source": [
    "centroids = model.cluster_centers_\n",
    "labels = model.labels_\n",
    "megadf[\"clusterlabel\"]=labels"
   ]
  },
  {
   "cell_type": "code",
   "execution_count": null,
   "metadata": {
    "colab": {},
    "colab_type": "code",
    "id": "hsujjbTIMPhm",
    "outputId": "0bf46f48-432c-4bd6-980a-5210b5a94548"
   },
   "outputs": [],
   "source": [
    "plt.figure(figsize=(16,16))\n",
    "sns.countplot(\"clusterlabel\", data=megadf)"
   ]
  },
  {
   "cell_type": "code",
   "execution_count": null,
   "metadata": {
    "colab": {},
    "colab_type": "code",
    "id": "4rBjI0qEMPhv",
    "outputId": "aaf1e6e5-124d-429c-fc89-f7ea3ce364ca"
   },
   "outputs": [],
   "source": [
    "import dtale\n",
    "s = megadf[megadf[\"clusterlabel\"] == 48].loc[:, [\"title\", \"abstract\"]]\n",
    "# megadf.columns\n",
    "dtale.show(s)\n",
    "# s"
   ]
  },
  {
   "cell_type": "code",
   "execution_count": null,
   "metadata": {
    "colab": {},
    "colab_type": "code",
    "id": "4hz3roVyMPh5"
   },
   "outputs": [],
   "source": []
  }
 ],
 "metadata": {
  "colab": {
   "name": "ClusterAggloromerative.ipynb",
   "provenance": []
  },
  "file_extension": ".py",
  "kernelspec": {
   "display_name": "Python 3.7.4 64-bit ('base': conda)",
   "language": "python",
   "name": "python37464bitbasecondaccb10e44a6224ec5a8090d4d6e72e602"
  },
  "language_info": {
   "codemirror_mode": {
    "name": "ipython",
    "version": 3
   },
   "file_extension": ".py",
   "mimetype": "text/x-python",
   "name": "python",
   "nbconvert_exporter": "python",
   "pygments_lexer": "ipython3",
   "version": "3.7.4"
  },
  "mimetype": "text/x-python",
  "name": "python",
  "npconvert_exporter": "python",
  "pygments_lexer": "ipython3",
  "version": 3
 },
 "nbformat": 4,
 "nbformat_minor": 1
}

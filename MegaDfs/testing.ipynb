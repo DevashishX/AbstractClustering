{
 "nbformat": 4,
 "nbformat_minor": 2,
 "metadata": {
  "language_info": {
   "name": "python",
   "codemirror_mode": {
    "name": "ipython",
    "version": 3
   },
   "version": "3.7.6-final"
  },
  "orig_nbformat": 2,
  "file_extension": ".py",
  "mimetype": "text/x-python",
  "name": "python",
  "npconvert_exporter": "python",
  "pygments_lexer": "ipython3",
  "version": 3,
  "kernelspec": {
   "name": "python37664bitanaconda3virtualenvfd2314a6a7da4c0b98e23739901f0aea",
   "display_name": "Python 3.7.6 64-bit ('anaconda3': virtualenv)"
  }
 },
 "cells": [
  {
   "cell_type": "code",
   "execution_count": 3,
   "metadata": {},
   "outputs": [],
   "source": [
    "import numpy as np \n",
    "import pandas as pd\n",
    "import pickle"
   ]
  },
  {
   "cell_type": "code",
   "execution_count": 2,
   "metadata": {},
   "outputs": [],
   "source": [
    "df = pd.DataFrame()"
   ]
  },
  {
   "cell_type": "code",
   "execution_count": 6,
   "metadata": {},
   "outputs": [],
   "source": [
    "df = pickle.load(open(\"KMEANS_glove_pmeans5_K50_R3000_F250_clustered_megadf.pkl\", \"rb\"))"
   ]
  },
  {
   "cell_type": "code",
   "execution_count": 7,
   "metadata": {},
   "outputs": [
    {
     "output_type": "execute_result",
     "data": {
      "text/plain": "       id                           title  \\\n0  395086                      Soft coral   \n1  395088                        Amphipod   \n2  395097                      Soft coral   \n3  395102                  Stalked sponge   \n4  395105  Branched sponge (unidentified)   \n\n                                            abstract  \\\n0  [soft, coral, could, drifa, glomerata, fam, al...   \n1  [identified, specimen, collected, rov, suction...   \n2  [soft, coral, could, drifa, glomerata, fam, al...   \n3  [small, mm, egg, shaped, sponge, anchored, sed...   \n4  [branching, sponge, oscular, visible, typicall...   \n\n                                           embedding  clusterlabel  \n0  [0.1048434150393569, -0.022277361643991286, -0...             3  \n1  [0.52842, -0.1687455, 0.40093833333333334, -0....            39  \n2  [0.1048434150393569, -0.022277361643991286, -0...             3  \n3  [0.07919400708734191, 0.42536576316588975, -0....            16  \n4  [0.16442311594651932, 0.30571671712325205, -0....            49  ",
      "text/html": "<div>\n<style scoped>\n    .dataframe tbody tr th:only-of-type {\n        vertical-align: middle;\n    }\n\n    .dataframe tbody tr th {\n        vertical-align: top;\n    }\n\n    .dataframe thead th {\n        text-align: right;\n    }\n</style>\n<table border=\"1\" class=\"dataframe\">\n  <thead>\n    <tr style=\"text-align: right;\">\n      <th></th>\n      <th>id</th>\n      <th>title</th>\n      <th>abstract</th>\n      <th>embedding</th>\n      <th>clusterlabel</th>\n    </tr>\n  </thead>\n  <tbody>\n    <tr>\n      <th>0</th>\n      <td>395086</td>\n      <td>Soft coral</td>\n      <td>[soft, coral, could, drifa, glomerata, fam, al...</td>\n      <td>[0.1048434150393569, -0.022277361643991286, -0...</td>\n      <td>3</td>\n    </tr>\n    <tr>\n      <th>1</th>\n      <td>395088</td>\n      <td>Amphipod</td>\n      <td>[identified, specimen, collected, rov, suction...</td>\n      <td>[0.52842, -0.1687455, 0.40093833333333334, -0....</td>\n      <td>39</td>\n    </tr>\n    <tr>\n      <th>2</th>\n      <td>395097</td>\n      <td>Soft coral</td>\n      <td>[soft, coral, could, drifa, glomerata, fam, al...</td>\n      <td>[0.1048434150393569, -0.022277361643991286, -0...</td>\n      <td>3</td>\n    </tr>\n    <tr>\n      <th>3</th>\n      <td>395102</td>\n      <td>Stalked sponge</td>\n      <td>[small, mm, egg, shaped, sponge, anchored, sed...</td>\n      <td>[0.07919400708734191, 0.42536576316588975, -0....</td>\n      <td>16</td>\n    </tr>\n    <tr>\n      <th>4</th>\n      <td>395105</td>\n      <td>Branched sponge (unidentified)</td>\n      <td>[branching, sponge, oscular, visible, typicall...</td>\n      <td>[0.16442311594651932, 0.30571671712325205, -0....</td>\n      <td>49</td>\n    </tr>\n  </tbody>\n</table>\n</div>"
     },
     "metadata": {},
     "execution_count": 7
    }
   ],
   "source": [
    "df.head()"
   ]
  },
  {
   "cell_type": "code",
   "execution_count": 12,
   "metadata": {},
   "outputs": [
    {
     "output_type": "execute_result",
     "data": {
      "text/plain": "(250,)"
     },
     "metadata": {},
     "execution_count": 12
    }
   ],
   "source": [
    "df[\"embedding\"].iloc[0].shape"
   ]
  }
 ]
}
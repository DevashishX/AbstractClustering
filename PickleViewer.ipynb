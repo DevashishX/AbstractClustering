{
 "cells": [
  {
   "cell_type": "code",
   "execution_count": 1,
   "metadata": {},
   "outputs": [],
   "source": [
    "import pandas as pd"
   ]
  },
  {
   "cell_type": "code",
   "execution_count": 2,
   "metadata": {},
   "outputs": [],
   "source": [
    "filename = \"./MegaSentEmbs/repository_embedding_3_2013-03-18.pkl\""
   ]
  },
  {
   "cell_type": "code",
   "execution_count": 4,
   "metadata": {},
   "outputs": [
    {
     "name": "stdout",
     "output_type": "stream",
     "text": [
      "Shape:  (439, 4)\n",
      "Column:  Index(['id', 'title', 'abstract', 'embedding'], dtype='object')\n"
     ]
    }
   ],
   "source": [
    "df = pd.read_pickle(filename)\n",
    "# df = df.loc[:, ['title','clusterlabel', 'abstract']]\n",
    "print(\"Shape: \", df.shape)\n",
    "print(\"Column: \", df.columns)"
   ]
  },
  {
   "cell_type": "code",
   "execution_count": 5,
   "metadata": {},
   "outputs": [
    {
     "data": {
      "text/html": [
       "<div>\n",
       "<style scoped>\n",
       "    .dataframe tbody tr th:only-of-type {\n",
       "        vertical-align: middle;\n",
       "    }\n",
       "\n",
       "    .dataframe tbody tr th {\n",
       "        vertical-align: top;\n",
       "    }\n",
       "\n",
       "    .dataframe thead th {\n",
       "        text-align: right;\n",
       "    }\n",
       "</style>\n",
       "<table border=\"1\" class=\"dataframe\">\n",
       "  <thead>\n",
       "    <tr style=\"text-align: right;\">\n",
       "      <th></th>\n",
       "      <th>id</th>\n",
       "      <th>title</th>\n",
       "      <th>abstract</th>\n",
       "      <th>embedding</th>\n",
       "    </tr>\n",
       "  </thead>\n",
       "  <tbody>\n",
       "    <tr>\n",
       "      <td>0</td>\n",
       "      <td>5397</td>\n",
       "      <td>Teaching the nature of science in schools: wha...</td>\n",
       "      <td>[study, paper, draw, one, project, within, esr...</td>\n",
       "      <td>[-0.029495582907616676, 0.41502147595653477, -...</td>\n",
       "    </tr>\n",
       "    <tr>\n",
       "      <td>1</td>\n",
       "      <td>5400</td>\n",
       "      <td>Educational neuroscience and neuroscientific e...</td>\n",
       "      <td>[cognitive, neuroscientific, research, learnin...</td>\n",
       "      <td>[0.08139560260141276, 0.18307588040606274, -0....</td>\n",
       "    </tr>\n",
       "    <tr>\n",
       "      <td>2</td>\n",
       "      <td>5402</td>\n",
       "      <td>What does multimodality mean for English?: cre...</td>\n",
       "      <td>[argument, pedagogy, embrace, visual, multimod...</td>\n",
       "      <td>[0.1537265130658477, 0.23641134324468668, -0.2...</td>\n",
       "    </tr>\n",
       "    <tr>\n",
       "      <td>3</td>\n",
       "      <td>5415</td>\n",
       "      <td>Gifted and talented children in (and out) of t...</td>\n",
       "      <td>[literature, review, report, provides, teacher...</td>\n",
       "      <td>[0.060749199999999996, 0.2726441142857143, -0....</td>\n",
       "    </tr>\n",
       "    <tr>\n",
       "      <td>4</td>\n",
       "      <td>5418</td>\n",
       "      <td>Schools for the Future: Funding, Strategy, Sha...</td>\n",
       "      <td>[review, examines, funding, education, system,...</td>\n",
       "      <td>[0.16031459791666666, 0.33461516666666674, -0....</td>\n",
       "    </tr>\n",
       "  </tbody>\n",
       "</table>\n",
       "</div>"
      ],
      "text/plain": [
       "     id                                              title  \\\n",
       "0  5397  Teaching the nature of science in schools: wha...   \n",
       "1  5400  Educational neuroscience and neuroscientific e...   \n",
       "2  5402  What does multimodality mean for English?: cre...   \n",
       "3  5415  Gifted and talented children in (and out) of t...   \n",
       "4  5418  Schools for the Future: Funding, Strategy, Sha...   \n",
       "\n",
       "                                            abstract  \\\n",
       "0  [study, paper, draw, one, project, within, esr...   \n",
       "1  [cognitive, neuroscientific, research, learnin...   \n",
       "2  [argument, pedagogy, embrace, visual, multimod...   \n",
       "3  [literature, review, report, provides, teacher...   \n",
       "4  [review, examines, funding, education, system,...   \n",
       "\n",
       "                                           embedding  \n",
       "0  [-0.029495582907616676, 0.41502147595653477, -...  \n",
       "1  [0.08139560260141276, 0.18307588040606274, -0....  \n",
       "2  [0.1537265130658477, 0.23641134324468668, -0.2...  \n",
       "3  [0.060749199999999996, 0.2726441142857143, -0....  \n",
       "4  [0.16031459791666666, 0.33461516666666674, -0....  "
      ]
     },
     "execution_count": 5,
     "metadata": {},
     "output_type": "execute_result"
    }
   ],
   "source": [
    "df.head()"
   ]
  },
  {
   "cell_type": "code",
   "execution_count": 4,
   "metadata": {},
   "outputs": [
    {
     "ename": "ModuleNotFoundError",
     "evalue": "No module named 'PyQt5'",
     "output_type": "error",
     "traceback": [
      "\u001b[0;31m---------------------------------------------------------------------------\u001b[0m",
      "\u001b[0;31mModuleNotFoundError\u001b[0m                       Traceback (most recent call last)",
      "\u001b[0;32m<ipython-input-4-d3b5ca10b5f0>\u001b[0m in \u001b[0;36m<module>\u001b[0;34m\u001b[0m\n\u001b[1;32m      1\u001b[0m \u001b[0mget_ipython\u001b[0m\u001b[0;34m(\u001b[0m\u001b[0;34m)\u001b[0m\u001b[0;34m.\u001b[0m\u001b[0mrun_line_magic\u001b[0m\u001b[0;34m(\u001b[0m\u001b[0;34m'gui'\u001b[0m\u001b[0;34m,\u001b[0m \u001b[0;34m'qt5 '\u001b[0m\u001b[0;34m)\u001b[0m\u001b[0;34m\u001b[0m\u001b[0;34m\u001b[0m\u001b[0m\n\u001b[0;32m----> 2\u001b[0;31m \u001b[0;32mfrom\u001b[0m \u001b[0mPyQt5\u001b[0m\u001b[0;34m.\u001b[0m\u001b[0mQtWidgets\u001b[0m \u001b[0;32mimport\u001b[0m \u001b[0mQWidget\u001b[0m\u001b[0;34m,\u001b[0m\u001b[0mQScrollArea\u001b[0m\u001b[0;34m,\u001b[0m \u001b[0mQTableWidget\u001b[0m\u001b[0;34m,\u001b[0m \u001b[0mQVBoxLayout\u001b[0m\u001b[0;34m,\u001b[0m\u001b[0mQTableWidgetItem\u001b[0m\u001b[0;34m\u001b[0m\u001b[0;34m\u001b[0m\u001b[0m\n\u001b[0m\u001b[1;32m      3\u001b[0m \u001b[0;32mimport\u001b[0m \u001b[0mpandas\u001b[0m \u001b[0;32mas\u001b[0m \u001b[0mpd\u001b[0m\u001b[0;34m\u001b[0m\u001b[0;34m\u001b[0m\u001b[0m\n\u001b[1;32m      4\u001b[0m \u001b[0;34m\u001b[0m\u001b[0m\n\u001b[1;32m      5\u001b[0m \u001b[0mwin\u001b[0m \u001b[0;34m=\u001b[0m \u001b[0mQWidget\u001b[0m\u001b[0;34m(\u001b[0m\u001b[0;34m)\u001b[0m\u001b[0;34m\u001b[0m\u001b[0;34m\u001b[0m\u001b[0m\n",
      "\u001b[0;31mModuleNotFoundError\u001b[0m: No module named 'PyQt5'"
     ]
    }
   ],
   "source": [
    "# %gui qt5 \n",
    "# from PyQt5.QtWidgets import QWidget,QScrollArea, QTableWidget, QVBoxLayout,QTableWidgetItem\n",
    "# import pandas as pd\n",
    "\n",
    "# win = QWidget()\n",
    "# scroll = QScrollArea()\n",
    "# layout = QVBoxLayout()\n",
    "# table = QTableWidget()\n",
    "# scroll.setWidget(table)\n",
    "# layout.addWidget(table)\n",
    "# win.setLayout(layout)    \n",
    "\n",
    "\n",
    "# df = temp\n",
    "# table.setColumnCount(len(df.columns))\n",
    "# table.setRowCount(len(df.index))\n",
    "# for i in range(len(df.index)):\n",
    "#     for j in range(len(df.columns)):\n",
    "#         table.setItem(i,j,QTableWidgetItem(str(df.iloc[i, j])))\n",
    "\n",
    "# win.show()"
   ]
  },
  {
   "cell_type": "code",
   "execution_count": 12,
   "metadata": {},
   "outputs": [
    {
     "ename": "AttributeError",
     "evalue": "'NoneType' object has no attribute 'replace'",
     "output_type": "error",
     "traceback": [
      "\u001b[0;31m---------------------------------------------------------------------------\u001b[0m",
      "\u001b[0;31mAttributeError\u001b[0m                            Traceback (most recent call last)",
      "\u001b[0;32m<ipython-input-12-a3c952dc3326>\u001b[0m in \u001b[0;36m<module>\u001b[0;34m\u001b[0m\n\u001b[1;32m      1\u001b[0m \u001b[0mdata_table\u001b[0m \u001b[0;34m=\u001b[0m \u001b[0mdf\u001b[0m\u001b[0;34m.\u001b[0m\u001b[0mto_html\u001b[0m\u001b[0;34m(\u001b[0m\u001b[0;34m\"sample.html\"\u001b[0m\u001b[0;34m,\u001b[0m \u001b[0mclasses\u001b[0m\u001b[0;34m=\u001b[0m\u001b[0;34m\"table display\"\u001b[0m\u001b[0;34m)\u001b[0m\u001b[0;34m\u001b[0m\u001b[0;34m\u001b[0m\u001b[0m\n\u001b[0;32m----> 2\u001b[0;31m \u001b[0mdata_table\u001b[0m \u001b[0;34m=\u001b[0m \u001b[0mdata_table\u001b[0m\u001b[0;34m.\u001b[0m\u001b[0mreplace\u001b[0m\u001b[0;34m(\u001b[0m\u001b[0;34m'border=\"1\"'\u001b[0m\u001b[0;34m,\u001b[0m\u001b[0;34m'border=\"0\"'\u001b[0m\u001b[0;34m)\u001b[0m\u001b[0;34m\u001b[0m\u001b[0;34m\u001b[0m\u001b[0m\n\u001b[0m",
      "\u001b[0;31mAttributeError\u001b[0m: 'NoneType' object has no attribute 'replace'"
     ]
    }
   ],
   "source": [
    "# data_table = df.to_html(\"sample.html\", classes=\"table display\")\n",
    "# data_table = data_table.replace('border=\"1\"','border=\"0\"')"
   ]
  },
  {
   "cell_type": "code",
   "execution_count": null,
   "metadata": {},
   "outputs": [],
   "source": []
  }
 ],
 "metadata": {
  "kernelspec": {
   "display_name": "Python 3.7.4 64-bit ('base': conda)",
   "language": "python",
   "name": "python37464bitbasecondaccb10e44a6224ec5a8090d4d6e72e602"
  },
  "language_info": {
   "codemirror_mode": {
    "name": "ipython",
    "version": 3
   },
   "file_extension": ".py",
   "mimetype": "text/x-python",
   "name": "python",
   "nbconvert_exporter": "python",
   "pygments_lexer": "ipython3",
   "version": "3.7.4"
  }
 },
 "nbformat": 4,
 "nbformat_minor": 2
}

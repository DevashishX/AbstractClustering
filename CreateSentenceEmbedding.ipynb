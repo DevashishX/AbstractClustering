{
 "nbformat": 4,
 "nbformat_minor": 2,
 "metadata": {
  "language_info": {
   "name": "python",
   "codemirror_mode": {
    "name": "ipython",
    "version": 3
   },
   "version": "3.7.4-final"
  },
  "orig_nbformat": 2,
  "file_extension": ".py",
  "mimetype": "text/x-python",
  "name": "python",
  "npconvert_exporter": "python",
  "pygments_lexer": "ipython3",
  "version": 3,
  "kernelspec": {
   "name": "python37464bitbasecondaccb10e44a6224ec5a8090d4d6e72e602",
   "display_name": "Python 3.7.4 64-bit ('base': conda)"
  }
 },
 "cells": [
  {
   "cell_type": "code",
   "execution_count": 2,
   "metadata": {},
   "outputs": [],
   "source": [
    "import numpy as np\n",
    "import pandas as pd\n",
    "import matplotlib.pyplot as plt\n",
    "import seaborn as sns\n",
    "import os\n",
    "from sentence_embedding import get_pmeans\n",
    "from word_embedding import GloveVectors"
   ]
  },
  {
   "cell_type": "code",
   "execution_count": 3,
   "metadata": {},
   "outputs": [
    {
     "name": "stdout",
     "output_type": "stream",
     "text": "Loading Model\nDone! Model Loaded. Vector Size is 50\n"
    }
   ],
   "source": [
    "glovefile = \"./dataset/glove.6B.50d.txt\"\n",
    "glove = GloveVectors(glovefile)\n"
   ]
  },
  {
   "cell_type": "code",
   "execution_count": null,
   "metadata": {},
   "outputs": [],
   "source": []
  },
  {
   "cell_type": "code",
   "execution_count": 8,
   "metadata": {},
   "outputs": [
    {
     "ename": "AttributeError",
     "evalue": "'list' object has no attribute 'shape'",
     "output_type": "error",
     "traceback": [
      "\u001b[0;31m---------------------------------------------------------------------------\u001b[0m",
      "\u001b[0;31mAttributeError\u001b[0m                            Traceback (most recent call last)",
      "\u001b[0;32m<ipython-input-8-69290e913566>\u001b[0m in \u001b[0;36m<module>\u001b[0;34m\u001b[0m\n\u001b[1;32m      7\u001b[0m \u001b[0mwordlist\u001b[0m \u001b[0;34m=\u001b[0m \u001b[0mdf\u001b[0m\u001b[0;34m.\u001b[0m\u001b[0miloc\u001b[0m\u001b[0;34m[\u001b[0m\u001b[0;36m0\u001b[0m\u001b[0;34m,\u001b[0m \u001b[0;36m2\u001b[0m\u001b[0;34m]\u001b[0m\u001b[0;34m\u001b[0m\u001b[0;34m\u001b[0m\u001b[0m\n\u001b[1;32m      8\u001b[0m \u001b[0mwordemblist\u001b[0m \u001b[0;34m=\u001b[0m \u001b[0mglove\u001b[0m\u001b[0;34m.\u001b[0m\u001b[0mget_embeddings\u001b[0m\u001b[0;34m(\u001b[0m\u001b[0mwordlist\u001b[0m\u001b[0;34m)\u001b[0m\u001b[0;34m\u001b[0m\u001b[0;34m\u001b[0m\u001b[0m\n\u001b[0;32m----> 9\u001b[0;31m \u001b[0mprint\u001b[0m\u001b[0;34m(\u001b[0m\u001b[0;34m(\u001b[0m\u001b[0mwordemblist\u001b[0m\u001b[0;34m.\u001b[0m\u001b[0mshape\u001b[0m\u001b[0;34m)\u001b[0m\u001b[0;34m)\u001b[0m\u001b[0;34m\u001b[0m\u001b[0;34m\u001b[0m\u001b[0m\n\u001b[0m\u001b[1;32m     10\u001b[0m \u001b[0mprint\u001b[0m\u001b[0;34m(\u001b[0m\u001b[0mwordemblist\u001b[0m\u001b[0;34m)\u001b[0m\u001b[0;34m\u001b[0m\u001b[0;34m\u001b[0m\u001b[0m\n\u001b[1;32m     11\u001b[0m \u001b[0;34m\u001b[0m\u001b[0m\n",
      "\u001b[0;31mAttributeError\u001b[0m: 'list' object has no attribute 'shape'"
     ]
    }
   ],
   "source": [
    "df = pd.read_pickle(\"./PklCleaned/repository_metadata_111_2013-03-18.pkl\")\n",
    "\n",
    "# print(type(df.iloc[0, 0]))\n",
    "# print(type(df.iloc[0, 1]))\n",
    "# print(type(df.iloc[0, 2]))\n",
    "# print(type(df.iloc[0, 2][0]))\n",
    "wordlist = df.iloc[0, 2]\n",
    "wordemblist = glove.get_embeddings(wordlist)\n",
    "print(wordemblist)\n",
    "\n"
   ]
  },
  {
   "cell_type": "code",
   "execution_count": 9,
   "metadata": {},
   "outputs": [
    {
     "name": "stdout",
     "output_type": "stream",
     "text": "(250,)\n[ 3.62205573e-01  2.25912768e-01  6.31592651e-02  2.78573187e-02\n  1.47331692e-01  3.76230309e-01  1.62807737e-01 -2.73750066e-01\n  1.56300846e-01  7.17914505e-02  2.34277180e-01  1.01958780e-02\n -1.34727901e-01 -1.02481831e-01 -7.15848090e-02  5.40461319e-02\n -1.23981715e-01 -9.62205824e-02  2.43982198e-02 -2.82847612e-01\n  5.52838681e-03  4.34342418e-02  1.42082835e-01  2.76027692e-03\n  7.96896110e-02 -8.52818249e-01 -3.43769385e-01 -1.89887527e-01\n  2.10494797e-01  2.55211205e-01  2.43016626e+00  1.58290347e-02\n  2.94598033e-02 -7.85415055e-01  3.41048624e-02 -1.34571429e-04\n -3.62448352e-03  1.75097912e-03 -1.57083998e-01  1.57058707e-01\n  7.70118681e-03 -6.11918121e-02  9.14059780e-02  3.59466604e-01\n  6.27727980e-02 -2.21286308e-01  1.17145613e-01  3.52284352e-01\n  4.45791978e-02  2.06325382e-01  5.88442690e-01  5.73718404e-01\n  5.88056938e-01  5.51352197e-01  5.41359282e-01  6.93114042e-01\n  7.43186872e-01  6.25589330e-01  5.41580281e-01  5.80810738e-01\n  5.50464306e-01  4.88311282e-01  5.00337400e-01  4.23591471e-01\n  7.05939893e-01  4.17726764e-01  5.67131164e-01  4.68883560e-01\n  5.45194488e-01  5.55337280e-01  5.64052404e-01  5.94776659e-01\n  6.58343355e-01  4.32672690e-01  5.81111542e-01  1.10513721e+00\n  6.42279731e-01  5.82717560e-01  6.39946768e-01  5.77856347e-01\n  2.61023287e+00  5.66908168e-01  5.21710446e-01  1.01589376e+00\n  4.70473047e-01  5.69154685e-01  4.96385493e-01  5.19024854e-01\n  5.59116310e-01  5.61380806e-01  5.95818564e-01  4.03876500e-01\n  4.34878968e-01  7.16359978e-01  5.36924109e-01  4.60464108e-01\n  6.45739334e-01  7.01262009e-01  4.14570584e-01  5.07043300e-01\n  6.14640749e-01  5.24372166e-01  4.37744122e-01  2.35834801e-01\n  5.60607448e-01  7.45107271e-01  6.85013006e-01             nan\n  4.58799212e-01             nan  6.31191194e-01             nan\n             nan             nan             nan  3.36225374e-01\n             nan             nan  2.71839567e-01             nan\n             nan  3.81135965e-01  7.20963211e-01  2.30594753e-01\n             nan             nan             nan             nan\n  4.03260564e-01  6.15023401e-01  2.70637975e+00             nan\n             nan             nan  3.17020443e-01             nan\n  3.24798888e-01             nan             nan  5.63815661e-01\n  3.82432312e-01  3.82555066e-01  3.26360102e-01  7.33696621e-01\n  4.27090956e-01             nan  5.56012599e-01  7.69341299e-01\n             nan  5.12328555e-01  7.80345860e-01  7.30012850e-01\n  7.68821818e-01  6.83298817e-01  7.30727226e-01  8.90558022e-01\n  9.33073809e-01  8.17433205e-01  6.62252545e-01  8.08475734e-01\n  7.48022442e-01  6.84021442e-01  6.40296055e-01  5.32540860e-01\n  8.99220235e-01  5.60894650e-01  7.07576364e-01  6.10810735e-01\n  7.59233999e-01  7.08335247e-01  7.81374982e-01  7.24304686e-01\n  9.32266084e-01  5.48686602e-01  7.95530483e-01  1.30901781e+00\n  7.76284935e-01  7.07973170e-01  7.93358341e-01  7.50567049e-01\n  2.78271954e+00  7.40312504e-01  6.76889877e-01  1.22885049e+00\n  6.20020952e-01  7.26658037e-01  6.10047692e-01  7.22258509e-01\n  7.23654587e-01  7.15186530e-01  7.16098605e-01  6.13799310e-01\n  5.78595624e-01  8.88571332e-01  6.73286532e-01  6.58207318e-01\n  9.14333287e-01  9.34463430e-01  5.81994039e-01  6.48102506e-01\n  7.18538258e-01  6.56609775e-01  6.57744932e-01             nan\n  8.06025894e-01  9.39869095e-01  9.10324458e-01             nan\n  6.17482627e-01             nan  8.24912834e-01  3.74688348e-01\n             nan             nan             nan  5.38662251e-01\n             nan             nan  4.14252815e-01             nan\n             nan  5.87735661e-01  1.00615092e+00  4.39512718e-01\n             nan             nan             nan             nan\n             nan  8.00157556e-01  2.84508813e+00             nan\n             nan             nan  5.04639754e-01             nan\n  5.31164185e-01             nan             nan  7.27694084e-01\n  6.04611061e-01  6.73076613e-01  5.01205958e-01  9.23615682e-01\n  6.09359360e-01             nan  9.49545462e-01  9.95305233e-01\n             nan  6.68448533e-01]\n"
    }
   ],
   "source": [
    "sentemb = get_pmeans(wordemblist)\n",
    "print(sentemb.shape)\n",
    "print(sentemb)"
   ]
  },
  {
   "cell_type": "code",
   "execution_count": 40,
   "metadata": {},
   "outputs": [
    {
     "name": "stdout",
     "output_type": "stream",
     "text": "['./PklCleaned/repository_metadata_112_2013-03-18.pkl', './PklCleaned/repository_metadata_14_2013-03-18.pkl', './PklCleaned/repository_metadata_93_2013-03-18.pkl', './PklCleaned/repository_metadata_76_2013-03-19.pkl', './PklCleaned/repository_metadata_17_2013-03-18.pkl', './PklCleaned/repository_metadata_24_2013-03-18.pkl', './PklCleaned/repository_metadata_21_2013-03-18.pkl', './PklCleaned/repository_metadata_82_2013-03-19.pkl', './PklCleaned/repository_metadata_120_2013-03-18.pkl', './PklCleaned/repository_metadata_31_2013-03-18.pkl', './PklCleaned/repository_metadata_38_2013-03-18.pkl', './PklCleaned/repository_metadata_51_2013-03-18.pkl', './PklCleaned/repository_metadata_45_2013-03-18.pkl', './PklCleaned/repository_metadata_119_2013-03-18.pkl', './PklCleaned/repository_metadata_74_2013-03-19.pkl', './PklCleaned/repository_metadata_42_2013-03-18.pkl', './PklCleaned/repository_metadata_2_2013-03-18.pkl', './PklCleaned/repository_metadata_58_2013-03-19.pkl', './PklCleaned/repository_metadata_26_2013-03-18.pkl', './PklCleaned/repository_metadata_46_2013-03-18.pkl', './PklCleaned/repository_metadata_10_2013-03-18.pkl', './PklCleaned/repository_metadata_48_2013-03-18.pkl', './PklCleaned/repository_metadata_32_2013-03-18.pkl', './PklCleaned/repository_metadata_102_2013-03-18.pkl', './PklCleaned/repository_metadata_36_2013-03-18.pkl', './PklCleaned/repository_metadata_86_2013-03-18.pkl', './PklCleaned/repository_metadata_104_2013-03-18.pkl', './PklCleaned/repository_metadata_91_2013-03-18.pkl', './PklCleaned/repository_metadata_37_2013-03-18.pkl', './PklCleaned/repository_metadata_84_2013-03-18.pkl', './PklCleaned/repository_metadata_77_2013-03-18.pkl', './PklCleaned/repository_metadata_23_2013-03-18.pkl', './PklCleaned/repository_metadata_80_2013-03-18.pkl', './PklCleaned/repository_metadata_5_2013-03-18.pkl', './PklCleaned/repository_metadata_117_2013-03-18.pkl', './PklCleaned/repository_metadata_35_2013-03-18.pkl', './PklCleaned/repository_metadata_88_2013-03-18.pkl', './PklCleaned/repository_metadata_69_2013-03-19.pkl', './PklCleaned/repository_metadata_85_2013-03-18.pkl', './PklCleaned/repository_metadata_9_2013-03-18.pkl', './PklCleaned/repository_metadata_116_2013-03-18.pkl', './PklCleaned/repository_metadata_59_2013-03-19.pkl', './PklCleaned/repository_metadata_97_2013-03-18.pkl', './PklCleaned/repository_metadata_60_2013-03-19.pkl', './PklCleaned/repository_metadata_121_2013-03-18.pkl', './PklCleaned/repository_metadata_28_2013-03-18.pkl', './PklCleaned/repository_metadata_18_2013-03-18.pkl', './PklCleaned/repository_metadata_103_2013-03-18.pkl', './PklCleaned/repository_metadata_52_2013-03-19.pkl', './PklCleaned/repository_metadata_8_2013-03-18.pkl', './PklCleaned/repository_metadata_72_2013-03-19.pkl', './PklCleaned/repository_metadata_49_2013-03-18.pkl', './PklCleaned/repository_metadata_111_2013-03-18.pkl', './PklCleaned/repository_metadata_147_2013-03-18.pkl', './PklCleaned/repository_metadata_33_2013-03-18.pkl', './PklCleaned/repository_metadata_20_2013-03-18.pkl', './PklCleaned/repository_metadata_4_2013-03-18.pkl', './PklCleaned/repository_metadata_56_2013-03-19.pkl', './PklCleaned/repository_metadata_27_2013-03-18.pkl', './PklCleaned/repository_metadata_15_2013-03-18.pkl', './PklCleaned/repository_metadata_79_2013-03-18.pkl', './PklCleaned/repository_metadata_40_2013-03-18.pkl', './PklCleaned/repository_metadata_6_2013-03-18.pkl', './PklCleaned/repository_metadata_122_2013-03-18.pkl', './PklCleaned/repository_metadata_123_2013-03-18.pkl', './PklCleaned/repository_metadata_90_2013-03-18.pkl', './PklCleaned/repository_metadata_73_2013-03-19.pkl', './PklCleaned/repository_metadata_30_2013-03-18.pkl', './PklCleaned/repository_metadata_109_2013-03-18.pkl', './PklCleaned/repository_metadata_136_2013-03-18.pkl', './PklCleaned/repository_metadata_70_2013-03-19.pkl', './PklCleaned/repository_metadata_7_2013-03-18.pkl', './PklCleaned/repository_metadata_124_2013-03-18.pkl', './PklCleaned/repository_metadata_108_2013-03-18.pkl', './PklCleaned/repository_metadata_16_2013-03-18.pkl', './PklCleaned/repository_metadata_1_2013-03-18.pkl', './PklCleaned/repository_metadata_99_2013-03-18.pkl', './PklCleaned/repository_metadata_98_2013-03-18.pkl', './PklCleaned/repository_metadata_83_2013-03-19.pkl', './PklCleaned/repository_metadata_19_2013-03-18.pkl', './PklCleaned/repository_metadata_68_2013-03-19.pkl', './PklCleaned/repository_metadata_57_2013-03-19.pkl', './PklCleaned/repository_metadata_95_2013-03-18.pkl', './PklCleaned/repository_metadata_125_2013-03-18.pkl', './PklCleaned/repository_metadata_101_2013-03-18.pkl', './PklCleaned/repository_metadata_34_2013-03-18.pkl', './PklCleaned/repository_metadata_22_2013-03-18.pkl', './PklCleaned/repository_metadata_66_2013-03-19.pkl', './PklCleaned/repository_metadata_100_2013-03-18.pkl', './PklCleaned/repository_metadata_96_2013-03-18.pkl', './PklCleaned/repository_metadata_50_2013-03-18.pkl', './PklCleaned/repository_metadata_63_2013-03-19.pkl', './PklCleaned/repository_metadata_29_2013-03-18.pkl', './PklCleaned/repository_metadata_78_2013-03-18.pkl', './PklCleaned/repository_metadata_64_2013-03-19.pkl', './PklCleaned/repository_metadata_106_2013-03-18.pkl', './PklCleaned/repository_metadata_67_2013-03-19.pkl', './PklCleaned/repository_metadata_71_2013-03-19.pkl', './PklCleaned/repository_metadata_87_2013-03-18.pkl', './PklCleaned/repository_metadata_126_2013-03-18.pkl', './PklCleaned/repository_metadata_39_2013-03-18.pkl', './PklCleaned/repository_metadata_89_2013-03-18.pkl', './PklCleaned/repository_metadata_81_2013-03-18.pkl', './PklCleaned/repository_metadata_12_2013-03-18.pkl', './PklCleaned/repository_metadata_110_2013-03-18.pkl', './PklCleaned/repository_metadata_25_2013-03-18.pkl', './PklCleaned/repository_metadata_107_2013-03-18.pkl', './PklCleaned/repository_metadata_105_2013-03-18.pkl', './PklCleaned/repository_metadata_3_2013-03-18.pkl', './PklCleaned/repository_metadata_62_2013-03-19.pkl']\n"
    }
   ],
   "source": [
    "path = \"./PklCleaned/\"\n",
    "oldlist = os.listdir(path)\n",
    "filelist = [path+f for f in oldlist]\n",
    "print(filelist)\n"
   ]
  },
  {
   "cell_type": "code",
   "execution_count": null,
   "metadata": {},
   "outputs": [],
   "source": [
    "# for file in filelist:\n",
    "    "
   ]
  }
 ]
}